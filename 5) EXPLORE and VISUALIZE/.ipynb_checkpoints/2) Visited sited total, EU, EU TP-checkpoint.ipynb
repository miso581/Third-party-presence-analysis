{
 "cells": [
  {
   "cell_type": "markdown",
   "metadata": {},
   "source": [
    "# Visited sited of Total, EU-EEA, EU-EEA with TP communication"
   ]
  },
  {
   "cell_type": "markdown",
   "metadata": {},
   "source": [
    "    – input data: visited_sites_total_combined.json - contains the number of total, EU/EEA, and EU/EEA with TP communication visited sites per harvest\n",
    "    – output plot: bar chart with harvest date on x-axis and number of visited sites on y-axis\n",
    "    – purpose: Visualise the number of visited sites per harvest based on three criteria: (i) total number of visited sited, (ii) all visited sites with EU/EEA origin, and (iii) only visited sites with EU/EEA origin with a TP response. The number of requested visited sites is consistent across the harvest - 12 778. However, the number of visited sites with at least one response fluctuates slightly over the time. This plot does not directly offer a reason on why is that happening but depicts the trend and opens a door for further analysis."
   ]
  },
  {
   "cell_type": "code",
   "execution_count": 1,
   "metadata": {},
   "outputs": [],
   "source": [
    "# Import\n",
    "import pandas as pd\n",
    "import json\n",
    "import plotly.graph_objects as go\n",
    "from plotly.offline import download_plotlyjs, init_notebook_mode, plot, iplot\n",
    "from itertools import cycle\n",
    "import plotly.express as px"
   ]
  },
  {
   "cell_type": "code",
   "execution_count": 2,
   "metadata": {},
   "outputs": [
    {
     "data": {
      "text/html": [
       "        <script type=\"text/javascript\">\n",
       "        window.PlotlyConfig = {MathJaxConfig: 'local'};\n",
       "        if (window.MathJax) {MathJax.Hub.Config({SVG: {font: \"STIX-Web\"}});}\n",
       "        if (typeof require !== 'undefined') {\n",
       "        require.undef(\"plotly\");\n",
       "        requirejs.config({\n",
       "            paths: {\n",
       "                'plotly': ['https://cdn.plot.ly/plotly-latest.min']\n",
       "            }\n",
       "        });\n",
       "        require(['plotly'], function(Plotly) {\n",
       "            window._Plotly = Plotly;\n",
       "        });\n",
       "        }\n",
       "        </script>\n",
       "        "
      ]
     },
     "metadata": {},
     "output_type": "display_data"
    }
   ],
   "source": [
    "# Jupyter setup\n",
    "init_notebook_mode(connected=True)"
   ]
  },
  {
   "cell_type": "code",
   "execution_count": 3,
   "metadata": {},
   "outputs": [],
   "source": [
    "# Define path and file names\n",
    "f_path = '/home/ubuntu/data/processed/crawls/response_enriched/analysis_v.3/'\n",
    "\n",
    "TPs_name = 'visited_sites_total_combined.json'"
   ]
  },
  {
   "cell_type": "code",
   "execution_count": 4,
   "metadata": {},
   "outputs": [
    {
     "data": {
      "text/html": [
       "<div>\n",
       "<style scoped>\n",
       "    .dataframe tbody tr th:only-of-type {\n",
       "        vertical-align: middle;\n",
       "    }\n",
       "\n",
       "    .dataframe tbody tr th {\n",
       "        vertical-align: top;\n",
       "    }\n",
       "\n",
       "    .dataframe thead th {\n",
       "        text-align: right;\n",
       "    }\n",
       "</style>\n",
       "<table border=\"1\" class=\"dataframe\">\n",
       "  <thead>\n",
       "    <tr style=\"text-align: right;\">\n",
       "      <th></th>\n",
       "      <th>date</th>\n",
       "      <th>visited_sites_EU_FP_TP</th>\n",
       "      <th>visited_sites_EU</th>\n",
       "      <th>visited_sites</th>\n",
       "    </tr>\n",
       "  </thead>\n",
       "  <tbody>\n",
       "    <tr>\n",
       "      <th>34</th>\n",
       "      <td>2018-02-07</td>\n",
       "      <td>9547</td>\n",
       "      <td>10056</td>\n",
       "      <td>12719</td>\n",
       "    </tr>\n",
       "    <tr>\n",
       "      <th>55</th>\n",
       "      <td>2018-02-09</td>\n",
       "      <td>9544</td>\n",
       "      <td>10058</td>\n",
       "      <td>12722</td>\n",
       "    </tr>\n",
       "    <tr>\n",
       "      <th>15</th>\n",
       "      <td>2018-02-14</td>\n",
       "      <td>9543</td>\n",
       "      <td>10055</td>\n",
       "      <td>12720</td>\n",
       "    </tr>\n",
       "    <tr>\n",
       "      <th>20</th>\n",
       "      <td>2018-03-21</td>\n",
       "      <td>9506</td>\n",
       "      <td>10040</td>\n",
       "      <td>12707</td>\n",
       "    </tr>\n",
       "    <tr>\n",
       "      <th>30</th>\n",
       "      <td>2018-03-29</td>\n",
       "      <td>9516</td>\n",
       "      <td>10057</td>\n",
       "      <td>12731</td>\n",
       "    </tr>\n",
       "  </tbody>\n",
       "</table>\n",
       "</div>"
      ],
      "text/plain": [
       "          date  visited_sites_EU_FP_TP  visited_sites_EU  visited_sites\n",
       "34  2018-02-07                    9547             10056          12719\n",
       "55  2018-02-09                    9544             10058          12722\n",
       "15  2018-02-14                    9543             10055          12720\n",
       "20  2018-03-21                    9506             10040          12707\n",
       "30  2018-03-29                    9516             10057          12731"
      ]
     },
     "execution_count": 4,
     "metadata": {},
     "output_type": "execute_result"
    }
   ],
   "source": [
    "# Load TPs data\n",
    "with open(f_path + TPs_name) as f:\n",
    "    json_TPs = json.load(f)\n",
    "    \n",
    "df_TPs = pd.json_normalize(json_TPs)\n",
    "df_TPs.sort_values('date', inplace=True)\n",
    "df_TPs.head()"
   ]
  },
  {
   "cell_type": "code",
   "execution_count": 5,
   "metadata": {},
   "outputs": [],
   "source": [
    "# Add new column with total requested sites per harvest\n",
    "df_TPs['total_requested'] = 12778"
   ]
  },
  {
   "cell_type": "code",
   "execution_count": 6,
   "metadata": {},
   "outputs": [
    {
     "data": {
      "text/html": [
       "<div>\n",
       "<style scoped>\n",
       "    .dataframe tbody tr th:only-of-type {\n",
       "        vertical-align: middle;\n",
       "    }\n",
       "\n",
       "    .dataframe tbody tr th {\n",
       "        vertical-align: top;\n",
       "    }\n",
       "\n",
       "    .dataframe thead th {\n",
       "        text-align: right;\n",
       "    }\n",
       "</style>\n",
       "<table border=\"1\" class=\"dataframe\">\n",
       "  <thead>\n",
       "    <tr style=\"text-align: right;\">\n",
       "      <th></th>\n",
       "      <th>date</th>\n",
       "    </tr>\n",
       "  </thead>\n",
       "  <tbody>\n",
       "    <tr>\n",
       "      <th>0</th>\n",
       "      <td>2018-02-07</td>\n",
       "    </tr>\n",
       "    <tr>\n",
       "      <th>1</th>\n",
       "      <td>2018-02-09</td>\n",
       "    </tr>\n",
       "    <tr>\n",
       "      <th>2</th>\n",
       "      <td>2018-02-14</td>\n",
       "    </tr>\n",
       "    <tr>\n",
       "      <th>3</th>\n",
       "      <td>2018-03-21</td>\n",
       "    </tr>\n",
       "    <tr>\n",
       "      <th>4</th>\n",
       "      <td>2018-03-29</td>\n",
       "    </tr>\n",
       "  </tbody>\n",
       "</table>\n",
       "</div>"
      ],
      "text/plain": [
       "         date\n",
       "0  2018-02-07\n",
       "1  2018-02-09\n",
       "2  2018-02-14\n",
       "3  2018-03-21\n",
       "4  2018-03-29"
      ]
     },
     "execution_count": 6,
     "metadata": {},
     "output_type": "execute_result"
    }
   ],
   "source": [
    "# Load harvest dates\n",
    "dates_path = '/home/ubuntu/data/processed/crawls/response_enriched/analysis_v.3/'\n",
    "dates_name = 'harvest_DATES.csv'\n",
    "df_dates = pd.read_csv(dates_path+dates_name)\n",
    "\n",
    "# Adjust and filter \n",
    "df_dates.reset_index(inplace=True)\n",
    "del df_dates['Unnamed: 0']\n",
    "del df_dates['index']\n",
    "df_dates.at[9, 'date'] = '<b>2018-05-25</b>'\n",
    "df_dates.head()"
   ]
  },
  {
   "cell_type": "code",
   "execution_count": 8,
   "metadata": {},
   "outputs": [
    {
     "data": {
      "application/vnd.plotly.v1+json": {
       "config": {
        "linkText": "Export to plot.ly",
        "plotlyServerURL": "https://plot.ly",
        "showLink": false
       },
       "data": [
        {
         "marker": {
          "color": "#2CA02C"
         },
         "name": "All visited sites",
         "type": "bar",
         "x": [
          "2018-02-07",
          "2018-02-09",
          "2018-02-14",
          "2018-03-21",
          "2018-03-29",
          "2018-04-09",
          "2018-04-17",
          "2018-05-05",
          "2018-05-19",
          "<b>2018-05-25</b>",
          "2018-05-29",
          "2018-06-01",
          "2018-06-07",
          "2018-06-12",
          "2018-06-18",
          "2018-07-06",
          "2018-07-17",
          "2018-08-03",
          "2018-08-31",
          "2018-09-06",
          "2018-09-11",
          "2018-09-21",
          "2018-10-09",
          "2018-10-31",
          "2018-11-07",
          "2018-11-19",
          "2018-12-10",
          "2019-01-30",
          "2019-02-21",
          "2019-03-12",
          "2019-03-27",
          "2019-04-05",
          "2019-04-12",
          "2019-04-24",
          "2019-05-01",
          "2019-05-27",
          "2019-05-29",
          "2019-06-14",
          "2019-06-28",
          "2019-07-12",
          "2019-08-05",
          "2019-09-02",
          "2019-09-20",
          "2019-10-03",
          "2019-10-16",
          "2019-10-29",
          "2019-11-05",
          "2019-11-13",
          "2019-11-28",
          "2019-12-22",
          "2020-01-13",
          "2020-02-07",
          "2020-02-25",
          "2020-03-10",
          "2020-03-24",
          "2020-04-07",
          "2020-05-12",
          "2020-06-02",
          "2020-06-19"
         ],
         "y": [
          12719,
          12722,
          12720,
          12707,
          12731,
          12714,
          12708,
          12733,
          12710,
          12704,
          12700,
          12713,
          12715,
          12696,
          12709,
          12703,
          12706,
          12700,
          12688,
          12678,
          12692,
          12672,
          12697,
          12687,
          12690,
          12671,
          12677,
          12711,
          12696,
          12698,
          12708,
          12701,
          12707,
          12691,
          12697,
          12701,
          12704,
          12703,
          12700,
          12687,
          12675,
          12675,
          12650,
          12653,
          12625,
          12646,
          12626,
          12643,
          12643,
          12636,
          12633,
          12636,
          12631,
          12627,
          12637,
          12641,
          12646,
          12641,
          12634
         ]
        },
        {
         "marker": {
          "color": "#D62728"
         },
         "name": "All EU/EEA visited sites",
         "type": "bar",
         "width": 0.5,
         "x": [
          "2018-02-07",
          "2018-02-09",
          "2018-02-14",
          "2018-03-21",
          "2018-03-29",
          "2018-04-09",
          "2018-04-17",
          "2018-05-05",
          "2018-05-19",
          "<b>2018-05-25</b>",
          "2018-05-29",
          "2018-06-01",
          "2018-06-07",
          "2018-06-12",
          "2018-06-18",
          "2018-07-06",
          "2018-07-17",
          "2018-08-03",
          "2018-08-31",
          "2018-09-06",
          "2018-09-11",
          "2018-09-21",
          "2018-10-09",
          "2018-10-31",
          "2018-11-07",
          "2018-11-19",
          "2018-12-10",
          "2019-01-30",
          "2019-02-21",
          "2019-03-12",
          "2019-03-27",
          "2019-04-05",
          "2019-04-12",
          "2019-04-24",
          "2019-05-01",
          "2019-05-27",
          "2019-05-29",
          "2019-06-14",
          "2019-06-28",
          "2019-07-12",
          "2019-08-05",
          "2019-09-02",
          "2019-09-20",
          "2019-10-03",
          "2019-10-16",
          "2019-10-29",
          "2019-11-05",
          "2019-11-13",
          "2019-11-28",
          "2019-12-22",
          "2020-01-13",
          "2020-02-07",
          "2020-02-25",
          "2020-03-10",
          "2020-03-24",
          "2020-04-07",
          "2020-05-12",
          "2020-06-02",
          "2020-06-19"
         ],
         "y": [
          10056,
          10058,
          10055,
          10040,
          10057,
          10053,
          10036,
          10056,
          10043,
          10045,
          10036,
          10048,
          10050,
          10040,
          10043,
          10043,
          10042,
          10037,
          10032,
          10025,
          10037,
          10019,
          10047,
          10033,
          10038,
          10025,
          10035,
          10045,
          10045,
          10050,
          10046,
          10050,
          10049,
          10030,
          10034,
          10039,
          10047,
          10052,
          10036,
          10027,
          10017,
          10017,
          9991,
          9992,
          9986,
          9994,
          9979,
          9997,
          9994,
          10007,
          10005,
          10000,
          10009,
          10003,
          10011,
          10000,
          9997,
          9991,
          9996
         ]
        },
        {
         "marker": {
          "color": "#EECA3B"
         },
         "name": "EU/EEA visited sites with TP communication",
         "type": "bar",
         "width": 0.35,
         "x": [
          "2018-02-07",
          "2018-02-09",
          "2018-02-14",
          "2018-03-21",
          "2018-03-29",
          "2018-04-09",
          "2018-04-17",
          "2018-05-05",
          "2018-05-19",
          "<b>2018-05-25</b>",
          "2018-05-29",
          "2018-06-01",
          "2018-06-07",
          "2018-06-12",
          "2018-06-18",
          "2018-07-06",
          "2018-07-17",
          "2018-08-03",
          "2018-08-31",
          "2018-09-06",
          "2018-09-11",
          "2018-09-21",
          "2018-10-09",
          "2018-10-31",
          "2018-11-07",
          "2018-11-19",
          "2018-12-10",
          "2019-01-30",
          "2019-02-21",
          "2019-03-12",
          "2019-03-27",
          "2019-04-05",
          "2019-04-12",
          "2019-04-24",
          "2019-05-01",
          "2019-05-27",
          "2019-05-29",
          "2019-06-14",
          "2019-06-28",
          "2019-07-12",
          "2019-08-05",
          "2019-09-02",
          "2019-09-20",
          "2019-10-03",
          "2019-10-16",
          "2019-10-29",
          "2019-11-05",
          "2019-11-13",
          "2019-11-28",
          "2019-12-22",
          "2020-01-13",
          "2020-02-07",
          "2020-02-25",
          "2020-03-10",
          "2020-03-24",
          "2020-04-07",
          "2020-05-12",
          "2020-06-02",
          "2020-06-19"
         ],
         "y": [
          9547,
          9544,
          9543,
          9506,
          9516,
          9527,
          9495,
          9515,
          9509,
          9494,
          9502,
          9501,
          9511,
          9467,
          9504,
          9507,
          9491,
          9453,
          9456,
          9444,
          9454,
          9423,
          9469,
          9486,
          9494,
          9496,
          9486,
          9473,
          9456,
          9462,
          9443,
          9413,
          9432,
          9427,
          9424,
          9424,
          9421,
          9435,
          9422,
          9386,
          9361,
          9368,
          9368,
          9368,
          9375,
          9356,
          9342,
          9358,
          9342,
          9321,
          9341,
          9352,
          9392,
          9392,
          9403,
          9392,
          9393,
          9352,
          9361
         ]
        },
        {
         "marker": {
          "color": "black"
         },
         "name": "All requested sites",
         "type": "scatter",
         "x": [
          "2018-02-07",
          "2018-02-09",
          "2018-02-14",
          "2018-03-21",
          "2018-03-29",
          "2018-04-09",
          "2018-04-17",
          "2018-05-05",
          "2018-05-19",
          "<b>2018-05-25</b>",
          "2018-05-29",
          "2018-06-01",
          "2018-06-07",
          "2018-06-12",
          "2018-06-18",
          "2018-07-06",
          "2018-07-17",
          "2018-08-03",
          "2018-08-31",
          "2018-09-06",
          "2018-09-11",
          "2018-09-21",
          "2018-10-09",
          "2018-10-31",
          "2018-11-07",
          "2018-11-19",
          "2018-12-10",
          "2019-01-30",
          "2019-02-21",
          "2019-03-12",
          "2019-03-27",
          "2019-04-05",
          "2019-04-12",
          "2019-04-24",
          "2019-05-01",
          "2019-05-27",
          "2019-05-29",
          "2019-06-14",
          "2019-06-28",
          "2019-07-12",
          "2019-08-05",
          "2019-09-02",
          "2019-09-20",
          "2019-10-03",
          "2019-10-16",
          "2019-10-29",
          "2019-11-05",
          "2019-11-13",
          "2019-11-28",
          "2019-12-22",
          "2020-01-13",
          "2020-02-07",
          "2020-02-25",
          "2020-03-10",
          "2020-03-24",
          "2020-04-07",
          "2020-05-12",
          "2020-06-02",
          "2020-06-19"
         ],
         "y": [
          12778,
          12778,
          12778,
          12778,
          12778,
          12778,
          12778,
          12778,
          12778,
          12778,
          12778,
          12778,
          12778,
          12778,
          12778,
          12778,
          12778,
          12778,
          12778,
          12778,
          12778,
          12778,
          12778,
          12778,
          12778,
          12778,
          12778,
          12778,
          12778,
          12778,
          12778,
          12778,
          12778,
          12778,
          12778,
          12778,
          12778,
          12778,
          12778,
          12778,
          12778,
          12778,
          12778,
          12778,
          12778,
          12778,
          12778,
          12778,
          12778,
          12778,
          12778,
          12778,
          12778,
          12778,
          12778,
          12778,
          12778,
          12778,
          12778
         ]
        }
       ],
       "layout": {
        "annotations": [
         {
          "align": "center",
          "arrowcolor": "#636363",
          "arrowhead": 2,
          "arrowsize": 1,
          "arrowwidth": 2,
          "ax": 20,
          "ay": -30,
          "bgcolor": "#ff7f0e",
          "bordercolor": "#c7c7c7",
          "borderpad": 4,
          "borderwidth": 2,
          "font": {
           "color": "#ffffff",
           "family": "Courier New, monospace",
           "size": 14
          },
          "opacity": 0.8,
          "showarrow": true,
          "text": "GDPR",
          "x": 9,
          "xref": "x",
          "y": 12710,
          "yref": "y"
         }
        ],
        "barmode": "overlay",
        "font": {
         "family": "Courier New, monospace"
        },
        "legend": {
         "orientation": "h",
         "x": 0.5,
         "xanchor": "center",
         "y": 1.01,
         "yanchor": "bottom"
        },
        "template": {
         "data": {
          "bar": [
           {
            "error_x": {
             "color": "#2a3f5f"
            },
            "error_y": {
             "color": "#2a3f5f"
            },
            "marker": {
             "line": {
              "color": "#E5ECF6",
              "width": 0.5
             }
            },
            "type": "bar"
           }
          ],
          "barpolar": [
           {
            "marker": {
             "line": {
              "color": "#E5ECF6",
              "width": 0.5
             }
            },
            "type": "barpolar"
           }
          ],
          "carpet": [
           {
            "aaxis": {
             "endlinecolor": "#2a3f5f",
             "gridcolor": "white",
             "linecolor": "white",
             "minorgridcolor": "white",
             "startlinecolor": "#2a3f5f"
            },
            "baxis": {
             "endlinecolor": "#2a3f5f",
             "gridcolor": "white",
             "linecolor": "white",
             "minorgridcolor": "white",
             "startlinecolor": "#2a3f5f"
            },
            "type": "carpet"
           }
          ],
          "choropleth": [
           {
            "colorbar": {
             "outlinewidth": 0,
             "ticks": ""
            },
            "type": "choropleth"
           }
          ],
          "contour": [
           {
            "colorbar": {
             "outlinewidth": 0,
             "ticks": ""
            },
            "colorscale": [
             [
              0,
              "#0d0887"
             ],
             [
              0.1111111111111111,
              "#46039f"
             ],
             [
              0.2222222222222222,
              "#7201a8"
             ],
             [
              0.3333333333333333,
              "#9c179e"
             ],
             [
              0.4444444444444444,
              "#bd3786"
             ],
             [
              0.5555555555555556,
              "#d8576b"
             ],
             [
              0.6666666666666666,
              "#ed7953"
             ],
             [
              0.7777777777777778,
              "#fb9f3a"
             ],
             [
              0.8888888888888888,
              "#fdca26"
             ],
             [
              1,
              "#f0f921"
             ]
            ],
            "type": "contour"
           }
          ],
          "contourcarpet": [
           {
            "colorbar": {
             "outlinewidth": 0,
             "ticks": ""
            },
            "type": "contourcarpet"
           }
          ],
          "heatmap": [
           {
            "colorbar": {
             "outlinewidth": 0,
             "ticks": ""
            },
            "colorscale": [
             [
              0,
              "#0d0887"
             ],
             [
              0.1111111111111111,
              "#46039f"
             ],
             [
              0.2222222222222222,
              "#7201a8"
             ],
             [
              0.3333333333333333,
              "#9c179e"
             ],
             [
              0.4444444444444444,
              "#bd3786"
             ],
             [
              0.5555555555555556,
              "#d8576b"
             ],
             [
              0.6666666666666666,
              "#ed7953"
             ],
             [
              0.7777777777777778,
              "#fb9f3a"
             ],
             [
              0.8888888888888888,
              "#fdca26"
             ],
             [
              1,
              "#f0f921"
             ]
            ],
            "type": "heatmap"
           }
          ],
          "heatmapgl": [
           {
            "colorbar": {
             "outlinewidth": 0,
             "ticks": ""
            },
            "colorscale": [
             [
              0,
              "#0d0887"
             ],
             [
              0.1111111111111111,
              "#46039f"
             ],
             [
              0.2222222222222222,
              "#7201a8"
             ],
             [
              0.3333333333333333,
              "#9c179e"
             ],
             [
              0.4444444444444444,
              "#bd3786"
             ],
             [
              0.5555555555555556,
              "#d8576b"
             ],
             [
              0.6666666666666666,
              "#ed7953"
             ],
             [
              0.7777777777777778,
              "#fb9f3a"
             ],
             [
              0.8888888888888888,
              "#fdca26"
             ],
             [
              1,
              "#f0f921"
             ]
            ],
            "type": "heatmapgl"
           }
          ],
          "histogram": [
           {
            "marker": {
             "colorbar": {
              "outlinewidth": 0,
              "ticks": ""
             }
            },
            "type": "histogram"
           }
          ],
          "histogram2d": [
           {
            "colorbar": {
             "outlinewidth": 0,
             "ticks": ""
            },
            "colorscale": [
             [
              0,
              "#0d0887"
             ],
             [
              0.1111111111111111,
              "#46039f"
             ],
             [
              0.2222222222222222,
              "#7201a8"
             ],
             [
              0.3333333333333333,
              "#9c179e"
             ],
             [
              0.4444444444444444,
              "#bd3786"
             ],
             [
              0.5555555555555556,
              "#d8576b"
             ],
             [
              0.6666666666666666,
              "#ed7953"
             ],
             [
              0.7777777777777778,
              "#fb9f3a"
             ],
             [
              0.8888888888888888,
              "#fdca26"
             ],
             [
              1,
              "#f0f921"
             ]
            ],
            "type": "histogram2d"
           }
          ],
          "histogram2dcontour": [
           {
            "colorbar": {
             "outlinewidth": 0,
             "ticks": ""
            },
            "colorscale": [
             [
              0,
              "#0d0887"
             ],
             [
              0.1111111111111111,
              "#46039f"
             ],
             [
              0.2222222222222222,
              "#7201a8"
             ],
             [
              0.3333333333333333,
              "#9c179e"
             ],
             [
              0.4444444444444444,
              "#bd3786"
             ],
             [
              0.5555555555555556,
              "#d8576b"
             ],
             [
              0.6666666666666666,
              "#ed7953"
             ],
             [
              0.7777777777777778,
              "#fb9f3a"
             ],
             [
              0.8888888888888888,
              "#fdca26"
             ],
             [
              1,
              "#f0f921"
             ]
            ],
            "type": "histogram2dcontour"
           }
          ],
          "mesh3d": [
           {
            "colorbar": {
             "outlinewidth": 0,
             "ticks": ""
            },
            "type": "mesh3d"
           }
          ],
          "parcoords": [
           {
            "line": {
             "colorbar": {
              "outlinewidth": 0,
              "ticks": ""
             }
            },
            "type": "parcoords"
           }
          ],
          "pie": [
           {
            "automargin": true,
            "type": "pie"
           }
          ],
          "scatter": [
           {
            "marker": {
             "colorbar": {
              "outlinewidth": 0,
              "ticks": ""
             }
            },
            "type": "scatter"
           }
          ],
          "scatter3d": [
           {
            "line": {
             "colorbar": {
              "outlinewidth": 0,
              "ticks": ""
             }
            },
            "marker": {
             "colorbar": {
              "outlinewidth": 0,
              "ticks": ""
             }
            },
            "type": "scatter3d"
           }
          ],
          "scattercarpet": [
           {
            "marker": {
             "colorbar": {
              "outlinewidth": 0,
              "ticks": ""
             }
            },
            "type": "scattercarpet"
           }
          ],
          "scattergeo": [
           {
            "marker": {
             "colorbar": {
              "outlinewidth": 0,
              "ticks": ""
             }
            },
            "type": "scattergeo"
           }
          ],
          "scattergl": [
           {
            "marker": {
             "colorbar": {
              "outlinewidth": 0,
              "ticks": ""
             }
            },
            "type": "scattergl"
           }
          ],
          "scattermapbox": [
           {
            "marker": {
             "colorbar": {
              "outlinewidth": 0,
              "ticks": ""
             }
            },
            "type": "scattermapbox"
           }
          ],
          "scatterpolar": [
           {
            "marker": {
             "colorbar": {
              "outlinewidth": 0,
              "ticks": ""
             }
            },
            "type": "scatterpolar"
           }
          ],
          "scatterpolargl": [
           {
            "marker": {
             "colorbar": {
              "outlinewidth": 0,
              "ticks": ""
             }
            },
            "type": "scatterpolargl"
           }
          ],
          "scatterternary": [
           {
            "marker": {
             "colorbar": {
              "outlinewidth": 0,
              "ticks": ""
             }
            },
            "type": "scatterternary"
           }
          ],
          "surface": [
           {
            "colorbar": {
             "outlinewidth": 0,
             "ticks": ""
            },
            "colorscale": [
             [
              0,
              "#0d0887"
             ],
             [
              0.1111111111111111,
              "#46039f"
             ],
             [
              0.2222222222222222,
              "#7201a8"
             ],
             [
              0.3333333333333333,
              "#9c179e"
             ],
             [
              0.4444444444444444,
              "#bd3786"
             ],
             [
              0.5555555555555556,
              "#d8576b"
             ],
             [
              0.6666666666666666,
              "#ed7953"
             ],
             [
              0.7777777777777778,
              "#fb9f3a"
             ],
             [
              0.8888888888888888,
              "#fdca26"
             ],
             [
              1,
              "#f0f921"
             ]
            ],
            "type": "surface"
           }
          ],
          "table": [
           {
            "cells": {
             "fill": {
              "color": "#EBF0F8"
             },
             "line": {
              "color": "white"
             }
            },
            "header": {
             "fill": {
              "color": "#C8D4E3"
             },
             "line": {
              "color": "white"
             }
            },
            "type": "table"
           }
          ]
         },
         "layout": {
          "annotationdefaults": {
           "arrowcolor": "#2a3f5f",
           "arrowhead": 0,
           "arrowwidth": 1
          },
          "autotypenumbers": "strict",
          "coloraxis": {
           "colorbar": {
            "outlinewidth": 0,
            "ticks": ""
           }
          },
          "colorscale": {
           "diverging": [
            [
             0,
             "#8e0152"
            ],
            [
             0.1,
             "#c51b7d"
            ],
            [
             0.2,
             "#de77ae"
            ],
            [
             0.3,
             "#f1b6da"
            ],
            [
             0.4,
             "#fde0ef"
            ],
            [
             0.5,
             "#f7f7f7"
            ],
            [
             0.6,
             "#e6f5d0"
            ],
            [
             0.7,
             "#b8e186"
            ],
            [
             0.8,
             "#7fbc41"
            ],
            [
             0.9,
             "#4d9221"
            ],
            [
             1,
             "#276419"
            ]
           ],
           "sequential": [
            [
             0,
             "#0d0887"
            ],
            [
             0.1111111111111111,
             "#46039f"
            ],
            [
             0.2222222222222222,
             "#7201a8"
            ],
            [
             0.3333333333333333,
             "#9c179e"
            ],
            [
             0.4444444444444444,
             "#bd3786"
            ],
            [
             0.5555555555555556,
             "#d8576b"
            ],
            [
             0.6666666666666666,
             "#ed7953"
            ],
            [
             0.7777777777777778,
             "#fb9f3a"
            ],
            [
             0.8888888888888888,
             "#fdca26"
            ],
            [
             1,
             "#f0f921"
            ]
           ],
           "sequentialminus": [
            [
             0,
             "#0d0887"
            ],
            [
             0.1111111111111111,
             "#46039f"
            ],
            [
             0.2222222222222222,
             "#7201a8"
            ],
            [
             0.3333333333333333,
             "#9c179e"
            ],
            [
             0.4444444444444444,
             "#bd3786"
            ],
            [
             0.5555555555555556,
             "#d8576b"
            ],
            [
             0.6666666666666666,
             "#ed7953"
            ],
            [
             0.7777777777777778,
             "#fb9f3a"
            ],
            [
             0.8888888888888888,
             "#fdca26"
            ],
            [
             1,
             "#f0f921"
            ]
           ]
          },
          "colorway": [
           "#636efa",
           "#EF553B",
           "#00cc96",
           "#ab63fa",
           "#FFA15A",
           "#19d3f3",
           "#FF6692",
           "#B6E880",
           "#FF97FF",
           "#FECB52"
          ],
          "font": {
           "color": "#2a3f5f"
          },
          "geo": {
           "bgcolor": "white",
           "lakecolor": "white",
           "landcolor": "#E5ECF6",
           "showlakes": true,
           "showland": true,
           "subunitcolor": "white"
          },
          "hoverlabel": {
           "align": "left"
          },
          "hovermode": "closest",
          "mapbox": {
           "style": "light"
          },
          "paper_bgcolor": "white",
          "plot_bgcolor": "#E5ECF6",
          "polar": {
           "angularaxis": {
            "gridcolor": "white",
            "linecolor": "white",
            "ticks": ""
           },
           "bgcolor": "#E5ECF6",
           "radialaxis": {
            "gridcolor": "white",
            "linecolor": "white",
            "ticks": ""
           }
          },
          "scene": {
           "xaxis": {
            "backgroundcolor": "#E5ECF6",
            "gridcolor": "white",
            "gridwidth": 2,
            "linecolor": "white",
            "showbackground": true,
            "ticks": "",
            "zerolinecolor": "white"
           },
           "yaxis": {
            "backgroundcolor": "#E5ECF6",
            "gridcolor": "white",
            "gridwidth": 2,
            "linecolor": "white",
            "showbackground": true,
            "ticks": "",
            "zerolinecolor": "white"
           },
           "zaxis": {
            "backgroundcolor": "#E5ECF6",
            "gridcolor": "white",
            "gridwidth": 2,
            "linecolor": "white",
            "showbackground": true,
            "ticks": "",
            "zerolinecolor": "white"
           }
          },
          "shapedefaults": {
           "line": {
            "color": "#2a3f5f"
           }
          },
          "ternary": {
           "aaxis": {
            "gridcolor": "white",
            "linecolor": "white",
            "ticks": ""
           },
           "baxis": {
            "gridcolor": "white",
            "linecolor": "white",
            "ticks": ""
           },
           "bgcolor": "#E5ECF6",
           "caxis": {
            "gridcolor": "white",
            "linecolor": "white",
            "ticks": ""
           }
          },
          "title": {
           "x": 0.05
          },
          "xaxis": {
           "automargin": true,
           "gridcolor": "white",
           "linecolor": "white",
           "ticks": "",
           "title": {
            "standoff": 15
           },
           "zerolinecolor": "white",
           "zerolinewidth": 2
          },
          "yaxis": {
           "automargin": true,
           "gridcolor": "white",
           "linecolor": "white",
           "ticks": "",
           "title": {
            "standoff": 15
           },
           "zerolinecolor": "white",
           "zerolinewidth": 2
          }
         }
        },
        "title": {
         "font": {
          "size": 20
         },
         "text": "Number of <i>total</i>, <i>EU/EEA</i>, and <i>EU/EEA TP visited sites</i> per harvest<br>",
         "x": 0.5,
         "xanchor": "center",
         "y": 0.9,
         "yanchor": "top"
        },
        "xaxis": {
         "tickvals": [
          "2018-02-07",
          "2018-02-09",
          "2018-02-14",
          "2018-03-21",
          "2018-03-29",
          "2018-04-09",
          "2018-04-17",
          "2018-05-05",
          "2018-05-19",
          "<b>2018-05-25</b>",
          "2018-05-29",
          "2018-06-01",
          "2018-06-07",
          "2018-06-12",
          "2018-06-18",
          "2018-07-06",
          "2018-07-17",
          "2018-08-03",
          "2018-08-31",
          "2018-09-06",
          "2018-09-11",
          "2018-09-21",
          "2018-10-09",
          "2018-10-31",
          "2018-11-07",
          "2018-11-19",
          "2018-12-10",
          "2019-01-30",
          "2019-02-21",
          "2019-03-12",
          "2019-03-27",
          "2019-04-05",
          "2019-04-12",
          "2019-04-24",
          "2019-05-01",
          "2019-05-27",
          "2019-05-29",
          "2019-06-14",
          "2019-06-28",
          "2019-07-12",
          "2019-08-05",
          "2019-09-02",
          "2019-09-20",
          "2019-10-03",
          "2019-10-16",
          "2019-10-29",
          "2019-11-05",
          "2019-11-13",
          "2019-11-28",
          "2019-12-22",
          "2020-01-13",
          "2020-02-07",
          "2020-02-25",
          "2020-03-10",
          "2020-03-24",
          "2020-04-07",
          "2020-05-12",
          "2020-06-02",
          "2020-06-19"
         ],
         "type": "category"
        },
        "yaxis": {
         "range": [
          9000,
          13170
         ],
         "title": {
          "text": "Number of <b>visited sites</b>"
         }
        }
       }
      },
      "text/html": [
       "<div>                            <div id=\"5cddc47d-5d9d-4b99-8729-05dd5ab8fc3a\" class=\"plotly-graph-div\" style=\"height:525px; width:100%;\"></div>            <script type=\"text/javascript\">                require([\"plotly\"], function(Plotly) {                    window.PLOTLYENV=window.PLOTLYENV || {};                                    if (document.getElementById(\"5cddc47d-5d9d-4b99-8729-05dd5ab8fc3a\")) {                    Plotly.newPlot(                        \"5cddc47d-5d9d-4b99-8729-05dd5ab8fc3a\",                        [{\"marker\": {\"color\": \"#2CA02C\"}, \"name\": \"All visited sites\", \"type\": \"bar\", \"x\": [\"2018-02-07\", \"2018-02-09\", \"2018-02-14\", \"2018-03-21\", \"2018-03-29\", \"2018-04-09\", \"2018-04-17\", \"2018-05-05\", \"2018-05-19\", \"<b>2018-05-25</b>\", \"2018-05-29\", \"2018-06-01\", \"2018-06-07\", \"2018-06-12\", \"2018-06-18\", \"2018-07-06\", \"2018-07-17\", \"2018-08-03\", \"2018-08-31\", \"2018-09-06\", \"2018-09-11\", \"2018-09-21\", \"2018-10-09\", \"2018-10-31\", \"2018-11-07\", \"2018-11-19\", \"2018-12-10\", \"2019-01-30\", \"2019-02-21\", \"2019-03-12\", \"2019-03-27\", \"2019-04-05\", \"2019-04-12\", \"2019-04-24\", \"2019-05-01\", \"2019-05-27\", \"2019-05-29\", \"2019-06-14\", \"2019-06-28\", \"2019-07-12\", \"2019-08-05\", \"2019-09-02\", \"2019-09-20\", \"2019-10-03\", \"2019-10-16\", \"2019-10-29\", \"2019-11-05\", \"2019-11-13\", \"2019-11-28\", \"2019-12-22\", \"2020-01-13\", \"2020-02-07\", \"2020-02-25\", \"2020-03-10\", \"2020-03-24\", \"2020-04-07\", \"2020-05-12\", \"2020-06-02\", \"2020-06-19\"], \"y\": [12719, 12722, 12720, 12707, 12731, 12714, 12708, 12733, 12710, 12704, 12700, 12713, 12715, 12696, 12709, 12703, 12706, 12700, 12688, 12678, 12692, 12672, 12697, 12687, 12690, 12671, 12677, 12711, 12696, 12698, 12708, 12701, 12707, 12691, 12697, 12701, 12704, 12703, 12700, 12687, 12675, 12675, 12650, 12653, 12625, 12646, 12626, 12643, 12643, 12636, 12633, 12636, 12631, 12627, 12637, 12641, 12646, 12641, 12634]}, {\"marker\": {\"color\": \"#D62728\"}, \"name\": \"All EU/EEA visited sites\", \"type\": \"bar\", \"width\": 0.5, \"x\": [\"2018-02-07\", \"2018-02-09\", \"2018-02-14\", \"2018-03-21\", \"2018-03-29\", \"2018-04-09\", \"2018-04-17\", \"2018-05-05\", \"2018-05-19\", \"<b>2018-05-25</b>\", \"2018-05-29\", \"2018-06-01\", \"2018-06-07\", \"2018-06-12\", \"2018-06-18\", \"2018-07-06\", \"2018-07-17\", \"2018-08-03\", \"2018-08-31\", \"2018-09-06\", \"2018-09-11\", \"2018-09-21\", \"2018-10-09\", \"2018-10-31\", \"2018-11-07\", \"2018-11-19\", \"2018-12-10\", \"2019-01-30\", \"2019-02-21\", \"2019-03-12\", \"2019-03-27\", \"2019-04-05\", \"2019-04-12\", \"2019-04-24\", \"2019-05-01\", \"2019-05-27\", \"2019-05-29\", \"2019-06-14\", \"2019-06-28\", \"2019-07-12\", \"2019-08-05\", \"2019-09-02\", \"2019-09-20\", \"2019-10-03\", \"2019-10-16\", \"2019-10-29\", \"2019-11-05\", \"2019-11-13\", \"2019-11-28\", \"2019-12-22\", \"2020-01-13\", \"2020-02-07\", \"2020-02-25\", \"2020-03-10\", \"2020-03-24\", \"2020-04-07\", \"2020-05-12\", \"2020-06-02\", \"2020-06-19\"], \"y\": [10056, 10058, 10055, 10040, 10057, 10053, 10036, 10056, 10043, 10045, 10036, 10048, 10050, 10040, 10043, 10043, 10042, 10037, 10032, 10025, 10037, 10019, 10047, 10033, 10038, 10025, 10035, 10045, 10045, 10050, 10046, 10050, 10049, 10030, 10034, 10039, 10047, 10052, 10036, 10027, 10017, 10017, 9991, 9992, 9986, 9994, 9979, 9997, 9994, 10007, 10005, 10000, 10009, 10003, 10011, 10000, 9997, 9991, 9996]}, {\"marker\": {\"color\": \"#EECA3B\"}, \"name\": \"EU/EEA visited sites with TP communication\", \"type\": \"bar\", \"width\": 0.35, \"x\": [\"2018-02-07\", \"2018-02-09\", \"2018-02-14\", \"2018-03-21\", \"2018-03-29\", \"2018-04-09\", \"2018-04-17\", \"2018-05-05\", \"2018-05-19\", \"<b>2018-05-25</b>\", \"2018-05-29\", \"2018-06-01\", \"2018-06-07\", \"2018-06-12\", \"2018-06-18\", \"2018-07-06\", \"2018-07-17\", \"2018-08-03\", \"2018-08-31\", \"2018-09-06\", \"2018-09-11\", \"2018-09-21\", \"2018-10-09\", \"2018-10-31\", \"2018-11-07\", \"2018-11-19\", \"2018-12-10\", \"2019-01-30\", \"2019-02-21\", \"2019-03-12\", \"2019-03-27\", \"2019-04-05\", \"2019-04-12\", \"2019-04-24\", \"2019-05-01\", \"2019-05-27\", \"2019-05-29\", \"2019-06-14\", \"2019-06-28\", \"2019-07-12\", \"2019-08-05\", \"2019-09-02\", \"2019-09-20\", \"2019-10-03\", \"2019-10-16\", \"2019-10-29\", \"2019-11-05\", \"2019-11-13\", \"2019-11-28\", \"2019-12-22\", \"2020-01-13\", \"2020-02-07\", \"2020-02-25\", \"2020-03-10\", \"2020-03-24\", \"2020-04-07\", \"2020-05-12\", \"2020-06-02\", \"2020-06-19\"], \"y\": [9547, 9544, 9543, 9506, 9516, 9527, 9495, 9515, 9509, 9494, 9502, 9501, 9511, 9467, 9504, 9507, 9491, 9453, 9456, 9444, 9454, 9423, 9469, 9486, 9494, 9496, 9486, 9473, 9456, 9462, 9443, 9413, 9432, 9427, 9424, 9424, 9421, 9435, 9422, 9386, 9361, 9368, 9368, 9368, 9375, 9356, 9342, 9358, 9342, 9321, 9341, 9352, 9392, 9392, 9403, 9392, 9393, 9352, 9361]}, {\"marker\": {\"color\": \"black\"}, \"name\": \"All requested sites\", \"type\": \"scatter\", \"x\": [\"2018-02-07\", \"2018-02-09\", \"2018-02-14\", \"2018-03-21\", \"2018-03-29\", \"2018-04-09\", \"2018-04-17\", \"2018-05-05\", \"2018-05-19\", \"<b>2018-05-25</b>\", \"2018-05-29\", \"2018-06-01\", \"2018-06-07\", \"2018-06-12\", \"2018-06-18\", \"2018-07-06\", \"2018-07-17\", \"2018-08-03\", \"2018-08-31\", \"2018-09-06\", \"2018-09-11\", \"2018-09-21\", \"2018-10-09\", \"2018-10-31\", \"2018-11-07\", \"2018-11-19\", \"2018-12-10\", \"2019-01-30\", \"2019-02-21\", \"2019-03-12\", \"2019-03-27\", \"2019-04-05\", \"2019-04-12\", \"2019-04-24\", \"2019-05-01\", \"2019-05-27\", \"2019-05-29\", \"2019-06-14\", \"2019-06-28\", \"2019-07-12\", \"2019-08-05\", \"2019-09-02\", \"2019-09-20\", \"2019-10-03\", \"2019-10-16\", \"2019-10-29\", \"2019-11-05\", \"2019-11-13\", \"2019-11-28\", \"2019-12-22\", \"2020-01-13\", \"2020-02-07\", \"2020-02-25\", \"2020-03-10\", \"2020-03-24\", \"2020-04-07\", \"2020-05-12\", \"2020-06-02\", \"2020-06-19\"], \"y\": [12778, 12778, 12778, 12778, 12778, 12778, 12778, 12778, 12778, 12778, 12778, 12778, 12778, 12778, 12778, 12778, 12778, 12778, 12778, 12778, 12778, 12778, 12778, 12778, 12778, 12778, 12778, 12778, 12778, 12778, 12778, 12778, 12778, 12778, 12778, 12778, 12778, 12778, 12778, 12778, 12778, 12778, 12778, 12778, 12778, 12778, 12778, 12778, 12778, 12778, 12778, 12778, 12778, 12778, 12778, 12778, 12778, 12778, 12778]}],                        {\"annotations\": [{\"align\": \"center\", \"arrowcolor\": \"#636363\", \"arrowhead\": 2, \"arrowsize\": 1, \"arrowwidth\": 2, \"ax\": 20, \"ay\": -30, \"bgcolor\": \"#ff7f0e\", \"bordercolor\": \"#c7c7c7\", \"borderpad\": 4, \"borderwidth\": 2, \"font\": {\"color\": \"#ffffff\", \"family\": \"Courier New, monospace\", \"size\": 14}, \"opacity\": 0.8, \"showarrow\": true, \"text\": \"GDPR\", \"x\": 9, \"xref\": \"x\", \"y\": 12710, \"yref\": \"y\"}], \"barmode\": \"overlay\", \"font\": {\"family\": \"Courier New, monospace\"}, \"legend\": {\"orientation\": \"h\", \"x\": 0.5, \"xanchor\": \"center\", \"y\": 1.01, \"yanchor\": \"bottom\"}, \"template\": {\"data\": {\"bar\": [{\"error_x\": {\"color\": \"#2a3f5f\"}, \"error_y\": {\"color\": \"#2a3f5f\"}, \"marker\": {\"line\": {\"color\": \"#E5ECF6\", \"width\": 0.5}}, \"type\": \"bar\"}], \"barpolar\": [{\"marker\": {\"line\": {\"color\": \"#E5ECF6\", \"width\": 0.5}}, \"type\": \"barpolar\"}], \"carpet\": [{\"aaxis\": {\"endlinecolor\": \"#2a3f5f\", \"gridcolor\": \"white\", \"linecolor\": \"white\", \"minorgridcolor\": \"white\", \"startlinecolor\": \"#2a3f5f\"}, \"baxis\": {\"endlinecolor\": \"#2a3f5f\", \"gridcolor\": \"white\", \"linecolor\": \"white\", \"minorgridcolor\": \"white\", \"startlinecolor\": \"#2a3f5f\"}, \"type\": \"carpet\"}], \"choropleth\": [{\"colorbar\": {\"outlinewidth\": 0, \"ticks\": \"\"}, \"type\": \"choropleth\"}], \"contour\": [{\"colorbar\": {\"outlinewidth\": 0, \"ticks\": \"\"}, \"colorscale\": [[0.0, \"#0d0887\"], [0.1111111111111111, \"#46039f\"], [0.2222222222222222, \"#7201a8\"], [0.3333333333333333, \"#9c179e\"], [0.4444444444444444, \"#bd3786\"], [0.5555555555555556, \"#d8576b\"], [0.6666666666666666, \"#ed7953\"], [0.7777777777777778, \"#fb9f3a\"], [0.8888888888888888, \"#fdca26\"], [1.0, \"#f0f921\"]], \"type\": \"contour\"}], \"contourcarpet\": [{\"colorbar\": {\"outlinewidth\": 0, \"ticks\": \"\"}, \"type\": \"contourcarpet\"}], \"heatmap\": [{\"colorbar\": {\"outlinewidth\": 0, \"ticks\": \"\"}, \"colorscale\": [[0.0, \"#0d0887\"], [0.1111111111111111, \"#46039f\"], [0.2222222222222222, \"#7201a8\"], [0.3333333333333333, \"#9c179e\"], [0.4444444444444444, \"#bd3786\"], [0.5555555555555556, \"#d8576b\"], [0.6666666666666666, \"#ed7953\"], [0.7777777777777778, \"#fb9f3a\"], [0.8888888888888888, \"#fdca26\"], [1.0, \"#f0f921\"]], \"type\": \"heatmap\"}], \"heatmapgl\": [{\"colorbar\": {\"outlinewidth\": 0, \"ticks\": \"\"}, \"colorscale\": [[0.0, \"#0d0887\"], [0.1111111111111111, \"#46039f\"], [0.2222222222222222, \"#7201a8\"], [0.3333333333333333, \"#9c179e\"], [0.4444444444444444, \"#bd3786\"], [0.5555555555555556, \"#d8576b\"], [0.6666666666666666, \"#ed7953\"], [0.7777777777777778, \"#fb9f3a\"], [0.8888888888888888, \"#fdca26\"], [1.0, \"#f0f921\"]], \"type\": \"heatmapgl\"}], \"histogram\": [{\"marker\": {\"colorbar\": {\"outlinewidth\": 0, \"ticks\": \"\"}}, \"type\": \"histogram\"}], \"histogram2d\": [{\"colorbar\": {\"outlinewidth\": 0, \"ticks\": \"\"}, \"colorscale\": [[0.0, \"#0d0887\"], [0.1111111111111111, \"#46039f\"], [0.2222222222222222, \"#7201a8\"], [0.3333333333333333, \"#9c179e\"], [0.4444444444444444, \"#bd3786\"], [0.5555555555555556, \"#d8576b\"], [0.6666666666666666, \"#ed7953\"], [0.7777777777777778, \"#fb9f3a\"], [0.8888888888888888, \"#fdca26\"], [1.0, \"#f0f921\"]], \"type\": \"histogram2d\"}], \"histogram2dcontour\": [{\"colorbar\": {\"outlinewidth\": 0, \"ticks\": \"\"}, \"colorscale\": [[0.0, \"#0d0887\"], [0.1111111111111111, \"#46039f\"], [0.2222222222222222, \"#7201a8\"], [0.3333333333333333, \"#9c179e\"], [0.4444444444444444, \"#bd3786\"], [0.5555555555555556, \"#d8576b\"], [0.6666666666666666, \"#ed7953\"], [0.7777777777777778, \"#fb9f3a\"], [0.8888888888888888, \"#fdca26\"], [1.0, \"#f0f921\"]], \"type\": \"histogram2dcontour\"}], \"mesh3d\": [{\"colorbar\": {\"outlinewidth\": 0, \"ticks\": \"\"}, \"type\": \"mesh3d\"}], \"parcoords\": [{\"line\": {\"colorbar\": {\"outlinewidth\": 0, \"ticks\": \"\"}}, \"type\": \"parcoords\"}], \"pie\": [{\"automargin\": true, \"type\": \"pie\"}], \"scatter\": [{\"marker\": {\"colorbar\": {\"outlinewidth\": 0, \"ticks\": \"\"}}, \"type\": \"scatter\"}], \"scatter3d\": [{\"line\": {\"colorbar\": {\"outlinewidth\": 0, \"ticks\": \"\"}}, \"marker\": {\"colorbar\": {\"outlinewidth\": 0, \"ticks\": \"\"}}, \"type\": \"scatter3d\"}], \"scattercarpet\": [{\"marker\": {\"colorbar\": {\"outlinewidth\": 0, \"ticks\": \"\"}}, \"type\": \"scattercarpet\"}], \"scattergeo\": [{\"marker\": {\"colorbar\": {\"outlinewidth\": 0, \"ticks\": \"\"}}, \"type\": \"scattergeo\"}], \"scattergl\": [{\"marker\": {\"colorbar\": {\"outlinewidth\": 0, \"ticks\": \"\"}}, \"type\": \"scattergl\"}], \"scattermapbox\": [{\"marker\": {\"colorbar\": {\"outlinewidth\": 0, \"ticks\": \"\"}}, \"type\": \"scattermapbox\"}], \"scatterpolar\": [{\"marker\": {\"colorbar\": {\"outlinewidth\": 0, \"ticks\": \"\"}}, \"type\": \"scatterpolar\"}], \"scatterpolargl\": [{\"marker\": {\"colorbar\": {\"outlinewidth\": 0, \"ticks\": \"\"}}, \"type\": \"scatterpolargl\"}], \"scatterternary\": [{\"marker\": {\"colorbar\": {\"outlinewidth\": 0, \"ticks\": \"\"}}, \"type\": \"scatterternary\"}], \"surface\": [{\"colorbar\": {\"outlinewidth\": 0, \"ticks\": \"\"}, \"colorscale\": [[0.0, \"#0d0887\"], [0.1111111111111111, \"#46039f\"], [0.2222222222222222, \"#7201a8\"], [0.3333333333333333, \"#9c179e\"], [0.4444444444444444, \"#bd3786\"], [0.5555555555555556, \"#d8576b\"], [0.6666666666666666, \"#ed7953\"], [0.7777777777777778, \"#fb9f3a\"], [0.8888888888888888, \"#fdca26\"], [1.0, \"#f0f921\"]], \"type\": \"surface\"}], \"table\": [{\"cells\": {\"fill\": {\"color\": \"#EBF0F8\"}, \"line\": {\"color\": \"white\"}}, \"header\": {\"fill\": {\"color\": \"#C8D4E3\"}, \"line\": {\"color\": \"white\"}}, \"type\": \"table\"}]}, \"layout\": {\"annotationdefaults\": {\"arrowcolor\": \"#2a3f5f\", \"arrowhead\": 0, \"arrowwidth\": 1}, \"autotypenumbers\": \"strict\", \"coloraxis\": {\"colorbar\": {\"outlinewidth\": 0, \"ticks\": \"\"}}, \"colorscale\": {\"diverging\": [[0, \"#8e0152\"], [0.1, \"#c51b7d\"], [0.2, \"#de77ae\"], [0.3, \"#f1b6da\"], [0.4, \"#fde0ef\"], [0.5, \"#f7f7f7\"], [0.6, \"#e6f5d0\"], [0.7, \"#b8e186\"], [0.8, \"#7fbc41\"], [0.9, \"#4d9221\"], [1, \"#276419\"]], \"sequential\": [[0.0, \"#0d0887\"], [0.1111111111111111, \"#46039f\"], [0.2222222222222222, \"#7201a8\"], [0.3333333333333333, \"#9c179e\"], [0.4444444444444444, \"#bd3786\"], [0.5555555555555556, \"#d8576b\"], [0.6666666666666666, \"#ed7953\"], [0.7777777777777778, \"#fb9f3a\"], [0.8888888888888888, \"#fdca26\"], [1.0, \"#f0f921\"]], \"sequentialminus\": [[0.0, \"#0d0887\"], [0.1111111111111111, \"#46039f\"], [0.2222222222222222, \"#7201a8\"], [0.3333333333333333, \"#9c179e\"], [0.4444444444444444, \"#bd3786\"], [0.5555555555555556, \"#d8576b\"], [0.6666666666666666, \"#ed7953\"], [0.7777777777777778, \"#fb9f3a\"], [0.8888888888888888, \"#fdca26\"], [1.0, \"#f0f921\"]]}, \"colorway\": [\"#636efa\", \"#EF553B\", \"#00cc96\", \"#ab63fa\", \"#FFA15A\", \"#19d3f3\", \"#FF6692\", \"#B6E880\", \"#FF97FF\", \"#FECB52\"], \"font\": {\"color\": \"#2a3f5f\"}, \"geo\": {\"bgcolor\": \"white\", \"lakecolor\": \"white\", \"landcolor\": \"#E5ECF6\", \"showlakes\": true, \"showland\": true, \"subunitcolor\": \"white\"}, \"hoverlabel\": {\"align\": \"left\"}, \"hovermode\": \"closest\", \"mapbox\": {\"style\": \"light\"}, \"paper_bgcolor\": \"white\", \"plot_bgcolor\": \"#E5ECF6\", \"polar\": {\"angularaxis\": {\"gridcolor\": \"white\", \"linecolor\": \"white\", \"ticks\": \"\"}, \"bgcolor\": \"#E5ECF6\", \"radialaxis\": {\"gridcolor\": \"white\", \"linecolor\": \"white\", \"ticks\": \"\"}}, \"scene\": {\"xaxis\": {\"backgroundcolor\": \"#E5ECF6\", \"gridcolor\": \"white\", \"gridwidth\": 2, \"linecolor\": \"white\", \"showbackground\": true, \"ticks\": \"\", \"zerolinecolor\": \"white\"}, \"yaxis\": {\"backgroundcolor\": \"#E5ECF6\", \"gridcolor\": \"white\", \"gridwidth\": 2, \"linecolor\": \"white\", \"showbackground\": true, \"ticks\": \"\", \"zerolinecolor\": \"white\"}, \"zaxis\": {\"backgroundcolor\": \"#E5ECF6\", \"gridcolor\": \"white\", \"gridwidth\": 2, \"linecolor\": \"white\", \"showbackground\": true, \"ticks\": \"\", \"zerolinecolor\": \"white\"}}, \"shapedefaults\": {\"line\": {\"color\": \"#2a3f5f\"}}, \"ternary\": {\"aaxis\": {\"gridcolor\": \"white\", \"linecolor\": \"white\", \"ticks\": \"\"}, \"baxis\": {\"gridcolor\": \"white\", \"linecolor\": \"white\", \"ticks\": \"\"}, \"bgcolor\": \"#E5ECF6\", \"caxis\": {\"gridcolor\": \"white\", \"linecolor\": \"white\", \"ticks\": \"\"}}, \"title\": {\"x\": 0.05}, \"xaxis\": {\"automargin\": true, \"gridcolor\": \"white\", \"linecolor\": \"white\", \"ticks\": \"\", \"title\": {\"standoff\": 15}, \"zerolinecolor\": \"white\", \"zerolinewidth\": 2}, \"yaxis\": {\"automargin\": true, \"gridcolor\": \"white\", \"linecolor\": \"white\", \"ticks\": \"\", \"title\": {\"standoff\": 15}, \"zerolinecolor\": \"white\", \"zerolinewidth\": 2}}}, \"title\": {\"font\": {\"size\": 20}, \"text\": \"Number of <i>total</i>, <i>EU/EEA</i>, and <i>EU/EEA TP visited sites</i> per harvest<br>\", \"x\": 0.5, \"xanchor\": \"center\", \"y\": 0.9, \"yanchor\": \"top\"}, \"xaxis\": {\"tickvals\": [\"2018-02-07\", \"2018-02-09\", \"2018-02-14\", \"2018-03-21\", \"2018-03-29\", \"2018-04-09\", \"2018-04-17\", \"2018-05-05\", \"2018-05-19\", \"<b>2018-05-25</b>\", \"2018-05-29\", \"2018-06-01\", \"2018-06-07\", \"2018-06-12\", \"2018-06-18\", \"2018-07-06\", \"2018-07-17\", \"2018-08-03\", \"2018-08-31\", \"2018-09-06\", \"2018-09-11\", \"2018-09-21\", \"2018-10-09\", \"2018-10-31\", \"2018-11-07\", \"2018-11-19\", \"2018-12-10\", \"2019-01-30\", \"2019-02-21\", \"2019-03-12\", \"2019-03-27\", \"2019-04-05\", \"2019-04-12\", \"2019-04-24\", \"2019-05-01\", \"2019-05-27\", \"2019-05-29\", \"2019-06-14\", \"2019-06-28\", \"2019-07-12\", \"2019-08-05\", \"2019-09-02\", \"2019-09-20\", \"2019-10-03\", \"2019-10-16\", \"2019-10-29\", \"2019-11-05\", \"2019-11-13\", \"2019-11-28\", \"2019-12-22\", \"2020-01-13\", \"2020-02-07\", \"2020-02-25\", \"2020-03-10\", \"2020-03-24\", \"2020-04-07\", \"2020-05-12\", \"2020-06-02\", \"2020-06-19\"], \"type\": \"category\"}, \"yaxis\": {\"range\": [9000, 13170], \"title\": {\"text\": \"Number of <b>visited sites</b>\"}}},                        {\"responsive\": true}                    ).then(function(){\n",
       "                            \n",
       "var gd = document.getElementById('5cddc47d-5d9d-4b99-8729-05dd5ab8fc3a');\n",
       "var x = new MutationObserver(function (mutations, observer) {{\n",
       "        var display = window.getComputedStyle(gd).display;\n",
       "        if (!display || display === 'none') {{\n",
       "            console.log([gd, 'removed!']);\n",
       "            Plotly.purge(gd);\n",
       "            observer.disconnect();\n",
       "        }}\n",
       "}});\n",
       "\n",
       "// Listen for the removal of the full notebook cells\n",
       "var notebookContainer = gd.closest('#notebook-container');\n",
       "if (notebookContainer) {{\n",
       "    x.observe(notebookContainer, {childList: true});\n",
       "}}\n",
       "\n",
       "// Listen for the clearing of the current output cell\n",
       "var outputEl = gd.closest('.output');\n",
       "if (outputEl) {{\n",
       "    x.observe(outputEl, {childList: true});\n",
       "}}\n",
       "\n",
       "                        })                };                });            </script>        </div>"
      ]
     },
     "metadata": {},
     "output_type": "display_data"
    }
   ],
   "source": [
    "# Choose a color palette\n",
    "colors = ['#2CA02C', '#D62728', '#EECA3B']\n",
    "palette = cycle(colors)\n",
    "\n",
    "\n",
    "# Initialie figure\n",
    "fig = go.Figure()\n",
    "\n",
    "# Add traces\n",
    "fig.add_trace(\n",
    "    go.Bar(name='All visited sites',\n",
    "           x=df_dates['date'],\n",
    "           y=df_TPs['visited_sites'],\n",
    "           marker_color=next(palette)\n",
    "          )\n",
    ")\n",
    "\n",
    "fig.add_trace(\n",
    "    go.Bar(name='All EU/EEA visited sites',\n",
    "           x=df_dates['date'],\n",
    "           y=df_TPs['visited_sites_EU'],\n",
    "           width=0.5,\n",
    "           marker_color=next(palette)\n",
    "          )\n",
    ")\n",
    "\n",
    "fig.add_trace(\n",
    "    go.Bar(name='EU/EEA visited sites with TP communication',\n",
    "           x=df_dates['date'],\n",
    "           y=df_TPs['visited_sites_EU_FP_TP'],\n",
    "           width=0.35,\n",
    "           marker_color=next(palette)\n",
    "          )\n",
    ")\n",
    "\n",
    "fig.add_trace(\n",
    "    go.Scatter(name='All requested sites', \n",
    "               x=df_dates['date'], \n",
    "               y=df_TPs['total_requested'],\n",
    "               marker_color='black'))\n",
    "\n",
    "# Make x-axis categorical\n",
    "fig.update_xaxes(type='category')\n",
    "\n",
    "# Use date values from DF for x-axis \n",
    "fig.update_xaxes(tickvals=df_dates['date'])\n",
    "\n",
    "# Set the mode\n",
    "fig.update_layout(barmode='overlay')\n",
    "\n",
    "# Set y-axis title\n",
    "fig.update_yaxes(title_text=\"Number of <b>visited sites</b>\")\n",
    "\n",
    "# Add centered figure title, set the legent and font\n",
    "fig.update_layout(\n",
    "    title={\n",
    "        'text': \"Number of <i>total</i>, <i>EU/EEA</i>, and <i>EU/EEA TP visited sites</i> per harvest<br>\",\n",
    "        'y':0.9,\n",
    "        'x':0.5,\n",
    "        'xanchor': 'center',\n",
    "        'yanchor': 'top',\n",
    "        'font':dict(size=20)},\n",
    "    font=dict(\n",
    "        family=\"Courier New, monospace\",\n",
    "    ),\n",
    ")\n",
    "\n",
    "# Add annotation\n",
    "fig.add_annotation(\n",
    "        x=9,\n",
    "        y=12710,\n",
    "        xref=\"x\",\n",
    "        yref=\"y\",\n",
    "        text=\"GDPR\",\n",
    "        showarrow=True,\n",
    "        font=dict(\n",
    "            family=\"Courier New, monospace\",\n",
    "            size=14,\n",
    "            color=\"#ffffff\"\n",
    "            ),\n",
    "        align=\"center\",\n",
    "        arrowhead=2,\n",
    "        arrowsize=1,\n",
    "        arrowwidth=2,\n",
    "        arrowcolor=\"#636363\",\n",
    "        ax=20,\n",
    "        ay=-30,\n",
    "        bordercolor=\"#c7c7c7\",\n",
    "        borderwidth=2,\n",
    "        borderpad=4,\n",
    "        bgcolor=\"#ff7f0e\",\n",
    "        opacity=0.8\n",
    "        )\n",
    "\n",
    "# Change legend location\n",
    "fig.update_layout(\n",
    "    legend=dict(\n",
    "        orientation=\"h\",\n",
    "        yanchor=\"bottom\",\n",
    "        y=1.01,\n",
    "        xanchor=\"center\",\n",
    "        x=0.5\n",
    "    ),\n",
    ")\n",
    "\n",
    "# Set y-axis range\n",
    "fig.update_yaxes(range=[9000,13170])\n",
    "\n",
    "\n",
    "# Set plot size - use when exporting\n",
    "#fig.update_layout(\n",
    "#    autosize=False,\n",
    "#    width=1100,\n",
    "#    height=600,\n",
    "#    )\n",
    "\n",
    "# Plot \n",
    "iplot(fig)"
   ]
  },
  {
   "cell_type": "code",
   "execution_count": 10,
   "metadata": {},
   "outputs": [],
   "source": [
    "# Export\n",
    "fig.write_image(\"/home/ubuntu/Plots/FIG_2.pdf\")"
   ]
  }
 ],
 "metadata": {
  "kernelspec": {
   "display_name": "Python 3",
   "language": "python",
   "name": "python3"
  },
  "language_info": {
   "codemirror_mode": {
    "name": "ipython",
    "version": 3
   },
   "file_extension": ".py",
   "mimetype": "text/x-python",
   "name": "python",
   "nbconvert_exporter": "python",
   "pygments_lexer": "ipython3",
   "version": "3.8.3"
  }
 },
 "nbformat": 4,
 "nbformat_minor": 4
}

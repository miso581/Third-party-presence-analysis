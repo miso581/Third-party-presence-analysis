{
 "cells": [
  {
   "cell_type": "markdown",
   "metadata": {},
   "source": [
    "# Responses and third-party responses per harvest"
   ]
  },
  {
   "cell_type": "markdown",
   "metadata": {},
   "source": [
    "    – input data: responses_total_combined.json - contains the number of total, EU/EEA, and EU/EEA with TP communication responses per harvest\n",
    "    – output plot: bar chart with harvest date on x-axis and number of responses on y-axis\n",
    "    – purpose: Visualise the distribution of number of responses per harvest based on three criteria: (i) total number of responses, (ii) all responses to EU/EEA first-party requests, and (iii) only TP responses to EU/EEA first-party requests. This offers a more granular overview of responses, and comparison if e.g. the decrease in total number of responses influences also the EU/EEA or only nonEU, or if the decrease in number of TP responses to EU/EEA origin first-party requests influence the overall number of EU/EEA responses."
   ]
  },
  {
   "cell_type": "code",
   "execution_count": 1,
   "metadata": {},
   "outputs": [],
   "source": [
    "# Import\n",
    "import pandas as pd\n",
    "import csv\n",
    "import json\n",
    "from plotly.offline import download_plotlyjs, init_notebook_mode, plot, iplot\n",
    "import plotly.graph_objects as go\n",
    "from itertools import cycle\n",
    "import plotly.express as px"
   ]
  },
  {
   "cell_type": "code",
   "execution_count": 2,
   "metadata": {},
   "outputs": [
    {
     "data": {
      "text/html": [
       "        <script type=\"text/javascript\">\n",
       "        window.PlotlyConfig = {MathJaxConfig: 'local'};\n",
       "        if (window.MathJax) {MathJax.Hub.Config({SVG: {font: \"STIX-Web\"}});}\n",
       "        if (typeof require !== 'undefined') {\n",
       "        require.undef(\"plotly\");\n",
       "        requirejs.config({\n",
       "            paths: {\n",
       "                'plotly': ['https://cdn.plot.ly/plotly-latest.min']\n",
       "            }\n",
       "        });\n",
       "        require(['plotly'], function(Plotly) {\n",
       "            window._Plotly = Plotly;\n",
       "        });\n",
       "        }\n",
       "        </script>\n",
       "        "
      ]
     },
     "metadata": {},
     "output_type": "display_data"
    }
   ],
   "source": [
    "# Jupyter setup\n",
    "init_notebook_mode(connected=True)"
   ]
  },
  {
   "cell_type": "code",
   "execution_count": 3,
   "metadata": {},
   "outputs": [],
   "source": [
    "# Set up the path to data\n",
    "f_path = '/home/ubuntu/data/processed/crawls/response_enriched/analysis_v.3/'"
   ]
  },
  {
   "cell_type": "code",
   "execution_count": 4,
   "metadata": {},
   "outputs": [
    {
     "data": {
      "text/html": [
       "<div>\n",
       "<style scoped>\n",
       "    .dataframe tbody tr th:only-of-type {\n",
       "        vertical-align: middle;\n",
       "    }\n",
       "\n",
       "    .dataframe tbody tr th {\n",
       "        vertical-align: top;\n",
       "    }\n",
       "\n",
       "    .dataframe thead th {\n",
       "        text-align: right;\n",
       "    }\n",
       "</style>\n",
       "<table border=\"1\" class=\"dataframe\">\n",
       "  <thead>\n",
       "    <tr style=\"text-align: right;\">\n",
       "      <th></th>\n",
       "      <th>date</th>\n",
       "      <th>total_res_EU_FT_TP</th>\n",
       "      <th>total_res_EU</th>\n",
       "      <th>total_res</th>\n",
       "    </tr>\n",
       "  </thead>\n",
       "  <tbody>\n",
       "    <tr>\n",
       "      <th>34</th>\n",
       "      <td>2018-02-07</td>\n",
       "      <td>738642</td>\n",
       "      <td>1174656</td>\n",
       "      <td>1492074</td>\n",
       "    </tr>\n",
       "    <tr>\n",
       "      <th>55</th>\n",
       "      <td>2018-02-09</td>\n",
       "      <td>732836</td>\n",
       "      <td>1168590</td>\n",
       "      <td>1484670</td>\n",
       "    </tr>\n",
       "    <tr>\n",
       "      <th>15</th>\n",
       "      <td>2018-02-14</td>\n",
       "      <td>729397</td>\n",
       "      <td>1165955</td>\n",
       "      <td>1488655</td>\n",
       "    </tr>\n",
       "    <tr>\n",
       "      <th>20</th>\n",
       "      <td>2018-03-21</td>\n",
       "      <td>733288</td>\n",
       "      <td>1164850</td>\n",
       "      <td>1483718</td>\n",
       "    </tr>\n",
       "    <tr>\n",
       "      <th>30</th>\n",
       "      <td>2018-03-29</td>\n",
       "      <td>734508</td>\n",
       "      <td>1165377</td>\n",
       "      <td>1491943</td>\n",
       "    </tr>\n",
       "  </tbody>\n",
       "</table>\n",
       "</div>"
      ],
      "text/plain": [
       "          date  total_res_EU_FT_TP  total_res_EU  total_res\n",
       "34  2018-02-07              738642       1174656    1492074\n",
       "55  2018-02-09              732836       1168590    1484670\n",
       "15  2018-02-14              729397       1165955    1488655\n",
       "20  2018-03-21              733288       1164850    1483718\n",
       "30  2018-03-29              734508       1165377    1491943"
      ]
     },
     "execution_count": 4,
     "metadata": {},
     "output_type": "execute_result"
    }
   ],
   "source": [
    "# Load number of responses per harvest\n",
    "total_res_name = 'responses_total_combined.json'\n",
    "\n",
    "with open(f_path + total_res_name) as f:\n",
    "    json_res = json.load(f)\n",
    "    \n",
    "df_res = pd.json_normalize(json_res)\n",
    "df_res.sort_values('date', inplace=True)\n",
    "df_res.head()"
   ]
  },
  {
   "cell_type": "code",
   "execution_count": 5,
   "metadata": {},
   "outputs": [
    {
     "data": {
      "text/html": [
       "<div>\n",
       "<style scoped>\n",
       "    .dataframe tbody tr th:only-of-type {\n",
       "        vertical-align: middle;\n",
       "    }\n",
       "\n",
       "    .dataframe tbody tr th {\n",
       "        vertical-align: top;\n",
       "    }\n",
       "\n",
       "    .dataframe thead th {\n",
       "        text-align: right;\n",
       "    }\n",
       "</style>\n",
       "<table border=\"1\" class=\"dataframe\">\n",
       "  <thead>\n",
       "    <tr style=\"text-align: right;\">\n",
       "      <th></th>\n",
       "      <th>date</th>\n",
       "    </tr>\n",
       "  </thead>\n",
       "  <tbody>\n",
       "    <tr>\n",
       "      <th>0</th>\n",
       "      <td>2018-02-07</td>\n",
       "    </tr>\n",
       "    <tr>\n",
       "      <th>1</th>\n",
       "      <td>2018-02-09</td>\n",
       "    </tr>\n",
       "    <tr>\n",
       "      <th>2</th>\n",
       "      <td>2018-02-14</td>\n",
       "    </tr>\n",
       "    <tr>\n",
       "      <th>3</th>\n",
       "      <td>2018-03-21</td>\n",
       "    </tr>\n",
       "    <tr>\n",
       "      <th>4</th>\n",
       "      <td>2018-03-29</td>\n",
       "    </tr>\n",
       "  </tbody>\n",
       "</table>\n",
       "</div>"
      ],
      "text/plain": [
       "         date\n",
       "0  2018-02-07\n",
       "1  2018-02-09\n",
       "2  2018-02-14\n",
       "3  2018-03-21\n",
       "4  2018-03-29"
      ]
     },
     "execution_count": 5,
     "metadata": {},
     "output_type": "execute_result"
    }
   ],
   "source": [
    "# Set up the date DF\n",
    "df_dates = pd.DataFrame()\n",
    "df_dates['date'] = df_res['date']\n",
    "df_dates.reset_index(inplace=True)\n",
    "del df_dates['index']\n",
    "df_dates.at[9, 'date'] = '<b>2018-05-25</b>'\n",
    "df_dates.head()"
   ]
  },
  {
   "cell_type": "code",
   "execution_count": 7,
   "metadata": {},
   "outputs": [
    {
     "data": {
      "application/vnd.plotly.v1+json": {
       "config": {
        "linkText": "Export to plot.ly",
        "plotlyServerURL": "https://plot.ly",
        "showLink": false
       },
       "data": [
        {
         "marker": {
          "color": "#1F77B4"
         },
         "name": "All responses",
         "type": "bar",
         "x": [
          "2018-02-07",
          "2018-02-09",
          "2018-02-14",
          "2018-03-21",
          "2018-03-29",
          "2018-04-09",
          "2018-04-17",
          "2018-05-05",
          "2018-05-19",
          "<b>2018-05-25</b>",
          "2018-05-29",
          "2018-06-01",
          "2018-06-07",
          "2018-06-12",
          "2018-06-18",
          "2018-07-06",
          "2018-07-17",
          "2018-08-03",
          "2018-08-31",
          "2018-09-06",
          "2018-09-11",
          "2018-09-21",
          "2018-10-09",
          "2018-10-31",
          "2018-11-07",
          "2018-11-19",
          "2018-12-10",
          "2019-01-30",
          "2019-02-21",
          "2019-03-12",
          "2019-03-27",
          "2019-04-05",
          "2019-04-12",
          "2019-04-24",
          "2019-05-01",
          "2019-05-27",
          "2019-05-29",
          "2019-06-14",
          "2019-06-28",
          "2019-07-12",
          "2019-08-05",
          "2019-09-02",
          "2019-09-20",
          "2019-10-03",
          "2019-10-16",
          "2019-10-29",
          "2019-11-05",
          "2019-11-13",
          "2019-11-28",
          "2019-12-22",
          "2020-01-13",
          "2020-02-07",
          "2020-02-25",
          "2020-03-10",
          "2020-03-24",
          "2020-04-07",
          "2020-05-12",
          "2020-06-02",
          "2020-06-19"
         ],
         "y": [
          1492074,
          1484670,
          1488655,
          1483718,
          1491943,
          1473748,
          1530985,
          1472908,
          1481142,
          1414568,
          1382878,
          1385625,
          1392984,
          1392653,
          1403177,
          1383940,
          1398628,
          1383714,
          1390329,
          1386814,
          1386215,
          1392207,
          1370576,
          1376305,
          1365131,
          1368327,
          1377895,
          1381190,
          1374651,
          1375015,
          1372343,
          1366416,
          1358048,
          1369926,
          1357834,
          1359269,
          1374662,
          1366578,
          1374978,
          1370860,
          1357426,
          1348835,
          1352740,
          1366764,
          1372900,
          1368843,
          1362963,
          1376458,
          1360876,
          1350507,
          1350213,
          1335300,
          1339404,
          1344188,
          1321651,
          1316053,
          1331963,
          1321845,
          1345069
         ]
        },
        {
         "marker": {
          "color": "#FF7F0E"
         },
         "name": "All EU/EEA responses",
         "type": "bar",
         "width": 0.5,
         "x": [
          "2018-02-07",
          "2018-02-09",
          "2018-02-14",
          "2018-03-21",
          "2018-03-29",
          "2018-04-09",
          "2018-04-17",
          "2018-05-05",
          "2018-05-19",
          "<b>2018-05-25</b>",
          "2018-05-29",
          "2018-06-01",
          "2018-06-07",
          "2018-06-12",
          "2018-06-18",
          "2018-07-06",
          "2018-07-17",
          "2018-08-03",
          "2018-08-31",
          "2018-09-06",
          "2018-09-11",
          "2018-09-21",
          "2018-10-09",
          "2018-10-31",
          "2018-11-07",
          "2018-11-19",
          "2018-12-10",
          "2019-01-30",
          "2019-02-21",
          "2019-03-12",
          "2019-03-27",
          "2019-04-05",
          "2019-04-12",
          "2019-04-24",
          "2019-05-01",
          "2019-05-27",
          "2019-05-29",
          "2019-06-14",
          "2019-06-28",
          "2019-07-12",
          "2019-08-05",
          "2019-09-02",
          "2019-09-20",
          "2019-10-03",
          "2019-10-16",
          "2019-10-29",
          "2019-11-05",
          "2019-11-13",
          "2019-11-28",
          "2019-12-22",
          "2020-01-13",
          "2020-02-07",
          "2020-02-25",
          "2020-03-10",
          "2020-03-24",
          "2020-04-07",
          "2020-05-12",
          "2020-06-02",
          "2020-06-19"
         ],
         "y": [
          1174656,
          1168590,
          1165955,
          1164850,
          1165377,
          1152924,
          1205310,
          1161597,
          1172013,
          1112887,
          1085096,
          1087320,
          1093668,
          1096903,
          1105101,
          1090731,
          1098903,
          1083317,
          1097597,
          1092064,
          1087873,
          1096881,
          1078443,
          1084287,
          1079028,
          1084552,
          1091351,
          1096628,
          1100949,
          1093466,
          1088416,
          1082628,
          1078814,
          1086325,
          1079211,
          1080408,
          1085747,
          1087814,
          1093470,
          1089566,
          1078354,
          1072989,
          1072816,
          1082488,
          1092217,
          1088293,
          1081434,
          1092551,
          1075358,
          1073026,
          1071854,
          1062642,
          1068857,
          1063898,
          1047366,
          1040497,
          1060691,
          1054731,
          1072392
         ]
        },
        {
         "marker": {
          "color": "#9467BD"
         },
         "name": "EU/EEA responses with TP communication",
         "type": "bar",
         "width": 0.35,
         "x": [
          "2018-02-07",
          "2018-02-09",
          "2018-02-14",
          "2018-03-21",
          "2018-03-29",
          "2018-04-09",
          "2018-04-17",
          "2018-05-05",
          "2018-05-19",
          "<b>2018-05-25</b>",
          "2018-05-29",
          "2018-06-01",
          "2018-06-07",
          "2018-06-12",
          "2018-06-18",
          "2018-07-06",
          "2018-07-17",
          "2018-08-03",
          "2018-08-31",
          "2018-09-06",
          "2018-09-11",
          "2018-09-21",
          "2018-10-09",
          "2018-10-31",
          "2018-11-07",
          "2018-11-19",
          "2018-12-10",
          "2019-01-30",
          "2019-02-21",
          "2019-03-12",
          "2019-03-27",
          "2019-04-05",
          "2019-04-12",
          "2019-04-24",
          "2019-05-01",
          "2019-05-27",
          "2019-05-29",
          "2019-06-14",
          "2019-06-28",
          "2019-07-12",
          "2019-08-05",
          "2019-09-02",
          "2019-09-20",
          "2019-10-03",
          "2019-10-16",
          "2019-10-29",
          "2019-11-05",
          "2019-11-13",
          "2019-11-28",
          "2019-12-22",
          "2020-01-13",
          "2020-02-07",
          "2020-02-25",
          "2020-03-10",
          "2020-03-24",
          "2020-04-07",
          "2020-05-12",
          "2020-06-02",
          "2020-06-19"
         ],
         "y": [
          738642,
          732836,
          729397,
          733288,
          734508,
          724834,
          779121,
          733381,
          742867,
          687232,
          660382,
          660310,
          669385,
          671623,
          678300,
          665263,
          674711,
          663670,
          676604,
          671458,
          667805,
          677484,
          661615,
          668272,
          664239,
          670301,
          678202,
          679065,
          683856,
          678434,
          673801,
          667921,
          664030,
          672853,
          666004,
          667210,
          676018,
          679225,
          683867,
          681172,
          672325,
          667294,
          666366,
          674349,
          682559,
          678112,
          673049,
          681913,
          669911,
          660646,
          660047,
          652813,
          654196,
          653271,
          634660,
          632643,
          649375,
          642941,
          659923
         ]
        }
       ],
       "layout": {
        "annotations": [
         {
          "align": "center",
          "arrowcolor": "#636363",
          "arrowhead": 2,
          "arrowsize": 1,
          "arrowwidth": 2,
          "ax": 20,
          "ay": -30,
          "bgcolor": "#ff7f0e",
          "bordercolor": "#c7c7c7",
          "borderpad": 4,
          "borderwidth": 2,
          "font": {
           "color": "#ffffff",
           "family": "Courier New, monospace",
           "size": 14
          },
          "opacity": 0.8,
          "showarrow": true,
          "text": "GDPR",
          "x": 9,
          "xref": "x",
          "y": 1430000,
          "yref": "y"
         }
        ],
        "barmode": "overlay",
        "font": {
         "family": "Courier New, monospace"
        },
        "legend": {
         "orientation": "h",
         "x": 0.5,
         "xanchor": "center",
         "y": 1.02,
         "yanchor": "bottom"
        },
        "template": {
         "data": {
          "bar": [
           {
            "error_x": {
             "color": "#2a3f5f"
            },
            "error_y": {
             "color": "#2a3f5f"
            },
            "marker": {
             "line": {
              "color": "#E5ECF6",
              "width": 0.5
             }
            },
            "type": "bar"
           }
          ],
          "barpolar": [
           {
            "marker": {
             "line": {
              "color": "#E5ECF6",
              "width": 0.5
             }
            },
            "type": "barpolar"
           }
          ],
          "carpet": [
           {
            "aaxis": {
             "endlinecolor": "#2a3f5f",
             "gridcolor": "white",
             "linecolor": "white",
             "minorgridcolor": "white",
             "startlinecolor": "#2a3f5f"
            },
            "baxis": {
             "endlinecolor": "#2a3f5f",
             "gridcolor": "white",
             "linecolor": "white",
             "minorgridcolor": "white",
             "startlinecolor": "#2a3f5f"
            },
            "type": "carpet"
           }
          ],
          "choropleth": [
           {
            "colorbar": {
             "outlinewidth": 0,
             "ticks": ""
            },
            "type": "choropleth"
           }
          ],
          "contour": [
           {
            "colorbar": {
             "outlinewidth": 0,
             "ticks": ""
            },
            "colorscale": [
             [
              0,
              "#0d0887"
             ],
             [
              0.1111111111111111,
              "#46039f"
             ],
             [
              0.2222222222222222,
              "#7201a8"
             ],
             [
              0.3333333333333333,
              "#9c179e"
             ],
             [
              0.4444444444444444,
              "#bd3786"
             ],
             [
              0.5555555555555556,
              "#d8576b"
             ],
             [
              0.6666666666666666,
              "#ed7953"
             ],
             [
              0.7777777777777778,
              "#fb9f3a"
             ],
             [
              0.8888888888888888,
              "#fdca26"
             ],
             [
              1,
              "#f0f921"
             ]
            ],
            "type": "contour"
           }
          ],
          "contourcarpet": [
           {
            "colorbar": {
             "outlinewidth": 0,
             "ticks": ""
            },
            "type": "contourcarpet"
           }
          ],
          "heatmap": [
           {
            "colorbar": {
             "outlinewidth": 0,
             "ticks": ""
            },
            "colorscale": [
             [
              0,
              "#0d0887"
             ],
             [
              0.1111111111111111,
              "#46039f"
             ],
             [
              0.2222222222222222,
              "#7201a8"
             ],
             [
              0.3333333333333333,
              "#9c179e"
             ],
             [
              0.4444444444444444,
              "#bd3786"
             ],
             [
              0.5555555555555556,
              "#d8576b"
             ],
             [
              0.6666666666666666,
              "#ed7953"
             ],
             [
              0.7777777777777778,
              "#fb9f3a"
             ],
             [
              0.8888888888888888,
              "#fdca26"
             ],
             [
              1,
              "#f0f921"
             ]
            ],
            "type": "heatmap"
           }
          ],
          "heatmapgl": [
           {
            "colorbar": {
             "outlinewidth": 0,
             "ticks": ""
            },
            "colorscale": [
             [
              0,
              "#0d0887"
             ],
             [
              0.1111111111111111,
              "#46039f"
             ],
             [
              0.2222222222222222,
              "#7201a8"
             ],
             [
              0.3333333333333333,
              "#9c179e"
             ],
             [
              0.4444444444444444,
              "#bd3786"
             ],
             [
              0.5555555555555556,
              "#d8576b"
             ],
             [
              0.6666666666666666,
              "#ed7953"
             ],
             [
              0.7777777777777778,
              "#fb9f3a"
             ],
             [
              0.8888888888888888,
              "#fdca26"
             ],
             [
              1,
              "#f0f921"
             ]
            ],
            "type": "heatmapgl"
           }
          ],
          "histogram": [
           {
            "marker": {
             "colorbar": {
              "outlinewidth": 0,
              "ticks": ""
             }
            },
            "type": "histogram"
           }
          ],
          "histogram2d": [
           {
            "colorbar": {
             "outlinewidth": 0,
             "ticks": ""
            },
            "colorscale": [
             [
              0,
              "#0d0887"
             ],
             [
              0.1111111111111111,
              "#46039f"
             ],
             [
              0.2222222222222222,
              "#7201a8"
             ],
             [
              0.3333333333333333,
              "#9c179e"
             ],
             [
              0.4444444444444444,
              "#bd3786"
             ],
             [
              0.5555555555555556,
              "#d8576b"
             ],
             [
              0.6666666666666666,
              "#ed7953"
             ],
             [
              0.7777777777777778,
              "#fb9f3a"
             ],
             [
              0.8888888888888888,
              "#fdca26"
             ],
             [
              1,
              "#f0f921"
             ]
            ],
            "type": "histogram2d"
           }
          ],
          "histogram2dcontour": [
           {
            "colorbar": {
             "outlinewidth": 0,
             "ticks": ""
            },
            "colorscale": [
             [
              0,
              "#0d0887"
             ],
             [
              0.1111111111111111,
              "#46039f"
             ],
             [
              0.2222222222222222,
              "#7201a8"
             ],
             [
              0.3333333333333333,
              "#9c179e"
             ],
             [
              0.4444444444444444,
              "#bd3786"
             ],
             [
              0.5555555555555556,
              "#d8576b"
             ],
             [
              0.6666666666666666,
              "#ed7953"
             ],
             [
              0.7777777777777778,
              "#fb9f3a"
             ],
             [
              0.8888888888888888,
              "#fdca26"
             ],
             [
              1,
              "#f0f921"
             ]
            ],
            "type": "histogram2dcontour"
           }
          ],
          "mesh3d": [
           {
            "colorbar": {
             "outlinewidth": 0,
             "ticks": ""
            },
            "type": "mesh3d"
           }
          ],
          "parcoords": [
           {
            "line": {
             "colorbar": {
              "outlinewidth": 0,
              "ticks": ""
             }
            },
            "type": "parcoords"
           }
          ],
          "pie": [
           {
            "automargin": true,
            "type": "pie"
           }
          ],
          "scatter": [
           {
            "marker": {
             "colorbar": {
              "outlinewidth": 0,
              "ticks": ""
             }
            },
            "type": "scatter"
           }
          ],
          "scatter3d": [
           {
            "line": {
             "colorbar": {
              "outlinewidth": 0,
              "ticks": ""
             }
            },
            "marker": {
             "colorbar": {
              "outlinewidth": 0,
              "ticks": ""
             }
            },
            "type": "scatter3d"
           }
          ],
          "scattercarpet": [
           {
            "marker": {
             "colorbar": {
              "outlinewidth": 0,
              "ticks": ""
             }
            },
            "type": "scattercarpet"
           }
          ],
          "scattergeo": [
           {
            "marker": {
             "colorbar": {
              "outlinewidth": 0,
              "ticks": ""
             }
            },
            "type": "scattergeo"
           }
          ],
          "scattergl": [
           {
            "marker": {
             "colorbar": {
              "outlinewidth": 0,
              "ticks": ""
             }
            },
            "type": "scattergl"
           }
          ],
          "scattermapbox": [
           {
            "marker": {
             "colorbar": {
              "outlinewidth": 0,
              "ticks": ""
             }
            },
            "type": "scattermapbox"
           }
          ],
          "scatterpolar": [
           {
            "marker": {
             "colorbar": {
              "outlinewidth": 0,
              "ticks": ""
             }
            },
            "type": "scatterpolar"
           }
          ],
          "scatterpolargl": [
           {
            "marker": {
             "colorbar": {
              "outlinewidth": 0,
              "ticks": ""
             }
            },
            "type": "scatterpolargl"
           }
          ],
          "scatterternary": [
           {
            "marker": {
             "colorbar": {
              "outlinewidth": 0,
              "ticks": ""
             }
            },
            "type": "scatterternary"
           }
          ],
          "surface": [
           {
            "colorbar": {
             "outlinewidth": 0,
             "ticks": ""
            },
            "colorscale": [
             [
              0,
              "#0d0887"
             ],
             [
              0.1111111111111111,
              "#46039f"
             ],
             [
              0.2222222222222222,
              "#7201a8"
             ],
             [
              0.3333333333333333,
              "#9c179e"
             ],
             [
              0.4444444444444444,
              "#bd3786"
             ],
             [
              0.5555555555555556,
              "#d8576b"
             ],
             [
              0.6666666666666666,
              "#ed7953"
             ],
             [
              0.7777777777777778,
              "#fb9f3a"
             ],
             [
              0.8888888888888888,
              "#fdca26"
             ],
             [
              1,
              "#f0f921"
             ]
            ],
            "type": "surface"
           }
          ],
          "table": [
           {
            "cells": {
             "fill": {
              "color": "#EBF0F8"
             },
             "line": {
              "color": "white"
             }
            },
            "header": {
             "fill": {
              "color": "#C8D4E3"
             },
             "line": {
              "color": "white"
             }
            },
            "type": "table"
           }
          ]
         },
         "layout": {
          "annotationdefaults": {
           "arrowcolor": "#2a3f5f",
           "arrowhead": 0,
           "arrowwidth": 1
          },
          "autotypenumbers": "strict",
          "coloraxis": {
           "colorbar": {
            "outlinewidth": 0,
            "ticks": ""
           }
          },
          "colorscale": {
           "diverging": [
            [
             0,
             "#8e0152"
            ],
            [
             0.1,
             "#c51b7d"
            ],
            [
             0.2,
             "#de77ae"
            ],
            [
             0.3,
             "#f1b6da"
            ],
            [
             0.4,
             "#fde0ef"
            ],
            [
             0.5,
             "#f7f7f7"
            ],
            [
             0.6,
             "#e6f5d0"
            ],
            [
             0.7,
             "#b8e186"
            ],
            [
             0.8,
             "#7fbc41"
            ],
            [
             0.9,
             "#4d9221"
            ],
            [
             1,
             "#276419"
            ]
           ],
           "sequential": [
            [
             0,
             "#0d0887"
            ],
            [
             0.1111111111111111,
             "#46039f"
            ],
            [
             0.2222222222222222,
             "#7201a8"
            ],
            [
             0.3333333333333333,
             "#9c179e"
            ],
            [
             0.4444444444444444,
             "#bd3786"
            ],
            [
             0.5555555555555556,
             "#d8576b"
            ],
            [
             0.6666666666666666,
             "#ed7953"
            ],
            [
             0.7777777777777778,
             "#fb9f3a"
            ],
            [
             0.8888888888888888,
             "#fdca26"
            ],
            [
             1,
             "#f0f921"
            ]
           ],
           "sequentialminus": [
            [
             0,
             "#0d0887"
            ],
            [
             0.1111111111111111,
             "#46039f"
            ],
            [
             0.2222222222222222,
             "#7201a8"
            ],
            [
             0.3333333333333333,
             "#9c179e"
            ],
            [
             0.4444444444444444,
             "#bd3786"
            ],
            [
             0.5555555555555556,
             "#d8576b"
            ],
            [
             0.6666666666666666,
             "#ed7953"
            ],
            [
             0.7777777777777778,
             "#fb9f3a"
            ],
            [
             0.8888888888888888,
             "#fdca26"
            ],
            [
             1,
             "#f0f921"
            ]
           ]
          },
          "colorway": [
           "#636efa",
           "#EF553B",
           "#00cc96",
           "#ab63fa",
           "#FFA15A",
           "#19d3f3",
           "#FF6692",
           "#B6E880",
           "#FF97FF",
           "#FECB52"
          ],
          "font": {
           "color": "#2a3f5f"
          },
          "geo": {
           "bgcolor": "white",
           "lakecolor": "white",
           "landcolor": "#E5ECF6",
           "showlakes": true,
           "showland": true,
           "subunitcolor": "white"
          },
          "hoverlabel": {
           "align": "left"
          },
          "hovermode": "closest",
          "mapbox": {
           "style": "light"
          },
          "paper_bgcolor": "white",
          "plot_bgcolor": "#E5ECF6",
          "polar": {
           "angularaxis": {
            "gridcolor": "white",
            "linecolor": "white",
            "ticks": ""
           },
           "bgcolor": "#E5ECF6",
           "radialaxis": {
            "gridcolor": "white",
            "linecolor": "white",
            "ticks": ""
           }
          },
          "scene": {
           "xaxis": {
            "backgroundcolor": "#E5ECF6",
            "gridcolor": "white",
            "gridwidth": 2,
            "linecolor": "white",
            "showbackground": true,
            "ticks": "",
            "zerolinecolor": "white"
           },
           "yaxis": {
            "backgroundcolor": "#E5ECF6",
            "gridcolor": "white",
            "gridwidth": 2,
            "linecolor": "white",
            "showbackground": true,
            "ticks": "",
            "zerolinecolor": "white"
           },
           "zaxis": {
            "backgroundcolor": "#E5ECF6",
            "gridcolor": "white",
            "gridwidth": 2,
            "linecolor": "white",
            "showbackground": true,
            "ticks": "",
            "zerolinecolor": "white"
           }
          },
          "shapedefaults": {
           "line": {
            "color": "#2a3f5f"
           }
          },
          "ternary": {
           "aaxis": {
            "gridcolor": "white",
            "linecolor": "white",
            "ticks": ""
           },
           "baxis": {
            "gridcolor": "white",
            "linecolor": "white",
            "ticks": ""
           },
           "bgcolor": "#E5ECF6",
           "caxis": {
            "gridcolor": "white",
            "linecolor": "white",
            "ticks": ""
           }
          },
          "title": {
           "x": 0.05
          },
          "xaxis": {
           "automargin": true,
           "gridcolor": "white",
           "linecolor": "white",
           "ticks": "",
           "title": {
            "standoff": 15
           },
           "zerolinecolor": "white",
           "zerolinewidth": 2
          },
          "yaxis": {
           "automargin": true,
           "gridcolor": "white",
           "linecolor": "white",
           "ticks": "",
           "title": {
            "standoff": 15
           },
           "zerolinecolor": "white",
           "zerolinewidth": 2
          }
         }
        },
        "title": {
         "font": {
          "size": 20
         },
         "text": "Number of <i>total</i>, <i>EU/EEA</i>, and <i>EU/EEA TP visited site responses</i> per harvest<br>",
         "x": 0.5,
         "xanchor": "center",
         "y": 0.9,
         "yanchor": "top"
        },
        "xaxis": {
         "tickvals": [
          "2018-02-07",
          "2018-02-09",
          "2018-02-14",
          "2018-03-21",
          "2018-03-29",
          "2018-04-09",
          "2018-04-17",
          "2018-05-05",
          "2018-05-19",
          "<b>2018-05-25</b>",
          "2018-05-29",
          "2018-06-01",
          "2018-06-07",
          "2018-06-12",
          "2018-06-18",
          "2018-07-06",
          "2018-07-17",
          "2018-08-03",
          "2018-08-31",
          "2018-09-06",
          "2018-09-11",
          "2018-09-21",
          "2018-10-09",
          "2018-10-31",
          "2018-11-07",
          "2018-11-19",
          "2018-12-10",
          "2019-01-30",
          "2019-02-21",
          "2019-03-12",
          "2019-03-27",
          "2019-04-05",
          "2019-04-12",
          "2019-04-24",
          "2019-05-01",
          "2019-05-27",
          "2019-05-29",
          "2019-06-14",
          "2019-06-28",
          "2019-07-12",
          "2019-08-05",
          "2019-09-02",
          "2019-09-20",
          "2019-10-03",
          "2019-10-16",
          "2019-10-29",
          "2019-11-05",
          "2019-11-13",
          "2019-11-28",
          "2019-12-22",
          "2020-01-13",
          "2020-02-07",
          "2020-02-25",
          "2020-03-10",
          "2020-03-24",
          "2020-04-07",
          "2020-05-12",
          "2020-06-02",
          "2020-06-19"
         ],
         "type": "category"
        },
        "yaxis": {
         "title": {
          "text": "Number of <b>responses</b>"
         }
        }
       }
      },
      "text/html": [
       "<div>                            <div id=\"0e6223f5-6b1a-4cb8-806e-3b2db8fc6213\" class=\"plotly-graph-div\" style=\"height:525px; width:100%;\"></div>            <script type=\"text/javascript\">                require([\"plotly\"], function(Plotly) {                    window.PLOTLYENV=window.PLOTLYENV || {};                                    if (document.getElementById(\"0e6223f5-6b1a-4cb8-806e-3b2db8fc6213\")) {                    Plotly.newPlot(                        \"0e6223f5-6b1a-4cb8-806e-3b2db8fc6213\",                        [{\"marker\": {\"color\": \"#1F77B4\"}, \"name\": \"All responses\", \"type\": \"bar\", \"x\": [\"2018-02-07\", \"2018-02-09\", \"2018-02-14\", \"2018-03-21\", \"2018-03-29\", \"2018-04-09\", \"2018-04-17\", \"2018-05-05\", \"2018-05-19\", \"<b>2018-05-25</b>\", \"2018-05-29\", \"2018-06-01\", \"2018-06-07\", \"2018-06-12\", \"2018-06-18\", \"2018-07-06\", \"2018-07-17\", \"2018-08-03\", \"2018-08-31\", \"2018-09-06\", \"2018-09-11\", \"2018-09-21\", \"2018-10-09\", \"2018-10-31\", \"2018-11-07\", \"2018-11-19\", \"2018-12-10\", \"2019-01-30\", \"2019-02-21\", \"2019-03-12\", \"2019-03-27\", \"2019-04-05\", \"2019-04-12\", \"2019-04-24\", \"2019-05-01\", \"2019-05-27\", \"2019-05-29\", \"2019-06-14\", \"2019-06-28\", \"2019-07-12\", \"2019-08-05\", \"2019-09-02\", \"2019-09-20\", \"2019-10-03\", \"2019-10-16\", \"2019-10-29\", \"2019-11-05\", \"2019-11-13\", \"2019-11-28\", \"2019-12-22\", \"2020-01-13\", \"2020-02-07\", \"2020-02-25\", \"2020-03-10\", \"2020-03-24\", \"2020-04-07\", \"2020-05-12\", \"2020-06-02\", \"2020-06-19\"], \"y\": [1492074, 1484670, 1488655, 1483718, 1491943, 1473748, 1530985, 1472908, 1481142, 1414568, 1382878, 1385625, 1392984, 1392653, 1403177, 1383940, 1398628, 1383714, 1390329, 1386814, 1386215, 1392207, 1370576, 1376305, 1365131, 1368327, 1377895, 1381190, 1374651, 1375015, 1372343, 1366416, 1358048, 1369926, 1357834, 1359269, 1374662, 1366578, 1374978, 1370860, 1357426, 1348835, 1352740, 1366764, 1372900, 1368843, 1362963, 1376458, 1360876, 1350507, 1350213, 1335300, 1339404, 1344188, 1321651, 1316053, 1331963, 1321845, 1345069]}, {\"marker\": {\"color\": \"#FF7F0E\"}, \"name\": \"All EU/EEA responses\", \"type\": \"bar\", \"width\": 0.5, \"x\": [\"2018-02-07\", \"2018-02-09\", \"2018-02-14\", \"2018-03-21\", \"2018-03-29\", \"2018-04-09\", \"2018-04-17\", \"2018-05-05\", \"2018-05-19\", \"<b>2018-05-25</b>\", \"2018-05-29\", \"2018-06-01\", \"2018-06-07\", \"2018-06-12\", \"2018-06-18\", \"2018-07-06\", \"2018-07-17\", \"2018-08-03\", \"2018-08-31\", \"2018-09-06\", \"2018-09-11\", \"2018-09-21\", \"2018-10-09\", \"2018-10-31\", \"2018-11-07\", \"2018-11-19\", \"2018-12-10\", \"2019-01-30\", \"2019-02-21\", \"2019-03-12\", \"2019-03-27\", \"2019-04-05\", \"2019-04-12\", \"2019-04-24\", \"2019-05-01\", \"2019-05-27\", \"2019-05-29\", \"2019-06-14\", \"2019-06-28\", \"2019-07-12\", \"2019-08-05\", \"2019-09-02\", \"2019-09-20\", \"2019-10-03\", \"2019-10-16\", \"2019-10-29\", \"2019-11-05\", \"2019-11-13\", \"2019-11-28\", \"2019-12-22\", \"2020-01-13\", \"2020-02-07\", \"2020-02-25\", \"2020-03-10\", \"2020-03-24\", \"2020-04-07\", \"2020-05-12\", \"2020-06-02\", \"2020-06-19\"], \"y\": [1174656, 1168590, 1165955, 1164850, 1165377, 1152924, 1205310, 1161597, 1172013, 1112887, 1085096, 1087320, 1093668, 1096903, 1105101, 1090731, 1098903, 1083317, 1097597, 1092064, 1087873, 1096881, 1078443, 1084287, 1079028, 1084552, 1091351, 1096628, 1100949, 1093466, 1088416, 1082628, 1078814, 1086325, 1079211, 1080408, 1085747, 1087814, 1093470, 1089566, 1078354, 1072989, 1072816, 1082488, 1092217, 1088293, 1081434, 1092551, 1075358, 1073026, 1071854, 1062642, 1068857, 1063898, 1047366, 1040497, 1060691, 1054731, 1072392]}, {\"marker\": {\"color\": \"#9467BD\"}, \"name\": \"EU/EEA responses with TP communication\", \"type\": \"bar\", \"width\": 0.35, \"x\": [\"2018-02-07\", \"2018-02-09\", \"2018-02-14\", \"2018-03-21\", \"2018-03-29\", \"2018-04-09\", \"2018-04-17\", \"2018-05-05\", \"2018-05-19\", \"<b>2018-05-25</b>\", \"2018-05-29\", \"2018-06-01\", \"2018-06-07\", \"2018-06-12\", \"2018-06-18\", \"2018-07-06\", \"2018-07-17\", \"2018-08-03\", \"2018-08-31\", \"2018-09-06\", \"2018-09-11\", \"2018-09-21\", \"2018-10-09\", \"2018-10-31\", \"2018-11-07\", \"2018-11-19\", \"2018-12-10\", \"2019-01-30\", \"2019-02-21\", \"2019-03-12\", \"2019-03-27\", \"2019-04-05\", \"2019-04-12\", \"2019-04-24\", \"2019-05-01\", \"2019-05-27\", \"2019-05-29\", \"2019-06-14\", \"2019-06-28\", \"2019-07-12\", \"2019-08-05\", \"2019-09-02\", \"2019-09-20\", \"2019-10-03\", \"2019-10-16\", \"2019-10-29\", \"2019-11-05\", \"2019-11-13\", \"2019-11-28\", \"2019-12-22\", \"2020-01-13\", \"2020-02-07\", \"2020-02-25\", \"2020-03-10\", \"2020-03-24\", \"2020-04-07\", \"2020-05-12\", \"2020-06-02\", \"2020-06-19\"], \"y\": [738642, 732836, 729397, 733288, 734508, 724834, 779121, 733381, 742867, 687232, 660382, 660310, 669385, 671623, 678300, 665263, 674711, 663670, 676604, 671458, 667805, 677484, 661615, 668272, 664239, 670301, 678202, 679065, 683856, 678434, 673801, 667921, 664030, 672853, 666004, 667210, 676018, 679225, 683867, 681172, 672325, 667294, 666366, 674349, 682559, 678112, 673049, 681913, 669911, 660646, 660047, 652813, 654196, 653271, 634660, 632643, 649375, 642941, 659923]}],                        {\"annotations\": [{\"align\": \"center\", \"arrowcolor\": \"#636363\", \"arrowhead\": 2, \"arrowsize\": 1, \"arrowwidth\": 2, \"ax\": 20, \"ay\": -30, \"bgcolor\": \"#ff7f0e\", \"bordercolor\": \"#c7c7c7\", \"borderpad\": 4, \"borderwidth\": 2, \"font\": {\"color\": \"#ffffff\", \"family\": \"Courier New, monospace\", \"size\": 14}, \"opacity\": 0.8, \"showarrow\": true, \"text\": \"GDPR\", \"x\": 9, \"xref\": \"x\", \"y\": 1430000, \"yref\": \"y\"}], \"barmode\": \"overlay\", \"font\": {\"family\": \"Courier New, monospace\"}, \"legend\": {\"orientation\": \"h\", \"x\": 0.5, \"xanchor\": \"center\", \"y\": 1.02, \"yanchor\": \"bottom\"}, \"template\": {\"data\": {\"bar\": [{\"error_x\": {\"color\": \"#2a3f5f\"}, \"error_y\": {\"color\": \"#2a3f5f\"}, \"marker\": {\"line\": {\"color\": \"#E5ECF6\", \"width\": 0.5}}, \"type\": \"bar\"}], \"barpolar\": [{\"marker\": {\"line\": {\"color\": \"#E5ECF6\", \"width\": 0.5}}, \"type\": \"barpolar\"}], \"carpet\": [{\"aaxis\": {\"endlinecolor\": \"#2a3f5f\", \"gridcolor\": \"white\", \"linecolor\": \"white\", \"minorgridcolor\": \"white\", \"startlinecolor\": \"#2a3f5f\"}, \"baxis\": {\"endlinecolor\": \"#2a3f5f\", \"gridcolor\": \"white\", \"linecolor\": \"white\", \"minorgridcolor\": \"white\", \"startlinecolor\": \"#2a3f5f\"}, \"type\": \"carpet\"}], \"choropleth\": [{\"colorbar\": {\"outlinewidth\": 0, \"ticks\": \"\"}, \"type\": \"choropleth\"}], \"contour\": [{\"colorbar\": {\"outlinewidth\": 0, \"ticks\": \"\"}, \"colorscale\": [[0.0, \"#0d0887\"], [0.1111111111111111, \"#46039f\"], [0.2222222222222222, \"#7201a8\"], [0.3333333333333333, \"#9c179e\"], [0.4444444444444444, \"#bd3786\"], [0.5555555555555556, \"#d8576b\"], [0.6666666666666666, \"#ed7953\"], [0.7777777777777778, \"#fb9f3a\"], [0.8888888888888888, \"#fdca26\"], [1.0, \"#f0f921\"]], \"type\": \"contour\"}], \"contourcarpet\": [{\"colorbar\": {\"outlinewidth\": 0, \"ticks\": \"\"}, \"type\": \"contourcarpet\"}], \"heatmap\": [{\"colorbar\": {\"outlinewidth\": 0, \"ticks\": \"\"}, \"colorscale\": [[0.0, \"#0d0887\"], [0.1111111111111111, \"#46039f\"], [0.2222222222222222, \"#7201a8\"], [0.3333333333333333, \"#9c179e\"], [0.4444444444444444, \"#bd3786\"], [0.5555555555555556, \"#d8576b\"], [0.6666666666666666, \"#ed7953\"], [0.7777777777777778, \"#fb9f3a\"], [0.8888888888888888, \"#fdca26\"], [1.0, \"#f0f921\"]], \"type\": \"heatmap\"}], \"heatmapgl\": [{\"colorbar\": {\"outlinewidth\": 0, \"ticks\": \"\"}, \"colorscale\": [[0.0, \"#0d0887\"], [0.1111111111111111, \"#46039f\"], [0.2222222222222222, \"#7201a8\"], [0.3333333333333333, \"#9c179e\"], [0.4444444444444444, \"#bd3786\"], [0.5555555555555556, \"#d8576b\"], [0.6666666666666666, \"#ed7953\"], [0.7777777777777778, \"#fb9f3a\"], [0.8888888888888888, \"#fdca26\"], [1.0, \"#f0f921\"]], \"type\": \"heatmapgl\"}], \"histogram\": [{\"marker\": {\"colorbar\": {\"outlinewidth\": 0, \"ticks\": \"\"}}, \"type\": \"histogram\"}], \"histogram2d\": [{\"colorbar\": {\"outlinewidth\": 0, \"ticks\": \"\"}, \"colorscale\": [[0.0, \"#0d0887\"], [0.1111111111111111, \"#46039f\"], [0.2222222222222222, \"#7201a8\"], [0.3333333333333333, \"#9c179e\"], [0.4444444444444444, \"#bd3786\"], [0.5555555555555556, \"#d8576b\"], [0.6666666666666666, \"#ed7953\"], [0.7777777777777778, \"#fb9f3a\"], [0.8888888888888888, \"#fdca26\"], [1.0, \"#f0f921\"]], \"type\": \"histogram2d\"}], \"histogram2dcontour\": [{\"colorbar\": {\"outlinewidth\": 0, \"ticks\": \"\"}, \"colorscale\": [[0.0, \"#0d0887\"], [0.1111111111111111, \"#46039f\"], [0.2222222222222222, \"#7201a8\"], [0.3333333333333333, \"#9c179e\"], [0.4444444444444444, \"#bd3786\"], [0.5555555555555556, \"#d8576b\"], [0.6666666666666666, \"#ed7953\"], [0.7777777777777778, \"#fb9f3a\"], [0.8888888888888888, \"#fdca26\"], [1.0, \"#f0f921\"]], \"type\": \"histogram2dcontour\"}], \"mesh3d\": [{\"colorbar\": {\"outlinewidth\": 0, \"ticks\": \"\"}, \"type\": \"mesh3d\"}], \"parcoords\": [{\"line\": {\"colorbar\": {\"outlinewidth\": 0, \"ticks\": \"\"}}, \"type\": \"parcoords\"}], \"pie\": [{\"automargin\": true, \"type\": \"pie\"}], \"scatter\": [{\"marker\": {\"colorbar\": {\"outlinewidth\": 0, \"ticks\": \"\"}}, \"type\": \"scatter\"}], \"scatter3d\": [{\"line\": {\"colorbar\": {\"outlinewidth\": 0, \"ticks\": \"\"}}, \"marker\": {\"colorbar\": {\"outlinewidth\": 0, \"ticks\": \"\"}}, \"type\": \"scatter3d\"}], \"scattercarpet\": [{\"marker\": {\"colorbar\": {\"outlinewidth\": 0, \"ticks\": \"\"}}, \"type\": \"scattercarpet\"}], \"scattergeo\": [{\"marker\": {\"colorbar\": {\"outlinewidth\": 0, \"ticks\": \"\"}}, \"type\": \"scattergeo\"}], \"scattergl\": [{\"marker\": {\"colorbar\": {\"outlinewidth\": 0, \"ticks\": \"\"}}, \"type\": \"scattergl\"}], \"scattermapbox\": [{\"marker\": {\"colorbar\": {\"outlinewidth\": 0, \"ticks\": \"\"}}, \"type\": \"scattermapbox\"}], \"scatterpolar\": [{\"marker\": {\"colorbar\": {\"outlinewidth\": 0, \"ticks\": \"\"}}, \"type\": \"scatterpolar\"}], \"scatterpolargl\": [{\"marker\": {\"colorbar\": {\"outlinewidth\": 0, \"ticks\": \"\"}}, \"type\": \"scatterpolargl\"}], \"scatterternary\": [{\"marker\": {\"colorbar\": {\"outlinewidth\": 0, \"ticks\": \"\"}}, \"type\": \"scatterternary\"}], \"surface\": [{\"colorbar\": {\"outlinewidth\": 0, \"ticks\": \"\"}, \"colorscale\": [[0.0, \"#0d0887\"], [0.1111111111111111, \"#46039f\"], [0.2222222222222222, \"#7201a8\"], [0.3333333333333333, \"#9c179e\"], [0.4444444444444444, \"#bd3786\"], [0.5555555555555556, \"#d8576b\"], [0.6666666666666666, \"#ed7953\"], [0.7777777777777778, \"#fb9f3a\"], [0.8888888888888888, \"#fdca26\"], [1.0, \"#f0f921\"]], \"type\": \"surface\"}], \"table\": [{\"cells\": {\"fill\": {\"color\": \"#EBF0F8\"}, \"line\": {\"color\": \"white\"}}, \"header\": {\"fill\": {\"color\": \"#C8D4E3\"}, \"line\": {\"color\": \"white\"}}, \"type\": \"table\"}]}, \"layout\": {\"annotationdefaults\": {\"arrowcolor\": \"#2a3f5f\", \"arrowhead\": 0, \"arrowwidth\": 1}, \"autotypenumbers\": \"strict\", \"coloraxis\": {\"colorbar\": {\"outlinewidth\": 0, \"ticks\": \"\"}}, \"colorscale\": {\"diverging\": [[0, \"#8e0152\"], [0.1, \"#c51b7d\"], [0.2, \"#de77ae\"], [0.3, \"#f1b6da\"], [0.4, \"#fde0ef\"], [0.5, \"#f7f7f7\"], [0.6, \"#e6f5d0\"], [0.7, \"#b8e186\"], [0.8, \"#7fbc41\"], [0.9, \"#4d9221\"], [1, \"#276419\"]], \"sequential\": [[0.0, \"#0d0887\"], [0.1111111111111111, \"#46039f\"], [0.2222222222222222, \"#7201a8\"], [0.3333333333333333, \"#9c179e\"], [0.4444444444444444, \"#bd3786\"], [0.5555555555555556, \"#d8576b\"], [0.6666666666666666, \"#ed7953\"], [0.7777777777777778, \"#fb9f3a\"], [0.8888888888888888, \"#fdca26\"], [1.0, \"#f0f921\"]], \"sequentialminus\": [[0.0, \"#0d0887\"], [0.1111111111111111, \"#46039f\"], [0.2222222222222222, \"#7201a8\"], [0.3333333333333333, \"#9c179e\"], [0.4444444444444444, \"#bd3786\"], [0.5555555555555556, \"#d8576b\"], [0.6666666666666666, \"#ed7953\"], [0.7777777777777778, \"#fb9f3a\"], [0.8888888888888888, \"#fdca26\"], [1.0, \"#f0f921\"]]}, \"colorway\": [\"#636efa\", \"#EF553B\", \"#00cc96\", \"#ab63fa\", \"#FFA15A\", \"#19d3f3\", \"#FF6692\", \"#B6E880\", \"#FF97FF\", \"#FECB52\"], \"font\": {\"color\": \"#2a3f5f\"}, \"geo\": {\"bgcolor\": \"white\", \"lakecolor\": \"white\", \"landcolor\": \"#E5ECF6\", \"showlakes\": true, \"showland\": true, \"subunitcolor\": \"white\"}, \"hoverlabel\": {\"align\": \"left\"}, \"hovermode\": \"closest\", \"mapbox\": {\"style\": \"light\"}, \"paper_bgcolor\": \"white\", \"plot_bgcolor\": \"#E5ECF6\", \"polar\": {\"angularaxis\": {\"gridcolor\": \"white\", \"linecolor\": \"white\", \"ticks\": \"\"}, \"bgcolor\": \"#E5ECF6\", \"radialaxis\": {\"gridcolor\": \"white\", \"linecolor\": \"white\", \"ticks\": \"\"}}, \"scene\": {\"xaxis\": {\"backgroundcolor\": \"#E5ECF6\", \"gridcolor\": \"white\", \"gridwidth\": 2, \"linecolor\": \"white\", \"showbackground\": true, \"ticks\": \"\", \"zerolinecolor\": \"white\"}, \"yaxis\": {\"backgroundcolor\": \"#E5ECF6\", \"gridcolor\": \"white\", \"gridwidth\": 2, \"linecolor\": \"white\", \"showbackground\": true, \"ticks\": \"\", \"zerolinecolor\": \"white\"}, \"zaxis\": {\"backgroundcolor\": \"#E5ECF6\", \"gridcolor\": \"white\", \"gridwidth\": 2, \"linecolor\": \"white\", \"showbackground\": true, \"ticks\": \"\", \"zerolinecolor\": \"white\"}}, \"shapedefaults\": {\"line\": {\"color\": \"#2a3f5f\"}}, \"ternary\": {\"aaxis\": {\"gridcolor\": \"white\", \"linecolor\": \"white\", \"ticks\": \"\"}, \"baxis\": {\"gridcolor\": \"white\", \"linecolor\": \"white\", \"ticks\": \"\"}, \"bgcolor\": \"#E5ECF6\", \"caxis\": {\"gridcolor\": \"white\", \"linecolor\": \"white\", \"ticks\": \"\"}}, \"title\": {\"x\": 0.05}, \"xaxis\": {\"automargin\": true, \"gridcolor\": \"white\", \"linecolor\": \"white\", \"ticks\": \"\", \"title\": {\"standoff\": 15}, \"zerolinecolor\": \"white\", \"zerolinewidth\": 2}, \"yaxis\": {\"automargin\": true, \"gridcolor\": \"white\", \"linecolor\": \"white\", \"ticks\": \"\", \"title\": {\"standoff\": 15}, \"zerolinecolor\": \"white\", \"zerolinewidth\": 2}}}, \"title\": {\"font\": {\"size\": 20}, \"text\": \"Number of <i>total</i>, <i>EU/EEA</i>, and <i>EU/EEA TP visited site responses</i> per harvest<br>\", \"x\": 0.5, \"xanchor\": \"center\", \"y\": 0.9, \"yanchor\": \"top\"}, \"xaxis\": {\"tickvals\": [\"2018-02-07\", \"2018-02-09\", \"2018-02-14\", \"2018-03-21\", \"2018-03-29\", \"2018-04-09\", \"2018-04-17\", \"2018-05-05\", \"2018-05-19\", \"<b>2018-05-25</b>\", \"2018-05-29\", \"2018-06-01\", \"2018-06-07\", \"2018-06-12\", \"2018-06-18\", \"2018-07-06\", \"2018-07-17\", \"2018-08-03\", \"2018-08-31\", \"2018-09-06\", \"2018-09-11\", \"2018-09-21\", \"2018-10-09\", \"2018-10-31\", \"2018-11-07\", \"2018-11-19\", \"2018-12-10\", \"2019-01-30\", \"2019-02-21\", \"2019-03-12\", \"2019-03-27\", \"2019-04-05\", \"2019-04-12\", \"2019-04-24\", \"2019-05-01\", \"2019-05-27\", \"2019-05-29\", \"2019-06-14\", \"2019-06-28\", \"2019-07-12\", \"2019-08-05\", \"2019-09-02\", \"2019-09-20\", \"2019-10-03\", \"2019-10-16\", \"2019-10-29\", \"2019-11-05\", \"2019-11-13\", \"2019-11-28\", \"2019-12-22\", \"2020-01-13\", \"2020-02-07\", \"2020-02-25\", \"2020-03-10\", \"2020-03-24\", \"2020-04-07\", \"2020-05-12\", \"2020-06-02\", \"2020-06-19\"], \"type\": \"category\"}, \"yaxis\": {\"title\": {\"text\": \"Number of <b>responses</b>\"}}},                        {\"responsive\": true}                    ).then(function(){\n",
       "                            \n",
       "var gd = document.getElementById('0e6223f5-6b1a-4cb8-806e-3b2db8fc6213');\n",
       "var x = new MutationObserver(function (mutations, observer) {{\n",
       "        var display = window.getComputedStyle(gd).display;\n",
       "        if (!display || display === 'none') {{\n",
       "            console.log([gd, 'removed!']);\n",
       "            Plotly.purge(gd);\n",
       "            observer.disconnect();\n",
       "        }}\n",
       "}});\n",
       "\n",
       "// Listen for the removal of the full notebook cells\n",
       "var notebookContainer = gd.closest('#notebook-container');\n",
       "if (notebookContainer) {{\n",
       "    x.observe(notebookContainer, {childList: true});\n",
       "}}\n",
       "\n",
       "// Listen for the clearing of the current output cell\n",
       "var outputEl = gd.closest('.output');\n",
       "if (outputEl) {{\n",
       "    x.observe(outputEl, {childList: true});\n",
       "}}\n",
       "\n",
       "                        })                };                });            </script>        </div>"
      ]
     },
     "metadata": {},
     "output_type": "display_data"
    }
   ],
   "source": [
    "# Choose a color palette\n",
    "colors = ['#1F77B4', '#FF7F0E', '#9467BD']\n",
    "palette = cycle(colors)\n",
    "\n",
    "# Initialie figure\n",
    "fig = go.Figure()\n",
    "\n",
    "# Add traces\n",
    "fig.add_trace(\n",
    "    go.Bar(name='All responses',\n",
    "           x=df_dates['date'],\n",
    "           y=df_res['total_res'],\n",
    "           marker_color=next(palette)\n",
    "          )\n",
    ")\n",
    "\n",
    "fig.add_trace(\n",
    "    go.Bar(name='All EU/EEA responses',\n",
    "           x=df_dates['date'],\n",
    "           y=df_res['total_res_EU'],\n",
    "           width=0.5,\n",
    "           marker_color=next(palette)\n",
    "          )\n",
    ")\n",
    "\n",
    "fig.add_trace(\n",
    "    go.Bar(name='EU/EEA responses with TP communication',\n",
    "           x=df_dates['date'],\n",
    "           y=df_res['total_res_EU_FT_TP'],\n",
    "           width=0.35,\n",
    "           marker_color=next(palette)\n",
    "          )\n",
    ")\n",
    "\n",
    "# Make x-axis categorical\n",
    "fig.update_xaxes(type='category')\n",
    "\n",
    "# Use date values from DF for x-axis \n",
    "fig.update_xaxes(tickvals=df_dates['date'])\n",
    "\n",
    "# Set the mode\n",
    "fig.update_layout(barmode='overlay')\n",
    "\n",
    "# Set y-axis title\n",
    "fig.update_yaxes(title_text=\"Number of <b>responses</b>\")\n",
    "\n",
    "# Add centered figure title, set the legent and font\n",
    "fig.update_layout(\n",
    "    title=\n",
    "    {\n",
    "       'text': \"Number of <i>total</i>, <i>EU/EEA</i>, and <i>EU/EEA TP visited site responses</i> per harvest<br>\",\n",
    "       'y':0.9,\n",
    "        'x':0.5,\n",
    "        'xanchor': 'center',\n",
    "        'yanchor': 'top',\n",
    "        'font':dict(size=20)},\n",
    "    font=dict(\n",
    "        family=\"Courier New, monospace\",\n",
    "    ),\n",
    ")\n",
    "\n",
    "# Add annotation\n",
    "fig.add_annotation(\n",
    "        x=9,\n",
    "        y=1430000,\n",
    "        xref=\"x\",\n",
    "        yref=\"y\",\n",
    "        text=\"GDPR\",\n",
    "        showarrow=True,\n",
    "        font=dict(\n",
    "            family=\"Courier New, monospace\",\n",
    "            size=14,\n",
    "            color=\"#ffffff\"\n",
    "            ),\n",
    "        align=\"center\",\n",
    "        arrowhead=2,\n",
    "        arrowsize=1,\n",
    "        arrowwidth=2,\n",
    "        arrowcolor=\"#636363\",\n",
    "        ax=20,\n",
    "        ay=-30,\n",
    "        bordercolor=\"#c7c7c7\",\n",
    "        borderwidth=2,\n",
    "        borderpad=4,\n",
    "        bgcolor=\"#ff7f0e\",\n",
    "        opacity=0.8\n",
    "        )\n",
    "\n",
    "# Change legend location\n",
    "fig.update_layout(\n",
    "    legend=dict(\n",
    "        orientation=\"h\",\n",
    "        yanchor=\"bottom\",\n",
    "        y=1.02,\n",
    "        xanchor=\"center\",\n",
    "        x=0.5\n",
    "    ),\n",
    ")\n",
    "\n",
    "# Set plot size - Use when also exporting\n",
    "#fig.update_layout(\n",
    "#    autosize=False,\n",
    "#    width=1100,\n",
    "#    height=600,\n",
    "#    )\n",
    "\n",
    "# Plot \n",
    "iplot(fig)"
   ]
  },
  {
   "cell_type": "code",
   "execution_count": 7,
   "metadata": {},
   "outputs": [],
   "source": [
    "# Export\n",
    "fig.write_image(\"/home/ubuntu/Plots/FIG_1.pdf\")"
   ]
  }
 ],
 "metadata": {
  "kernelspec": {
   "display_name": "Python 3",
   "language": "python",
   "name": "python3"
  },
  "language_info": {
   "codemirror_mode": {
    "name": "ipython",
    "version": 3
   },
   "file_extension": ".py",
   "mimetype": "text/x-python",
   "name": "python",
   "nbconvert_exporter": "python",
   "pygments_lexer": "ipython3",
   "version": "3.8.3"
  }
 },
 "nbformat": 4,
 "nbformat_minor": 4
}

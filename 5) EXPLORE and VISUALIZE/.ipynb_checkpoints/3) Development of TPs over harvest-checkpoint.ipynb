{
 "cells": [
  {
   "cell_type": "markdown",
   "metadata": {},
   "source": [
    "# Development of TPs over harvest\n",
    "Status of TPs over harvesting period:\n",
    "\n",
    "   - **Active** - TPs which are present at the current harvest and are not incative or present in all previous harvests\n",
    "   - **Same** - TPs which are present in current and all previous harvests\n",
    "   - **Inactive** - TPs which were present in any of the previous harvests but are not present in the current one    "
   ]
  },
  {
   "cell_type": "markdown",
   "metadata": {},
   "source": [
    "    – input data: all unique responses per harvest (.csv)\n",
    "    – output plot: combined bar and line chart with number of unique TPs on y-axis and harvest date on x-axis\n",
    "    – purpose: Visualise the development of the number of TPs over harvests including the TPs active in all previous harvests, and TPs not anymore active. This offers a view on how much the total number of TPs fluctuates and if it is mostly the same TPs present across harvests or they die out and new ones appear."
   ]
  },
  {
   "cell_type": "code",
   "execution_count": 1,
   "metadata": {},
   "outputs": [],
   "source": [
    "# Import\n",
    "import pandas as pd\n",
    "import os\n",
    "import plotly.graph_objects as go\n",
    "from plotly.offline import download_plotlyjs, init_notebook_mode, plot, iplot\n",
    "from itertools import cycle\n",
    "import plotly.express as px\n",
    "\n",
    "from plotly.subplots import make_subplots"
   ]
  },
  {
   "cell_type": "code",
   "execution_count": 2,
   "metadata": {},
   "outputs": [
    {
     "data": {
      "text/html": [
       "        <script type=\"text/javascript\">\n",
       "        window.PlotlyConfig = {MathJaxConfig: 'local'};\n",
       "        if (window.MathJax) {MathJax.Hub.Config({SVG: {font: \"STIX-Web\"}});}\n",
       "        if (typeof require !== 'undefined') {\n",
       "        require.undef(\"plotly\");\n",
       "        requirejs.config({\n",
       "            paths: {\n",
       "                'plotly': ['https://cdn.plot.ly/plotly-latest.min']\n",
       "            }\n",
       "        });\n",
       "        require(['plotly'], function(Plotly) {\n",
       "            window._Plotly = Plotly;\n",
       "        });\n",
       "        }\n",
       "        </script>\n",
       "        "
      ]
     },
     "metadata": {},
     "output_type": "display_data"
    }
   ],
   "source": [
    "# Jupyter setup\n",
    "init_notebook_mode(connected=True)"
   ]
  },
  {
   "cell_type": "code",
   "execution_count": 3,
   "metadata": {},
   "outputs": [
    {
     "data": {
      "text/html": [
       "<div>\n",
       "<style scoped>\n",
       "    .dataframe tbody tr th:only-of-type {\n",
       "        vertical-align: middle;\n",
       "    }\n",
       "\n",
       "    .dataframe tbody tr th {\n",
       "        vertical-align: top;\n",
       "    }\n",
       "\n",
       "    .dataframe thead th {\n",
       "        text-align: right;\n",
       "    }\n",
       "</style>\n",
       "<table border=\"1\" class=\"dataframe\">\n",
       "  <thead>\n",
       "    <tr style=\"text-align: right;\">\n",
       "      <th></th>\n",
       "      <th>date</th>\n",
       "    </tr>\n",
       "  </thead>\n",
       "  <tbody>\n",
       "    <tr>\n",
       "      <th>0</th>\n",
       "      <td>2018-02-07</td>\n",
       "    </tr>\n",
       "    <tr>\n",
       "      <th>1</th>\n",
       "      <td>2018-02-09</td>\n",
       "    </tr>\n",
       "    <tr>\n",
       "      <th>2</th>\n",
       "      <td>2018-02-14</td>\n",
       "    </tr>\n",
       "    <tr>\n",
       "      <th>3</th>\n",
       "      <td>2018-03-21</td>\n",
       "    </tr>\n",
       "    <tr>\n",
       "      <th>4</th>\n",
       "      <td>2018-03-29</td>\n",
       "    </tr>\n",
       "  </tbody>\n",
       "</table>\n",
       "</div>"
      ],
      "text/plain": [
       "         date\n",
       "0  2018-02-07\n",
       "1  2018-02-09\n",
       "2  2018-02-14\n",
       "3  2018-03-21\n",
       "4  2018-03-29"
      ]
     },
     "execution_count": 3,
     "metadata": {},
     "output_type": "execute_result"
    }
   ],
   "source": [
    "# Load harvest dates\n",
    "dates_path = '/home/ubuntu/data/processed/crawls/response_enriched/analysis_v.3/'\n",
    "dates_name = 'harvest_DATES.csv'\n",
    "df_dates = pd.read_csv(dates_path+dates_name)\n",
    "\n",
    "# Adjust and filter \n",
    "df_dates.reset_index(inplace=True)\n",
    "del df_dates['Unnamed: 0']\n",
    "del df_dates['index']\n",
    "df_dates.head()"
   ]
  },
  {
   "cell_type": "code",
   "execution_count": 4,
   "metadata": {},
   "outputs": [
    {
     "name": "stdout",
     "output_type": "stream",
     "text": [
      "DONE\n"
     ]
    },
    {
     "data": {
      "text/html": [
       "<div>\n",
       "<style scoped>\n",
       "    .dataframe tbody tr th:only-of-type {\n",
       "        vertical-align: middle;\n",
       "    }\n",
       "\n",
       "    .dataframe tbody tr th {\n",
       "        vertical-align: top;\n",
       "    }\n",
       "\n",
       "    .dataframe thead th {\n",
       "        text-align: right;\n",
       "    }\n",
       "</style>\n",
       "<table border=\"1\" class=\"dataframe\">\n",
       "  <thead>\n",
       "    <tr style=\"text-align: right;\">\n",
       "      <th></th>\n",
       "      <th>active</th>\n",
       "      <th>sum_inactive</th>\n",
       "      <th>sum_same_active</th>\n",
       "      <th>current_TPs</th>\n",
       "    </tr>\n",
       "  </thead>\n",
       "  <tbody>\n",
       "    <tr>\n",
       "      <th>2018-02-07</th>\n",
       "      <td>0</td>\n",
       "      <td>0</td>\n",
       "      <td>3047</td>\n",
       "      <td>3047</td>\n",
       "    </tr>\n",
       "    <tr>\n",
       "      <th>2018-02-09</th>\n",
       "      <td>143</td>\n",
       "      <td>124</td>\n",
       "      <td>2923</td>\n",
       "      <td>3066</td>\n",
       "    </tr>\n",
       "    <tr>\n",
       "      <th>2018-02-14</th>\n",
       "      <td>236</td>\n",
       "      <td>230</td>\n",
       "      <td>2840</td>\n",
       "      <td>3076</td>\n",
       "    </tr>\n",
       "    <tr>\n",
       "      <th>2018-03-21</th>\n",
       "      <td>395</td>\n",
       "      <td>457</td>\n",
       "      <td>2641</td>\n",
       "      <td>3036</td>\n",
       "    </tr>\n",
       "    <tr>\n",
       "      <th>2018-03-29</th>\n",
       "      <td>441</td>\n",
       "      <td>541</td>\n",
       "      <td>2586</td>\n",
       "      <td>3027</td>\n",
       "    </tr>\n",
       "  </tbody>\n",
       "</table>\n",
       "</div>"
      ],
      "text/plain": [
       "            active  sum_inactive  sum_same_active  current_TPs\n",
       "2018-02-07       0             0             3047         3047\n",
       "2018-02-09     143           124             2923         3066\n",
       "2018-02-14     236           230             2840         3076\n",
       "2018-03-21     395           457             2641         3036\n",
       "2018-03-29     441           541             2586         3027"
      ]
     },
     "execution_count": 4,
     "metadata": {},
     "output_type": "execute_result"
    }
   ],
   "source": [
    "# Define path for data\n",
    "f_path = '/home/ubuntu/data/processed/TPs/responses_EU/'\n",
    "\n",
    "# Create a starting DF\n",
    "df_TPs = pd.DataFrame(index=['active', 'sum_inactive', 'sum_same_active', 'current_TPs'])\n",
    "\n",
    "\n",
    "# Load and process the first harvest\n",
    "df_first_harvest = pd.read_csv(f_path + 'EU-RES-' + df_dates['date'][0] + '.csv', header=None)\n",
    "first_harvest_new_TPs = len(df_first_harvest)\n",
    "first_and_second_TPs_combined = df_first_harvest[0]\n",
    "df_TPs[df_dates['date'][0]] = [0,0, first_harvest_new_TPs, first_harvest_new_TPs]\n",
    "\n",
    "# Create variables\n",
    "first_inactive_list = pd.Series(dtype='str')\n",
    "sum_inactive = 0\n",
    "\n",
    "# Loop through all harvests\n",
    "for i in range(len(df_dates)):\n",
    "    if i==58:\n",
    "        break\n",
    "        \n",
    "    # Load data to DF\n",
    "    date_first = df_dates['date'][i]\n",
    "    date_second = df_dates['date'][i+1]\n",
    "    f_name_first = 'EU-RES-' + str(date_first) + '.csv'\n",
    "    f_name_second = 'EU-RES-' + str(date_second) + '.csv'\n",
    "    df_first = pd.read_csv(f_path + f_name_first, header=None)\n",
    "    df_second = pd.read_csv(f_path + f_name_second, header=None)\n",
    "    \n",
    "    # Compare the previous and new TPs and find those appearing in both harvests\n",
    "    first_TPs = first_and_second_TPs_combined\n",
    "    second_TPs = df_second[0]\n",
    "    first_and_second_TPs = set(first_TPs) & set(second_TPs)\n",
    "    sum_same_active = len(first_and_second_TPs)\n",
    "    \n",
    "    # Create series from DFs and find their lenght\n",
    "    s_first = df_first[0]\n",
    "    s_second = df_second[0]\n",
    "    first_lenght = len(s_first)\n",
    "    second_lenght = len(s_second)\n",
    "    \n",
    "    # Calculate the number of new, inactive and same TPs\n",
    "    same_TPs = len(s_second[s_second.isin(s_first)])\n",
    "    new_TPs = second_lenght - same_TPs\n",
    "    incative_TPs = first_lenght - same_TPs\n",
    "    sum_same_active = len(first_and_second_TPs)\n",
    "    active = same_TPs - sum_same_active + new_TPs\n",
    "    current_TPs = sum_same_active + active\n",
    "    \n",
    "    # Find out which TPs from first harvest series are not in second -> find inactive TPs from second harvest\n",
    "    second_inactive_list = s_first[~s_first.isin(s_second)]\n",
    "\n",
    "    # Find out which TPs are newly inactive\n",
    "    new_inactive = second_inactive_list[~second_inactive_list.isin(first_inactive_list)]\n",
    "    \n",
    "    # Find out which TPs are still inactive\n",
    "    still_inactive = first_inactive_list[~first_inactive_list.isin(s_second)]\n",
    "    \n",
    "    # Merge new and still inactive\n",
    "    all_inactive = new_inactive.append(still_inactive, ignore_index=True)\n",
    "    sum_inactive = len(all_inactive)\n",
    "    \n",
    "    # Create a new column in DF for harvest\n",
    "    df_TPs[df_dates['date'][i+1]] = [active, sum_inactive, sum_same_active, current_TPs]\n",
    "    \n",
    "    # Prepare new inactive list for next iteration\n",
    "    first_inactive_list = all_inactive\n",
    "\n",
    "    # Prepare new combined TPs for next iteration\n",
    "    first_and_second_TPs_combined = first_and_second_TPs\n",
    "    \n",
    "print('DONE')\n",
    "\n",
    "# Transponse DF\n",
    "df_TPs = df_TPs.T\n",
    "df_TPs.head()    "
   ]
  },
  {
   "cell_type": "code",
   "execution_count": 5,
   "metadata": {},
   "outputs": [
    {
     "data": {
      "text/plain": [
       "1265"
      ]
     },
     "execution_count": 5,
     "metadata": {},
     "output_type": "execute_result"
    }
   ],
   "source": [
    "# Number of TPs appearing in every harvest\n",
    "TPs_everywhere = len(first_and_second_TPs_combined)\n",
    "TPs_everywhere"
   ]
  },
  {
   "cell_type": "code",
   "execution_count": 6,
   "metadata": {},
   "outputs": [],
   "source": [
    "# Create new column with the number of TPs appearing in all harvests\n",
    "df_TPs['TPs_everywhere'] = TPs_everywhere"
   ]
  },
  {
   "cell_type": "code",
   "execution_count": 7,
   "metadata": {},
   "outputs": [],
   "source": [
    "# Make GDPR harvest date bold\n",
    "df_dates.at[9, 'date'] = '<b>2018-05-25</b>'"
   ]
  },
  {
   "cell_type": "code",
   "execution_count": 9,
   "metadata": {},
   "outputs": [
    {
     "data": {
      "application/vnd.plotly.v1+json": {
       "config": {
        "linkText": "Export to plot.ly",
        "plotlyServerURL": "https://plot.ly",
        "showLink": false
       },
       "data": [
        {
         "marker": {
          "color": "#FF6692"
         },
         "name": "TPs appearing in current and all previous harvests",
         "type": "bar",
         "x": [
          "2018-02-07",
          "2018-02-09",
          "2018-02-14",
          "2018-03-21",
          "2018-03-29",
          "2018-04-09",
          "2018-04-17",
          "2018-05-05",
          "2018-05-19",
          "<b>2018-05-25</b>",
          "2018-05-29",
          "2018-06-01",
          "2018-06-07",
          "2018-06-12",
          "2018-06-18",
          "2018-07-06",
          "2018-07-17",
          "2018-08-03",
          "2018-08-31",
          "2018-09-06",
          "2018-09-11",
          "2018-09-21",
          "2018-10-09",
          "2018-10-31",
          "2018-11-07",
          "2018-11-19",
          "2018-12-10",
          "2019-01-30",
          "2019-02-21",
          "2019-03-12",
          "2019-03-27",
          "2019-04-05",
          "2019-04-12",
          "2019-04-24",
          "2019-05-01",
          "2019-05-27",
          "2019-05-29",
          "2019-06-14",
          "2019-06-28",
          "2019-07-12",
          "2019-08-05",
          "2019-09-02",
          "2019-09-20",
          "2019-10-03",
          "2019-10-16",
          "2019-10-29",
          "2019-11-05",
          "2019-11-13",
          "2019-11-28",
          "2019-12-22",
          "2020-01-13",
          "2020-02-07",
          "2020-02-25",
          "2020-03-10",
          "2020-03-24",
          "2020-04-07",
          "2020-05-12",
          "2020-06-02",
          "2020-06-19"
         ],
         "y": [
          3047,
          2923,
          2840,
          2641,
          2586,
          2526,
          2501,
          2431,
          2389,
          2323,
          2284,
          2239,
          2216,
          2203,
          2183,
          2147,
          2115,
          2085,
          2039,
          2032,
          2016,
          1996,
          1963,
          1921,
          1905,
          1887,
          1853,
          1785,
          1757,
          1728,
          1704,
          1691,
          1674,
          1661,
          1655,
          1629,
          1623,
          1603,
          1587,
          1575,
          1559,
          1533,
          1509,
          1498,
          1478,
          1468,
          1463,
          1460,
          1448,
          1425,
          1414,
          1383,
          1365,
          1347,
          1338,
          1325,
          1309,
          1288,
          1265
         ]
        },
        {
         "marker": {
          "color": "#B6E880"
         },
         "name": "Varying active TPs",
         "type": "bar",
         "x": [
          "2018-02-07",
          "2018-02-09",
          "2018-02-14",
          "2018-03-21",
          "2018-03-29",
          "2018-04-09",
          "2018-04-17",
          "2018-05-05",
          "2018-05-19",
          "<b>2018-05-25</b>",
          "2018-05-29",
          "2018-06-01",
          "2018-06-07",
          "2018-06-12",
          "2018-06-18",
          "2018-07-06",
          "2018-07-17",
          "2018-08-03",
          "2018-08-31",
          "2018-09-06",
          "2018-09-11",
          "2018-09-21",
          "2018-10-09",
          "2018-10-31",
          "2018-11-07",
          "2018-11-19",
          "2018-12-10",
          "2019-01-30",
          "2019-02-21",
          "2019-03-12",
          "2019-03-27",
          "2019-04-05",
          "2019-04-12",
          "2019-04-24",
          "2019-05-01",
          "2019-05-27",
          "2019-05-29",
          "2019-06-14",
          "2019-06-28",
          "2019-07-12",
          "2019-08-05",
          "2019-09-02",
          "2019-09-20",
          "2019-10-03",
          "2019-10-16",
          "2019-10-29",
          "2019-11-05",
          "2019-11-13",
          "2019-11-28",
          "2019-12-22",
          "2020-01-13",
          "2020-02-07",
          "2020-02-25",
          "2020-03-10",
          "2020-03-24",
          "2020-04-07",
          "2020-05-12",
          "2020-06-02",
          "2020-06-19"
         ],
         "y": [
          0,
          143,
          236,
          395,
          441,
          501,
          575,
          628,
          704,
          684,
          695,
          670,
          718,
          743,
          764,
          798,
          813,
          826,
          866,
          907,
          869,
          884,
          934,
          1017,
          1022,
          1012,
          1068,
          1108,
          1138,
          1100,
          1206,
          1190,
          1192,
          1244,
          1201,
          1285,
          1270,
          1286,
          1319,
          1287,
          1263,
          1309,
          1303,
          1342,
          1357,
          1364,
          1375,
          1376,
          1415,
          1428,
          1424,
          1421,
          1431,
          1418,
          1439,
          1407,
          1455,
          1519,
          1516
         ]
        },
        {
         "marker": {
          "color": "#7F7F7F"
         },
         "name": "Overall inactive TPs",
         "type": "bar",
         "x": [
          "2018-02-07",
          "2018-02-09",
          "2018-02-14",
          "2018-03-21",
          "2018-03-29",
          "2018-04-09",
          "2018-04-17",
          "2018-05-05",
          "2018-05-19",
          "<b>2018-05-25</b>",
          "2018-05-29",
          "2018-06-01",
          "2018-06-07",
          "2018-06-12",
          "2018-06-18",
          "2018-07-06",
          "2018-07-17",
          "2018-08-03",
          "2018-08-31",
          "2018-09-06",
          "2018-09-11",
          "2018-09-21",
          "2018-10-09",
          "2018-10-31",
          "2018-11-07",
          "2018-11-19",
          "2018-12-10",
          "2019-01-30",
          "2019-02-21",
          "2019-03-12",
          "2019-03-27",
          "2019-04-05",
          "2019-04-12",
          "2019-04-24",
          "2019-05-01",
          "2019-05-27",
          "2019-05-29",
          "2019-06-14",
          "2019-06-28",
          "2019-07-12",
          "2019-08-05",
          "2019-09-02",
          "2019-09-20",
          "2019-10-03",
          "2019-10-16",
          "2019-10-29",
          "2019-11-05",
          "2019-11-13",
          "2019-11-28",
          "2019-12-22",
          "2020-01-13",
          "2020-02-07",
          "2020-02-25",
          "2020-03-10",
          "2020-03-24",
          "2020-04-07",
          "2020-05-12",
          "2020-06-02",
          "2020-06-19"
         ],
         "y": [
          0,
          124,
          230,
          457,
          541,
          631,
          690,
          817,
          895,
          1019,
          1083,
          1189,
          1211,
          1232,
          1275,
          1358,
          1436,
          1506,
          1593,
          1596,
          1679,
          1720,
          1774,
          1815,
          1878,
          1967,
          2033,
          2186,
          2275,
          2399,
          2411,
          2486,
          2543,
          2556,
          2639,
          2669,
          2715,
          2789,
          2826,
          2914,
          3005,
          3063,
          3164,
          3197,
          3239,
          3283,
          3313,
          3348,
          3382,
          3469,
          3537,
          3640,
          3689,
          3784,
          3832,
          3924,
          3986,
          4013,
          4087
         ]
        },
        {
         "marker": {
          "color": "black"
         },
         "name": "TPs appearing in all harvests",
         "type": "scatter",
         "x": [
          "2018-02-07",
          "2018-02-09",
          "2018-02-14",
          "2018-03-21",
          "2018-03-29",
          "2018-04-09",
          "2018-04-17",
          "2018-05-05",
          "2018-05-19",
          "<b>2018-05-25</b>",
          "2018-05-29",
          "2018-06-01",
          "2018-06-07",
          "2018-06-12",
          "2018-06-18",
          "2018-07-06",
          "2018-07-17",
          "2018-08-03",
          "2018-08-31",
          "2018-09-06",
          "2018-09-11",
          "2018-09-21",
          "2018-10-09",
          "2018-10-31",
          "2018-11-07",
          "2018-11-19",
          "2018-12-10",
          "2019-01-30",
          "2019-02-21",
          "2019-03-12",
          "2019-03-27",
          "2019-04-05",
          "2019-04-12",
          "2019-04-24",
          "2019-05-01",
          "2019-05-27",
          "2019-05-29",
          "2019-06-14",
          "2019-06-28",
          "2019-07-12",
          "2019-08-05",
          "2019-09-02",
          "2019-09-20",
          "2019-10-03",
          "2019-10-16",
          "2019-10-29",
          "2019-11-05",
          "2019-11-13",
          "2019-11-28",
          "2019-12-22",
          "2020-01-13",
          "2020-02-07",
          "2020-02-25",
          "2020-03-10",
          "2020-03-24",
          "2020-04-07",
          "2020-05-12",
          "2020-06-02",
          "2020-06-19"
         ],
         "y": [
          1265,
          1265,
          1265,
          1265,
          1265,
          1265,
          1265,
          1265,
          1265,
          1265,
          1265,
          1265,
          1265,
          1265,
          1265,
          1265,
          1265,
          1265,
          1265,
          1265,
          1265,
          1265,
          1265,
          1265,
          1265,
          1265,
          1265,
          1265,
          1265,
          1265,
          1265,
          1265,
          1265,
          1265,
          1265,
          1265,
          1265,
          1265,
          1265,
          1265,
          1265,
          1265,
          1265,
          1265,
          1265,
          1265,
          1265,
          1265,
          1265,
          1265,
          1265,
          1265,
          1265,
          1265,
          1265,
          1265,
          1265,
          1265,
          1265
         ]
        },
        {
         "marker": {
          "color": "blue"
         },
         "name": "Number of TPs in current harvest",
         "type": "scatter",
         "x": [
          "2018-02-07",
          "2018-02-09",
          "2018-02-14",
          "2018-03-21",
          "2018-03-29",
          "2018-04-09",
          "2018-04-17",
          "2018-05-05",
          "2018-05-19",
          "<b>2018-05-25</b>",
          "2018-05-29",
          "2018-06-01",
          "2018-06-07",
          "2018-06-12",
          "2018-06-18",
          "2018-07-06",
          "2018-07-17",
          "2018-08-03",
          "2018-08-31",
          "2018-09-06",
          "2018-09-11",
          "2018-09-21",
          "2018-10-09",
          "2018-10-31",
          "2018-11-07",
          "2018-11-19",
          "2018-12-10",
          "2019-01-30",
          "2019-02-21",
          "2019-03-12",
          "2019-03-27",
          "2019-04-05",
          "2019-04-12",
          "2019-04-24",
          "2019-05-01",
          "2019-05-27",
          "2019-05-29",
          "2019-06-14",
          "2019-06-28",
          "2019-07-12",
          "2019-08-05",
          "2019-09-02",
          "2019-09-20",
          "2019-10-03",
          "2019-10-16",
          "2019-10-29",
          "2019-11-05",
          "2019-11-13",
          "2019-11-28",
          "2019-12-22",
          "2020-01-13",
          "2020-02-07",
          "2020-02-25",
          "2020-03-10",
          "2020-03-24",
          "2020-04-07",
          "2020-05-12",
          "2020-06-02",
          "2020-06-19"
         ],
         "y": [
          3047,
          3066,
          3076,
          3036,
          3027,
          3027,
          3076,
          3059,
          3093,
          3007,
          2979,
          2909,
          2934,
          2946,
          2947,
          2945,
          2928,
          2911,
          2905,
          2939,
          2885,
          2880,
          2897,
          2938,
          2927,
          2899,
          2921,
          2893,
          2895,
          2828,
          2910,
          2881,
          2866,
          2905,
          2856,
          2914,
          2893,
          2889,
          2906,
          2862,
          2822,
          2842,
          2812,
          2840,
          2835,
          2832,
          2838,
          2836,
          2863,
          2853,
          2838,
          2804,
          2796,
          2765,
          2777,
          2732,
          2764,
          2807,
          2781
         ]
        }
       ],
       "layout": {
        "annotations": [
         {
          "align": "center",
          "arrowcolor": "#636363",
          "arrowhead": 2,
          "arrowsize": 1,
          "arrowwidth": 2,
          "ax": 20,
          "ay": -30,
          "bgcolor": "#ff7f0e",
          "bordercolor": "#c7c7c7",
          "borderpad": 4,
          "borderwidth": 2,
          "font": {
           "color": "#ffffff",
           "family": "Courier New, monospace",
           "size": 14
          },
          "opacity": 0.8,
          "showarrow": true,
          "text": "GDPR",
          "x": 9,
          "xref": "x",
          "y": 4050,
          "yref": "y"
         }
        ],
        "barmode": "stack",
        "font": {
         "family": "Courier New, monospace"
        },
        "legend": {
         "orientation": "h",
         "traceorder": "normal",
         "x": 0.5,
         "xanchor": "center",
         "y": 1.02,
         "yanchor": "bottom"
        },
        "template": {
         "data": {
          "bar": [
           {
            "error_x": {
             "color": "#2a3f5f"
            },
            "error_y": {
             "color": "#2a3f5f"
            },
            "marker": {
             "line": {
              "color": "#E5ECF6",
              "width": 0.5
             }
            },
            "type": "bar"
           }
          ],
          "barpolar": [
           {
            "marker": {
             "line": {
              "color": "#E5ECF6",
              "width": 0.5
             }
            },
            "type": "barpolar"
           }
          ],
          "carpet": [
           {
            "aaxis": {
             "endlinecolor": "#2a3f5f",
             "gridcolor": "white",
             "linecolor": "white",
             "minorgridcolor": "white",
             "startlinecolor": "#2a3f5f"
            },
            "baxis": {
             "endlinecolor": "#2a3f5f",
             "gridcolor": "white",
             "linecolor": "white",
             "minorgridcolor": "white",
             "startlinecolor": "#2a3f5f"
            },
            "type": "carpet"
           }
          ],
          "choropleth": [
           {
            "colorbar": {
             "outlinewidth": 0,
             "ticks": ""
            },
            "type": "choropleth"
           }
          ],
          "contour": [
           {
            "colorbar": {
             "outlinewidth": 0,
             "ticks": ""
            },
            "colorscale": [
             [
              0,
              "#0d0887"
             ],
             [
              0.1111111111111111,
              "#46039f"
             ],
             [
              0.2222222222222222,
              "#7201a8"
             ],
             [
              0.3333333333333333,
              "#9c179e"
             ],
             [
              0.4444444444444444,
              "#bd3786"
             ],
             [
              0.5555555555555556,
              "#d8576b"
             ],
             [
              0.6666666666666666,
              "#ed7953"
             ],
             [
              0.7777777777777778,
              "#fb9f3a"
             ],
             [
              0.8888888888888888,
              "#fdca26"
             ],
             [
              1,
              "#f0f921"
             ]
            ],
            "type": "contour"
           }
          ],
          "contourcarpet": [
           {
            "colorbar": {
             "outlinewidth": 0,
             "ticks": ""
            },
            "type": "contourcarpet"
           }
          ],
          "heatmap": [
           {
            "colorbar": {
             "outlinewidth": 0,
             "ticks": ""
            },
            "colorscale": [
             [
              0,
              "#0d0887"
             ],
             [
              0.1111111111111111,
              "#46039f"
             ],
             [
              0.2222222222222222,
              "#7201a8"
             ],
             [
              0.3333333333333333,
              "#9c179e"
             ],
             [
              0.4444444444444444,
              "#bd3786"
             ],
             [
              0.5555555555555556,
              "#d8576b"
             ],
             [
              0.6666666666666666,
              "#ed7953"
             ],
             [
              0.7777777777777778,
              "#fb9f3a"
             ],
             [
              0.8888888888888888,
              "#fdca26"
             ],
             [
              1,
              "#f0f921"
             ]
            ],
            "type": "heatmap"
           }
          ],
          "heatmapgl": [
           {
            "colorbar": {
             "outlinewidth": 0,
             "ticks": ""
            },
            "colorscale": [
             [
              0,
              "#0d0887"
             ],
             [
              0.1111111111111111,
              "#46039f"
             ],
             [
              0.2222222222222222,
              "#7201a8"
             ],
             [
              0.3333333333333333,
              "#9c179e"
             ],
             [
              0.4444444444444444,
              "#bd3786"
             ],
             [
              0.5555555555555556,
              "#d8576b"
             ],
             [
              0.6666666666666666,
              "#ed7953"
             ],
             [
              0.7777777777777778,
              "#fb9f3a"
             ],
             [
              0.8888888888888888,
              "#fdca26"
             ],
             [
              1,
              "#f0f921"
             ]
            ],
            "type": "heatmapgl"
           }
          ],
          "histogram": [
           {
            "marker": {
             "colorbar": {
              "outlinewidth": 0,
              "ticks": ""
             }
            },
            "type": "histogram"
           }
          ],
          "histogram2d": [
           {
            "colorbar": {
             "outlinewidth": 0,
             "ticks": ""
            },
            "colorscale": [
             [
              0,
              "#0d0887"
             ],
             [
              0.1111111111111111,
              "#46039f"
             ],
             [
              0.2222222222222222,
              "#7201a8"
             ],
             [
              0.3333333333333333,
              "#9c179e"
             ],
             [
              0.4444444444444444,
              "#bd3786"
             ],
             [
              0.5555555555555556,
              "#d8576b"
             ],
             [
              0.6666666666666666,
              "#ed7953"
             ],
             [
              0.7777777777777778,
              "#fb9f3a"
             ],
             [
              0.8888888888888888,
              "#fdca26"
             ],
             [
              1,
              "#f0f921"
             ]
            ],
            "type": "histogram2d"
           }
          ],
          "histogram2dcontour": [
           {
            "colorbar": {
             "outlinewidth": 0,
             "ticks": ""
            },
            "colorscale": [
             [
              0,
              "#0d0887"
             ],
             [
              0.1111111111111111,
              "#46039f"
             ],
             [
              0.2222222222222222,
              "#7201a8"
             ],
             [
              0.3333333333333333,
              "#9c179e"
             ],
             [
              0.4444444444444444,
              "#bd3786"
             ],
             [
              0.5555555555555556,
              "#d8576b"
             ],
             [
              0.6666666666666666,
              "#ed7953"
             ],
             [
              0.7777777777777778,
              "#fb9f3a"
             ],
             [
              0.8888888888888888,
              "#fdca26"
             ],
             [
              1,
              "#f0f921"
             ]
            ],
            "type": "histogram2dcontour"
           }
          ],
          "mesh3d": [
           {
            "colorbar": {
             "outlinewidth": 0,
             "ticks": ""
            },
            "type": "mesh3d"
           }
          ],
          "parcoords": [
           {
            "line": {
             "colorbar": {
              "outlinewidth": 0,
              "ticks": ""
             }
            },
            "type": "parcoords"
           }
          ],
          "pie": [
           {
            "automargin": true,
            "type": "pie"
           }
          ],
          "scatter": [
           {
            "marker": {
             "colorbar": {
              "outlinewidth": 0,
              "ticks": ""
             }
            },
            "type": "scatter"
           }
          ],
          "scatter3d": [
           {
            "line": {
             "colorbar": {
              "outlinewidth": 0,
              "ticks": ""
             }
            },
            "marker": {
             "colorbar": {
              "outlinewidth": 0,
              "ticks": ""
             }
            },
            "type": "scatter3d"
           }
          ],
          "scattercarpet": [
           {
            "marker": {
             "colorbar": {
              "outlinewidth": 0,
              "ticks": ""
             }
            },
            "type": "scattercarpet"
           }
          ],
          "scattergeo": [
           {
            "marker": {
             "colorbar": {
              "outlinewidth": 0,
              "ticks": ""
             }
            },
            "type": "scattergeo"
           }
          ],
          "scattergl": [
           {
            "marker": {
             "colorbar": {
              "outlinewidth": 0,
              "ticks": ""
             }
            },
            "type": "scattergl"
           }
          ],
          "scattermapbox": [
           {
            "marker": {
             "colorbar": {
              "outlinewidth": 0,
              "ticks": ""
             }
            },
            "type": "scattermapbox"
           }
          ],
          "scatterpolar": [
           {
            "marker": {
             "colorbar": {
              "outlinewidth": 0,
              "ticks": ""
             }
            },
            "type": "scatterpolar"
           }
          ],
          "scatterpolargl": [
           {
            "marker": {
             "colorbar": {
              "outlinewidth": 0,
              "ticks": ""
             }
            },
            "type": "scatterpolargl"
           }
          ],
          "scatterternary": [
           {
            "marker": {
             "colorbar": {
              "outlinewidth": 0,
              "ticks": ""
             }
            },
            "type": "scatterternary"
           }
          ],
          "surface": [
           {
            "colorbar": {
             "outlinewidth": 0,
             "ticks": ""
            },
            "colorscale": [
             [
              0,
              "#0d0887"
             ],
             [
              0.1111111111111111,
              "#46039f"
             ],
             [
              0.2222222222222222,
              "#7201a8"
             ],
             [
              0.3333333333333333,
              "#9c179e"
             ],
             [
              0.4444444444444444,
              "#bd3786"
             ],
             [
              0.5555555555555556,
              "#d8576b"
             ],
             [
              0.6666666666666666,
              "#ed7953"
             ],
             [
              0.7777777777777778,
              "#fb9f3a"
             ],
             [
              0.8888888888888888,
              "#fdca26"
             ],
             [
              1,
              "#f0f921"
             ]
            ],
            "type": "surface"
           }
          ],
          "table": [
           {
            "cells": {
             "fill": {
              "color": "#EBF0F8"
             },
             "line": {
              "color": "white"
             }
            },
            "header": {
             "fill": {
              "color": "#C8D4E3"
             },
             "line": {
              "color": "white"
             }
            },
            "type": "table"
           }
          ]
         },
         "layout": {
          "annotationdefaults": {
           "arrowcolor": "#2a3f5f",
           "arrowhead": 0,
           "arrowwidth": 1
          },
          "autotypenumbers": "strict",
          "coloraxis": {
           "colorbar": {
            "outlinewidth": 0,
            "ticks": ""
           }
          },
          "colorscale": {
           "diverging": [
            [
             0,
             "#8e0152"
            ],
            [
             0.1,
             "#c51b7d"
            ],
            [
             0.2,
             "#de77ae"
            ],
            [
             0.3,
             "#f1b6da"
            ],
            [
             0.4,
             "#fde0ef"
            ],
            [
             0.5,
             "#f7f7f7"
            ],
            [
             0.6,
             "#e6f5d0"
            ],
            [
             0.7,
             "#b8e186"
            ],
            [
             0.8,
             "#7fbc41"
            ],
            [
             0.9,
             "#4d9221"
            ],
            [
             1,
             "#276419"
            ]
           ],
           "sequential": [
            [
             0,
             "#0d0887"
            ],
            [
             0.1111111111111111,
             "#46039f"
            ],
            [
             0.2222222222222222,
             "#7201a8"
            ],
            [
             0.3333333333333333,
             "#9c179e"
            ],
            [
             0.4444444444444444,
             "#bd3786"
            ],
            [
             0.5555555555555556,
             "#d8576b"
            ],
            [
             0.6666666666666666,
             "#ed7953"
            ],
            [
             0.7777777777777778,
             "#fb9f3a"
            ],
            [
             0.8888888888888888,
             "#fdca26"
            ],
            [
             1,
             "#f0f921"
            ]
           ],
           "sequentialminus": [
            [
             0,
             "#0d0887"
            ],
            [
             0.1111111111111111,
             "#46039f"
            ],
            [
             0.2222222222222222,
             "#7201a8"
            ],
            [
             0.3333333333333333,
             "#9c179e"
            ],
            [
             0.4444444444444444,
             "#bd3786"
            ],
            [
             0.5555555555555556,
             "#d8576b"
            ],
            [
             0.6666666666666666,
             "#ed7953"
            ],
            [
             0.7777777777777778,
             "#fb9f3a"
            ],
            [
             0.8888888888888888,
             "#fdca26"
            ],
            [
             1,
             "#f0f921"
            ]
           ]
          },
          "colorway": [
           "#636efa",
           "#EF553B",
           "#00cc96",
           "#ab63fa",
           "#FFA15A",
           "#19d3f3",
           "#FF6692",
           "#B6E880",
           "#FF97FF",
           "#FECB52"
          ],
          "font": {
           "color": "#2a3f5f"
          },
          "geo": {
           "bgcolor": "white",
           "lakecolor": "white",
           "landcolor": "#E5ECF6",
           "showlakes": true,
           "showland": true,
           "subunitcolor": "white"
          },
          "hoverlabel": {
           "align": "left"
          },
          "hovermode": "closest",
          "mapbox": {
           "style": "light"
          },
          "paper_bgcolor": "white",
          "plot_bgcolor": "#E5ECF6",
          "polar": {
           "angularaxis": {
            "gridcolor": "white",
            "linecolor": "white",
            "ticks": ""
           },
           "bgcolor": "#E5ECF6",
           "radialaxis": {
            "gridcolor": "white",
            "linecolor": "white",
            "ticks": ""
           }
          },
          "scene": {
           "xaxis": {
            "backgroundcolor": "#E5ECF6",
            "gridcolor": "white",
            "gridwidth": 2,
            "linecolor": "white",
            "showbackground": true,
            "ticks": "",
            "zerolinecolor": "white"
           },
           "yaxis": {
            "backgroundcolor": "#E5ECF6",
            "gridcolor": "white",
            "gridwidth": 2,
            "linecolor": "white",
            "showbackground": true,
            "ticks": "",
            "zerolinecolor": "white"
           },
           "zaxis": {
            "backgroundcolor": "#E5ECF6",
            "gridcolor": "white",
            "gridwidth": 2,
            "linecolor": "white",
            "showbackground": true,
            "ticks": "",
            "zerolinecolor": "white"
           }
          },
          "shapedefaults": {
           "line": {
            "color": "#2a3f5f"
           }
          },
          "ternary": {
           "aaxis": {
            "gridcolor": "white",
            "linecolor": "white",
            "ticks": ""
           },
           "baxis": {
            "gridcolor": "white",
            "linecolor": "white",
            "ticks": ""
           },
           "bgcolor": "#E5ECF6",
           "caxis": {
            "gridcolor": "white",
            "linecolor": "white",
            "ticks": ""
           }
          },
          "title": {
           "x": 0.05
          },
          "xaxis": {
           "automargin": true,
           "gridcolor": "white",
           "linecolor": "white",
           "ticks": "",
           "title": {
            "standoff": 15
           },
           "zerolinecolor": "white",
           "zerolinewidth": 2
          },
          "yaxis": {
           "automargin": true,
           "gridcolor": "white",
           "linecolor": "white",
           "ticks": "",
           "title": {
            "standoff": 15
           },
           "zerolinecolor": "white",
           "zerolinewidth": 2
          }
         }
        },
        "title": {
         "font": {
          "size": 20
         },
         "text": "Development of TPs over harvests<br>",
         "x": 0.5,
         "xanchor": "center",
         "y": 0.95,
         "yanchor": "top"
        },
        "xaxis": {
         "tickvals": [
          "2018-02-07",
          "2018-02-09",
          "2018-02-14",
          "2018-03-21",
          "2018-03-29",
          "2018-04-09",
          "2018-04-17",
          "2018-05-05",
          "2018-05-19",
          "<b>2018-05-25</b>",
          "2018-05-29",
          "2018-06-01",
          "2018-06-07",
          "2018-06-12",
          "2018-06-18",
          "2018-07-06",
          "2018-07-17",
          "2018-08-03",
          "2018-08-31",
          "2018-09-06",
          "2018-09-11",
          "2018-09-21",
          "2018-10-09",
          "2018-10-31",
          "2018-11-07",
          "2018-11-19",
          "2018-12-10",
          "2019-01-30",
          "2019-02-21",
          "2019-03-12",
          "2019-03-27",
          "2019-04-05",
          "2019-04-12",
          "2019-04-24",
          "2019-05-01",
          "2019-05-27",
          "2019-05-29",
          "2019-06-14",
          "2019-06-28",
          "2019-07-12",
          "2019-08-05",
          "2019-09-02",
          "2019-09-20",
          "2019-10-03",
          "2019-10-16",
          "2019-10-29",
          "2019-11-05",
          "2019-11-13",
          "2019-11-28",
          "2019-12-22",
          "2020-01-13",
          "2020-02-07",
          "2020-02-25",
          "2020-03-10",
          "2020-03-24",
          "2020-04-07",
          "2020-05-12",
          "2020-06-02",
          "2020-06-19"
         ],
         "type": "category"
        },
        "yaxis": {
         "title": {
          "text": "Number of unique <b>TPs</b>"
         }
        }
       }
      },
      "text/html": [
       "<div>                            <div id=\"1a664351-5b7b-42a8-9002-fcc12912f4b5\" class=\"plotly-graph-div\" style=\"height:525px; width:100%;\"></div>            <script type=\"text/javascript\">                require([\"plotly\"], function(Plotly) {                    window.PLOTLYENV=window.PLOTLYENV || {};                                    if (document.getElementById(\"1a664351-5b7b-42a8-9002-fcc12912f4b5\")) {                    Plotly.newPlot(                        \"1a664351-5b7b-42a8-9002-fcc12912f4b5\",                        [{\"marker\": {\"color\": \"#FF6692\"}, \"name\": \"TPs appearing in current and all previous harvests\", \"type\": \"bar\", \"x\": [\"2018-02-07\", \"2018-02-09\", \"2018-02-14\", \"2018-03-21\", \"2018-03-29\", \"2018-04-09\", \"2018-04-17\", \"2018-05-05\", \"2018-05-19\", \"<b>2018-05-25</b>\", \"2018-05-29\", \"2018-06-01\", \"2018-06-07\", \"2018-06-12\", \"2018-06-18\", \"2018-07-06\", \"2018-07-17\", \"2018-08-03\", \"2018-08-31\", \"2018-09-06\", \"2018-09-11\", \"2018-09-21\", \"2018-10-09\", \"2018-10-31\", \"2018-11-07\", \"2018-11-19\", \"2018-12-10\", \"2019-01-30\", \"2019-02-21\", \"2019-03-12\", \"2019-03-27\", \"2019-04-05\", \"2019-04-12\", \"2019-04-24\", \"2019-05-01\", \"2019-05-27\", \"2019-05-29\", \"2019-06-14\", \"2019-06-28\", \"2019-07-12\", \"2019-08-05\", \"2019-09-02\", \"2019-09-20\", \"2019-10-03\", \"2019-10-16\", \"2019-10-29\", \"2019-11-05\", \"2019-11-13\", \"2019-11-28\", \"2019-12-22\", \"2020-01-13\", \"2020-02-07\", \"2020-02-25\", \"2020-03-10\", \"2020-03-24\", \"2020-04-07\", \"2020-05-12\", \"2020-06-02\", \"2020-06-19\"], \"y\": [3047, 2923, 2840, 2641, 2586, 2526, 2501, 2431, 2389, 2323, 2284, 2239, 2216, 2203, 2183, 2147, 2115, 2085, 2039, 2032, 2016, 1996, 1963, 1921, 1905, 1887, 1853, 1785, 1757, 1728, 1704, 1691, 1674, 1661, 1655, 1629, 1623, 1603, 1587, 1575, 1559, 1533, 1509, 1498, 1478, 1468, 1463, 1460, 1448, 1425, 1414, 1383, 1365, 1347, 1338, 1325, 1309, 1288, 1265]}, {\"marker\": {\"color\": \"#B6E880\"}, \"name\": \"Varying active TPs\", \"type\": \"bar\", \"x\": [\"2018-02-07\", \"2018-02-09\", \"2018-02-14\", \"2018-03-21\", \"2018-03-29\", \"2018-04-09\", \"2018-04-17\", \"2018-05-05\", \"2018-05-19\", \"<b>2018-05-25</b>\", \"2018-05-29\", \"2018-06-01\", \"2018-06-07\", \"2018-06-12\", \"2018-06-18\", \"2018-07-06\", \"2018-07-17\", \"2018-08-03\", \"2018-08-31\", \"2018-09-06\", \"2018-09-11\", \"2018-09-21\", \"2018-10-09\", \"2018-10-31\", \"2018-11-07\", \"2018-11-19\", \"2018-12-10\", \"2019-01-30\", \"2019-02-21\", \"2019-03-12\", \"2019-03-27\", \"2019-04-05\", \"2019-04-12\", \"2019-04-24\", \"2019-05-01\", \"2019-05-27\", \"2019-05-29\", \"2019-06-14\", \"2019-06-28\", \"2019-07-12\", \"2019-08-05\", \"2019-09-02\", \"2019-09-20\", \"2019-10-03\", \"2019-10-16\", \"2019-10-29\", \"2019-11-05\", \"2019-11-13\", \"2019-11-28\", \"2019-12-22\", \"2020-01-13\", \"2020-02-07\", \"2020-02-25\", \"2020-03-10\", \"2020-03-24\", \"2020-04-07\", \"2020-05-12\", \"2020-06-02\", \"2020-06-19\"], \"y\": [0, 143, 236, 395, 441, 501, 575, 628, 704, 684, 695, 670, 718, 743, 764, 798, 813, 826, 866, 907, 869, 884, 934, 1017, 1022, 1012, 1068, 1108, 1138, 1100, 1206, 1190, 1192, 1244, 1201, 1285, 1270, 1286, 1319, 1287, 1263, 1309, 1303, 1342, 1357, 1364, 1375, 1376, 1415, 1428, 1424, 1421, 1431, 1418, 1439, 1407, 1455, 1519, 1516]}, {\"marker\": {\"color\": \"#7F7F7F\"}, \"name\": \"Overall inactive TPs\", \"type\": \"bar\", \"x\": [\"2018-02-07\", \"2018-02-09\", \"2018-02-14\", \"2018-03-21\", \"2018-03-29\", \"2018-04-09\", \"2018-04-17\", \"2018-05-05\", \"2018-05-19\", \"<b>2018-05-25</b>\", \"2018-05-29\", \"2018-06-01\", \"2018-06-07\", \"2018-06-12\", \"2018-06-18\", \"2018-07-06\", \"2018-07-17\", \"2018-08-03\", \"2018-08-31\", \"2018-09-06\", \"2018-09-11\", \"2018-09-21\", \"2018-10-09\", \"2018-10-31\", \"2018-11-07\", \"2018-11-19\", \"2018-12-10\", \"2019-01-30\", \"2019-02-21\", \"2019-03-12\", \"2019-03-27\", \"2019-04-05\", \"2019-04-12\", \"2019-04-24\", \"2019-05-01\", \"2019-05-27\", \"2019-05-29\", \"2019-06-14\", \"2019-06-28\", \"2019-07-12\", \"2019-08-05\", \"2019-09-02\", \"2019-09-20\", \"2019-10-03\", \"2019-10-16\", \"2019-10-29\", \"2019-11-05\", \"2019-11-13\", \"2019-11-28\", \"2019-12-22\", \"2020-01-13\", \"2020-02-07\", \"2020-02-25\", \"2020-03-10\", \"2020-03-24\", \"2020-04-07\", \"2020-05-12\", \"2020-06-02\", \"2020-06-19\"], \"y\": [0, 124, 230, 457, 541, 631, 690, 817, 895, 1019, 1083, 1189, 1211, 1232, 1275, 1358, 1436, 1506, 1593, 1596, 1679, 1720, 1774, 1815, 1878, 1967, 2033, 2186, 2275, 2399, 2411, 2486, 2543, 2556, 2639, 2669, 2715, 2789, 2826, 2914, 3005, 3063, 3164, 3197, 3239, 3283, 3313, 3348, 3382, 3469, 3537, 3640, 3689, 3784, 3832, 3924, 3986, 4013, 4087]}, {\"marker\": {\"color\": \"black\"}, \"name\": \"TPs appearing in all harvests\", \"type\": \"scatter\", \"x\": [\"2018-02-07\", \"2018-02-09\", \"2018-02-14\", \"2018-03-21\", \"2018-03-29\", \"2018-04-09\", \"2018-04-17\", \"2018-05-05\", \"2018-05-19\", \"<b>2018-05-25</b>\", \"2018-05-29\", \"2018-06-01\", \"2018-06-07\", \"2018-06-12\", \"2018-06-18\", \"2018-07-06\", \"2018-07-17\", \"2018-08-03\", \"2018-08-31\", \"2018-09-06\", \"2018-09-11\", \"2018-09-21\", \"2018-10-09\", \"2018-10-31\", \"2018-11-07\", \"2018-11-19\", \"2018-12-10\", \"2019-01-30\", \"2019-02-21\", \"2019-03-12\", \"2019-03-27\", \"2019-04-05\", \"2019-04-12\", \"2019-04-24\", \"2019-05-01\", \"2019-05-27\", \"2019-05-29\", \"2019-06-14\", \"2019-06-28\", \"2019-07-12\", \"2019-08-05\", \"2019-09-02\", \"2019-09-20\", \"2019-10-03\", \"2019-10-16\", \"2019-10-29\", \"2019-11-05\", \"2019-11-13\", \"2019-11-28\", \"2019-12-22\", \"2020-01-13\", \"2020-02-07\", \"2020-02-25\", \"2020-03-10\", \"2020-03-24\", \"2020-04-07\", \"2020-05-12\", \"2020-06-02\", \"2020-06-19\"], \"y\": [1265, 1265, 1265, 1265, 1265, 1265, 1265, 1265, 1265, 1265, 1265, 1265, 1265, 1265, 1265, 1265, 1265, 1265, 1265, 1265, 1265, 1265, 1265, 1265, 1265, 1265, 1265, 1265, 1265, 1265, 1265, 1265, 1265, 1265, 1265, 1265, 1265, 1265, 1265, 1265, 1265, 1265, 1265, 1265, 1265, 1265, 1265, 1265, 1265, 1265, 1265, 1265, 1265, 1265, 1265, 1265, 1265, 1265, 1265]}, {\"marker\": {\"color\": \"blue\"}, \"name\": \"Number of TPs in current harvest\", \"type\": \"scatter\", \"x\": [\"2018-02-07\", \"2018-02-09\", \"2018-02-14\", \"2018-03-21\", \"2018-03-29\", \"2018-04-09\", \"2018-04-17\", \"2018-05-05\", \"2018-05-19\", \"<b>2018-05-25</b>\", \"2018-05-29\", \"2018-06-01\", \"2018-06-07\", \"2018-06-12\", \"2018-06-18\", \"2018-07-06\", \"2018-07-17\", \"2018-08-03\", \"2018-08-31\", \"2018-09-06\", \"2018-09-11\", \"2018-09-21\", \"2018-10-09\", \"2018-10-31\", \"2018-11-07\", \"2018-11-19\", \"2018-12-10\", \"2019-01-30\", \"2019-02-21\", \"2019-03-12\", \"2019-03-27\", \"2019-04-05\", \"2019-04-12\", \"2019-04-24\", \"2019-05-01\", \"2019-05-27\", \"2019-05-29\", \"2019-06-14\", \"2019-06-28\", \"2019-07-12\", \"2019-08-05\", \"2019-09-02\", \"2019-09-20\", \"2019-10-03\", \"2019-10-16\", \"2019-10-29\", \"2019-11-05\", \"2019-11-13\", \"2019-11-28\", \"2019-12-22\", \"2020-01-13\", \"2020-02-07\", \"2020-02-25\", \"2020-03-10\", \"2020-03-24\", \"2020-04-07\", \"2020-05-12\", \"2020-06-02\", \"2020-06-19\"], \"y\": [3047, 3066, 3076, 3036, 3027, 3027, 3076, 3059, 3093, 3007, 2979, 2909, 2934, 2946, 2947, 2945, 2928, 2911, 2905, 2939, 2885, 2880, 2897, 2938, 2927, 2899, 2921, 2893, 2895, 2828, 2910, 2881, 2866, 2905, 2856, 2914, 2893, 2889, 2906, 2862, 2822, 2842, 2812, 2840, 2835, 2832, 2838, 2836, 2863, 2853, 2838, 2804, 2796, 2765, 2777, 2732, 2764, 2807, 2781]}],                        {\"annotations\": [{\"align\": \"center\", \"arrowcolor\": \"#636363\", \"arrowhead\": 2, \"arrowsize\": 1, \"arrowwidth\": 2, \"ax\": 20, \"ay\": -30, \"bgcolor\": \"#ff7f0e\", \"bordercolor\": \"#c7c7c7\", \"borderpad\": 4, \"borderwidth\": 2, \"font\": {\"color\": \"#ffffff\", \"family\": \"Courier New, monospace\", \"size\": 14}, \"opacity\": 0.8, \"showarrow\": true, \"text\": \"GDPR\", \"x\": 9, \"xref\": \"x\", \"y\": 4050, \"yref\": \"y\"}], \"barmode\": \"stack\", \"font\": {\"family\": \"Courier New, monospace\"}, \"legend\": {\"orientation\": \"h\", \"traceorder\": \"normal\", \"x\": 0.5, \"xanchor\": \"center\", \"y\": 1.02, \"yanchor\": \"bottom\"}, \"template\": {\"data\": {\"bar\": [{\"error_x\": {\"color\": \"#2a3f5f\"}, \"error_y\": {\"color\": \"#2a3f5f\"}, \"marker\": {\"line\": {\"color\": \"#E5ECF6\", \"width\": 0.5}}, \"type\": \"bar\"}], \"barpolar\": [{\"marker\": {\"line\": {\"color\": \"#E5ECF6\", \"width\": 0.5}}, \"type\": \"barpolar\"}], \"carpet\": [{\"aaxis\": {\"endlinecolor\": \"#2a3f5f\", \"gridcolor\": \"white\", \"linecolor\": \"white\", \"minorgridcolor\": \"white\", \"startlinecolor\": \"#2a3f5f\"}, \"baxis\": {\"endlinecolor\": \"#2a3f5f\", \"gridcolor\": \"white\", \"linecolor\": \"white\", \"minorgridcolor\": \"white\", \"startlinecolor\": \"#2a3f5f\"}, \"type\": \"carpet\"}], \"choropleth\": [{\"colorbar\": {\"outlinewidth\": 0, \"ticks\": \"\"}, \"type\": \"choropleth\"}], \"contour\": [{\"colorbar\": {\"outlinewidth\": 0, \"ticks\": \"\"}, \"colorscale\": [[0.0, \"#0d0887\"], [0.1111111111111111, \"#46039f\"], [0.2222222222222222, \"#7201a8\"], [0.3333333333333333, \"#9c179e\"], [0.4444444444444444, \"#bd3786\"], [0.5555555555555556, \"#d8576b\"], [0.6666666666666666, \"#ed7953\"], [0.7777777777777778, \"#fb9f3a\"], [0.8888888888888888, \"#fdca26\"], [1.0, \"#f0f921\"]], \"type\": \"contour\"}], \"contourcarpet\": [{\"colorbar\": {\"outlinewidth\": 0, \"ticks\": \"\"}, \"type\": \"contourcarpet\"}], \"heatmap\": [{\"colorbar\": {\"outlinewidth\": 0, \"ticks\": \"\"}, \"colorscale\": [[0.0, \"#0d0887\"], [0.1111111111111111, \"#46039f\"], [0.2222222222222222, \"#7201a8\"], [0.3333333333333333, \"#9c179e\"], [0.4444444444444444, \"#bd3786\"], [0.5555555555555556, \"#d8576b\"], [0.6666666666666666, \"#ed7953\"], [0.7777777777777778, \"#fb9f3a\"], [0.8888888888888888, \"#fdca26\"], [1.0, \"#f0f921\"]], \"type\": \"heatmap\"}], \"heatmapgl\": [{\"colorbar\": {\"outlinewidth\": 0, \"ticks\": \"\"}, \"colorscale\": [[0.0, \"#0d0887\"], [0.1111111111111111, \"#46039f\"], [0.2222222222222222, \"#7201a8\"], [0.3333333333333333, \"#9c179e\"], [0.4444444444444444, \"#bd3786\"], [0.5555555555555556, \"#d8576b\"], [0.6666666666666666, \"#ed7953\"], [0.7777777777777778, \"#fb9f3a\"], [0.8888888888888888, \"#fdca26\"], [1.0, \"#f0f921\"]], \"type\": \"heatmapgl\"}], \"histogram\": [{\"marker\": {\"colorbar\": {\"outlinewidth\": 0, \"ticks\": \"\"}}, \"type\": \"histogram\"}], \"histogram2d\": [{\"colorbar\": {\"outlinewidth\": 0, \"ticks\": \"\"}, \"colorscale\": [[0.0, \"#0d0887\"], [0.1111111111111111, \"#46039f\"], [0.2222222222222222, \"#7201a8\"], [0.3333333333333333, \"#9c179e\"], [0.4444444444444444, \"#bd3786\"], [0.5555555555555556, \"#d8576b\"], [0.6666666666666666, \"#ed7953\"], [0.7777777777777778, \"#fb9f3a\"], [0.8888888888888888, \"#fdca26\"], [1.0, \"#f0f921\"]], \"type\": \"histogram2d\"}], \"histogram2dcontour\": [{\"colorbar\": {\"outlinewidth\": 0, \"ticks\": \"\"}, \"colorscale\": [[0.0, \"#0d0887\"], [0.1111111111111111, \"#46039f\"], [0.2222222222222222, \"#7201a8\"], [0.3333333333333333, \"#9c179e\"], [0.4444444444444444, \"#bd3786\"], [0.5555555555555556, \"#d8576b\"], [0.6666666666666666, \"#ed7953\"], [0.7777777777777778, \"#fb9f3a\"], [0.8888888888888888, \"#fdca26\"], [1.0, \"#f0f921\"]], \"type\": \"histogram2dcontour\"}], \"mesh3d\": [{\"colorbar\": {\"outlinewidth\": 0, \"ticks\": \"\"}, \"type\": \"mesh3d\"}], \"parcoords\": [{\"line\": {\"colorbar\": {\"outlinewidth\": 0, \"ticks\": \"\"}}, \"type\": \"parcoords\"}], \"pie\": [{\"automargin\": true, \"type\": \"pie\"}], \"scatter\": [{\"marker\": {\"colorbar\": {\"outlinewidth\": 0, \"ticks\": \"\"}}, \"type\": \"scatter\"}], \"scatter3d\": [{\"line\": {\"colorbar\": {\"outlinewidth\": 0, \"ticks\": \"\"}}, \"marker\": {\"colorbar\": {\"outlinewidth\": 0, \"ticks\": \"\"}}, \"type\": \"scatter3d\"}], \"scattercarpet\": [{\"marker\": {\"colorbar\": {\"outlinewidth\": 0, \"ticks\": \"\"}}, \"type\": \"scattercarpet\"}], \"scattergeo\": [{\"marker\": {\"colorbar\": {\"outlinewidth\": 0, \"ticks\": \"\"}}, \"type\": \"scattergeo\"}], \"scattergl\": [{\"marker\": {\"colorbar\": {\"outlinewidth\": 0, \"ticks\": \"\"}}, \"type\": \"scattergl\"}], \"scattermapbox\": [{\"marker\": {\"colorbar\": {\"outlinewidth\": 0, \"ticks\": \"\"}}, \"type\": \"scattermapbox\"}], \"scatterpolar\": [{\"marker\": {\"colorbar\": {\"outlinewidth\": 0, \"ticks\": \"\"}}, \"type\": \"scatterpolar\"}], \"scatterpolargl\": [{\"marker\": {\"colorbar\": {\"outlinewidth\": 0, \"ticks\": \"\"}}, \"type\": \"scatterpolargl\"}], \"scatterternary\": [{\"marker\": {\"colorbar\": {\"outlinewidth\": 0, \"ticks\": \"\"}}, \"type\": \"scatterternary\"}], \"surface\": [{\"colorbar\": {\"outlinewidth\": 0, \"ticks\": \"\"}, \"colorscale\": [[0.0, \"#0d0887\"], [0.1111111111111111, \"#46039f\"], [0.2222222222222222, \"#7201a8\"], [0.3333333333333333, \"#9c179e\"], [0.4444444444444444, \"#bd3786\"], [0.5555555555555556, \"#d8576b\"], [0.6666666666666666, \"#ed7953\"], [0.7777777777777778, \"#fb9f3a\"], [0.8888888888888888, \"#fdca26\"], [1.0, \"#f0f921\"]], \"type\": \"surface\"}], \"table\": [{\"cells\": {\"fill\": {\"color\": \"#EBF0F8\"}, \"line\": {\"color\": \"white\"}}, \"header\": {\"fill\": {\"color\": \"#C8D4E3\"}, \"line\": {\"color\": \"white\"}}, \"type\": \"table\"}]}, \"layout\": {\"annotationdefaults\": {\"arrowcolor\": \"#2a3f5f\", \"arrowhead\": 0, \"arrowwidth\": 1}, \"autotypenumbers\": \"strict\", \"coloraxis\": {\"colorbar\": {\"outlinewidth\": 0, \"ticks\": \"\"}}, \"colorscale\": {\"diverging\": [[0, \"#8e0152\"], [0.1, \"#c51b7d\"], [0.2, \"#de77ae\"], [0.3, \"#f1b6da\"], [0.4, \"#fde0ef\"], [0.5, \"#f7f7f7\"], [0.6, \"#e6f5d0\"], [0.7, \"#b8e186\"], [0.8, \"#7fbc41\"], [0.9, \"#4d9221\"], [1, \"#276419\"]], \"sequential\": [[0.0, \"#0d0887\"], [0.1111111111111111, \"#46039f\"], [0.2222222222222222, \"#7201a8\"], [0.3333333333333333, \"#9c179e\"], [0.4444444444444444, \"#bd3786\"], [0.5555555555555556, \"#d8576b\"], [0.6666666666666666, \"#ed7953\"], [0.7777777777777778, \"#fb9f3a\"], [0.8888888888888888, \"#fdca26\"], [1.0, \"#f0f921\"]], \"sequentialminus\": [[0.0, \"#0d0887\"], [0.1111111111111111, \"#46039f\"], [0.2222222222222222, \"#7201a8\"], [0.3333333333333333, \"#9c179e\"], [0.4444444444444444, \"#bd3786\"], [0.5555555555555556, \"#d8576b\"], [0.6666666666666666, \"#ed7953\"], [0.7777777777777778, \"#fb9f3a\"], [0.8888888888888888, \"#fdca26\"], [1.0, \"#f0f921\"]]}, \"colorway\": [\"#636efa\", \"#EF553B\", \"#00cc96\", \"#ab63fa\", \"#FFA15A\", \"#19d3f3\", \"#FF6692\", \"#B6E880\", \"#FF97FF\", \"#FECB52\"], \"font\": {\"color\": \"#2a3f5f\"}, \"geo\": {\"bgcolor\": \"white\", \"lakecolor\": \"white\", \"landcolor\": \"#E5ECF6\", \"showlakes\": true, \"showland\": true, \"subunitcolor\": \"white\"}, \"hoverlabel\": {\"align\": \"left\"}, \"hovermode\": \"closest\", \"mapbox\": {\"style\": \"light\"}, \"paper_bgcolor\": \"white\", \"plot_bgcolor\": \"#E5ECF6\", \"polar\": {\"angularaxis\": {\"gridcolor\": \"white\", \"linecolor\": \"white\", \"ticks\": \"\"}, \"bgcolor\": \"#E5ECF6\", \"radialaxis\": {\"gridcolor\": \"white\", \"linecolor\": \"white\", \"ticks\": \"\"}}, \"scene\": {\"xaxis\": {\"backgroundcolor\": \"#E5ECF6\", \"gridcolor\": \"white\", \"gridwidth\": 2, \"linecolor\": \"white\", \"showbackground\": true, \"ticks\": \"\", \"zerolinecolor\": \"white\"}, \"yaxis\": {\"backgroundcolor\": \"#E5ECF6\", \"gridcolor\": \"white\", \"gridwidth\": 2, \"linecolor\": \"white\", \"showbackground\": true, \"ticks\": \"\", \"zerolinecolor\": \"white\"}, \"zaxis\": {\"backgroundcolor\": \"#E5ECF6\", \"gridcolor\": \"white\", \"gridwidth\": 2, \"linecolor\": \"white\", \"showbackground\": true, \"ticks\": \"\", \"zerolinecolor\": \"white\"}}, \"shapedefaults\": {\"line\": {\"color\": \"#2a3f5f\"}}, \"ternary\": {\"aaxis\": {\"gridcolor\": \"white\", \"linecolor\": \"white\", \"ticks\": \"\"}, \"baxis\": {\"gridcolor\": \"white\", \"linecolor\": \"white\", \"ticks\": \"\"}, \"bgcolor\": \"#E5ECF6\", \"caxis\": {\"gridcolor\": \"white\", \"linecolor\": \"white\", \"ticks\": \"\"}}, \"title\": {\"x\": 0.05}, \"xaxis\": {\"automargin\": true, \"gridcolor\": \"white\", \"linecolor\": \"white\", \"ticks\": \"\", \"title\": {\"standoff\": 15}, \"zerolinecolor\": \"white\", \"zerolinewidth\": 2}, \"yaxis\": {\"automargin\": true, \"gridcolor\": \"white\", \"linecolor\": \"white\", \"ticks\": \"\", \"title\": {\"standoff\": 15}, \"zerolinecolor\": \"white\", \"zerolinewidth\": 2}}}, \"title\": {\"font\": {\"size\": 20}, \"text\": \"Development of TPs over harvests<br>\", \"x\": 0.5, \"xanchor\": \"center\", \"y\": 0.95, \"yanchor\": \"top\"}, \"xaxis\": {\"tickvals\": [\"2018-02-07\", \"2018-02-09\", \"2018-02-14\", \"2018-03-21\", \"2018-03-29\", \"2018-04-09\", \"2018-04-17\", \"2018-05-05\", \"2018-05-19\", \"<b>2018-05-25</b>\", \"2018-05-29\", \"2018-06-01\", \"2018-06-07\", \"2018-06-12\", \"2018-06-18\", \"2018-07-06\", \"2018-07-17\", \"2018-08-03\", \"2018-08-31\", \"2018-09-06\", \"2018-09-11\", \"2018-09-21\", \"2018-10-09\", \"2018-10-31\", \"2018-11-07\", \"2018-11-19\", \"2018-12-10\", \"2019-01-30\", \"2019-02-21\", \"2019-03-12\", \"2019-03-27\", \"2019-04-05\", \"2019-04-12\", \"2019-04-24\", \"2019-05-01\", \"2019-05-27\", \"2019-05-29\", \"2019-06-14\", \"2019-06-28\", \"2019-07-12\", \"2019-08-05\", \"2019-09-02\", \"2019-09-20\", \"2019-10-03\", \"2019-10-16\", \"2019-10-29\", \"2019-11-05\", \"2019-11-13\", \"2019-11-28\", \"2019-12-22\", \"2020-01-13\", \"2020-02-07\", \"2020-02-25\", \"2020-03-10\", \"2020-03-24\", \"2020-04-07\", \"2020-05-12\", \"2020-06-02\", \"2020-06-19\"], \"type\": \"category\"}, \"yaxis\": {\"title\": {\"text\": \"Number of unique <b>TPs</b>\"}}},                        {\"responsive\": true}                    ).then(function(){\n",
       "                            \n",
       "var gd = document.getElementById('1a664351-5b7b-42a8-9002-fcc12912f4b5');\n",
       "var x = new MutationObserver(function (mutations, observer) {{\n",
       "        var display = window.getComputedStyle(gd).display;\n",
       "        if (!display || display === 'none') {{\n",
       "            console.log([gd, 'removed!']);\n",
       "            Plotly.purge(gd);\n",
       "            observer.disconnect();\n",
       "        }}\n",
       "}});\n",
       "\n",
       "// Listen for the removal of the full notebook cells\n",
       "var notebookContainer = gd.closest('#notebook-container');\n",
       "if (notebookContainer) {{\n",
       "    x.observe(notebookContainer, {childList: true});\n",
       "}}\n",
       "\n",
       "// Listen for the clearing of the current output cell\n",
       "var outputEl = gd.closest('.output');\n",
       "if (outputEl) {{\n",
       "    x.observe(outputEl, {childList: true});\n",
       "}}\n",
       "\n",
       "                        })                };                });            </script>        </div>"
      ]
     },
     "metadata": {},
     "output_type": "display_data"
    }
   ],
   "source": [
    "# Create a lists\n",
    "TPs_cat_2 = ['sum_same_active', 'active', 'sum_inactive']#, 'current_TPs'\n",
    "TPs_cat_names = ['TPs appearing in current and all previous harvests', \n",
    "                 'Varying active TPs', 'Overall inactive TPs']\n",
    "data = []\n",
    "\n",
    "fig = make_subplots(specs=[[{\"secondary_y\": True}]])\n",
    "\n",
    "# Choose a color palette\n",
    "colors = ['#FF6692', '#B6E880', '#7F7F7F']\n",
    "palette = cycle(colors)\n",
    "\n",
    "# Create bars \n",
    "for i in range(len(TPs_cat_2)):\n",
    "    data.append(go.Bar(name=TPs_cat_names[i], x=df_dates['date'], y=df_TPs[TPs_cat_2[i]],\n",
    "                       marker_color=next(palette)))\n",
    "\n",
    "data.append(go.Scatter(name='TPs appearing in all harvests', x=df_dates['date'], y=df_TPs['TPs_everywhere'],\n",
    "                       marker_color='black'))\n",
    "\n",
    "data.append(go.Scatter(name='Number of TPs in current harvest', x=df_dates['date'], y=df_TPs['current_TPs'],\n",
    "                       marker_color='blue'))\n",
    "    \n",
    "# Initiate figure\n",
    "fig = go.Figure(data)\n",
    "\n",
    "# Make x-axis categorical\n",
    "fig.update_xaxes(type='category')\n",
    "\n",
    "# Use date values from DF for x-axis \n",
    "fig.update_xaxes(tickvals=df_dates['date'])\n",
    "\n",
    "# Change the bar mode\n",
    "fig.update_layout(barmode='stack')\n",
    "\n",
    "# Add and center figure title, add legend, change font\n",
    "fig.update_layout(\n",
    "    title={\n",
    "        'text': \"Development of TPs over harvests<br>\",\n",
    "        'y':0.95,\n",
    "        'x':0.5,\n",
    "        'xanchor': 'center',\n",
    "        'yanchor': 'top',\n",
    "        'font':dict(size=20)},\n",
    "    font=dict(\n",
    "        family=\"Courier New, monospace\",\n",
    "    )\n",
    ")\n",
    "\n",
    "# Set y-axes titles\n",
    "fig.update_yaxes(title_text=\"Number of unique <b>TPs</b>\")\n",
    "\n",
    "# Add annotation\n",
    "fig.add_annotation(\n",
    "        x=9,\n",
    "        y=4050,\n",
    "        xref=\"x\",\n",
    "        yref=\"y\",\n",
    "        text=\"GDPR\",\n",
    "        showarrow=True,\n",
    "        font=dict(\n",
    "            family=\"Courier New, monospace\",\n",
    "            size=14,\n",
    "            color=\"#ffffff\"\n",
    "            ),\n",
    "        align=\"center\",\n",
    "        arrowhead=2,\n",
    "        arrowsize=1,\n",
    "        arrowwidth=2,\n",
    "        arrowcolor=\"#636363\",\n",
    "        ax=20,\n",
    "        ay=-30,\n",
    "        bordercolor=\"#c7c7c7\",\n",
    "        borderwidth=2,\n",
    "        borderpad=4,\n",
    "        bgcolor=\"#ff7f0e\",\n",
    "        opacity=0.8\n",
    "        )\n",
    "\n",
    "# Change legend location\n",
    "fig.update_layout(legend=dict(\n",
    "    orientation=\"h\",\n",
    "    yanchor=\"bottom\",\n",
    "    y=1.02,\n",
    "    xanchor=\"center\",\n",
    "    x=0.5, \n",
    "    traceorder='normal'\n",
    "))\n",
    "\n",
    "# Set plot size - use when exporting\n",
    "#fig.update_layout(\n",
    "#    autosize=False,\n",
    "#    width=1100,\n",
    "#    height=600,\n",
    "#    )\n",
    "\n",
    "\n",
    "iplot(fig)"
   ]
  },
  {
   "cell_type": "code",
   "execution_count": 14,
   "metadata": {},
   "outputs": [],
   "source": [
    "# Export\n",
    "fig.write_image(\"/home/ubuntu/Plots/FIG_3.pdf\")"
   ]
  }
 ],
 "metadata": {
  "kernelspec": {
   "display_name": "Python 3",
   "language": "python",
   "name": "python3"
  },
  "language_info": {
   "codemirror_mode": {
    "name": "ipython",
    "version": 3
   },
   "file_extension": ".py",
   "mimetype": "text/x-python",
   "name": "python",
   "nbconvert_exporter": "python",
   "pygments_lexer": "ipython3",
   "version": "3.8.3"
  }
 },
 "nbformat": 4,
 "nbformat_minor": 4
}

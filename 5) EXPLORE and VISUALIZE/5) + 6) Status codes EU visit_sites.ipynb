{
 "cells": [
  {
   "cell_type": "markdown",
   "metadata": {},
   "source": [
    "# Status codes of responses to the first first-party initial request"
   ]
  },
  {
   "cell_type": "markdown",
   "metadata": {},
   "source": [
    "    – input data: FP_status_codes_EU.json - HTTP response status codes of all firstparties with EU/EEA origin\n",
    "    – output plot:\n",
    "        1. stacked bar chart with number of visited sites per grouped HTTP response status code on y-axis and harvest date on x-axis\n",
    "        2. stacked bar chart with number of visited sites per specific HTTP response status code on y-axis and harvest date on x-axis\n",
    "    – purpose: Visualise the ‘health’ of visited sites over the harvesting period. The harvesting period is almost 2.5 years and the same sites are being visited over and over, therefore, there is a high chance that some visited sites will become inactive or will redirect to another site.\n",
    "        1. Investigate the grouped HTTP response codes.\n",
    "        2. Investigate specific most populous HTTP response codes, besides 200 - OK."
   ]
  },
  {
   "cell_type": "code",
   "execution_count": 1,
   "metadata": {},
   "outputs": [],
   "source": [
    "# Import\n",
    "import pandas as pd\n",
    "import json\n",
    "import plotly.graph_objects as go\n",
    "from plotly.offline import download_plotlyjs, init_notebook_mode, plot, iplot\n",
    "from itertools import cycle\n",
    "import plotly.express as px"
   ]
  },
  {
   "cell_type": "code",
   "execution_count": 2,
   "metadata": {},
   "outputs": [
    {
     "data": {
      "text/html": [
       "        <script type=\"text/javascript\">\n",
       "        window.PlotlyConfig = {MathJaxConfig: 'local'};\n",
       "        if (window.MathJax) {MathJax.Hub.Config({SVG: {font: \"STIX-Web\"}});}\n",
       "        if (typeof require !== 'undefined') {\n",
       "        require.undef(\"plotly\");\n",
       "        requirejs.config({\n",
       "            paths: {\n",
       "                'plotly': ['https://cdn.plot.ly/plotly-latest.min']\n",
       "            }\n",
       "        });\n",
       "        require(['plotly'], function(Plotly) {\n",
       "            window._Plotly = Plotly;\n",
       "        });\n",
       "        }\n",
       "        </script>\n",
       "        "
      ]
     },
     "metadata": {},
     "output_type": "display_data"
    }
   ],
   "source": [
    "# Jupyter setup\n",
    "init_notebook_mode(connected=True)"
   ]
  },
  {
   "cell_type": "code",
   "execution_count": 3,
   "metadata": {},
   "outputs": [
    {
     "name": "stdout",
     "output_type": "stream",
     "text": [
      "Complete\n"
     ]
    }
   ],
   "source": [
    "# Load data\n",
    "stat_path = '/home/ubuntu/data/processed/crawls/response_enriched/analysis_v.3/'\n",
    "stat_name = 'FP_status_codes_EU.json'\n",
    "\n",
    "with open(stat_path + stat_name) as f:\n",
    "    stat_dict = json.load(f)\n",
    "\n",
    "print('Complete')"
   ]
  },
  {
   "cell_type": "code",
   "execution_count": 4,
   "metadata": {},
   "outputs": [],
   "source": [
    "# Prepare data for DF creation\n",
    "dict_data = []\n",
    "\n",
    "for key in stat_dict.keys():\n",
    "    crawl_data = {'date':key, 'data':stat_dict[key]}\n",
    "    dict_data.append(crawl_data)"
   ]
  },
  {
   "cell_type": "code",
   "execution_count": 5,
   "metadata": {},
   "outputs": [
    {
     "data": {
      "text/html": [
       "<div>\n",
       "<style scoped>\n",
       "    .dataframe tbody tr th:only-of-type {\n",
       "        vertical-align: middle;\n",
       "    }\n",
       "\n",
       "    .dataframe tbody tr th {\n",
       "        vertical-align: top;\n",
       "    }\n",
       "\n",
       "    .dataframe thead th {\n",
       "        text-align: right;\n",
       "    }\n",
       "</style>\n",
       "<table border=\"1\" class=\"dataframe\">\n",
       "  <thead>\n",
       "    <tr style=\"text-align: right;\">\n",
       "      <th></th>\n",
       "      <th>date</th>\n",
       "      <th>data.200</th>\n",
       "      <th>data.301</th>\n",
       "      <th>data.302</th>\n",
       "      <th>data.303</th>\n",
       "      <th>data.307</th>\n",
       "      <th>data.401</th>\n",
       "      <th>data.403</th>\n",
       "      <th>data.404</th>\n",
       "      <th>data.410</th>\n",
       "      <th>...</th>\n",
       "      <th>data.308</th>\n",
       "      <th>data.501</th>\n",
       "      <th>data.504</th>\n",
       "      <th>data.520</th>\n",
       "      <th>data.400</th>\n",
       "      <th>data.204</th>\n",
       "      <th>data.304</th>\n",
       "      <th>data.592</th>\n",
       "      <th>data.523</th>\n",
       "      <th>data.521</th>\n",
       "    </tr>\n",
       "  </thead>\n",
       "  <tbody>\n",
       "    <tr>\n",
       "      <th>0</th>\n",
       "      <td>2019-05-29</td>\n",
       "      <td>5039</td>\n",
       "      <td>3628</td>\n",
       "      <td>894</td>\n",
       "      <td>39</td>\n",
       "      <td>43</td>\n",
       "      <td>10</td>\n",
       "      <td>11</td>\n",
       "      <td>361</td>\n",
       "      <td>9</td>\n",
       "      <td>...</td>\n",
       "      <td>NaN</td>\n",
       "      <td>NaN</td>\n",
       "      <td>NaN</td>\n",
       "      <td>NaN</td>\n",
       "      <td>NaN</td>\n",
       "      <td>NaN</td>\n",
       "      <td>NaN</td>\n",
       "      <td>NaN</td>\n",
       "      <td>NaN</td>\n",
       "      <td>NaN</td>\n",
       "    </tr>\n",
       "    <tr>\n",
       "      <th>1</th>\n",
       "      <td>2019-04-05</td>\n",
       "      <td>5311</td>\n",
       "      <td>3424</td>\n",
       "      <td>877</td>\n",
       "      <td>30</td>\n",
       "      <td>45</td>\n",
       "      <td>10</td>\n",
       "      <td>12</td>\n",
       "      <td>318</td>\n",
       "      <td>9</td>\n",
       "      <td>...</td>\n",
       "      <td>NaN</td>\n",
       "      <td>NaN</td>\n",
       "      <td>NaN</td>\n",
       "      <td>NaN</td>\n",
       "      <td>NaN</td>\n",
       "      <td>NaN</td>\n",
       "      <td>NaN</td>\n",
       "      <td>NaN</td>\n",
       "      <td>NaN</td>\n",
       "      <td>NaN</td>\n",
       "    </tr>\n",
       "    <tr>\n",
       "      <th>2</th>\n",
       "      <td>2019-02-21</td>\n",
       "      <td>5509</td>\n",
       "      <td>3253</td>\n",
       "      <td>890</td>\n",
       "      <td>32</td>\n",
       "      <td>35</td>\n",
       "      <td>10</td>\n",
       "      <td>11</td>\n",
       "      <td>281</td>\n",
       "      <td>11</td>\n",
       "      <td>...</td>\n",
       "      <td>NaN</td>\n",
       "      <td>NaN</td>\n",
       "      <td>NaN</td>\n",
       "      <td>NaN</td>\n",
       "      <td>NaN</td>\n",
       "      <td>NaN</td>\n",
       "      <td>NaN</td>\n",
       "      <td>NaN</td>\n",
       "      <td>NaN</td>\n",
       "      <td>NaN</td>\n",
       "    </tr>\n",
       "    <tr>\n",
       "      <th>3</th>\n",
       "      <td>2020-05-12</td>\n",
       "      <td>3967</td>\n",
       "      <td>4340</td>\n",
       "      <td>1080</td>\n",
       "      <td>42</td>\n",
       "      <td>33</td>\n",
       "      <td>12</td>\n",
       "      <td>29</td>\n",
       "      <td>443</td>\n",
       "      <td>11</td>\n",
       "      <td>...</td>\n",
       "      <td>12.0</td>\n",
       "      <td>1.0</td>\n",
       "      <td>2.0</td>\n",
       "      <td>3.0</td>\n",
       "      <td>NaN</td>\n",
       "      <td>NaN</td>\n",
       "      <td>NaN</td>\n",
       "      <td>NaN</td>\n",
       "      <td>NaN</td>\n",
       "      <td>NaN</td>\n",
       "    </tr>\n",
       "    <tr>\n",
       "      <th>4</th>\n",
       "      <td>2018-04-17</td>\n",
       "      <td>7708</td>\n",
       "      <td>1579</td>\n",
       "      <td>555</td>\n",
       "      <td>26</td>\n",
       "      <td>17</td>\n",
       "      <td>15</td>\n",
       "      <td>7</td>\n",
       "      <td>112</td>\n",
       "      <td>6</td>\n",
       "      <td>...</td>\n",
       "      <td>NaN</td>\n",
       "      <td>NaN</td>\n",
       "      <td>1.0</td>\n",
       "      <td>NaN</td>\n",
       "      <td>1.0</td>\n",
       "      <td>NaN</td>\n",
       "      <td>NaN</td>\n",
       "      <td>NaN</td>\n",
       "      <td>NaN</td>\n",
       "      <td>NaN</td>\n",
       "    </tr>\n",
       "  </tbody>\n",
       "</table>\n",
       "<p>5 rows × 24 columns</p>\n",
       "</div>"
      ],
      "text/plain": [
       "         date  data.200  data.301  data.302  data.303  data.307  data.401  \\\n",
       "0  2019-05-29      5039      3628       894        39        43        10   \n",
       "1  2019-04-05      5311      3424       877        30        45        10   \n",
       "2  2019-02-21      5509      3253       890        32        35        10   \n",
       "3  2020-05-12      3967      4340      1080        42        33        12   \n",
       "4  2018-04-17      7708      1579       555        26        17        15   \n",
       "\n",
       "   data.403  data.404  data.410  ...  data.308  data.501  data.504  data.520  \\\n",
       "0        11       361         9  ...       NaN       NaN       NaN       NaN   \n",
       "1        12       318         9  ...       NaN       NaN       NaN       NaN   \n",
       "2        11       281        11  ...       NaN       NaN       NaN       NaN   \n",
       "3        29       443        11  ...      12.0       1.0       2.0       3.0   \n",
       "4         7       112         6  ...       NaN       NaN       1.0       NaN   \n",
       "\n",
       "   data.400  data.204  data.304  data.592  data.523  data.521  \n",
       "0       NaN       NaN       NaN       NaN       NaN       NaN  \n",
       "1       NaN       NaN       NaN       NaN       NaN       NaN  \n",
       "2       NaN       NaN       NaN       NaN       NaN       NaN  \n",
       "3       NaN       NaN       NaN       NaN       NaN       NaN  \n",
       "4       1.0       NaN       NaN       NaN       NaN       NaN  \n",
       "\n",
       "[5 rows x 24 columns]"
      ]
     },
     "execution_count": 5,
     "metadata": {},
     "output_type": "execute_result"
    }
   ],
   "source": [
    "# Create a DF\n",
    "df_errors = pd.json_normalize(dict_data)\n",
    "df_errors.head()"
   ]
  },
  {
   "cell_type": "code",
   "execution_count": 6,
   "metadata": {},
   "outputs": [
    {
     "data": {
      "text/html": [
       "<div>\n",
       "<style scoped>\n",
       "    .dataframe tbody tr th:only-of-type {\n",
       "        vertical-align: middle;\n",
       "    }\n",
       "\n",
       "    .dataframe tbody tr th {\n",
       "        vertical-align: top;\n",
       "    }\n",
       "\n",
       "    .dataframe thead th {\n",
       "        text-align: right;\n",
       "    }\n",
       "</style>\n",
       "<table border=\"1\" class=\"dataframe\">\n",
       "  <thead>\n",
       "    <tr style=\"text-align: right;\">\n",
       "      <th></th>\n",
       "      <th>data.200</th>\n",
       "      <th>data.301</th>\n",
       "      <th>data.302</th>\n",
       "      <th>data.303</th>\n",
       "      <th>data.307</th>\n",
       "      <th>data.401</th>\n",
       "      <th>data.403</th>\n",
       "      <th>data.404</th>\n",
       "      <th>data.410</th>\n",
       "      <th>data.500</th>\n",
       "      <th>...</th>\n",
       "      <th>data.308</th>\n",
       "      <th>data.501</th>\n",
       "      <th>data.504</th>\n",
       "      <th>data.520</th>\n",
       "      <th>data.400</th>\n",
       "      <th>data.204</th>\n",
       "      <th>data.304</th>\n",
       "      <th>data.592</th>\n",
       "      <th>data.523</th>\n",
       "      <th>data.521</th>\n",
       "    </tr>\n",
       "    <tr>\n",
       "      <th>date</th>\n",
       "      <th></th>\n",
       "      <th></th>\n",
       "      <th></th>\n",
       "      <th></th>\n",
       "      <th></th>\n",
       "      <th></th>\n",
       "      <th></th>\n",
       "      <th></th>\n",
       "      <th></th>\n",
       "      <th></th>\n",
       "      <th></th>\n",
       "      <th></th>\n",
       "      <th></th>\n",
       "      <th></th>\n",
       "      <th></th>\n",
       "      <th></th>\n",
       "      <th></th>\n",
       "      <th></th>\n",
       "      <th></th>\n",
       "      <th></th>\n",
       "      <th></th>\n",
       "    </tr>\n",
       "  </thead>\n",
       "  <tbody>\n",
       "    <tr>\n",
       "      <th>2019-05-29</th>\n",
       "      <td>5039</td>\n",
       "      <td>3628</td>\n",
       "      <td>894</td>\n",
       "      <td>39</td>\n",
       "      <td>43</td>\n",
       "      <td>10</td>\n",
       "      <td>11</td>\n",
       "      <td>361</td>\n",
       "      <td>9</td>\n",
       "      <td>9</td>\n",
       "      <td>...</td>\n",
       "      <td>NaN</td>\n",
       "      <td>NaN</td>\n",
       "      <td>NaN</td>\n",
       "      <td>NaN</td>\n",
       "      <td>NaN</td>\n",
       "      <td>NaN</td>\n",
       "      <td>NaN</td>\n",
       "      <td>NaN</td>\n",
       "      <td>NaN</td>\n",
       "      <td>NaN</td>\n",
       "    </tr>\n",
       "    <tr>\n",
       "      <th>2019-04-05</th>\n",
       "      <td>5311</td>\n",
       "      <td>3424</td>\n",
       "      <td>877</td>\n",
       "      <td>30</td>\n",
       "      <td>45</td>\n",
       "      <td>10</td>\n",
       "      <td>12</td>\n",
       "      <td>318</td>\n",
       "      <td>9</td>\n",
       "      <td>8</td>\n",
       "      <td>...</td>\n",
       "      <td>NaN</td>\n",
       "      <td>NaN</td>\n",
       "      <td>NaN</td>\n",
       "      <td>NaN</td>\n",
       "      <td>NaN</td>\n",
       "      <td>NaN</td>\n",
       "      <td>NaN</td>\n",
       "      <td>NaN</td>\n",
       "      <td>NaN</td>\n",
       "      <td>NaN</td>\n",
       "    </tr>\n",
       "    <tr>\n",
       "      <th>2019-02-21</th>\n",
       "      <td>5509</td>\n",
       "      <td>3253</td>\n",
       "      <td>890</td>\n",
       "      <td>32</td>\n",
       "      <td>35</td>\n",
       "      <td>10</td>\n",
       "      <td>11</td>\n",
       "      <td>281</td>\n",
       "      <td>11</td>\n",
       "      <td>10</td>\n",
       "      <td>...</td>\n",
       "      <td>NaN</td>\n",
       "      <td>NaN</td>\n",
       "      <td>NaN</td>\n",
       "      <td>NaN</td>\n",
       "      <td>NaN</td>\n",
       "      <td>NaN</td>\n",
       "      <td>NaN</td>\n",
       "      <td>NaN</td>\n",
       "      <td>NaN</td>\n",
       "      <td>NaN</td>\n",
       "    </tr>\n",
       "    <tr>\n",
       "      <th>2020-05-12</th>\n",
       "      <td>3967</td>\n",
       "      <td>4340</td>\n",
       "      <td>1080</td>\n",
       "      <td>42</td>\n",
       "      <td>33</td>\n",
       "      <td>12</td>\n",
       "      <td>29</td>\n",
       "      <td>443</td>\n",
       "      <td>11</td>\n",
       "      <td>8</td>\n",
       "      <td>...</td>\n",
       "      <td>12.0</td>\n",
       "      <td>1.0</td>\n",
       "      <td>2.0</td>\n",
       "      <td>3.0</td>\n",
       "      <td>NaN</td>\n",
       "      <td>NaN</td>\n",
       "      <td>NaN</td>\n",
       "      <td>NaN</td>\n",
       "      <td>NaN</td>\n",
       "      <td>NaN</td>\n",
       "    </tr>\n",
       "    <tr>\n",
       "      <th>2018-04-17</th>\n",
       "      <td>7708</td>\n",
       "      <td>1579</td>\n",
       "      <td>555</td>\n",
       "      <td>26</td>\n",
       "      <td>17</td>\n",
       "      <td>15</td>\n",
       "      <td>7</td>\n",
       "      <td>112</td>\n",
       "      <td>6</td>\n",
       "      <td>5</td>\n",
       "      <td>...</td>\n",
       "      <td>NaN</td>\n",
       "      <td>NaN</td>\n",
       "      <td>1.0</td>\n",
       "      <td>NaN</td>\n",
       "      <td>1.0</td>\n",
       "      <td>NaN</td>\n",
       "      <td>NaN</td>\n",
       "      <td>NaN</td>\n",
       "      <td>NaN</td>\n",
       "      <td>NaN</td>\n",
       "    </tr>\n",
       "  </tbody>\n",
       "</table>\n",
       "<p>5 rows × 23 columns</p>\n",
       "</div>"
      ],
      "text/plain": [
       "            data.200  data.301  data.302  data.303  data.307  data.401  \\\n",
       "date                                                                     \n",
       "2019-05-29      5039      3628       894        39        43        10   \n",
       "2019-04-05      5311      3424       877        30        45        10   \n",
       "2019-02-21      5509      3253       890        32        35        10   \n",
       "2020-05-12      3967      4340      1080        42        33        12   \n",
       "2018-04-17      7708      1579       555        26        17        15   \n",
       "\n",
       "            data.403  data.404  data.410  data.500  ...  data.308  data.501  \\\n",
       "date                                                ...                       \n",
       "2019-05-29        11       361         9         9  ...       NaN       NaN   \n",
       "2019-04-05        12       318         9         8  ...       NaN       NaN   \n",
       "2019-02-21        11       281        11        10  ...       NaN       NaN   \n",
       "2020-05-12        29       443        11         8  ...      12.0       1.0   \n",
       "2018-04-17         7       112         6         5  ...       NaN       NaN   \n",
       "\n",
       "            data.504  data.520  data.400  data.204  data.304  data.592  \\\n",
       "date                                                                     \n",
       "2019-05-29       NaN       NaN       NaN       NaN       NaN       NaN   \n",
       "2019-04-05       NaN       NaN       NaN       NaN       NaN       NaN   \n",
       "2019-02-21       NaN       NaN       NaN       NaN       NaN       NaN   \n",
       "2020-05-12       2.0       3.0       NaN       NaN       NaN       NaN   \n",
       "2018-04-17       1.0       NaN       1.0       NaN       NaN       NaN   \n",
       "\n",
       "            data.523  data.521  \n",
       "date                            \n",
       "2019-05-29       NaN       NaN  \n",
       "2019-04-05       NaN       NaN  \n",
       "2019-02-21       NaN       NaN  \n",
       "2020-05-12       NaN       NaN  \n",
       "2018-04-17       NaN       NaN  \n",
       "\n",
       "[5 rows x 23 columns]"
      ]
     },
     "execution_count": 6,
     "metadata": {},
     "output_type": "execute_result"
    }
   ],
   "source": [
    "# Set date column as index\n",
    "df_errors.set_index('date', inplace=True)\n",
    "df_errors.head()"
   ]
  },
  {
   "cell_type": "code",
   "execution_count": 7,
   "metadata": {},
   "outputs": [
    {
     "data": {
      "text/html": [
       "<div>\n",
       "<style scoped>\n",
       "    .dataframe tbody tr th:only-of-type {\n",
       "        vertical-align: middle;\n",
       "    }\n",
       "\n",
       "    .dataframe tbody tr th {\n",
       "        vertical-align: top;\n",
       "    }\n",
       "\n",
       "    .dataframe thead th {\n",
       "        text-align: right;\n",
       "    }\n",
       "</style>\n",
       "<table border=\"1\" class=\"dataframe\">\n",
       "  <thead>\n",
       "    <tr style=\"text-align: right;\">\n",
       "      <th></th>\n",
       "      <th>data.200</th>\n",
       "      <th>data.301</th>\n",
       "      <th>data.302</th>\n",
       "      <th>data.303</th>\n",
       "      <th>data.307</th>\n",
       "      <th>data.401</th>\n",
       "      <th>data.403</th>\n",
       "      <th>data.404</th>\n",
       "      <th>data.410</th>\n",
       "      <th>data.500</th>\n",
       "      <th>...</th>\n",
       "      <th>data.308</th>\n",
       "      <th>data.501</th>\n",
       "      <th>data.504</th>\n",
       "      <th>data.520</th>\n",
       "      <th>data.400</th>\n",
       "      <th>data.204</th>\n",
       "      <th>data.304</th>\n",
       "      <th>data.592</th>\n",
       "      <th>data.523</th>\n",
       "      <th>data.521</th>\n",
       "    </tr>\n",
       "    <tr>\n",
       "      <th>date</th>\n",
       "      <th></th>\n",
       "      <th></th>\n",
       "      <th></th>\n",
       "      <th></th>\n",
       "      <th></th>\n",
       "      <th></th>\n",
       "      <th></th>\n",
       "      <th></th>\n",
       "      <th></th>\n",
       "      <th></th>\n",
       "      <th></th>\n",
       "      <th></th>\n",
       "      <th></th>\n",
       "      <th></th>\n",
       "      <th></th>\n",
       "      <th></th>\n",
       "      <th></th>\n",
       "      <th></th>\n",
       "      <th></th>\n",
       "      <th></th>\n",
       "      <th></th>\n",
       "    </tr>\n",
       "  </thead>\n",
       "  <tbody>\n",
       "    <tr>\n",
       "      <th>2018-02-07</th>\n",
       "      <td>8315</td>\n",
       "      <td>1122</td>\n",
       "      <td>512</td>\n",
       "      <td>27</td>\n",
       "      <td>17</td>\n",
       "      <td>5</td>\n",
       "      <td>3</td>\n",
       "      <td>35</td>\n",
       "      <td>7</td>\n",
       "      <td>4</td>\n",
       "      <td>...</td>\n",
       "      <td>NaN</td>\n",
       "      <td>NaN</td>\n",
       "      <td>2.0</td>\n",
       "      <td>NaN</td>\n",
       "      <td>NaN</td>\n",
       "      <td>NaN</td>\n",
       "      <td>NaN</td>\n",
       "      <td>NaN</td>\n",
       "      <td>NaN</td>\n",
       "      <td>NaN</td>\n",
       "    </tr>\n",
       "    <tr>\n",
       "      <th>2018-02-09</th>\n",
       "      <td>8302</td>\n",
       "      <td>1128</td>\n",
       "      <td>525</td>\n",
       "      <td>28</td>\n",
       "      <td>16</td>\n",
       "      <td>5</td>\n",
       "      <td>3</td>\n",
       "      <td>38</td>\n",
       "      <td>7</td>\n",
       "      <td>4</td>\n",
       "      <td>...</td>\n",
       "      <td>NaN</td>\n",
       "      <td>NaN</td>\n",
       "      <td>NaN</td>\n",
       "      <td>NaN</td>\n",
       "      <td>NaN</td>\n",
       "      <td>NaN</td>\n",
       "      <td>NaN</td>\n",
       "      <td>NaN</td>\n",
       "      <td>NaN</td>\n",
       "      <td>NaN</td>\n",
       "    </tr>\n",
       "    <tr>\n",
       "      <th>2018-02-14</th>\n",
       "      <td>8276</td>\n",
       "      <td>1143</td>\n",
       "      <td>525</td>\n",
       "      <td>27</td>\n",
       "      <td>19</td>\n",
       "      <td>5</td>\n",
       "      <td>3</td>\n",
       "      <td>42</td>\n",
       "      <td>7</td>\n",
       "      <td>3</td>\n",
       "      <td>...</td>\n",
       "      <td>NaN</td>\n",
       "      <td>NaN</td>\n",
       "      <td>1.0</td>\n",
       "      <td>NaN</td>\n",
       "      <td>NaN</td>\n",
       "      <td>1.0</td>\n",
       "      <td>NaN</td>\n",
       "      <td>NaN</td>\n",
       "      <td>NaN</td>\n",
       "      <td>NaN</td>\n",
       "    </tr>\n",
       "    <tr>\n",
       "      <th>2018-03-21</th>\n",
       "      <td>7917</td>\n",
       "      <td>1408</td>\n",
       "      <td>543</td>\n",
       "      <td>27</td>\n",
       "      <td>17</td>\n",
       "      <td>15</td>\n",
       "      <td>2</td>\n",
       "      <td>94</td>\n",
       "      <td>5</td>\n",
       "      <td>6</td>\n",
       "      <td>...</td>\n",
       "      <td>NaN</td>\n",
       "      <td>NaN</td>\n",
       "      <td>3.0</td>\n",
       "      <td>NaN</td>\n",
       "      <td>NaN</td>\n",
       "      <td>NaN</td>\n",
       "      <td>NaN</td>\n",
       "      <td>NaN</td>\n",
       "      <td>NaN</td>\n",
       "      <td>NaN</td>\n",
       "    </tr>\n",
       "    <tr>\n",
       "      <th>2018-03-29</th>\n",
       "      <td>7894</td>\n",
       "      <td>1457</td>\n",
       "      <td>528</td>\n",
       "      <td>24</td>\n",
       "      <td>16</td>\n",
       "      <td>15</td>\n",
       "      <td>8</td>\n",
       "      <td>91</td>\n",
       "      <td>5</td>\n",
       "      <td>3</td>\n",
       "      <td>...</td>\n",
       "      <td>NaN</td>\n",
       "      <td>NaN</td>\n",
       "      <td>8.0</td>\n",
       "      <td>NaN</td>\n",
       "      <td>NaN</td>\n",
       "      <td>NaN</td>\n",
       "      <td>NaN</td>\n",
       "      <td>2.0</td>\n",
       "      <td>NaN</td>\n",
       "      <td>NaN</td>\n",
       "    </tr>\n",
       "  </tbody>\n",
       "</table>\n",
       "<p>5 rows × 23 columns</p>\n",
       "</div>"
      ],
      "text/plain": [
       "            data.200  data.301  data.302  data.303  data.307  data.401  \\\n",
       "date                                                                     \n",
       "2018-02-07      8315      1122       512        27        17         5   \n",
       "2018-02-09      8302      1128       525        28        16         5   \n",
       "2018-02-14      8276      1143       525        27        19         5   \n",
       "2018-03-21      7917      1408       543        27        17        15   \n",
       "2018-03-29      7894      1457       528        24        16        15   \n",
       "\n",
       "            data.403  data.404  data.410  data.500  ...  data.308  data.501  \\\n",
       "date                                                ...                       \n",
       "2018-02-07         3        35         7         4  ...       NaN       NaN   \n",
       "2018-02-09         3        38         7         4  ...       NaN       NaN   \n",
       "2018-02-14         3        42         7         3  ...       NaN       NaN   \n",
       "2018-03-21         2        94         5         6  ...       NaN       NaN   \n",
       "2018-03-29         8        91         5         3  ...       NaN       NaN   \n",
       "\n",
       "            data.504  data.520  data.400  data.204  data.304  data.592  \\\n",
       "date                                                                     \n",
       "2018-02-07       2.0       NaN       NaN       NaN       NaN       NaN   \n",
       "2018-02-09       NaN       NaN       NaN       NaN       NaN       NaN   \n",
       "2018-02-14       1.0       NaN       NaN       1.0       NaN       NaN   \n",
       "2018-03-21       3.0       NaN       NaN       NaN       NaN       NaN   \n",
       "2018-03-29       8.0       NaN       NaN       NaN       NaN       2.0   \n",
       "\n",
       "            data.523  data.521  \n",
       "date                            \n",
       "2018-02-07       NaN       NaN  \n",
       "2018-02-09       NaN       NaN  \n",
       "2018-02-14       NaN       NaN  \n",
       "2018-03-21       NaN       NaN  \n",
       "2018-03-29       NaN       NaN  \n",
       "\n",
       "[5 rows x 23 columns]"
      ]
     },
     "execution_count": 7,
     "metadata": {},
     "output_type": "execute_result"
    }
   ],
   "source": [
    "# Sort dataframe by index (status codes)\n",
    "df_errors = df_errors.sort_index()\n",
    "df_errors.head()"
   ]
  },
  {
   "cell_type": "code",
   "execution_count": 8,
   "metadata": {},
   "outputs": [
    {
     "data": {
      "text/html": [
       "<div>\n",
       "<style scoped>\n",
       "    .dataframe tbody tr th:only-of-type {\n",
       "        vertical-align: middle;\n",
       "    }\n",
       "\n",
       "    .dataframe tbody tr th {\n",
       "        vertical-align: top;\n",
       "    }\n",
       "\n",
       "    .dataframe thead th {\n",
       "        text-align: right;\n",
       "    }\n",
       "</style>\n",
       "<table border=\"1\" class=\"dataframe\">\n",
       "  <thead>\n",
       "    <tr style=\"text-align: right;\">\n",
       "      <th>date</th>\n",
       "      <th>2018-02-07</th>\n",
       "      <th>2018-02-09</th>\n",
       "      <th>2018-02-14</th>\n",
       "      <th>2018-03-21</th>\n",
       "      <th>2018-03-29</th>\n",
       "      <th>2018-04-09</th>\n",
       "      <th>2018-04-17</th>\n",
       "      <th>2018-05-05</th>\n",
       "      <th>2018-05-19</th>\n",
       "      <th>2018-05-25</th>\n",
       "      <th>...</th>\n",
       "      <th>2019-12-22</th>\n",
       "      <th>2020-01-13</th>\n",
       "      <th>2020-02-07</th>\n",
       "      <th>2020-02-25</th>\n",
       "      <th>2020-03-10</th>\n",
       "      <th>2020-03-24</th>\n",
       "      <th>2020-04-07</th>\n",
       "      <th>2020-05-12</th>\n",
       "      <th>2020-06-02</th>\n",
       "      <th>2020-06-19</th>\n",
       "    </tr>\n",
       "  </thead>\n",
       "  <tbody>\n",
       "    <tr>\n",
       "      <th>data.200</th>\n",
       "      <td>8315.0</td>\n",
       "      <td>8302.0</td>\n",
       "      <td>8276.0</td>\n",
       "      <td>7917.0</td>\n",
       "      <td>7894.0</td>\n",
       "      <td>7819.0</td>\n",
       "      <td>7708.0</td>\n",
       "      <td>7542.0</td>\n",
       "      <td>7418.0</td>\n",
       "      <td>7301.0</td>\n",
       "      <td>...</td>\n",
       "      <td>4373.0</td>\n",
       "      <td>4357.0</td>\n",
       "      <td>4220.0</td>\n",
       "      <td>4184.0</td>\n",
       "      <td>4138.0</td>\n",
       "      <td>4102.0</td>\n",
       "      <td>4055.0</td>\n",
       "      <td>3967.0</td>\n",
       "      <td>3924.0</td>\n",
       "      <td>3891.0</td>\n",
       "    </tr>\n",
       "    <tr>\n",
       "      <th>data.301</th>\n",
       "      <td>1122.0</td>\n",
       "      <td>1128.0</td>\n",
       "      <td>1143.0</td>\n",
       "      <td>1408.0</td>\n",
       "      <td>1457.0</td>\n",
       "      <td>1502.0</td>\n",
       "      <td>1579.0</td>\n",
       "      <td>1724.0</td>\n",
       "      <td>1794.0</td>\n",
       "      <td>1847.0</td>\n",
       "      <td>...</td>\n",
       "      <td>4082.0</td>\n",
       "      <td>4099.0</td>\n",
       "      <td>4143.0</td>\n",
       "      <td>4178.0</td>\n",
       "      <td>4200.0</td>\n",
       "      <td>4271.0</td>\n",
       "      <td>4273.0</td>\n",
       "      <td>4340.0</td>\n",
       "      <td>4350.0</td>\n",
       "      <td>4407.0</td>\n",
       "    </tr>\n",
       "    <tr>\n",
       "      <th>data.302</th>\n",
       "      <td>512.0</td>\n",
       "      <td>525.0</td>\n",
       "      <td>525.0</td>\n",
       "      <td>543.0</td>\n",
       "      <td>528.0</td>\n",
       "      <td>555.0</td>\n",
       "      <td>555.0</td>\n",
       "      <td>575.0</td>\n",
       "      <td>588.0</td>\n",
       "      <td>626.0</td>\n",
       "      <td>...</td>\n",
       "      <td>979.0</td>\n",
       "      <td>984.0</td>\n",
       "      <td>1024.0</td>\n",
       "      <td>1046.0</td>\n",
       "      <td>1069.0</td>\n",
       "      <td>1052.0</td>\n",
       "      <td>1081.0</td>\n",
       "      <td>1080.0</td>\n",
       "      <td>1086.0</td>\n",
       "      <td>1093.0</td>\n",
       "    </tr>\n",
       "    <tr>\n",
       "      <th>data.303</th>\n",
       "      <td>27.0</td>\n",
       "      <td>28.0</td>\n",
       "      <td>27.0</td>\n",
       "      <td>27.0</td>\n",
       "      <td>24.0</td>\n",
       "      <td>26.0</td>\n",
       "      <td>26.0</td>\n",
       "      <td>28.0</td>\n",
       "      <td>27.0</td>\n",
       "      <td>28.0</td>\n",
       "      <td>...</td>\n",
       "      <td>39.0</td>\n",
       "      <td>39.0</td>\n",
       "      <td>39.0</td>\n",
       "      <td>39.0</td>\n",
       "      <td>35.0</td>\n",
       "      <td>35.0</td>\n",
       "      <td>34.0</td>\n",
       "      <td>42.0</td>\n",
       "      <td>42.0</td>\n",
       "      <td>31.0</td>\n",
       "    </tr>\n",
       "    <tr>\n",
       "      <th>data.307</th>\n",
       "      <td>17.0</td>\n",
       "      <td>16.0</td>\n",
       "      <td>19.0</td>\n",
       "      <td>17.0</td>\n",
       "      <td>16.0</td>\n",
       "      <td>16.0</td>\n",
       "      <td>17.0</td>\n",
       "      <td>21.0</td>\n",
       "      <td>21.0</td>\n",
       "      <td>28.0</td>\n",
       "      <td>...</td>\n",
       "      <td>24.0</td>\n",
       "      <td>24.0</td>\n",
       "      <td>24.0</td>\n",
       "      <td>34.0</td>\n",
       "      <td>31.0</td>\n",
       "      <td>33.0</td>\n",
       "      <td>32.0</td>\n",
       "      <td>33.0</td>\n",
       "      <td>34.0</td>\n",
       "      <td>31.0</td>\n",
       "    </tr>\n",
       "  </tbody>\n",
       "</table>\n",
       "<p>5 rows × 59 columns</p>\n",
       "</div>"
      ],
      "text/plain": [
       "date      2018-02-07  2018-02-09  2018-02-14  2018-03-21  2018-03-29  \\\n",
       "data.200      8315.0      8302.0      8276.0      7917.0      7894.0   \n",
       "data.301      1122.0      1128.0      1143.0      1408.0      1457.0   \n",
       "data.302       512.0       525.0       525.0       543.0       528.0   \n",
       "data.303        27.0        28.0        27.0        27.0        24.0   \n",
       "data.307        17.0        16.0        19.0        17.0        16.0   \n",
       "\n",
       "date      2018-04-09  2018-04-17  2018-05-05  2018-05-19  2018-05-25  ...  \\\n",
       "data.200      7819.0      7708.0      7542.0      7418.0      7301.0  ...   \n",
       "data.301      1502.0      1579.0      1724.0      1794.0      1847.0  ...   \n",
       "data.302       555.0       555.0       575.0       588.0       626.0  ...   \n",
       "data.303        26.0        26.0        28.0        27.0        28.0  ...   \n",
       "data.307        16.0        17.0        21.0        21.0        28.0  ...   \n",
       "\n",
       "date      2019-12-22  2020-01-13  2020-02-07  2020-02-25  2020-03-10  \\\n",
       "data.200      4373.0      4357.0      4220.0      4184.0      4138.0   \n",
       "data.301      4082.0      4099.0      4143.0      4178.0      4200.0   \n",
       "data.302       979.0       984.0      1024.0      1046.0      1069.0   \n",
       "data.303        39.0        39.0        39.0        39.0        35.0   \n",
       "data.307        24.0        24.0        24.0        34.0        31.0   \n",
       "\n",
       "date      2020-03-24  2020-04-07  2020-05-12  2020-06-02  2020-06-19  \n",
       "data.200      4102.0      4055.0      3967.0      3924.0      3891.0  \n",
       "data.301      4271.0      4273.0      4340.0      4350.0      4407.0  \n",
       "data.302      1052.0      1081.0      1080.0      1086.0      1093.0  \n",
       "data.303        35.0        34.0        42.0        42.0        31.0  \n",
       "data.307        33.0        32.0        33.0        34.0        31.0  \n",
       "\n",
       "[5 rows x 59 columns]"
      ]
     },
     "execution_count": 8,
     "metadata": {},
     "output_type": "execute_result"
    }
   ],
   "source": [
    "# Transpose the DF\n",
    "df_errors = df_errors.T\n",
    "df_errors.head()"
   ]
  },
  {
   "cell_type": "code",
   "execution_count": 9,
   "metadata": {},
   "outputs": [
    {
     "data": {
      "text/html": [
       "<div>\n",
       "<style scoped>\n",
       "    .dataframe tbody tr th:only-of-type {\n",
       "        vertical-align: middle;\n",
       "    }\n",
       "\n",
       "    .dataframe tbody tr th {\n",
       "        vertical-align: top;\n",
       "    }\n",
       "\n",
       "    .dataframe thead th {\n",
       "        text-align: right;\n",
       "    }\n",
       "</style>\n",
       "<table border=\"1\" class=\"dataframe\">\n",
       "  <thead>\n",
       "    <tr style=\"text-align: right;\">\n",
       "      <th>date</th>\n",
       "      <th>2018-02-07</th>\n",
       "      <th>2018-02-09</th>\n",
       "      <th>2018-02-14</th>\n",
       "      <th>2018-03-21</th>\n",
       "      <th>2018-03-29</th>\n",
       "      <th>2018-04-09</th>\n",
       "      <th>2018-04-17</th>\n",
       "      <th>2018-05-05</th>\n",
       "      <th>2018-05-19</th>\n",
       "      <th>2018-05-25</th>\n",
       "      <th>...</th>\n",
       "      <th>2019-12-22</th>\n",
       "      <th>2020-01-13</th>\n",
       "      <th>2020-02-07</th>\n",
       "      <th>2020-02-25</th>\n",
       "      <th>2020-03-10</th>\n",
       "      <th>2020-03-24</th>\n",
       "      <th>2020-04-07</th>\n",
       "      <th>2020-05-12</th>\n",
       "      <th>2020-06-02</th>\n",
       "      <th>2020-06-19</th>\n",
       "    </tr>\n",
       "  </thead>\n",
       "  <tbody>\n",
       "    <tr>\n",
       "      <th>data.200</th>\n",
       "      <td>8315.0</td>\n",
       "      <td>8302.0</td>\n",
       "      <td>8276.0</td>\n",
       "      <td>7917.0</td>\n",
       "      <td>7894.0</td>\n",
       "      <td>7819.0</td>\n",
       "      <td>7708.0</td>\n",
       "      <td>7542.0</td>\n",
       "      <td>7418.0</td>\n",
       "      <td>7301.0</td>\n",
       "      <td>...</td>\n",
       "      <td>4373.0</td>\n",
       "      <td>4357.0</td>\n",
       "      <td>4220.0</td>\n",
       "      <td>4184.0</td>\n",
       "      <td>4138.0</td>\n",
       "      <td>4102.0</td>\n",
       "      <td>4055.0</td>\n",
       "      <td>3967.0</td>\n",
       "      <td>3924.0</td>\n",
       "      <td>3891.0</td>\n",
       "    </tr>\n",
       "    <tr>\n",
       "      <th>data.204</th>\n",
       "      <td>NaN</td>\n",
       "      <td>NaN</td>\n",
       "      <td>1.0</td>\n",
       "      <td>NaN</td>\n",
       "      <td>NaN</td>\n",
       "      <td>NaN</td>\n",
       "      <td>NaN</td>\n",
       "      <td>NaN</td>\n",
       "      <td>NaN</td>\n",
       "      <td>NaN</td>\n",
       "      <td>...</td>\n",
       "      <td>NaN</td>\n",
       "      <td>1.0</td>\n",
       "      <td>NaN</td>\n",
       "      <td>NaN</td>\n",
       "      <td>1.0</td>\n",
       "      <td>NaN</td>\n",
       "      <td>NaN</td>\n",
       "      <td>NaN</td>\n",
       "      <td>NaN</td>\n",
       "      <td>NaN</td>\n",
       "    </tr>\n",
       "    <tr>\n",
       "      <th>data.301</th>\n",
       "      <td>1122.0</td>\n",
       "      <td>1128.0</td>\n",
       "      <td>1143.0</td>\n",
       "      <td>1408.0</td>\n",
       "      <td>1457.0</td>\n",
       "      <td>1502.0</td>\n",
       "      <td>1579.0</td>\n",
       "      <td>1724.0</td>\n",
       "      <td>1794.0</td>\n",
       "      <td>1847.0</td>\n",
       "      <td>...</td>\n",
       "      <td>4082.0</td>\n",
       "      <td>4099.0</td>\n",
       "      <td>4143.0</td>\n",
       "      <td>4178.0</td>\n",
       "      <td>4200.0</td>\n",
       "      <td>4271.0</td>\n",
       "      <td>4273.0</td>\n",
       "      <td>4340.0</td>\n",
       "      <td>4350.0</td>\n",
       "      <td>4407.0</td>\n",
       "    </tr>\n",
       "    <tr>\n",
       "      <th>data.302</th>\n",
       "      <td>512.0</td>\n",
       "      <td>525.0</td>\n",
       "      <td>525.0</td>\n",
       "      <td>543.0</td>\n",
       "      <td>528.0</td>\n",
       "      <td>555.0</td>\n",
       "      <td>555.0</td>\n",
       "      <td>575.0</td>\n",
       "      <td>588.0</td>\n",
       "      <td>626.0</td>\n",
       "      <td>...</td>\n",
       "      <td>979.0</td>\n",
       "      <td>984.0</td>\n",
       "      <td>1024.0</td>\n",
       "      <td>1046.0</td>\n",
       "      <td>1069.0</td>\n",
       "      <td>1052.0</td>\n",
       "      <td>1081.0</td>\n",
       "      <td>1080.0</td>\n",
       "      <td>1086.0</td>\n",
       "      <td>1093.0</td>\n",
       "    </tr>\n",
       "    <tr>\n",
       "      <th>data.303</th>\n",
       "      <td>27.0</td>\n",
       "      <td>28.0</td>\n",
       "      <td>27.0</td>\n",
       "      <td>27.0</td>\n",
       "      <td>24.0</td>\n",
       "      <td>26.0</td>\n",
       "      <td>26.0</td>\n",
       "      <td>28.0</td>\n",
       "      <td>27.0</td>\n",
       "      <td>28.0</td>\n",
       "      <td>...</td>\n",
       "      <td>39.0</td>\n",
       "      <td>39.0</td>\n",
       "      <td>39.0</td>\n",
       "      <td>39.0</td>\n",
       "      <td>35.0</td>\n",
       "      <td>35.0</td>\n",
       "      <td>34.0</td>\n",
       "      <td>42.0</td>\n",
       "      <td>42.0</td>\n",
       "      <td>31.0</td>\n",
       "    </tr>\n",
       "  </tbody>\n",
       "</table>\n",
       "<p>5 rows × 59 columns</p>\n",
       "</div>"
      ],
      "text/plain": [
       "date      2018-02-07  2018-02-09  2018-02-14  2018-03-21  2018-03-29  \\\n",
       "data.200      8315.0      8302.0      8276.0      7917.0      7894.0   \n",
       "data.204         NaN         NaN         1.0         NaN         NaN   \n",
       "data.301      1122.0      1128.0      1143.0      1408.0      1457.0   \n",
       "data.302       512.0       525.0       525.0       543.0       528.0   \n",
       "data.303        27.0        28.0        27.0        27.0        24.0   \n",
       "\n",
       "date      2018-04-09  2018-04-17  2018-05-05  2018-05-19  2018-05-25  ...  \\\n",
       "data.200      7819.0      7708.0      7542.0      7418.0      7301.0  ...   \n",
       "data.204         NaN         NaN         NaN         NaN         NaN  ...   \n",
       "data.301      1502.0      1579.0      1724.0      1794.0      1847.0  ...   \n",
       "data.302       555.0       555.0       575.0       588.0       626.0  ...   \n",
       "data.303        26.0        26.0        28.0        27.0        28.0  ...   \n",
       "\n",
       "date      2019-12-22  2020-01-13  2020-02-07  2020-02-25  2020-03-10  \\\n",
       "data.200      4373.0      4357.0      4220.0      4184.0      4138.0   \n",
       "data.204         NaN         1.0         NaN         NaN         1.0   \n",
       "data.301      4082.0      4099.0      4143.0      4178.0      4200.0   \n",
       "data.302       979.0       984.0      1024.0      1046.0      1069.0   \n",
       "data.303        39.0        39.0        39.0        39.0        35.0   \n",
       "\n",
       "date      2020-03-24  2020-04-07  2020-05-12  2020-06-02  2020-06-19  \n",
       "data.200      4102.0      4055.0      3967.0      3924.0      3891.0  \n",
       "data.204         NaN         NaN         NaN         NaN         NaN  \n",
       "data.301      4271.0      4273.0      4340.0      4350.0      4407.0  \n",
       "data.302      1052.0      1081.0      1080.0      1086.0      1093.0  \n",
       "data.303        35.0        34.0        42.0        42.0        31.0  \n",
       "\n",
       "[5 rows x 59 columns]"
      ]
     },
     "execution_count": 9,
     "metadata": {},
     "output_type": "execute_result"
    }
   ],
   "source": [
    "# Sort dataframe by index (status codes)\n",
    "df_errors = df_errors.sort_index()\n",
    "df_errors.head()"
   ]
  },
  {
   "cell_type": "code",
   "execution_count": 10,
   "metadata": {},
   "outputs": [
    {
     "data": {
      "text/html": [
       "<div>\n",
       "<style scoped>\n",
       "    .dataframe tbody tr th:only-of-type {\n",
       "        vertical-align: middle;\n",
       "    }\n",
       "\n",
       "    .dataframe tbody tr th {\n",
       "        vertical-align: top;\n",
       "    }\n",
       "\n",
       "    .dataframe thead th {\n",
       "        text-align: right;\n",
       "    }\n",
       "</style>\n",
       "<table border=\"1\" class=\"dataframe\">\n",
       "  <thead>\n",
       "    <tr style=\"text-align: right;\">\n",
       "      <th></th>\n",
       "      <th>data.200</th>\n",
       "      <th>data.204</th>\n",
       "      <th>data.301</th>\n",
       "      <th>data.302</th>\n",
       "      <th>data.303</th>\n",
       "      <th>data.304</th>\n",
       "      <th>data.307</th>\n",
       "      <th>data.308</th>\n",
       "      <th>data.400</th>\n",
       "      <th>data.401</th>\n",
       "      <th>...</th>\n",
       "      <th>data.500</th>\n",
       "      <th>data.501</th>\n",
       "      <th>data.502</th>\n",
       "      <th>data.503</th>\n",
       "      <th>data.504</th>\n",
       "      <th>data.520</th>\n",
       "      <th>data.521</th>\n",
       "      <th>data.522</th>\n",
       "      <th>data.523</th>\n",
       "      <th>data.592</th>\n",
       "    </tr>\n",
       "    <tr>\n",
       "      <th>date</th>\n",
       "      <th></th>\n",
       "      <th></th>\n",
       "      <th></th>\n",
       "      <th></th>\n",
       "      <th></th>\n",
       "      <th></th>\n",
       "      <th></th>\n",
       "      <th></th>\n",
       "      <th></th>\n",
       "      <th></th>\n",
       "      <th></th>\n",
       "      <th></th>\n",
       "      <th></th>\n",
       "      <th></th>\n",
       "      <th></th>\n",
       "      <th></th>\n",
       "      <th></th>\n",
       "      <th></th>\n",
       "      <th></th>\n",
       "      <th></th>\n",
       "      <th></th>\n",
       "    </tr>\n",
       "  </thead>\n",
       "  <tbody>\n",
       "    <tr>\n",
       "      <th>2018-02-07</th>\n",
       "      <td>8315.0</td>\n",
       "      <td>NaN</td>\n",
       "      <td>1122.0</td>\n",
       "      <td>512.0</td>\n",
       "      <td>27.0</td>\n",
       "      <td>NaN</td>\n",
       "      <td>17.0</td>\n",
       "      <td>NaN</td>\n",
       "      <td>NaN</td>\n",
       "      <td>5.0</td>\n",
       "      <td>...</td>\n",
       "      <td>4.0</td>\n",
       "      <td>NaN</td>\n",
       "      <td>NaN</td>\n",
       "      <td>7.0</td>\n",
       "      <td>2.0</td>\n",
       "      <td>NaN</td>\n",
       "      <td>NaN</td>\n",
       "      <td>NaN</td>\n",
       "      <td>NaN</td>\n",
       "      <td>NaN</td>\n",
       "    </tr>\n",
       "    <tr>\n",
       "      <th>2018-02-09</th>\n",
       "      <td>8302.0</td>\n",
       "      <td>NaN</td>\n",
       "      <td>1128.0</td>\n",
       "      <td>525.0</td>\n",
       "      <td>28.0</td>\n",
       "      <td>NaN</td>\n",
       "      <td>16.0</td>\n",
       "      <td>NaN</td>\n",
       "      <td>NaN</td>\n",
       "      <td>5.0</td>\n",
       "      <td>...</td>\n",
       "      <td>4.0</td>\n",
       "      <td>NaN</td>\n",
       "      <td>1.0</td>\n",
       "      <td>1.0</td>\n",
       "      <td>NaN</td>\n",
       "      <td>NaN</td>\n",
       "      <td>NaN</td>\n",
       "      <td>NaN</td>\n",
       "      <td>NaN</td>\n",
       "      <td>NaN</td>\n",
       "    </tr>\n",
       "    <tr>\n",
       "      <th>2018-02-14</th>\n",
       "      <td>8276.0</td>\n",
       "      <td>1.0</td>\n",
       "      <td>1143.0</td>\n",
       "      <td>525.0</td>\n",
       "      <td>27.0</td>\n",
       "      <td>NaN</td>\n",
       "      <td>19.0</td>\n",
       "      <td>NaN</td>\n",
       "      <td>NaN</td>\n",
       "      <td>5.0</td>\n",
       "      <td>...</td>\n",
       "      <td>3.0</td>\n",
       "      <td>NaN</td>\n",
       "      <td>2.0</td>\n",
       "      <td>1.0</td>\n",
       "      <td>1.0</td>\n",
       "      <td>NaN</td>\n",
       "      <td>NaN</td>\n",
       "      <td>NaN</td>\n",
       "      <td>NaN</td>\n",
       "      <td>NaN</td>\n",
       "    </tr>\n",
       "    <tr>\n",
       "      <th>2018-03-21</th>\n",
       "      <td>7917.0</td>\n",
       "      <td>NaN</td>\n",
       "      <td>1408.0</td>\n",
       "      <td>543.0</td>\n",
       "      <td>27.0</td>\n",
       "      <td>NaN</td>\n",
       "      <td>17.0</td>\n",
       "      <td>NaN</td>\n",
       "      <td>NaN</td>\n",
       "      <td>15.0</td>\n",
       "      <td>...</td>\n",
       "      <td>6.0</td>\n",
       "      <td>NaN</td>\n",
       "      <td>NaN</td>\n",
       "      <td>3.0</td>\n",
       "      <td>3.0</td>\n",
       "      <td>NaN</td>\n",
       "      <td>NaN</td>\n",
       "      <td>NaN</td>\n",
       "      <td>NaN</td>\n",
       "      <td>NaN</td>\n",
       "    </tr>\n",
       "    <tr>\n",
       "      <th>2018-03-29</th>\n",
       "      <td>7894.0</td>\n",
       "      <td>NaN</td>\n",
       "      <td>1457.0</td>\n",
       "      <td>528.0</td>\n",
       "      <td>24.0</td>\n",
       "      <td>NaN</td>\n",
       "      <td>16.0</td>\n",
       "      <td>NaN</td>\n",
       "      <td>NaN</td>\n",
       "      <td>15.0</td>\n",
       "      <td>...</td>\n",
       "      <td>3.0</td>\n",
       "      <td>NaN</td>\n",
       "      <td>NaN</td>\n",
       "      <td>5.0</td>\n",
       "      <td>8.0</td>\n",
       "      <td>NaN</td>\n",
       "      <td>NaN</td>\n",
       "      <td>1.0</td>\n",
       "      <td>NaN</td>\n",
       "      <td>2.0</td>\n",
       "    </tr>\n",
       "  </tbody>\n",
       "</table>\n",
       "<p>5 rows × 23 columns</p>\n",
       "</div>"
      ],
      "text/plain": [
       "            data.200  data.204  data.301  data.302  data.303  data.304  \\\n",
       "date                                                                     \n",
       "2018-02-07    8315.0       NaN    1122.0     512.0      27.0       NaN   \n",
       "2018-02-09    8302.0       NaN    1128.0     525.0      28.0       NaN   \n",
       "2018-02-14    8276.0       1.0    1143.0     525.0      27.0       NaN   \n",
       "2018-03-21    7917.0       NaN    1408.0     543.0      27.0       NaN   \n",
       "2018-03-29    7894.0       NaN    1457.0     528.0      24.0       NaN   \n",
       "\n",
       "            data.307  data.308  data.400  data.401  ...  data.500  data.501  \\\n",
       "date                                                ...                       \n",
       "2018-02-07      17.0       NaN       NaN       5.0  ...       4.0       NaN   \n",
       "2018-02-09      16.0       NaN       NaN       5.0  ...       4.0       NaN   \n",
       "2018-02-14      19.0       NaN       NaN       5.0  ...       3.0       NaN   \n",
       "2018-03-21      17.0       NaN       NaN      15.0  ...       6.0       NaN   \n",
       "2018-03-29      16.0       NaN       NaN      15.0  ...       3.0       NaN   \n",
       "\n",
       "            data.502  data.503  data.504  data.520  data.521  data.522  \\\n",
       "date                                                                     \n",
       "2018-02-07       NaN       7.0       2.0       NaN       NaN       NaN   \n",
       "2018-02-09       1.0       1.0       NaN       NaN       NaN       NaN   \n",
       "2018-02-14       2.0       1.0       1.0       NaN       NaN       NaN   \n",
       "2018-03-21       NaN       3.0       3.0       NaN       NaN       NaN   \n",
       "2018-03-29       NaN       5.0       8.0       NaN       NaN       1.0   \n",
       "\n",
       "            data.523  data.592  \n",
       "date                            \n",
       "2018-02-07       NaN       NaN  \n",
       "2018-02-09       NaN       NaN  \n",
       "2018-02-14       NaN       NaN  \n",
       "2018-03-21       NaN       NaN  \n",
       "2018-03-29       NaN       2.0  \n",
       "\n",
       "[5 rows x 23 columns]"
      ]
     },
     "execution_count": 10,
     "metadata": {},
     "output_type": "execute_result"
    }
   ],
   "source": [
    "# Transpose the DF\n",
    "df_errors = df_errors.T\n",
    "df_errors.head()"
   ]
  },
  {
   "cell_type": "code",
   "execution_count": 11,
   "metadata": {},
   "outputs": [],
   "source": [
    "# Define a list of status codes for the plot categories\n",
    "status_codes_group = [200, 300, 400, 500]\n",
    "status_codes_name = ['2xx', '3xx', '4xx', '5xx']"
   ]
  },
  {
   "cell_type": "code",
   "execution_count": 12,
   "metadata": {},
   "outputs": [
    {
     "data": {
      "text/html": [
       "<div>\n",
       "<style scoped>\n",
       "    .dataframe tbody tr th:only-of-type {\n",
       "        vertical-align: middle;\n",
       "    }\n",
       "\n",
       "    .dataframe tbody tr th {\n",
       "        vertical-align: top;\n",
       "    }\n",
       "\n",
       "    .dataframe thead th {\n",
       "        text-align: right;\n",
       "    }\n",
       "</style>\n",
       "<table border=\"1\" class=\"dataframe\">\n",
       "  <thead>\n",
       "    <tr style=\"text-align: right;\">\n",
       "      <th></th>\n",
       "      <th>data.200</th>\n",
       "      <th>data.204</th>\n",
       "      <th>data.301</th>\n",
       "      <th>data.302</th>\n",
       "      <th>data.303</th>\n",
       "      <th>data.304</th>\n",
       "      <th>data.307</th>\n",
       "      <th>data.308</th>\n",
       "      <th>data.400</th>\n",
       "      <th>data.401</th>\n",
       "      <th>...</th>\n",
       "      <th>data.500</th>\n",
       "      <th>data.501</th>\n",
       "      <th>data.502</th>\n",
       "      <th>data.503</th>\n",
       "      <th>data.504</th>\n",
       "      <th>data.520</th>\n",
       "      <th>data.521</th>\n",
       "      <th>data.522</th>\n",
       "      <th>data.523</th>\n",
       "      <th>data.592</th>\n",
       "    </tr>\n",
       "    <tr>\n",
       "      <th>date</th>\n",
       "      <th></th>\n",
       "      <th></th>\n",
       "      <th></th>\n",
       "      <th></th>\n",
       "      <th></th>\n",
       "      <th></th>\n",
       "      <th></th>\n",
       "      <th></th>\n",
       "      <th></th>\n",
       "      <th></th>\n",
       "      <th></th>\n",
       "      <th></th>\n",
       "      <th></th>\n",
       "      <th></th>\n",
       "      <th></th>\n",
       "      <th></th>\n",
       "      <th></th>\n",
       "      <th></th>\n",
       "      <th></th>\n",
       "      <th></th>\n",
       "      <th></th>\n",
       "    </tr>\n",
       "  </thead>\n",
       "  <tbody>\n",
       "    <tr>\n",
       "      <th>2018-02-07</th>\n",
       "      <td>8315.0</td>\n",
       "      <td>0.0</td>\n",
       "      <td>1122.0</td>\n",
       "      <td>512.0</td>\n",
       "      <td>27.0</td>\n",
       "      <td>0.0</td>\n",
       "      <td>17.0</td>\n",
       "      <td>0.0</td>\n",
       "      <td>0.0</td>\n",
       "      <td>5.0</td>\n",
       "      <td>...</td>\n",
       "      <td>4.0</td>\n",
       "      <td>0.0</td>\n",
       "      <td>0.0</td>\n",
       "      <td>7.0</td>\n",
       "      <td>2.0</td>\n",
       "      <td>0.0</td>\n",
       "      <td>0.0</td>\n",
       "      <td>0.0</td>\n",
       "      <td>0.0</td>\n",
       "      <td>0.0</td>\n",
       "    </tr>\n",
       "    <tr>\n",
       "      <th>2018-02-09</th>\n",
       "      <td>8302.0</td>\n",
       "      <td>0.0</td>\n",
       "      <td>1128.0</td>\n",
       "      <td>525.0</td>\n",
       "      <td>28.0</td>\n",
       "      <td>0.0</td>\n",
       "      <td>16.0</td>\n",
       "      <td>0.0</td>\n",
       "      <td>0.0</td>\n",
       "      <td>5.0</td>\n",
       "      <td>...</td>\n",
       "      <td>4.0</td>\n",
       "      <td>0.0</td>\n",
       "      <td>1.0</td>\n",
       "      <td>1.0</td>\n",
       "      <td>0.0</td>\n",
       "      <td>0.0</td>\n",
       "      <td>0.0</td>\n",
       "      <td>0.0</td>\n",
       "      <td>0.0</td>\n",
       "      <td>0.0</td>\n",
       "    </tr>\n",
       "    <tr>\n",
       "      <th>2018-02-14</th>\n",
       "      <td>8276.0</td>\n",
       "      <td>1.0</td>\n",
       "      <td>1143.0</td>\n",
       "      <td>525.0</td>\n",
       "      <td>27.0</td>\n",
       "      <td>0.0</td>\n",
       "      <td>19.0</td>\n",
       "      <td>0.0</td>\n",
       "      <td>0.0</td>\n",
       "      <td>5.0</td>\n",
       "      <td>...</td>\n",
       "      <td>3.0</td>\n",
       "      <td>0.0</td>\n",
       "      <td>2.0</td>\n",
       "      <td>1.0</td>\n",
       "      <td>1.0</td>\n",
       "      <td>0.0</td>\n",
       "      <td>0.0</td>\n",
       "      <td>0.0</td>\n",
       "      <td>0.0</td>\n",
       "      <td>0.0</td>\n",
       "    </tr>\n",
       "    <tr>\n",
       "      <th>2018-03-21</th>\n",
       "      <td>7917.0</td>\n",
       "      <td>0.0</td>\n",
       "      <td>1408.0</td>\n",
       "      <td>543.0</td>\n",
       "      <td>27.0</td>\n",
       "      <td>0.0</td>\n",
       "      <td>17.0</td>\n",
       "      <td>0.0</td>\n",
       "      <td>0.0</td>\n",
       "      <td>15.0</td>\n",
       "      <td>...</td>\n",
       "      <td>6.0</td>\n",
       "      <td>0.0</td>\n",
       "      <td>0.0</td>\n",
       "      <td>3.0</td>\n",
       "      <td>3.0</td>\n",
       "      <td>0.0</td>\n",
       "      <td>0.0</td>\n",
       "      <td>0.0</td>\n",
       "      <td>0.0</td>\n",
       "      <td>0.0</td>\n",
       "    </tr>\n",
       "    <tr>\n",
       "      <th>2018-03-29</th>\n",
       "      <td>7894.0</td>\n",
       "      <td>0.0</td>\n",
       "      <td>1457.0</td>\n",
       "      <td>528.0</td>\n",
       "      <td>24.0</td>\n",
       "      <td>0.0</td>\n",
       "      <td>16.0</td>\n",
       "      <td>0.0</td>\n",
       "      <td>0.0</td>\n",
       "      <td>15.0</td>\n",
       "      <td>...</td>\n",
       "      <td>3.0</td>\n",
       "      <td>0.0</td>\n",
       "      <td>0.0</td>\n",
       "      <td>5.0</td>\n",
       "      <td>8.0</td>\n",
       "      <td>0.0</td>\n",
       "      <td>0.0</td>\n",
       "      <td>1.0</td>\n",
       "      <td>0.0</td>\n",
       "      <td>2.0</td>\n",
       "    </tr>\n",
       "  </tbody>\n",
       "</table>\n",
       "<p>5 rows × 23 columns</p>\n",
       "</div>"
      ],
      "text/plain": [
       "            data.200  data.204  data.301  data.302  data.303  data.304  \\\n",
       "date                                                                     \n",
       "2018-02-07    8315.0       0.0    1122.0     512.0      27.0       0.0   \n",
       "2018-02-09    8302.0       0.0    1128.0     525.0      28.0       0.0   \n",
       "2018-02-14    8276.0       1.0    1143.0     525.0      27.0       0.0   \n",
       "2018-03-21    7917.0       0.0    1408.0     543.0      27.0       0.0   \n",
       "2018-03-29    7894.0       0.0    1457.0     528.0      24.0       0.0   \n",
       "\n",
       "            data.307  data.308  data.400  data.401  ...  data.500  data.501  \\\n",
       "date                                                ...                       \n",
       "2018-02-07      17.0       0.0       0.0       5.0  ...       4.0       0.0   \n",
       "2018-02-09      16.0       0.0       0.0       5.0  ...       4.0       0.0   \n",
       "2018-02-14      19.0       0.0       0.0       5.0  ...       3.0       0.0   \n",
       "2018-03-21      17.0       0.0       0.0      15.0  ...       6.0       0.0   \n",
       "2018-03-29      16.0       0.0       0.0      15.0  ...       3.0       0.0   \n",
       "\n",
       "            data.502  data.503  data.504  data.520  data.521  data.522  \\\n",
       "date                                                                     \n",
       "2018-02-07       0.0       7.0       2.0       0.0       0.0       0.0   \n",
       "2018-02-09       1.0       1.0       0.0       0.0       0.0       0.0   \n",
       "2018-02-14       2.0       1.0       1.0       0.0       0.0       0.0   \n",
       "2018-03-21       0.0       3.0       3.0       0.0       0.0       0.0   \n",
       "2018-03-29       0.0       5.0       8.0       0.0       0.0       1.0   \n",
       "\n",
       "            data.523  data.592  \n",
       "date                            \n",
       "2018-02-07       0.0       0.0  \n",
       "2018-02-09       0.0       0.0  \n",
       "2018-02-14       0.0       0.0  \n",
       "2018-03-21       0.0       0.0  \n",
       "2018-03-29       0.0       2.0  \n",
       "\n",
       "[5 rows x 23 columns]"
      ]
     },
     "execution_count": 12,
     "metadata": {},
     "output_type": "execute_result"
    }
   ],
   "source": [
    "# Fill all NAN values with 0\n",
    "df_errors = df_errors.fillna(0)\n",
    "df_errors.head()"
   ]
  },
  {
   "cell_type": "code",
   "execution_count": 13,
   "metadata": {},
   "outputs": [
    {
     "data": {
      "text/html": [
       "<div>\n",
       "<style scoped>\n",
       "    .dataframe tbody tr th:only-of-type {\n",
       "        vertical-align: middle;\n",
       "    }\n",
       "\n",
       "    .dataframe tbody tr th {\n",
       "        vertical-align: top;\n",
       "    }\n",
       "\n",
       "    .dataframe thead th {\n",
       "        text-align: right;\n",
       "    }\n",
       "</style>\n",
       "<table border=\"1\" class=\"dataframe\">\n",
       "  <thead>\n",
       "    <tr style=\"text-align: right;\">\n",
       "      <th></th>\n",
       "      <th>200</th>\n",
       "      <th>300</th>\n",
       "      <th>400</th>\n",
       "      <th>500</th>\n",
       "    </tr>\n",
       "    <tr>\n",
       "      <th>date</th>\n",
       "      <th></th>\n",
       "      <th></th>\n",
       "      <th></th>\n",
       "      <th></th>\n",
       "    </tr>\n",
       "  </thead>\n",
       "  <tbody>\n",
       "    <tr>\n",
       "      <th>2018-02-07</th>\n",
       "      <td>8315.0</td>\n",
       "      <td>1678.0</td>\n",
       "      <td>50.0</td>\n",
       "      <td>13.0</td>\n",
       "    </tr>\n",
       "    <tr>\n",
       "      <th>2018-02-09</th>\n",
       "      <td>8302.0</td>\n",
       "      <td>1697.0</td>\n",
       "      <td>53.0</td>\n",
       "      <td>6.0</td>\n",
       "    </tr>\n",
       "    <tr>\n",
       "      <th>2018-02-14</th>\n",
       "      <td>8277.0</td>\n",
       "      <td>1714.0</td>\n",
       "      <td>57.0</td>\n",
       "      <td>7.0</td>\n",
       "    </tr>\n",
       "    <tr>\n",
       "      <th>2018-03-21</th>\n",
       "      <td>7917.0</td>\n",
       "      <td>1995.0</td>\n",
       "      <td>116.0</td>\n",
       "      <td>12.0</td>\n",
       "    </tr>\n",
       "    <tr>\n",
       "      <th>2018-03-29</th>\n",
       "      <td>7894.0</td>\n",
       "      <td>2025.0</td>\n",
       "      <td>119.0</td>\n",
       "      <td>19.0</td>\n",
       "    </tr>\n",
       "  </tbody>\n",
       "</table>\n",
       "</div>"
      ],
      "text/plain": [
       "               200     300    400   500\n",
       "date                                   \n",
       "2018-02-07  8315.0  1678.0   50.0  13.0\n",
       "2018-02-09  8302.0  1697.0   53.0   6.0\n",
       "2018-02-14  8277.0  1714.0   57.0   7.0\n",
       "2018-03-21  7917.0  1995.0  116.0  12.0\n",
       "2018-03-29  7894.0  2025.0  119.0  19.0"
      ]
     },
     "execution_count": 13,
     "metadata": {},
     "output_type": "execute_result"
    }
   ],
   "source": [
    "# Obtain a presence of status codes per status code group\n",
    "df_error_cat = pd.DataFrame()\n",
    "df_error_cat[200] = df_errors['data.200'] + df_errors['data.204']\n",
    "df_error_cat[300] = df_errors['data.301'] + df_errors['data.302'] + df_errors['data.303'] + df_errors['data.304'] + df_errors['data.307'] + df_errors['data.308']\n",
    "df_error_cat[400] = df_errors['data.400'] + df_errors['data.401'] + df_errors['data.403'] + df_errors['data.404'] + df_errors['data.410']\n",
    "df_error_cat[500] = df_errors['data.500'] + df_errors['data.501'] + df_errors['data.502'] + df_errors['data.503'] + df_errors['data.504'] + df_errors['data.520'] + df_errors['data.521'] + df_errors['data.522'] + df_errors['data.523'] + df_errors['data.592']\n",
    "df_error_cat.head()"
   ]
  },
  {
   "cell_type": "code",
   "execution_count": 14,
   "metadata": {},
   "outputs": [
    {
     "data": {
      "text/html": [
       "<div>\n",
       "<style scoped>\n",
       "    .dataframe tbody tr th:only-of-type {\n",
       "        vertical-align: middle;\n",
       "    }\n",
       "\n",
       "    .dataframe tbody tr th {\n",
       "        vertical-align: top;\n",
       "    }\n",
       "\n",
       "    .dataframe thead th {\n",
       "        text-align: right;\n",
       "    }\n",
       "</style>\n",
       "<table border=\"1\" class=\"dataframe\">\n",
       "  <thead>\n",
       "    <tr style=\"text-align: right;\">\n",
       "      <th></th>\n",
       "      <th>200</th>\n",
       "      <th>300</th>\n",
       "      <th>400</th>\n",
       "      <th>500</th>\n",
       "      <th>all_requested</th>\n",
       "    </tr>\n",
       "    <tr>\n",
       "      <th>date</th>\n",
       "      <th></th>\n",
       "      <th></th>\n",
       "      <th></th>\n",
       "      <th></th>\n",
       "      <th></th>\n",
       "    </tr>\n",
       "  </thead>\n",
       "  <tbody>\n",
       "    <tr>\n",
       "      <th>2018-02-07</th>\n",
       "      <td>8315.0</td>\n",
       "      <td>1678.0</td>\n",
       "      <td>50.0</td>\n",
       "      <td>13.0</td>\n",
       "      <td>10089</td>\n",
       "    </tr>\n",
       "    <tr>\n",
       "      <th>2018-02-09</th>\n",
       "      <td>8302.0</td>\n",
       "      <td>1697.0</td>\n",
       "      <td>53.0</td>\n",
       "      <td>6.0</td>\n",
       "      <td>10089</td>\n",
       "    </tr>\n",
       "    <tr>\n",
       "      <th>2018-02-14</th>\n",
       "      <td>8277.0</td>\n",
       "      <td>1714.0</td>\n",
       "      <td>57.0</td>\n",
       "      <td>7.0</td>\n",
       "      <td>10089</td>\n",
       "    </tr>\n",
       "    <tr>\n",
       "      <th>2018-03-21</th>\n",
       "      <td>7917.0</td>\n",
       "      <td>1995.0</td>\n",
       "      <td>116.0</td>\n",
       "      <td>12.0</td>\n",
       "      <td>10089</td>\n",
       "    </tr>\n",
       "    <tr>\n",
       "      <th>2018-03-29</th>\n",
       "      <td>7894.0</td>\n",
       "      <td>2025.0</td>\n",
       "      <td>119.0</td>\n",
       "      <td>19.0</td>\n",
       "      <td>10089</td>\n",
       "    </tr>\n",
       "  </tbody>\n",
       "</table>\n",
       "</div>"
      ],
      "text/plain": [
       "               200     300    400   500  all_requested\n",
       "date                                                  \n",
       "2018-02-07  8315.0  1678.0   50.0  13.0          10089\n",
       "2018-02-09  8302.0  1697.0   53.0   6.0          10089\n",
       "2018-02-14  8277.0  1714.0   57.0   7.0          10089\n",
       "2018-03-21  7917.0  1995.0  116.0  12.0          10089\n",
       "2018-03-29  7894.0  2025.0  119.0  19.0          10089"
      ]
     },
     "execution_count": 14,
     "metadata": {},
     "output_type": "execute_result"
    }
   ],
   "source": [
    "# Define the number of all requested sites with EU/EEA origin\n",
    "df_error_cat['all_requested'] = 10089\n",
    "df_error_cat.head()"
   ]
  },
  {
   "cell_type": "code",
   "execution_count": 15,
   "metadata": {},
   "outputs": [
    {
     "data": {
      "text/html": [
       "<div>\n",
       "<style scoped>\n",
       "    .dataframe tbody tr th:only-of-type {\n",
       "        vertical-align: middle;\n",
       "    }\n",
       "\n",
       "    .dataframe tbody tr th {\n",
       "        vertical-align: top;\n",
       "    }\n",
       "\n",
       "    .dataframe thead th {\n",
       "        text-align: right;\n",
       "    }\n",
       "</style>\n",
       "<table border=\"1\" class=\"dataframe\">\n",
       "  <thead>\n",
       "    <tr style=\"text-align: right;\">\n",
       "      <th></th>\n",
       "      <th>200</th>\n",
       "      <th>300</th>\n",
       "      <th>400</th>\n",
       "      <th>500</th>\n",
       "      <th>all_requested</th>\n",
       "      <th>no_response</th>\n",
       "    </tr>\n",
       "    <tr>\n",
       "      <th>date</th>\n",
       "      <th></th>\n",
       "      <th></th>\n",
       "      <th></th>\n",
       "      <th></th>\n",
       "      <th></th>\n",
       "      <th></th>\n",
       "    </tr>\n",
       "  </thead>\n",
       "  <tbody>\n",
       "    <tr>\n",
       "      <th>2018-02-07</th>\n",
       "      <td>8315.0</td>\n",
       "      <td>1678.0</td>\n",
       "      <td>50.0</td>\n",
       "      <td>13.0</td>\n",
       "      <td>10089</td>\n",
       "      <td>33.0</td>\n",
       "    </tr>\n",
       "    <tr>\n",
       "      <th>2018-02-09</th>\n",
       "      <td>8302.0</td>\n",
       "      <td>1697.0</td>\n",
       "      <td>53.0</td>\n",
       "      <td>6.0</td>\n",
       "      <td>10089</td>\n",
       "      <td>31.0</td>\n",
       "    </tr>\n",
       "    <tr>\n",
       "      <th>2018-02-14</th>\n",
       "      <td>8277.0</td>\n",
       "      <td>1714.0</td>\n",
       "      <td>57.0</td>\n",
       "      <td>7.0</td>\n",
       "      <td>10089</td>\n",
       "      <td>34.0</td>\n",
       "    </tr>\n",
       "    <tr>\n",
       "      <th>2018-03-21</th>\n",
       "      <td>7917.0</td>\n",
       "      <td>1995.0</td>\n",
       "      <td>116.0</td>\n",
       "      <td>12.0</td>\n",
       "      <td>10089</td>\n",
       "      <td>49.0</td>\n",
       "    </tr>\n",
       "    <tr>\n",
       "      <th>2018-03-29</th>\n",
       "      <td>7894.0</td>\n",
       "      <td>2025.0</td>\n",
       "      <td>119.0</td>\n",
       "      <td>19.0</td>\n",
       "      <td>10089</td>\n",
       "      <td>32.0</td>\n",
       "    </tr>\n",
       "  </tbody>\n",
       "</table>\n",
       "</div>"
      ],
      "text/plain": [
       "               200     300    400   500  all_requested  no_response\n",
       "date                                                               \n",
       "2018-02-07  8315.0  1678.0   50.0  13.0          10089         33.0\n",
       "2018-02-09  8302.0  1697.0   53.0   6.0          10089         31.0\n",
       "2018-02-14  8277.0  1714.0   57.0   7.0          10089         34.0\n",
       "2018-03-21  7917.0  1995.0  116.0  12.0          10089         49.0\n",
       "2018-03-29  7894.0  2025.0  119.0  19.0          10089         32.0"
      ]
     },
     "execution_count": 15,
     "metadata": {},
     "output_type": "execute_result"
    }
   ],
   "source": [
    "# Find the number of sites that have not returned a response\n",
    "df_error_cat['no_response'] = df_error_cat['all_requested'] - df_error_cat[200] - df_error_cat[300] - df_error_cat[400] - df_error_cat[500]\n",
    "df_error_cat.head()"
   ]
  },
  {
   "cell_type": "code",
   "execution_count": 16,
   "metadata": {},
   "outputs": [
    {
     "data": {
      "text/html": [
       "<div>\n",
       "<style scoped>\n",
       "    .dataframe tbody tr th:only-of-type {\n",
       "        vertical-align: middle;\n",
       "    }\n",
       "\n",
       "    .dataframe tbody tr th {\n",
       "        vertical-align: top;\n",
       "    }\n",
       "\n",
       "    .dataframe thead th {\n",
       "        text-align: right;\n",
       "    }\n",
       "</style>\n",
       "<table border=\"1\" class=\"dataframe\">\n",
       "  <thead>\n",
       "    <tr style=\"text-align: right;\">\n",
       "      <th></th>\n",
       "      <th>date</th>\n",
       "    </tr>\n",
       "  </thead>\n",
       "  <tbody>\n",
       "    <tr>\n",
       "      <th>0</th>\n",
       "      <td>2018-02-07</td>\n",
       "    </tr>\n",
       "    <tr>\n",
       "      <th>1</th>\n",
       "      <td>2018-02-09</td>\n",
       "    </tr>\n",
       "    <tr>\n",
       "      <th>2</th>\n",
       "      <td>2018-02-14</td>\n",
       "    </tr>\n",
       "    <tr>\n",
       "      <th>3</th>\n",
       "      <td>2018-03-21</td>\n",
       "    </tr>\n",
       "    <tr>\n",
       "      <th>4</th>\n",
       "      <td>2018-03-29</td>\n",
       "    </tr>\n",
       "  </tbody>\n",
       "</table>\n",
       "</div>"
      ],
      "text/plain": [
       "         date\n",
       "0  2018-02-07\n",
       "1  2018-02-09\n",
       "2  2018-02-14\n",
       "3  2018-03-21\n",
       "4  2018-03-29"
      ]
     },
     "execution_count": 16,
     "metadata": {},
     "output_type": "execute_result"
    }
   ],
   "source": [
    "# Load harvest dates\n",
    "dates_path = '/home/ubuntu/data/processed/crawls/response_enriched/analysis_v.3/'\n",
    "dates_name = 'harvest_DATES.csv'\n",
    "df_dates = pd.read_csv(dates_path+dates_name)\n",
    "\n",
    "# Adjust and filter\n",
    "df_dates.reset_index(inplace=True)\n",
    "del df_dates['Unnamed: 0']\n",
    "del df_dates['index']\n",
    "df_dates.at[9, 'date'] = '<b>2018-05-25</b>'\n",
    "df_dates.head()"
   ]
  },
  {
   "cell_type": "code",
   "execution_count": 17,
   "metadata": {},
   "outputs": [
    {
     "data": {
      "application/vnd.plotly.v1+json": {
       "config": {
        "linkText": "Export to plot.ly",
        "plotlyServerURL": "https://plot.ly",
        "showLink": false
       },
       "data": [
        {
         "marker": {
          "color": "#2CA02C"
         },
         "name": "2xx",
         "type": "bar",
         "x": [
          "2018-02-07",
          "2018-02-09",
          "2018-02-14",
          "2018-03-21",
          "2018-03-29",
          "2018-04-09",
          "2018-04-17",
          "2018-05-05",
          "2018-05-19",
          "<b>2018-05-25</b>",
          "2018-05-29",
          "2018-06-01",
          "2018-06-07",
          "2018-06-12",
          "2018-06-18",
          "2018-07-06",
          "2018-07-17",
          "2018-08-03",
          "2018-08-31",
          "2018-09-06",
          "2018-09-11",
          "2018-09-21",
          "2018-10-09",
          "2018-10-31",
          "2018-11-07",
          "2018-11-19",
          "2018-12-10",
          "2019-01-30",
          "2019-02-21",
          "2019-03-12",
          "2019-03-27",
          "2019-04-05",
          "2019-04-12",
          "2019-04-24",
          "2019-05-01",
          "2019-05-27",
          "2019-05-29",
          "2019-06-14",
          "2019-06-28",
          "2019-07-12",
          "2019-08-05",
          "2019-09-02",
          "2019-09-20",
          "2019-10-03",
          "2019-10-16",
          "2019-10-29",
          "2019-11-05",
          "2019-11-13",
          "2019-11-28",
          "2019-12-22",
          "2020-01-13",
          "2020-02-07",
          "2020-02-25",
          "2020-03-10",
          "2020-03-24",
          "2020-04-07",
          "2020-05-12",
          "2020-06-02",
          "2020-06-19"
         ],
         "y": [
          8315,
          8302,
          8277,
          7917,
          7894,
          7819,
          7708,
          7542,
          7418,
          7301,
          7262,
          7210,
          7106,
          7060,
          6995,
          6778,
          6706,
          6518,
          6360,
          6351,
          6316,
          6219,
          6089,
          5917,
          5883,
          5831,
          5753,
          5608,
          5509,
          5412,
          5338,
          5311,
          5246,
          5186,
          5154,
          5040,
          5039,
          4978,
          4924,
          4880,
          4805,
          4725,
          4645,
          4565,
          4517,
          4503,
          4496,
          4483,
          4440,
          4373,
          4358,
          4220,
          4184,
          4139,
          4102,
          4055,
          3967,
          3924,
          3891
         ]
        },
        {
         "marker": {
          "color": "#FF7F0E"
         },
         "name": "3xx",
         "type": "bar",
         "x": [
          "2018-02-07",
          "2018-02-09",
          "2018-02-14",
          "2018-03-21",
          "2018-03-29",
          "2018-04-09",
          "2018-04-17",
          "2018-05-05",
          "2018-05-19",
          "<b>2018-05-25</b>",
          "2018-05-29",
          "2018-06-01",
          "2018-06-07",
          "2018-06-12",
          "2018-06-18",
          "2018-07-06",
          "2018-07-17",
          "2018-08-03",
          "2018-08-31",
          "2018-09-06",
          "2018-09-11",
          "2018-09-21",
          "2018-10-09",
          "2018-10-31",
          "2018-11-07",
          "2018-11-19",
          "2018-12-10",
          "2019-01-30",
          "2019-02-21",
          "2019-03-12",
          "2019-03-27",
          "2019-04-05",
          "2019-04-12",
          "2019-04-24",
          "2019-05-01",
          "2019-05-27",
          "2019-05-29",
          "2019-06-14",
          "2019-06-28",
          "2019-07-12",
          "2019-08-05",
          "2019-09-02",
          "2019-09-20",
          "2019-10-03",
          "2019-10-16",
          "2019-10-29",
          "2019-11-05",
          "2019-11-13",
          "2019-11-28",
          "2019-12-22",
          "2020-01-13",
          "2020-02-07",
          "2020-02-25",
          "2020-03-10",
          "2020-03-24",
          "2020-04-07",
          "2020-05-12",
          "2020-06-02",
          "2020-06-19"
         ],
         "y": [
          1678,
          1697,
          1714,
          1995,
          2025,
          2099,
          2177,
          2348,
          2430,
          2529,
          2567,
          2624,
          2710,
          2736,
          2833,
          3040,
          3095,
          3259,
          3417,
          3412,
          3472,
          3537,
          3701,
          3869,
          3907,
          3931,
          4004,
          4118,
          4210,
          4297,
          4343,
          4376,
          4422,
          4481,
          4507,
          4606,
          4604,
          4682,
          4708,
          4725,
          4766,
          4842,
          4894,
          4983,
          5026,
          5029,
          5017,
          5038,
          5082,
          5125,
          5154,
          5242,
          5309,
          5347,
          5403,
          5432,
          5507,
          5524,
          5574
         ]
        },
        {
         "marker": {
          "color": "#D62728"
         },
         "name": "4xx",
         "type": "bar",
         "x": [
          "2018-02-07",
          "2018-02-09",
          "2018-02-14",
          "2018-03-21",
          "2018-03-29",
          "2018-04-09",
          "2018-04-17",
          "2018-05-05",
          "2018-05-19",
          "<b>2018-05-25</b>",
          "2018-05-29",
          "2018-06-01",
          "2018-06-07",
          "2018-06-12",
          "2018-06-18",
          "2018-07-06",
          "2018-07-17",
          "2018-08-03",
          "2018-08-31",
          "2018-09-06",
          "2018-09-11",
          "2018-09-21",
          "2018-10-09",
          "2018-10-31",
          "2018-11-07",
          "2018-11-19",
          "2018-12-10",
          "2019-01-30",
          "2019-02-21",
          "2019-03-12",
          "2019-03-27",
          "2019-04-05",
          "2019-04-12",
          "2019-04-24",
          "2019-05-01",
          "2019-05-27",
          "2019-05-29",
          "2019-06-14",
          "2019-06-28",
          "2019-07-12",
          "2019-08-05",
          "2019-09-02",
          "2019-09-20",
          "2019-10-03",
          "2019-10-16",
          "2019-10-29",
          "2019-11-05",
          "2019-11-13",
          "2019-11-28",
          "2019-12-22",
          "2020-01-13",
          "2020-02-07",
          "2020-02-25",
          "2020-03-10",
          "2020-03-24",
          "2020-04-07",
          "2020-05-12",
          "2020-06-02",
          "2020-06-19"
         ],
         "y": [
          50,
          53,
          57,
          116,
          119,
          131,
          141,
          159,
          186,
          194,
          190,
          189,
          211,
          207,
          206,
          217,
          227,
          224,
          233,
          228,
          228,
          229,
          232,
          230,
          231,
          247,
          250,
          303,
          313,
          326,
          338,
          349,
          362,
          348,
          361,
          380,
          391,
          380,
          387,
          399,
          422,
          427,
          430,
          426,
          426,
          448,
          448,
          456,
          458,
          482,
          482,
          508,
          494,
          484,
          474,
          479,
          495,
          516,
          510
         ]
        },
        {
         "marker": {
          "color": "#7F7F7F"
         },
         "name": "5xx",
         "type": "bar",
         "x": [
          "2018-02-07",
          "2018-02-09",
          "2018-02-14",
          "2018-03-21",
          "2018-03-29",
          "2018-04-09",
          "2018-04-17",
          "2018-05-05",
          "2018-05-19",
          "<b>2018-05-25</b>",
          "2018-05-29",
          "2018-06-01",
          "2018-06-07",
          "2018-06-12",
          "2018-06-18",
          "2018-07-06",
          "2018-07-17",
          "2018-08-03",
          "2018-08-31",
          "2018-09-06",
          "2018-09-11",
          "2018-09-21",
          "2018-10-09",
          "2018-10-31",
          "2018-11-07",
          "2018-11-19",
          "2018-12-10",
          "2019-01-30",
          "2019-02-21",
          "2019-03-12",
          "2019-03-27",
          "2019-04-05",
          "2019-04-12",
          "2019-04-24",
          "2019-05-01",
          "2019-05-27",
          "2019-05-29",
          "2019-06-14",
          "2019-06-28",
          "2019-07-12",
          "2019-08-05",
          "2019-09-02",
          "2019-09-20",
          "2019-10-03",
          "2019-10-16",
          "2019-10-29",
          "2019-11-05",
          "2019-11-13",
          "2019-11-28",
          "2019-12-22",
          "2020-01-13",
          "2020-02-07",
          "2020-02-25",
          "2020-03-10",
          "2020-03-24",
          "2020-04-07",
          "2020-05-12",
          "2020-06-02",
          "2020-06-19"
         ],
         "y": [
          13,
          6,
          7,
          12,
          19,
          4,
          10,
          7,
          9,
          21,
          17,
          25,
          23,
          37,
          9,
          8,
          14,
          36,
          22,
          34,
          21,
          34,
          25,
          17,
          17,
          16,
          28,
          16,
          13,
          15,
          27,
          14,
          19,
          15,
          12,
          13,
          13,
          12,
          17,
          23,
          24,
          23,
          22,
          18,
          17,
          14,
          18,
          20,
          14,
          27,
          11,
          30,
          22,
          33,
          32,
          34,
          28,
          27,
          21
         ]
        },
        {
         "marker": {
          "color": "black"
         },
         "name": "Missing responses",
         "type": "bar",
         "x": [
          "2018-02-07",
          "2018-02-09",
          "2018-02-14",
          "2018-03-21",
          "2018-03-29",
          "2018-04-09",
          "2018-04-17",
          "2018-05-05",
          "2018-05-19",
          "<b>2018-05-25</b>",
          "2018-05-29",
          "2018-06-01",
          "2018-06-07",
          "2018-06-12",
          "2018-06-18",
          "2018-07-06",
          "2018-07-17",
          "2018-08-03",
          "2018-08-31",
          "2018-09-06",
          "2018-09-11",
          "2018-09-21",
          "2018-10-09",
          "2018-10-31",
          "2018-11-07",
          "2018-11-19",
          "2018-12-10",
          "2019-01-30",
          "2019-02-21",
          "2019-03-12",
          "2019-03-27",
          "2019-04-05",
          "2019-04-12",
          "2019-04-24",
          "2019-05-01",
          "2019-05-27",
          "2019-05-29",
          "2019-06-14",
          "2019-06-28",
          "2019-07-12",
          "2019-08-05",
          "2019-09-02",
          "2019-09-20",
          "2019-10-03",
          "2019-10-16",
          "2019-10-29",
          "2019-11-05",
          "2019-11-13",
          "2019-11-28",
          "2019-12-22",
          "2020-01-13",
          "2020-02-07",
          "2020-02-25",
          "2020-03-10",
          "2020-03-24",
          "2020-04-07",
          "2020-05-12",
          "2020-06-02",
          "2020-06-19"
         ],
         "y": [
          33,
          31,
          34,
          49,
          32,
          36,
          53,
          33,
          46,
          44,
          53,
          41,
          39,
          49,
          46,
          46,
          47,
          52,
          57,
          64,
          52,
          70,
          42,
          56,
          51,
          64,
          54,
          44,
          44,
          39,
          43,
          39,
          40,
          59,
          55,
          50,
          42,
          37,
          53,
          62,
          72,
          72,
          98,
          97,
          103,
          95,
          110,
          92,
          95,
          82,
          84,
          89,
          80,
          86,
          78,
          89,
          92,
          98,
          93
         ]
        }
       ],
       "layout": {
        "annotations": [
         {
          "align": "center",
          "arrowcolor": "#636363",
          "arrowhead": 2,
          "arrowsize": 1,
          "arrowwidth": 2,
          "ax": 20,
          "ay": -30,
          "bgcolor": "#ff7f0e",
          "bordercolor": "#c7c7c7",
          "borderpad": 4,
          "borderwidth": 2,
          "font": {
           "color": "#ffffff",
           "family": "Courier New, monospace",
           "size": 14
          },
          "opacity": 0.8,
          "showarrow": true,
          "text": "GDPR",
          "x": 9,
          "xref": "x",
          "y": 10100,
          "yref": "y"
         }
        ],
        "barmode": "stack",
        "font": {
         "family": "Courier New, monospace"
        },
        "legend": {
         "orientation": "h",
         "title": {
          "text": "HTTP response status codes:"
         },
         "traceorder": "normal",
         "x": 0.5,
         "xanchor": "center",
         "y": 1.02,
         "yanchor": "bottom"
        },
        "template": {
         "data": {
          "bar": [
           {
            "error_x": {
             "color": "#2a3f5f"
            },
            "error_y": {
             "color": "#2a3f5f"
            },
            "marker": {
             "line": {
              "color": "#E5ECF6",
              "width": 0.5
             }
            },
            "type": "bar"
           }
          ],
          "barpolar": [
           {
            "marker": {
             "line": {
              "color": "#E5ECF6",
              "width": 0.5
             }
            },
            "type": "barpolar"
           }
          ],
          "carpet": [
           {
            "aaxis": {
             "endlinecolor": "#2a3f5f",
             "gridcolor": "white",
             "linecolor": "white",
             "minorgridcolor": "white",
             "startlinecolor": "#2a3f5f"
            },
            "baxis": {
             "endlinecolor": "#2a3f5f",
             "gridcolor": "white",
             "linecolor": "white",
             "minorgridcolor": "white",
             "startlinecolor": "#2a3f5f"
            },
            "type": "carpet"
           }
          ],
          "choropleth": [
           {
            "colorbar": {
             "outlinewidth": 0,
             "ticks": ""
            },
            "type": "choropleth"
           }
          ],
          "contour": [
           {
            "colorbar": {
             "outlinewidth": 0,
             "ticks": ""
            },
            "colorscale": [
             [
              0,
              "#0d0887"
             ],
             [
              0.1111111111111111,
              "#46039f"
             ],
             [
              0.2222222222222222,
              "#7201a8"
             ],
             [
              0.3333333333333333,
              "#9c179e"
             ],
             [
              0.4444444444444444,
              "#bd3786"
             ],
             [
              0.5555555555555556,
              "#d8576b"
             ],
             [
              0.6666666666666666,
              "#ed7953"
             ],
             [
              0.7777777777777778,
              "#fb9f3a"
             ],
             [
              0.8888888888888888,
              "#fdca26"
             ],
             [
              1,
              "#f0f921"
             ]
            ],
            "type": "contour"
           }
          ],
          "contourcarpet": [
           {
            "colorbar": {
             "outlinewidth": 0,
             "ticks": ""
            },
            "type": "contourcarpet"
           }
          ],
          "heatmap": [
           {
            "colorbar": {
             "outlinewidth": 0,
             "ticks": ""
            },
            "colorscale": [
             [
              0,
              "#0d0887"
             ],
             [
              0.1111111111111111,
              "#46039f"
             ],
             [
              0.2222222222222222,
              "#7201a8"
             ],
             [
              0.3333333333333333,
              "#9c179e"
             ],
             [
              0.4444444444444444,
              "#bd3786"
             ],
             [
              0.5555555555555556,
              "#d8576b"
             ],
             [
              0.6666666666666666,
              "#ed7953"
             ],
             [
              0.7777777777777778,
              "#fb9f3a"
             ],
             [
              0.8888888888888888,
              "#fdca26"
             ],
             [
              1,
              "#f0f921"
             ]
            ],
            "type": "heatmap"
           }
          ],
          "heatmapgl": [
           {
            "colorbar": {
             "outlinewidth": 0,
             "ticks": ""
            },
            "colorscale": [
             [
              0,
              "#0d0887"
             ],
             [
              0.1111111111111111,
              "#46039f"
             ],
             [
              0.2222222222222222,
              "#7201a8"
             ],
             [
              0.3333333333333333,
              "#9c179e"
             ],
             [
              0.4444444444444444,
              "#bd3786"
             ],
             [
              0.5555555555555556,
              "#d8576b"
             ],
             [
              0.6666666666666666,
              "#ed7953"
             ],
             [
              0.7777777777777778,
              "#fb9f3a"
             ],
             [
              0.8888888888888888,
              "#fdca26"
             ],
             [
              1,
              "#f0f921"
             ]
            ],
            "type": "heatmapgl"
           }
          ],
          "histogram": [
           {
            "marker": {
             "colorbar": {
              "outlinewidth": 0,
              "ticks": ""
             }
            },
            "type": "histogram"
           }
          ],
          "histogram2d": [
           {
            "colorbar": {
             "outlinewidth": 0,
             "ticks": ""
            },
            "colorscale": [
             [
              0,
              "#0d0887"
             ],
             [
              0.1111111111111111,
              "#46039f"
             ],
             [
              0.2222222222222222,
              "#7201a8"
             ],
             [
              0.3333333333333333,
              "#9c179e"
             ],
             [
              0.4444444444444444,
              "#bd3786"
             ],
             [
              0.5555555555555556,
              "#d8576b"
             ],
             [
              0.6666666666666666,
              "#ed7953"
             ],
             [
              0.7777777777777778,
              "#fb9f3a"
             ],
             [
              0.8888888888888888,
              "#fdca26"
             ],
             [
              1,
              "#f0f921"
             ]
            ],
            "type": "histogram2d"
           }
          ],
          "histogram2dcontour": [
           {
            "colorbar": {
             "outlinewidth": 0,
             "ticks": ""
            },
            "colorscale": [
             [
              0,
              "#0d0887"
             ],
             [
              0.1111111111111111,
              "#46039f"
             ],
             [
              0.2222222222222222,
              "#7201a8"
             ],
             [
              0.3333333333333333,
              "#9c179e"
             ],
             [
              0.4444444444444444,
              "#bd3786"
             ],
             [
              0.5555555555555556,
              "#d8576b"
             ],
             [
              0.6666666666666666,
              "#ed7953"
             ],
             [
              0.7777777777777778,
              "#fb9f3a"
             ],
             [
              0.8888888888888888,
              "#fdca26"
             ],
             [
              1,
              "#f0f921"
             ]
            ],
            "type": "histogram2dcontour"
           }
          ],
          "mesh3d": [
           {
            "colorbar": {
             "outlinewidth": 0,
             "ticks": ""
            },
            "type": "mesh3d"
           }
          ],
          "parcoords": [
           {
            "line": {
             "colorbar": {
              "outlinewidth": 0,
              "ticks": ""
             }
            },
            "type": "parcoords"
           }
          ],
          "pie": [
           {
            "automargin": true,
            "type": "pie"
           }
          ],
          "scatter": [
           {
            "marker": {
             "colorbar": {
              "outlinewidth": 0,
              "ticks": ""
             }
            },
            "type": "scatter"
           }
          ],
          "scatter3d": [
           {
            "line": {
             "colorbar": {
              "outlinewidth": 0,
              "ticks": ""
             }
            },
            "marker": {
             "colorbar": {
              "outlinewidth": 0,
              "ticks": ""
             }
            },
            "type": "scatter3d"
           }
          ],
          "scattercarpet": [
           {
            "marker": {
             "colorbar": {
              "outlinewidth": 0,
              "ticks": ""
             }
            },
            "type": "scattercarpet"
           }
          ],
          "scattergeo": [
           {
            "marker": {
             "colorbar": {
              "outlinewidth": 0,
              "ticks": ""
             }
            },
            "type": "scattergeo"
           }
          ],
          "scattergl": [
           {
            "marker": {
             "colorbar": {
              "outlinewidth": 0,
              "ticks": ""
             }
            },
            "type": "scattergl"
           }
          ],
          "scattermapbox": [
           {
            "marker": {
             "colorbar": {
              "outlinewidth": 0,
              "ticks": ""
             }
            },
            "type": "scattermapbox"
           }
          ],
          "scatterpolar": [
           {
            "marker": {
             "colorbar": {
              "outlinewidth": 0,
              "ticks": ""
             }
            },
            "type": "scatterpolar"
           }
          ],
          "scatterpolargl": [
           {
            "marker": {
             "colorbar": {
              "outlinewidth": 0,
              "ticks": ""
             }
            },
            "type": "scatterpolargl"
           }
          ],
          "scatterternary": [
           {
            "marker": {
             "colorbar": {
              "outlinewidth": 0,
              "ticks": ""
             }
            },
            "type": "scatterternary"
           }
          ],
          "surface": [
           {
            "colorbar": {
             "outlinewidth": 0,
             "ticks": ""
            },
            "colorscale": [
             [
              0,
              "#0d0887"
             ],
             [
              0.1111111111111111,
              "#46039f"
             ],
             [
              0.2222222222222222,
              "#7201a8"
             ],
             [
              0.3333333333333333,
              "#9c179e"
             ],
             [
              0.4444444444444444,
              "#bd3786"
             ],
             [
              0.5555555555555556,
              "#d8576b"
             ],
             [
              0.6666666666666666,
              "#ed7953"
             ],
             [
              0.7777777777777778,
              "#fb9f3a"
             ],
             [
              0.8888888888888888,
              "#fdca26"
             ],
             [
              1,
              "#f0f921"
             ]
            ],
            "type": "surface"
           }
          ],
          "table": [
           {
            "cells": {
             "fill": {
              "color": "#EBF0F8"
             },
             "line": {
              "color": "white"
             }
            },
            "header": {
             "fill": {
              "color": "#C8D4E3"
             },
             "line": {
              "color": "white"
             }
            },
            "type": "table"
           }
          ]
         },
         "layout": {
          "annotationdefaults": {
           "arrowcolor": "#2a3f5f",
           "arrowhead": 0,
           "arrowwidth": 1
          },
          "autotypenumbers": "strict",
          "coloraxis": {
           "colorbar": {
            "outlinewidth": 0,
            "ticks": ""
           }
          },
          "colorscale": {
           "diverging": [
            [
             0,
             "#8e0152"
            ],
            [
             0.1,
             "#c51b7d"
            ],
            [
             0.2,
             "#de77ae"
            ],
            [
             0.3,
             "#f1b6da"
            ],
            [
             0.4,
             "#fde0ef"
            ],
            [
             0.5,
             "#f7f7f7"
            ],
            [
             0.6,
             "#e6f5d0"
            ],
            [
             0.7,
             "#b8e186"
            ],
            [
             0.8,
             "#7fbc41"
            ],
            [
             0.9,
             "#4d9221"
            ],
            [
             1,
             "#276419"
            ]
           ],
           "sequential": [
            [
             0,
             "#0d0887"
            ],
            [
             0.1111111111111111,
             "#46039f"
            ],
            [
             0.2222222222222222,
             "#7201a8"
            ],
            [
             0.3333333333333333,
             "#9c179e"
            ],
            [
             0.4444444444444444,
             "#bd3786"
            ],
            [
             0.5555555555555556,
             "#d8576b"
            ],
            [
             0.6666666666666666,
             "#ed7953"
            ],
            [
             0.7777777777777778,
             "#fb9f3a"
            ],
            [
             0.8888888888888888,
             "#fdca26"
            ],
            [
             1,
             "#f0f921"
            ]
           ],
           "sequentialminus": [
            [
             0,
             "#0d0887"
            ],
            [
             0.1111111111111111,
             "#46039f"
            ],
            [
             0.2222222222222222,
             "#7201a8"
            ],
            [
             0.3333333333333333,
             "#9c179e"
            ],
            [
             0.4444444444444444,
             "#bd3786"
            ],
            [
             0.5555555555555556,
             "#d8576b"
            ],
            [
             0.6666666666666666,
             "#ed7953"
            ],
            [
             0.7777777777777778,
             "#fb9f3a"
            ],
            [
             0.8888888888888888,
             "#fdca26"
            ],
            [
             1,
             "#f0f921"
            ]
           ]
          },
          "colorway": [
           "#636efa",
           "#EF553B",
           "#00cc96",
           "#ab63fa",
           "#FFA15A",
           "#19d3f3",
           "#FF6692",
           "#B6E880",
           "#FF97FF",
           "#FECB52"
          ],
          "font": {
           "color": "#2a3f5f"
          },
          "geo": {
           "bgcolor": "white",
           "lakecolor": "white",
           "landcolor": "#E5ECF6",
           "showlakes": true,
           "showland": true,
           "subunitcolor": "white"
          },
          "hoverlabel": {
           "align": "left"
          },
          "hovermode": "closest",
          "mapbox": {
           "style": "light"
          },
          "paper_bgcolor": "white",
          "plot_bgcolor": "#E5ECF6",
          "polar": {
           "angularaxis": {
            "gridcolor": "white",
            "linecolor": "white",
            "ticks": ""
           },
           "bgcolor": "#E5ECF6",
           "radialaxis": {
            "gridcolor": "white",
            "linecolor": "white",
            "ticks": ""
           }
          },
          "scene": {
           "xaxis": {
            "backgroundcolor": "#E5ECF6",
            "gridcolor": "white",
            "gridwidth": 2,
            "linecolor": "white",
            "showbackground": true,
            "ticks": "",
            "zerolinecolor": "white"
           },
           "yaxis": {
            "backgroundcolor": "#E5ECF6",
            "gridcolor": "white",
            "gridwidth": 2,
            "linecolor": "white",
            "showbackground": true,
            "ticks": "",
            "zerolinecolor": "white"
           },
           "zaxis": {
            "backgroundcolor": "#E5ECF6",
            "gridcolor": "white",
            "gridwidth": 2,
            "linecolor": "white",
            "showbackground": true,
            "ticks": "",
            "zerolinecolor": "white"
           }
          },
          "shapedefaults": {
           "line": {
            "color": "#2a3f5f"
           }
          },
          "ternary": {
           "aaxis": {
            "gridcolor": "white",
            "linecolor": "white",
            "ticks": ""
           },
           "baxis": {
            "gridcolor": "white",
            "linecolor": "white",
            "ticks": ""
           },
           "bgcolor": "#E5ECF6",
           "caxis": {
            "gridcolor": "white",
            "linecolor": "white",
            "ticks": ""
           }
          },
          "title": {
           "x": 0.05
          },
          "xaxis": {
           "automargin": true,
           "gridcolor": "white",
           "linecolor": "white",
           "ticks": "",
           "title": {
            "standoff": 15
           },
           "zerolinecolor": "white",
           "zerolinewidth": 2
          },
          "yaxis": {
           "automargin": true,
           "gridcolor": "white",
           "linecolor": "white",
           "ticks": "",
           "title": {
            "standoff": 15
           },
           "zerolinecolor": "white",
           "zerolinewidth": 2
          }
         }
        },
        "title": {
         "font": {
          "size": 20
         },
         "text": "Grouped HTTP response <i>status codes</i> for initializing first-party requests for<br>EU/EEA sites<br>",
         "x": 0.5,
         "xanchor": "center",
         "y": 0.93,
         "yanchor": "top"
        },
        "xaxis": {
         "tickvals": [
          "2018-02-07",
          "2018-02-09",
          "2018-02-14",
          "2018-03-21",
          "2018-03-29",
          "2018-04-09",
          "2018-04-17",
          "2018-05-05",
          "2018-05-19",
          "<b>2018-05-25</b>",
          "2018-05-29",
          "2018-06-01",
          "2018-06-07",
          "2018-06-12",
          "2018-06-18",
          "2018-07-06",
          "2018-07-17",
          "2018-08-03",
          "2018-08-31",
          "2018-09-06",
          "2018-09-11",
          "2018-09-21",
          "2018-10-09",
          "2018-10-31",
          "2018-11-07",
          "2018-11-19",
          "2018-12-10",
          "2019-01-30",
          "2019-02-21",
          "2019-03-12",
          "2019-03-27",
          "2019-04-05",
          "2019-04-12",
          "2019-04-24",
          "2019-05-01",
          "2019-05-27",
          "2019-05-29",
          "2019-06-14",
          "2019-06-28",
          "2019-07-12",
          "2019-08-05",
          "2019-09-02",
          "2019-09-20",
          "2019-10-03",
          "2019-10-16",
          "2019-10-29",
          "2019-11-05",
          "2019-11-13",
          "2019-11-28",
          "2019-12-22",
          "2020-01-13",
          "2020-02-07",
          "2020-02-25",
          "2020-03-10",
          "2020-03-24",
          "2020-04-07",
          "2020-05-12",
          "2020-06-02",
          "2020-06-19"
         ],
         "type": "category"
        },
        "yaxis": {
         "title": {
          "text": "Number of <b>visited sites</b> (first-parties)"
         }
        }
       }
      },
      "text/html": [
       "<div>                            <div id=\"f5f553de-562c-4bab-a857-88c5042c1b39\" class=\"plotly-graph-div\" style=\"height:525px; width:100%;\"></div>            <script type=\"text/javascript\">                require([\"plotly\"], function(Plotly) {                    window.PLOTLYENV=window.PLOTLYENV || {};                                    if (document.getElementById(\"f5f553de-562c-4bab-a857-88c5042c1b39\")) {                    Plotly.newPlot(                        \"f5f553de-562c-4bab-a857-88c5042c1b39\",                        [{\"marker\": {\"color\": \"#2CA02C\"}, \"name\": \"2xx\", \"type\": \"bar\", \"x\": [\"2018-02-07\", \"2018-02-09\", \"2018-02-14\", \"2018-03-21\", \"2018-03-29\", \"2018-04-09\", \"2018-04-17\", \"2018-05-05\", \"2018-05-19\", \"<b>2018-05-25</b>\", \"2018-05-29\", \"2018-06-01\", \"2018-06-07\", \"2018-06-12\", \"2018-06-18\", \"2018-07-06\", \"2018-07-17\", \"2018-08-03\", \"2018-08-31\", \"2018-09-06\", \"2018-09-11\", \"2018-09-21\", \"2018-10-09\", \"2018-10-31\", \"2018-11-07\", \"2018-11-19\", \"2018-12-10\", \"2019-01-30\", \"2019-02-21\", \"2019-03-12\", \"2019-03-27\", \"2019-04-05\", \"2019-04-12\", \"2019-04-24\", \"2019-05-01\", \"2019-05-27\", \"2019-05-29\", \"2019-06-14\", \"2019-06-28\", \"2019-07-12\", \"2019-08-05\", \"2019-09-02\", \"2019-09-20\", \"2019-10-03\", \"2019-10-16\", \"2019-10-29\", \"2019-11-05\", \"2019-11-13\", \"2019-11-28\", \"2019-12-22\", \"2020-01-13\", \"2020-02-07\", \"2020-02-25\", \"2020-03-10\", \"2020-03-24\", \"2020-04-07\", \"2020-05-12\", \"2020-06-02\", \"2020-06-19\"], \"y\": [8315.0, 8302.0, 8277.0, 7917.0, 7894.0, 7819.0, 7708.0, 7542.0, 7418.0, 7301.0, 7262.0, 7210.0, 7106.0, 7060.0, 6995.0, 6778.0, 6706.0, 6518.0, 6360.0, 6351.0, 6316.0, 6219.0, 6089.0, 5917.0, 5883.0, 5831.0, 5753.0, 5608.0, 5509.0, 5412.0, 5338.0, 5311.0, 5246.0, 5186.0, 5154.0, 5040.0, 5039.0, 4978.0, 4924.0, 4880.0, 4805.0, 4725.0, 4645.0, 4565.0, 4517.0, 4503.0, 4496.0, 4483.0, 4440.0, 4373.0, 4358.0, 4220.0, 4184.0, 4139.0, 4102.0, 4055.0, 3967.0, 3924.0, 3891.0]}, {\"marker\": {\"color\": \"#FF7F0E\"}, \"name\": \"3xx\", \"type\": \"bar\", \"x\": [\"2018-02-07\", \"2018-02-09\", \"2018-02-14\", \"2018-03-21\", \"2018-03-29\", \"2018-04-09\", \"2018-04-17\", \"2018-05-05\", \"2018-05-19\", \"<b>2018-05-25</b>\", \"2018-05-29\", \"2018-06-01\", \"2018-06-07\", \"2018-06-12\", \"2018-06-18\", \"2018-07-06\", \"2018-07-17\", \"2018-08-03\", \"2018-08-31\", \"2018-09-06\", \"2018-09-11\", \"2018-09-21\", \"2018-10-09\", \"2018-10-31\", \"2018-11-07\", \"2018-11-19\", \"2018-12-10\", \"2019-01-30\", \"2019-02-21\", \"2019-03-12\", \"2019-03-27\", \"2019-04-05\", \"2019-04-12\", \"2019-04-24\", \"2019-05-01\", \"2019-05-27\", \"2019-05-29\", \"2019-06-14\", \"2019-06-28\", \"2019-07-12\", \"2019-08-05\", \"2019-09-02\", \"2019-09-20\", \"2019-10-03\", \"2019-10-16\", \"2019-10-29\", \"2019-11-05\", \"2019-11-13\", \"2019-11-28\", \"2019-12-22\", \"2020-01-13\", \"2020-02-07\", \"2020-02-25\", \"2020-03-10\", \"2020-03-24\", \"2020-04-07\", \"2020-05-12\", \"2020-06-02\", \"2020-06-19\"], \"y\": [1678.0, 1697.0, 1714.0, 1995.0, 2025.0, 2099.0, 2177.0, 2348.0, 2430.0, 2529.0, 2567.0, 2624.0, 2710.0, 2736.0, 2833.0, 3040.0, 3095.0, 3259.0, 3417.0, 3412.0, 3472.0, 3537.0, 3701.0, 3869.0, 3907.0, 3931.0, 4004.0, 4118.0, 4210.0, 4297.0, 4343.0, 4376.0, 4422.0, 4481.0, 4507.0, 4606.0, 4604.0, 4682.0, 4708.0, 4725.0, 4766.0, 4842.0, 4894.0, 4983.0, 5026.0, 5029.0, 5017.0, 5038.0, 5082.0, 5125.0, 5154.0, 5242.0, 5309.0, 5347.0, 5403.0, 5432.0, 5507.0, 5524.0, 5574.0]}, {\"marker\": {\"color\": \"#D62728\"}, \"name\": \"4xx\", \"type\": \"bar\", \"x\": [\"2018-02-07\", \"2018-02-09\", \"2018-02-14\", \"2018-03-21\", \"2018-03-29\", \"2018-04-09\", \"2018-04-17\", \"2018-05-05\", \"2018-05-19\", \"<b>2018-05-25</b>\", \"2018-05-29\", \"2018-06-01\", \"2018-06-07\", \"2018-06-12\", \"2018-06-18\", \"2018-07-06\", \"2018-07-17\", \"2018-08-03\", \"2018-08-31\", \"2018-09-06\", \"2018-09-11\", \"2018-09-21\", \"2018-10-09\", \"2018-10-31\", \"2018-11-07\", \"2018-11-19\", \"2018-12-10\", \"2019-01-30\", \"2019-02-21\", \"2019-03-12\", \"2019-03-27\", \"2019-04-05\", \"2019-04-12\", \"2019-04-24\", \"2019-05-01\", \"2019-05-27\", \"2019-05-29\", \"2019-06-14\", \"2019-06-28\", \"2019-07-12\", \"2019-08-05\", \"2019-09-02\", \"2019-09-20\", \"2019-10-03\", \"2019-10-16\", \"2019-10-29\", \"2019-11-05\", \"2019-11-13\", \"2019-11-28\", \"2019-12-22\", \"2020-01-13\", \"2020-02-07\", \"2020-02-25\", \"2020-03-10\", \"2020-03-24\", \"2020-04-07\", \"2020-05-12\", \"2020-06-02\", \"2020-06-19\"], \"y\": [50.0, 53.0, 57.0, 116.0, 119.0, 131.0, 141.0, 159.0, 186.0, 194.0, 190.0, 189.0, 211.0, 207.0, 206.0, 217.0, 227.0, 224.0, 233.0, 228.0, 228.0, 229.0, 232.0, 230.0, 231.0, 247.0, 250.0, 303.0, 313.0, 326.0, 338.0, 349.0, 362.0, 348.0, 361.0, 380.0, 391.0, 380.0, 387.0, 399.0, 422.0, 427.0, 430.0, 426.0, 426.0, 448.0, 448.0, 456.0, 458.0, 482.0, 482.0, 508.0, 494.0, 484.0, 474.0, 479.0, 495.0, 516.0, 510.0]}, {\"marker\": {\"color\": \"#7F7F7F\"}, \"name\": \"5xx\", \"type\": \"bar\", \"x\": [\"2018-02-07\", \"2018-02-09\", \"2018-02-14\", \"2018-03-21\", \"2018-03-29\", \"2018-04-09\", \"2018-04-17\", \"2018-05-05\", \"2018-05-19\", \"<b>2018-05-25</b>\", \"2018-05-29\", \"2018-06-01\", \"2018-06-07\", \"2018-06-12\", \"2018-06-18\", \"2018-07-06\", \"2018-07-17\", \"2018-08-03\", \"2018-08-31\", \"2018-09-06\", \"2018-09-11\", \"2018-09-21\", \"2018-10-09\", \"2018-10-31\", \"2018-11-07\", \"2018-11-19\", \"2018-12-10\", \"2019-01-30\", \"2019-02-21\", \"2019-03-12\", \"2019-03-27\", \"2019-04-05\", \"2019-04-12\", \"2019-04-24\", \"2019-05-01\", \"2019-05-27\", \"2019-05-29\", \"2019-06-14\", \"2019-06-28\", \"2019-07-12\", \"2019-08-05\", \"2019-09-02\", \"2019-09-20\", \"2019-10-03\", \"2019-10-16\", \"2019-10-29\", \"2019-11-05\", \"2019-11-13\", \"2019-11-28\", \"2019-12-22\", \"2020-01-13\", \"2020-02-07\", \"2020-02-25\", \"2020-03-10\", \"2020-03-24\", \"2020-04-07\", \"2020-05-12\", \"2020-06-02\", \"2020-06-19\"], \"y\": [13.0, 6.0, 7.0, 12.0, 19.0, 4.0, 10.0, 7.0, 9.0, 21.0, 17.0, 25.0, 23.0, 37.0, 9.0, 8.0, 14.0, 36.0, 22.0, 34.0, 21.0, 34.0, 25.0, 17.0, 17.0, 16.0, 28.0, 16.0, 13.0, 15.0, 27.0, 14.0, 19.0, 15.0, 12.0, 13.0, 13.0, 12.0, 17.0, 23.0, 24.0, 23.0, 22.0, 18.0, 17.0, 14.0, 18.0, 20.0, 14.0, 27.0, 11.0, 30.0, 22.0, 33.0, 32.0, 34.0, 28.0, 27.0, 21.0]}, {\"marker\": {\"color\": \"black\"}, \"name\": \"Missing responses\", \"type\": \"bar\", \"x\": [\"2018-02-07\", \"2018-02-09\", \"2018-02-14\", \"2018-03-21\", \"2018-03-29\", \"2018-04-09\", \"2018-04-17\", \"2018-05-05\", \"2018-05-19\", \"<b>2018-05-25</b>\", \"2018-05-29\", \"2018-06-01\", \"2018-06-07\", \"2018-06-12\", \"2018-06-18\", \"2018-07-06\", \"2018-07-17\", \"2018-08-03\", \"2018-08-31\", \"2018-09-06\", \"2018-09-11\", \"2018-09-21\", \"2018-10-09\", \"2018-10-31\", \"2018-11-07\", \"2018-11-19\", \"2018-12-10\", \"2019-01-30\", \"2019-02-21\", \"2019-03-12\", \"2019-03-27\", \"2019-04-05\", \"2019-04-12\", \"2019-04-24\", \"2019-05-01\", \"2019-05-27\", \"2019-05-29\", \"2019-06-14\", \"2019-06-28\", \"2019-07-12\", \"2019-08-05\", \"2019-09-02\", \"2019-09-20\", \"2019-10-03\", \"2019-10-16\", \"2019-10-29\", \"2019-11-05\", \"2019-11-13\", \"2019-11-28\", \"2019-12-22\", \"2020-01-13\", \"2020-02-07\", \"2020-02-25\", \"2020-03-10\", \"2020-03-24\", \"2020-04-07\", \"2020-05-12\", \"2020-06-02\", \"2020-06-19\"], \"y\": [33.0, 31.0, 34.0, 49.0, 32.0, 36.0, 53.0, 33.0, 46.0, 44.0, 53.0, 41.0, 39.0, 49.0, 46.0, 46.0, 47.0, 52.0, 57.0, 64.0, 52.0, 70.0, 42.0, 56.0, 51.0, 64.0, 54.0, 44.0, 44.0, 39.0, 43.0, 39.0, 40.0, 59.0, 55.0, 50.0, 42.0, 37.0, 53.0, 62.0, 72.0, 72.0, 98.0, 97.0, 103.0, 95.0, 110.0, 92.0, 95.0, 82.0, 84.0, 89.0, 80.0, 86.0, 78.0, 89.0, 92.0, 98.0, 93.0]}],                        {\"annotations\": [{\"align\": \"center\", \"arrowcolor\": \"#636363\", \"arrowhead\": 2, \"arrowsize\": 1, \"arrowwidth\": 2, \"ax\": 20, \"ay\": -30, \"bgcolor\": \"#ff7f0e\", \"bordercolor\": \"#c7c7c7\", \"borderpad\": 4, \"borderwidth\": 2, \"font\": {\"color\": \"#ffffff\", \"family\": \"Courier New, monospace\", \"size\": 14}, \"opacity\": 0.8, \"showarrow\": true, \"text\": \"GDPR\", \"x\": 9, \"xref\": \"x\", \"y\": 10100, \"yref\": \"y\"}], \"barmode\": \"stack\", \"font\": {\"family\": \"Courier New, monospace\"}, \"legend\": {\"orientation\": \"h\", \"title\": {\"text\": \"HTTP response status codes:\"}, \"traceorder\": \"normal\", \"x\": 0.5, \"xanchor\": \"center\", \"y\": 1.02, \"yanchor\": \"bottom\"}, \"template\": {\"data\": {\"bar\": [{\"error_x\": {\"color\": \"#2a3f5f\"}, \"error_y\": {\"color\": \"#2a3f5f\"}, \"marker\": {\"line\": {\"color\": \"#E5ECF6\", \"width\": 0.5}}, \"type\": \"bar\"}], \"barpolar\": [{\"marker\": {\"line\": {\"color\": \"#E5ECF6\", \"width\": 0.5}}, \"type\": \"barpolar\"}], \"carpet\": [{\"aaxis\": {\"endlinecolor\": \"#2a3f5f\", \"gridcolor\": \"white\", \"linecolor\": \"white\", \"minorgridcolor\": \"white\", \"startlinecolor\": \"#2a3f5f\"}, \"baxis\": {\"endlinecolor\": \"#2a3f5f\", \"gridcolor\": \"white\", \"linecolor\": \"white\", \"minorgridcolor\": \"white\", \"startlinecolor\": \"#2a3f5f\"}, \"type\": \"carpet\"}], \"choropleth\": [{\"colorbar\": {\"outlinewidth\": 0, \"ticks\": \"\"}, \"type\": \"choropleth\"}], \"contour\": [{\"colorbar\": {\"outlinewidth\": 0, \"ticks\": \"\"}, \"colorscale\": [[0.0, \"#0d0887\"], [0.1111111111111111, \"#46039f\"], [0.2222222222222222, \"#7201a8\"], [0.3333333333333333, \"#9c179e\"], [0.4444444444444444, \"#bd3786\"], [0.5555555555555556, \"#d8576b\"], [0.6666666666666666, \"#ed7953\"], [0.7777777777777778, \"#fb9f3a\"], [0.8888888888888888, \"#fdca26\"], [1.0, \"#f0f921\"]], \"type\": \"contour\"}], \"contourcarpet\": [{\"colorbar\": {\"outlinewidth\": 0, \"ticks\": \"\"}, \"type\": \"contourcarpet\"}], \"heatmap\": [{\"colorbar\": {\"outlinewidth\": 0, \"ticks\": \"\"}, \"colorscale\": [[0.0, \"#0d0887\"], [0.1111111111111111, \"#46039f\"], [0.2222222222222222, \"#7201a8\"], [0.3333333333333333, \"#9c179e\"], [0.4444444444444444, \"#bd3786\"], [0.5555555555555556, \"#d8576b\"], [0.6666666666666666, \"#ed7953\"], [0.7777777777777778, \"#fb9f3a\"], [0.8888888888888888, \"#fdca26\"], [1.0, \"#f0f921\"]], \"type\": \"heatmap\"}], \"heatmapgl\": [{\"colorbar\": {\"outlinewidth\": 0, \"ticks\": \"\"}, \"colorscale\": [[0.0, \"#0d0887\"], [0.1111111111111111, \"#46039f\"], [0.2222222222222222, \"#7201a8\"], [0.3333333333333333, \"#9c179e\"], [0.4444444444444444, \"#bd3786\"], [0.5555555555555556, \"#d8576b\"], [0.6666666666666666, \"#ed7953\"], [0.7777777777777778, \"#fb9f3a\"], [0.8888888888888888, \"#fdca26\"], [1.0, \"#f0f921\"]], \"type\": \"heatmapgl\"}], \"histogram\": [{\"marker\": {\"colorbar\": {\"outlinewidth\": 0, \"ticks\": \"\"}}, \"type\": \"histogram\"}], \"histogram2d\": [{\"colorbar\": {\"outlinewidth\": 0, \"ticks\": \"\"}, \"colorscale\": [[0.0, \"#0d0887\"], [0.1111111111111111, \"#46039f\"], [0.2222222222222222, \"#7201a8\"], [0.3333333333333333, \"#9c179e\"], [0.4444444444444444, \"#bd3786\"], [0.5555555555555556, \"#d8576b\"], [0.6666666666666666, \"#ed7953\"], [0.7777777777777778, \"#fb9f3a\"], [0.8888888888888888, \"#fdca26\"], [1.0, \"#f0f921\"]], \"type\": \"histogram2d\"}], \"histogram2dcontour\": [{\"colorbar\": {\"outlinewidth\": 0, \"ticks\": \"\"}, \"colorscale\": [[0.0, \"#0d0887\"], [0.1111111111111111, \"#46039f\"], [0.2222222222222222, \"#7201a8\"], [0.3333333333333333, \"#9c179e\"], [0.4444444444444444, \"#bd3786\"], [0.5555555555555556, \"#d8576b\"], [0.6666666666666666, \"#ed7953\"], [0.7777777777777778, \"#fb9f3a\"], [0.8888888888888888, \"#fdca26\"], [1.0, \"#f0f921\"]], \"type\": \"histogram2dcontour\"}], \"mesh3d\": [{\"colorbar\": {\"outlinewidth\": 0, \"ticks\": \"\"}, \"type\": \"mesh3d\"}], \"parcoords\": [{\"line\": {\"colorbar\": {\"outlinewidth\": 0, \"ticks\": \"\"}}, \"type\": \"parcoords\"}], \"pie\": [{\"automargin\": true, \"type\": \"pie\"}], \"scatter\": [{\"marker\": {\"colorbar\": {\"outlinewidth\": 0, \"ticks\": \"\"}}, \"type\": \"scatter\"}], \"scatter3d\": [{\"line\": {\"colorbar\": {\"outlinewidth\": 0, \"ticks\": \"\"}}, \"marker\": {\"colorbar\": {\"outlinewidth\": 0, \"ticks\": \"\"}}, \"type\": \"scatter3d\"}], \"scattercarpet\": [{\"marker\": {\"colorbar\": {\"outlinewidth\": 0, \"ticks\": \"\"}}, \"type\": \"scattercarpet\"}], \"scattergeo\": [{\"marker\": {\"colorbar\": {\"outlinewidth\": 0, \"ticks\": \"\"}}, \"type\": \"scattergeo\"}], \"scattergl\": [{\"marker\": {\"colorbar\": {\"outlinewidth\": 0, \"ticks\": \"\"}}, \"type\": \"scattergl\"}], \"scattermapbox\": [{\"marker\": {\"colorbar\": {\"outlinewidth\": 0, \"ticks\": \"\"}}, \"type\": \"scattermapbox\"}], \"scatterpolar\": [{\"marker\": {\"colorbar\": {\"outlinewidth\": 0, \"ticks\": \"\"}}, \"type\": \"scatterpolar\"}], \"scatterpolargl\": [{\"marker\": {\"colorbar\": {\"outlinewidth\": 0, \"ticks\": \"\"}}, \"type\": \"scatterpolargl\"}], \"scatterternary\": [{\"marker\": {\"colorbar\": {\"outlinewidth\": 0, \"ticks\": \"\"}}, \"type\": \"scatterternary\"}], \"surface\": [{\"colorbar\": {\"outlinewidth\": 0, \"ticks\": \"\"}, \"colorscale\": [[0.0, \"#0d0887\"], [0.1111111111111111, \"#46039f\"], [0.2222222222222222, \"#7201a8\"], [0.3333333333333333, \"#9c179e\"], [0.4444444444444444, \"#bd3786\"], [0.5555555555555556, \"#d8576b\"], [0.6666666666666666, \"#ed7953\"], [0.7777777777777778, \"#fb9f3a\"], [0.8888888888888888, \"#fdca26\"], [1.0, \"#f0f921\"]], \"type\": \"surface\"}], \"table\": [{\"cells\": {\"fill\": {\"color\": \"#EBF0F8\"}, \"line\": {\"color\": \"white\"}}, \"header\": {\"fill\": {\"color\": \"#C8D4E3\"}, \"line\": {\"color\": \"white\"}}, \"type\": \"table\"}]}, \"layout\": {\"annotationdefaults\": {\"arrowcolor\": \"#2a3f5f\", \"arrowhead\": 0, \"arrowwidth\": 1}, \"autotypenumbers\": \"strict\", \"coloraxis\": {\"colorbar\": {\"outlinewidth\": 0, \"ticks\": \"\"}}, \"colorscale\": {\"diverging\": [[0, \"#8e0152\"], [0.1, \"#c51b7d\"], [0.2, \"#de77ae\"], [0.3, \"#f1b6da\"], [0.4, \"#fde0ef\"], [0.5, \"#f7f7f7\"], [0.6, \"#e6f5d0\"], [0.7, \"#b8e186\"], [0.8, \"#7fbc41\"], [0.9, \"#4d9221\"], [1, \"#276419\"]], \"sequential\": [[0.0, \"#0d0887\"], [0.1111111111111111, \"#46039f\"], [0.2222222222222222, \"#7201a8\"], [0.3333333333333333, \"#9c179e\"], [0.4444444444444444, \"#bd3786\"], [0.5555555555555556, \"#d8576b\"], [0.6666666666666666, \"#ed7953\"], [0.7777777777777778, \"#fb9f3a\"], [0.8888888888888888, \"#fdca26\"], [1.0, \"#f0f921\"]], \"sequentialminus\": [[0.0, \"#0d0887\"], [0.1111111111111111, \"#46039f\"], [0.2222222222222222, \"#7201a8\"], [0.3333333333333333, \"#9c179e\"], [0.4444444444444444, \"#bd3786\"], [0.5555555555555556, \"#d8576b\"], [0.6666666666666666, \"#ed7953\"], [0.7777777777777778, \"#fb9f3a\"], [0.8888888888888888, \"#fdca26\"], [1.0, \"#f0f921\"]]}, \"colorway\": [\"#636efa\", \"#EF553B\", \"#00cc96\", \"#ab63fa\", \"#FFA15A\", \"#19d3f3\", \"#FF6692\", \"#B6E880\", \"#FF97FF\", \"#FECB52\"], \"font\": {\"color\": \"#2a3f5f\"}, \"geo\": {\"bgcolor\": \"white\", \"lakecolor\": \"white\", \"landcolor\": \"#E5ECF6\", \"showlakes\": true, \"showland\": true, \"subunitcolor\": \"white\"}, \"hoverlabel\": {\"align\": \"left\"}, \"hovermode\": \"closest\", \"mapbox\": {\"style\": \"light\"}, \"paper_bgcolor\": \"white\", \"plot_bgcolor\": \"#E5ECF6\", \"polar\": {\"angularaxis\": {\"gridcolor\": \"white\", \"linecolor\": \"white\", \"ticks\": \"\"}, \"bgcolor\": \"#E5ECF6\", \"radialaxis\": {\"gridcolor\": \"white\", \"linecolor\": \"white\", \"ticks\": \"\"}}, \"scene\": {\"xaxis\": {\"backgroundcolor\": \"#E5ECF6\", \"gridcolor\": \"white\", \"gridwidth\": 2, \"linecolor\": \"white\", \"showbackground\": true, \"ticks\": \"\", \"zerolinecolor\": \"white\"}, \"yaxis\": {\"backgroundcolor\": \"#E5ECF6\", \"gridcolor\": \"white\", \"gridwidth\": 2, \"linecolor\": \"white\", \"showbackground\": true, \"ticks\": \"\", \"zerolinecolor\": \"white\"}, \"zaxis\": {\"backgroundcolor\": \"#E5ECF6\", \"gridcolor\": \"white\", \"gridwidth\": 2, \"linecolor\": \"white\", \"showbackground\": true, \"ticks\": \"\", \"zerolinecolor\": \"white\"}}, \"shapedefaults\": {\"line\": {\"color\": \"#2a3f5f\"}}, \"ternary\": {\"aaxis\": {\"gridcolor\": \"white\", \"linecolor\": \"white\", \"ticks\": \"\"}, \"baxis\": {\"gridcolor\": \"white\", \"linecolor\": \"white\", \"ticks\": \"\"}, \"bgcolor\": \"#E5ECF6\", \"caxis\": {\"gridcolor\": \"white\", \"linecolor\": \"white\", \"ticks\": \"\"}}, \"title\": {\"x\": 0.05}, \"xaxis\": {\"automargin\": true, \"gridcolor\": \"white\", \"linecolor\": \"white\", \"ticks\": \"\", \"title\": {\"standoff\": 15}, \"zerolinecolor\": \"white\", \"zerolinewidth\": 2}, \"yaxis\": {\"automargin\": true, \"gridcolor\": \"white\", \"linecolor\": \"white\", \"ticks\": \"\", \"title\": {\"standoff\": 15}, \"zerolinecolor\": \"white\", \"zerolinewidth\": 2}}}, \"title\": {\"font\": {\"size\": 20}, \"text\": \"Grouped HTTP response <i>status codes</i> for initializing first-party requests for<br>EU/EEA sites<br>\", \"x\": 0.5, \"xanchor\": \"center\", \"y\": 0.93, \"yanchor\": \"top\"}, \"xaxis\": {\"tickvals\": [\"2018-02-07\", \"2018-02-09\", \"2018-02-14\", \"2018-03-21\", \"2018-03-29\", \"2018-04-09\", \"2018-04-17\", \"2018-05-05\", \"2018-05-19\", \"<b>2018-05-25</b>\", \"2018-05-29\", \"2018-06-01\", \"2018-06-07\", \"2018-06-12\", \"2018-06-18\", \"2018-07-06\", \"2018-07-17\", \"2018-08-03\", \"2018-08-31\", \"2018-09-06\", \"2018-09-11\", \"2018-09-21\", \"2018-10-09\", \"2018-10-31\", \"2018-11-07\", \"2018-11-19\", \"2018-12-10\", \"2019-01-30\", \"2019-02-21\", \"2019-03-12\", \"2019-03-27\", \"2019-04-05\", \"2019-04-12\", \"2019-04-24\", \"2019-05-01\", \"2019-05-27\", \"2019-05-29\", \"2019-06-14\", \"2019-06-28\", \"2019-07-12\", \"2019-08-05\", \"2019-09-02\", \"2019-09-20\", \"2019-10-03\", \"2019-10-16\", \"2019-10-29\", \"2019-11-05\", \"2019-11-13\", \"2019-11-28\", \"2019-12-22\", \"2020-01-13\", \"2020-02-07\", \"2020-02-25\", \"2020-03-10\", \"2020-03-24\", \"2020-04-07\", \"2020-05-12\", \"2020-06-02\", \"2020-06-19\"], \"type\": \"category\"}, \"yaxis\": {\"title\": {\"text\": \"Number of <b>visited sites</b> (first-parties)\"}}},                        {\"responsive\": true}                    ).then(function(){\n",
       "                            \n",
       "var gd = document.getElementById('f5f553de-562c-4bab-a857-88c5042c1b39');\n",
       "var x = new MutationObserver(function (mutations, observer) {{\n",
       "        var display = window.getComputedStyle(gd).display;\n",
       "        if (!display || display === 'none') {{\n",
       "            console.log([gd, 'removed!']);\n",
       "            Plotly.purge(gd);\n",
       "            observer.disconnect();\n",
       "        }}\n",
       "}});\n",
       "\n",
       "// Listen for the removal of the full notebook cells\n",
       "var notebookContainer = gd.closest('#notebook-container');\n",
       "if (notebookContainer) {{\n",
       "    x.observe(notebookContainer, {childList: true});\n",
       "}}\n",
       "\n",
       "// Listen for the clearing of the current output cell\n",
       "var outputEl = gd.closest('.output');\n",
       "if (outputEl) {{\n",
       "    x.observe(outputEl, {childList: true});\n",
       "}}\n",
       "\n",
       "                        })                };                });            </script>        </div>"
      ]
     },
     "metadata": {},
     "output_type": "display_data"
    }
   ],
   "source": [
    "# Create a list\n",
    "data = []\n",
    "\n",
    "# Choose a color palette\n",
    "colors = ['#2CA02C', '#FF7F0E', '#D62728', '#7F7F7F']\n",
    "palette = cycle(colors)\n",
    "\n",
    "# Create bars \n",
    "for i in range(len(status_codes_group)):\n",
    "    data.append(go.Bar(name=status_codes_name[i], x=df_dates['date'], y=df_error_cat[status_codes_group[i]], \n",
    "                      marker_color=next(palette)))\n",
    "\n",
    "data.append(go.Bar(name='Missing responses', x=df_dates['date'], y=df_error_cat['no_response'],\n",
    "                       marker_color='black'))\n",
    "# Initiate figure\n",
    "fig = go.Figure(data)\n",
    "\n",
    "# Make x-axis categorical\n",
    "fig.update_xaxes(type='category')\n",
    "\n",
    "# Use date values from DF for x-axis \n",
    "fig.update_xaxes(tickvals=df_dates['date'])\n",
    "\n",
    "# Change the bar mode\n",
    "fig.update_layout(barmode='stack')\n",
    "\n",
    "# Set y-axis title\n",
    "fig.update_yaxes(title_text=\"Number of <b>visited sites</b> (first-parties)\")\n",
    "\n",
    "# Add centered figure title, set the legent and font\n",
    "fig.update_layout(\n",
    "    title={\n",
    "        'text': \"Grouped HTTP response <i>status codes</i> for initializing first-party requests for<br>EU/EEA sites<br>\",\n",
    "        'y':0.93,\n",
    "        'x':0.5,\n",
    "        'xanchor': 'center',\n",
    "        'yanchor': 'top',\n",
    "        'font':dict(size=20)},\n",
    "    legend_title=\"HTTP response status codes:\",\n",
    "    font=dict(\n",
    "        family=\"Courier New, monospace\",\n",
    "    ),\n",
    ")\n",
    "\n",
    "# Add annotation\n",
    "fig.add_annotation(\n",
    "        x=9,\n",
    "        y=10100,\n",
    "        xref=\"x\",\n",
    "        yref=\"y\",\n",
    "        text=\"GDPR\",\n",
    "        showarrow=True,\n",
    "        font=dict(\n",
    "            family=\"Courier New, monospace\",\n",
    "            size=14,\n",
    "            color=\"#ffffff\"\n",
    "            ),\n",
    "        align=\"center\",\n",
    "        arrowhead=2,\n",
    "        arrowsize=1,\n",
    "        arrowwidth=2,\n",
    "        arrowcolor=\"#636363\",\n",
    "        ax=20,\n",
    "        ay=-30,\n",
    "        bordercolor=\"#c7c7c7\",\n",
    "        borderwidth=2,\n",
    "        borderpad=4,\n",
    "        bgcolor=\"#ff7f0e\",\n",
    "        opacity=0.8\n",
    "        )\n",
    "\n",
    "# Change legend location\n",
    "fig.update_layout(legend=dict(\n",
    "    orientation=\"h\",\n",
    "    yanchor=\"bottom\",\n",
    "    y=1.02,\n",
    "    xanchor=\"center\",\n",
    "    x=0.5, \n",
    "    traceorder='normal'\n",
    "))\n",
    "\n",
    "# Set plot size - use when exporting\n",
    "#fig.update_layout(\n",
    "#    autosize=False,\n",
    "#    width=1100,\n",
    "#    height=600,\n",
    "#    )\n",
    "\n",
    "\n",
    "iplot(fig)"
   ]
  },
  {
   "cell_type": "code",
   "execution_count": 19,
   "metadata": {},
   "outputs": [],
   "source": [
    "# Export\n",
    "fig.write_image(\"/home/ubuntu/Plots/FIG_5.pdf\")"
   ]
  },
  {
   "cell_type": "code",
   "execution_count": 18,
   "metadata": {},
   "outputs": [
    {
     "data": {
      "application/vnd.plotly.v1+json": {
       "config": {
        "linkText": "Export to plot.ly",
        "plotlyServerURL": "https://plot.ly",
        "showLink": false
       },
       "data": [
        {
         "marker": {
          "color": "#4C78A8"
         },
         "name": "301 - Moved Permanently",
         "type": "bar",
         "x": [
          "2018-02-07",
          "2018-02-09",
          "2018-02-14",
          "2018-03-21",
          "2018-03-29",
          "2018-04-09",
          "2018-04-17",
          "2018-05-05",
          "2018-05-19",
          "<b>2018-05-25</b>",
          "2018-05-29",
          "2018-06-01",
          "2018-06-07",
          "2018-06-12",
          "2018-06-18",
          "2018-07-06",
          "2018-07-17",
          "2018-08-03",
          "2018-08-31",
          "2018-09-06",
          "2018-09-11",
          "2018-09-21",
          "2018-10-09",
          "2018-10-31",
          "2018-11-07",
          "2018-11-19",
          "2018-12-10",
          "2019-01-30",
          "2019-02-21",
          "2019-03-12",
          "2019-03-27",
          "2019-04-05",
          "2019-04-12",
          "2019-04-24",
          "2019-05-01",
          "2019-05-27",
          "2019-05-29",
          "2019-06-14",
          "2019-06-28",
          "2019-07-12",
          "2019-08-05",
          "2019-09-02",
          "2019-09-20",
          "2019-10-03",
          "2019-10-16",
          "2019-10-29",
          "2019-11-05",
          "2019-11-13",
          "2019-11-28",
          "2019-12-22",
          "2020-01-13",
          "2020-02-07",
          "2020-02-25",
          "2020-03-10",
          "2020-03-24",
          "2020-04-07",
          "2020-05-12",
          "2020-06-02",
          "2020-06-19"
         ],
         "y": [
          1122,
          1128,
          1143,
          1408,
          1457,
          1502,
          1579,
          1724,
          1794,
          1847,
          1868,
          1906,
          1962,
          1970,
          2040,
          2190,
          2259,
          2394,
          2525,
          2521,
          2582,
          2636,
          2807,
          2954,
          2957,
          2996,
          3055,
          3181,
          3253,
          3318,
          3370,
          3424,
          3461,
          3524,
          3540,
          3644,
          3628,
          3672,
          3719,
          3714,
          3746,
          3825,
          3861,
          3950,
          3986,
          3992,
          3992,
          4000,
          4065,
          4082,
          4099,
          4143,
          4178,
          4200,
          4271,
          4273,
          4340,
          4350,
          4407
         ]
        },
        {
         "marker": {
          "color": "#F58518"
         },
         "name": "302 - Found",
         "type": "bar",
         "x": [
          "2018-02-07",
          "2018-02-09",
          "2018-02-14",
          "2018-03-21",
          "2018-03-29",
          "2018-04-09",
          "2018-04-17",
          "2018-05-05",
          "2018-05-19",
          "<b>2018-05-25</b>",
          "2018-05-29",
          "2018-06-01",
          "2018-06-07",
          "2018-06-12",
          "2018-06-18",
          "2018-07-06",
          "2018-07-17",
          "2018-08-03",
          "2018-08-31",
          "2018-09-06",
          "2018-09-11",
          "2018-09-21",
          "2018-10-09",
          "2018-10-31",
          "2018-11-07",
          "2018-11-19",
          "2018-12-10",
          "2019-01-30",
          "2019-02-21",
          "2019-03-12",
          "2019-03-27",
          "2019-04-05",
          "2019-04-12",
          "2019-04-24",
          "2019-05-01",
          "2019-05-27",
          "2019-05-29",
          "2019-06-14",
          "2019-06-28",
          "2019-07-12",
          "2019-08-05",
          "2019-09-02",
          "2019-09-20",
          "2019-10-03",
          "2019-10-16",
          "2019-10-29",
          "2019-11-05",
          "2019-11-13",
          "2019-11-28",
          "2019-12-22",
          "2020-01-13",
          "2020-02-07",
          "2020-02-25",
          "2020-03-10",
          "2020-03-24",
          "2020-04-07",
          "2020-05-12",
          "2020-06-02",
          "2020-06-19"
         ],
         "y": [
          512,
          525,
          525,
          543,
          528,
          555,
          555,
          575,
          588,
          626,
          643,
          662,
          692,
          707,
          736,
          777,
          764,
          793,
          821,
          820,
          821,
          831,
          834,
          847,
          880,
          865,
          883,
          867,
          890,
          914,
          906,
          877,
          887,
          884,
          894,
          891,
          894,
          921,
          901,
          922,
          929,
          932,
          954,
          954,
          964,
          961,
          950,
          964,
          950,
          979,
          984,
          1024,
          1046,
          1069,
          1052,
          1081,
          1080,
          1086,
          1093
         ]
        },
        {
         "marker": {
          "color": "#D62728"
         },
         "name": "404 - Not found",
         "type": "bar",
         "x": [
          "2018-02-07",
          "2018-02-09",
          "2018-02-14",
          "2018-03-21",
          "2018-03-29",
          "2018-04-09",
          "2018-04-17",
          "2018-05-05",
          "2018-05-19",
          "<b>2018-05-25</b>",
          "2018-05-29",
          "2018-06-01",
          "2018-06-07",
          "2018-06-12",
          "2018-06-18",
          "2018-07-06",
          "2018-07-17",
          "2018-08-03",
          "2018-08-31",
          "2018-09-06",
          "2018-09-11",
          "2018-09-21",
          "2018-10-09",
          "2018-10-31",
          "2018-11-07",
          "2018-11-19",
          "2018-12-10",
          "2019-01-30",
          "2019-02-21",
          "2019-03-12",
          "2019-03-27",
          "2019-04-05",
          "2019-04-12",
          "2019-04-24",
          "2019-05-01",
          "2019-05-27",
          "2019-05-29",
          "2019-06-14",
          "2019-06-28",
          "2019-07-12",
          "2019-08-05",
          "2019-09-02",
          "2019-09-20",
          "2019-10-03",
          "2019-10-16",
          "2019-10-29",
          "2019-11-05",
          "2019-11-13",
          "2019-11-28",
          "2019-12-22",
          "2020-01-13",
          "2020-02-07",
          "2020-02-25",
          "2020-03-10",
          "2020-03-24",
          "2020-04-07",
          "2020-05-12",
          "2020-06-02",
          "2020-06-19"
         ],
         "y": [
          35,
          38,
          42,
          94,
          91,
          105,
          112,
          135,
          160,
          162,
          163,
          162,
          170,
          180,
          178,
          188,
          198,
          198,
          204,
          199,
          200,
          200,
          202,
          200,
          201,
          216,
          220,
          271,
          281,
          294,
          306,
          318,
          331,
          319,
          332,
          350,
          361,
          354,
          362,
          375,
          394,
          401,
          404,
          400,
          388,
          399,
          397,
          405,
          406,
          429,
          427,
          451,
          449,
          441,
          432,
          436,
          443,
          465,
          459
         ]
        },
        {
         "marker": {
          "color": "black"
         },
         "name": "Missing responses",
         "type": "bar",
         "x": [
          "2018-02-07",
          "2018-02-09",
          "2018-02-14",
          "2018-03-21",
          "2018-03-29",
          "2018-04-09",
          "2018-04-17",
          "2018-05-05",
          "2018-05-19",
          "<b>2018-05-25</b>",
          "2018-05-29",
          "2018-06-01",
          "2018-06-07",
          "2018-06-12",
          "2018-06-18",
          "2018-07-06",
          "2018-07-17",
          "2018-08-03",
          "2018-08-31",
          "2018-09-06",
          "2018-09-11",
          "2018-09-21",
          "2018-10-09",
          "2018-10-31",
          "2018-11-07",
          "2018-11-19",
          "2018-12-10",
          "2019-01-30",
          "2019-02-21",
          "2019-03-12",
          "2019-03-27",
          "2019-04-05",
          "2019-04-12",
          "2019-04-24",
          "2019-05-01",
          "2019-05-27",
          "2019-05-29",
          "2019-06-14",
          "2019-06-28",
          "2019-07-12",
          "2019-08-05",
          "2019-09-02",
          "2019-09-20",
          "2019-10-03",
          "2019-10-16",
          "2019-10-29",
          "2019-11-05",
          "2019-11-13",
          "2019-11-28",
          "2019-12-22",
          "2020-01-13",
          "2020-02-07",
          "2020-02-25",
          "2020-03-10",
          "2020-03-24",
          "2020-04-07",
          "2020-05-12",
          "2020-06-02",
          "2020-06-19"
         ],
         "y": [
          33,
          31,
          34,
          49,
          32,
          36,
          53,
          33,
          46,
          44,
          53,
          41,
          39,
          49,
          46,
          46,
          47,
          52,
          57,
          64,
          52,
          70,
          42,
          56,
          51,
          64,
          54,
          44,
          44,
          39,
          43,
          39,
          40,
          59,
          55,
          50,
          42,
          37,
          53,
          62,
          72,
          72,
          98,
          97,
          103,
          95,
          110,
          92,
          95,
          82,
          84,
          89,
          80,
          86,
          78,
          89,
          92,
          98,
          93
         ]
        }
       ],
       "layout": {
        "annotations": [
         {
          "align": "center",
          "arrowcolor": "#636363",
          "arrowhead": 2,
          "arrowsize": 1,
          "arrowwidth": 2,
          "ax": 20,
          "ay": -30,
          "bgcolor": "#ff7f0e",
          "bordercolor": "#c7c7c7",
          "borderpad": 4,
          "borderwidth": 2,
          "font": {
           "color": "#ffffff",
           "family": "Courier New, monospace",
           "size": 14
          },
          "opacity": 0.8,
          "showarrow": true,
          "text": "GDPR",
          "x": 9,
          "xref": "x",
          "y": 2700,
          "yref": "y"
         }
        ],
        "barmode": "stack",
        "font": {
         "family": "Courier New, monospace"
        },
        "legend": {
         "orientation": "h",
         "title": {
          "text": "HTTP response status codes:"
         },
         "traceorder": "normal",
         "x": 0.5,
         "xanchor": "center",
         "y": 1.02,
         "yanchor": "bottom"
        },
        "template": {
         "data": {
          "bar": [
           {
            "error_x": {
             "color": "#2a3f5f"
            },
            "error_y": {
             "color": "#2a3f5f"
            },
            "marker": {
             "line": {
              "color": "#E5ECF6",
              "width": 0.5
             }
            },
            "type": "bar"
           }
          ],
          "barpolar": [
           {
            "marker": {
             "line": {
              "color": "#E5ECF6",
              "width": 0.5
             }
            },
            "type": "barpolar"
           }
          ],
          "carpet": [
           {
            "aaxis": {
             "endlinecolor": "#2a3f5f",
             "gridcolor": "white",
             "linecolor": "white",
             "minorgridcolor": "white",
             "startlinecolor": "#2a3f5f"
            },
            "baxis": {
             "endlinecolor": "#2a3f5f",
             "gridcolor": "white",
             "linecolor": "white",
             "minorgridcolor": "white",
             "startlinecolor": "#2a3f5f"
            },
            "type": "carpet"
           }
          ],
          "choropleth": [
           {
            "colorbar": {
             "outlinewidth": 0,
             "ticks": ""
            },
            "type": "choropleth"
           }
          ],
          "contour": [
           {
            "colorbar": {
             "outlinewidth": 0,
             "ticks": ""
            },
            "colorscale": [
             [
              0,
              "#0d0887"
             ],
             [
              0.1111111111111111,
              "#46039f"
             ],
             [
              0.2222222222222222,
              "#7201a8"
             ],
             [
              0.3333333333333333,
              "#9c179e"
             ],
             [
              0.4444444444444444,
              "#bd3786"
             ],
             [
              0.5555555555555556,
              "#d8576b"
             ],
             [
              0.6666666666666666,
              "#ed7953"
             ],
             [
              0.7777777777777778,
              "#fb9f3a"
             ],
             [
              0.8888888888888888,
              "#fdca26"
             ],
             [
              1,
              "#f0f921"
             ]
            ],
            "type": "contour"
           }
          ],
          "contourcarpet": [
           {
            "colorbar": {
             "outlinewidth": 0,
             "ticks": ""
            },
            "type": "contourcarpet"
           }
          ],
          "heatmap": [
           {
            "colorbar": {
             "outlinewidth": 0,
             "ticks": ""
            },
            "colorscale": [
             [
              0,
              "#0d0887"
             ],
             [
              0.1111111111111111,
              "#46039f"
             ],
             [
              0.2222222222222222,
              "#7201a8"
             ],
             [
              0.3333333333333333,
              "#9c179e"
             ],
             [
              0.4444444444444444,
              "#bd3786"
             ],
             [
              0.5555555555555556,
              "#d8576b"
             ],
             [
              0.6666666666666666,
              "#ed7953"
             ],
             [
              0.7777777777777778,
              "#fb9f3a"
             ],
             [
              0.8888888888888888,
              "#fdca26"
             ],
             [
              1,
              "#f0f921"
             ]
            ],
            "type": "heatmap"
           }
          ],
          "heatmapgl": [
           {
            "colorbar": {
             "outlinewidth": 0,
             "ticks": ""
            },
            "colorscale": [
             [
              0,
              "#0d0887"
             ],
             [
              0.1111111111111111,
              "#46039f"
             ],
             [
              0.2222222222222222,
              "#7201a8"
             ],
             [
              0.3333333333333333,
              "#9c179e"
             ],
             [
              0.4444444444444444,
              "#bd3786"
             ],
             [
              0.5555555555555556,
              "#d8576b"
             ],
             [
              0.6666666666666666,
              "#ed7953"
             ],
             [
              0.7777777777777778,
              "#fb9f3a"
             ],
             [
              0.8888888888888888,
              "#fdca26"
             ],
             [
              1,
              "#f0f921"
             ]
            ],
            "type": "heatmapgl"
           }
          ],
          "histogram": [
           {
            "marker": {
             "colorbar": {
              "outlinewidth": 0,
              "ticks": ""
             }
            },
            "type": "histogram"
           }
          ],
          "histogram2d": [
           {
            "colorbar": {
             "outlinewidth": 0,
             "ticks": ""
            },
            "colorscale": [
             [
              0,
              "#0d0887"
             ],
             [
              0.1111111111111111,
              "#46039f"
             ],
             [
              0.2222222222222222,
              "#7201a8"
             ],
             [
              0.3333333333333333,
              "#9c179e"
             ],
             [
              0.4444444444444444,
              "#bd3786"
             ],
             [
              0.5555555555555556,
              "#d8576b"
             ],
             [
              0.6666666666666666,
              "#ed7953"
             ],
             [
              0.7777777777777778,
              "#fb9f3a"
             ],
             [
              0.8888888888888888,
              "#fdca26"
             ],
             [
              1,
              "#f0f921"
             ]
            ],
            "type": "histogram2d"
           }
          ],
          "histogram2dcontour": [
           {
            "colorbar": {
             "outlinewidth": 0,
             "ticks": ""
            },
            "colorscale": [
             [
              0,
              "#0d0887"
             ],
             [
              0.1111111111111111,
              "#46039f"
             ],
             [
              0.2222222222222222,
              "#7201a8"
             ],
             [
              0.3333333333333333,
              "#9c179e"
             ],
             [
              0.4444444444444444,
              "#bd3786"
             ],
             [
              0.5555555555555556,
              "#d8576b"
             ],
             [
              0.6666666666666666,
              "#ed7953"
             ],
             [
              0.7777777777777778,
              "#fb9f3a"
             ],
             [
              0.8888888888888888,
              "#fdca26"
             ],
             [
              1,
              "#f0f921"
             ]
            ],
            "type": "histogram2dcontour"
           }
          ],
          "mesh3d": [
           {
            "colorbar": {
             "outlinewidth": 0,
             "ticks": ""
            },
            "type": "mesh3d"
           }
          ],
          "parcoords": [
           {
            "line": {
             "colorbar": {
              "outlinewidth": 0,
              "ticks": ""
             }
            },
            "type": "parcoords"
           }
          ],
          "pie": [
           {
            "automargin": true,
            "type": "pie"
           }
          ],
          "scatter": [
           {
            "marker": {
             "colorbar": {
              "outlinewidth": 0,
              "ticks": ""
             }
            },
            "type": "scatter"
           }
          ],
          "scatter3d": [
           {
            "line": {
             "colorbar": {
              "outlinewidth": 0,
              "ticks": ""
             }
            },
            "marker": {
             "colorbar": {
              "outlinewidth": 0,
              "ticks": ""
             }
            },
            "type": "scatter3d"
           }
          ],
          "scattercarpet": [
           {
            "marker": {
             "colorbar": {
              "outlinewidth": 0,
              "ticks": ""
             }
            },
            "type": "scattercarpet"
           }
          ],
          "scattergeo": [
           {
            "marker": {
             "colorbar": {
              "outlinewidth": 0,
              "ticks": ""
             }
            },
            "type": "scattergeo"
           }
          ],
          "scattergl": [
           {
            "marker": {
             "colorbar": {
              "outlinewidth": 0,
              "ticks": ""
             }
            },
            "type": "scattergl"
           }
          ],
          "scattermapbox": [
           {
            "marker": {
             "colorbar": {
              "outlinewidth": 0,
              "ticks": ""
             }
            },
            "type": "scattermapbox"
           }
          ],
          "scatterpolar": [
           {
            "marker": {
             "colorbar": {
              "outlinewidth": 0,
              "ticks": ""
             }
            },
            "type": "scatterpolar"
           }
          ],
          "scatterpolargl": [
           {
            "marker": {
             "colorbar": {
              "outlinewidth": 0,
              "ticks": ""
             }
            },
            "type": "scatterpolargl"
           }
          ],
          "scatterternary": [
           {
            "marker": {
             "colorbar": {
              "outlinewidth": 0,
              "ticks": ""
             }
            },
            "type": "scatterternary"
           }
          ],
          "surface": [
           {
            "colorbar": {
             "outlinewidth": 0,
             "ticks": ""
            },
            "colorscale": [
             [
              0,
              "#0d0887"
             ],
             [
              0.1111111111111111,
              "#46039f"
             ],
             [
              0.2222222222222222,
              "#7201a8"
             ],
             [
              0.3333333333333333,
              "#9c179e"
             ],
             [
              0.4444444444444444,
              "#bd3786"
             ],
             [
              0.5555555555555556,
              "#d8576b"
             ],
             [
              0.6666666666666666,
              "#ed7953"
             ],
             [
              0.7777777777777778,
              "#fb9f3a"
             ],
             [
              0.8888888888888888,
              "#fdca26"
             ],
             [
              1,
              "#f0f921"
             ]
            ],
            "type": "surface"
           }
          ],
          "table": [
           {
            "cells": {
             "fill": {
              "color": "#EBF0F8"
             },
             "line": {
              "color": "white"
             }
            },
            "header": {
             "fill": {
              "color": "#C8D4E3"
             },
             "line": {
              "color": "white"
             }
            },
            "type": "table"
           }
          ]
         },
         "layout": {
          "annotationdefaults": {
           "arrowcolor": "#2a3f5f",
           "arrowhead": 0,
           "arrowwidth": 1
          },
          "autotypenumbers": "strict",
          "coloraxis": {
           "colorbar": {
            "outlinewidth": 0,
            "ticks": ""
           }
          },
          "colorscale": {
           "diverging": [
            [
             0,
             "#8e0152"
            ],
            [
             0.1,
             "#c51b7d"
            ],
            [
             0.2,
             "#de77ae"
            ],
            [
             0.3,
             "#f1b6da"
            ],
            [
             0.4,
             "#fde0ef"
            ],
            [
             0.5,
             "#f7f7f7"
            ],
            [
             0.6,
             "#e6f5d0"
            ],
            [
             0.7,
             "#b8e186"
            ],
            [
             0.8,
             "#7fbc41"
            ],
            [
             0.9,
             "#4d9221"
            ],
            [
             1,
             "#276419"
            ]
           ],
           "sequential": [
            [
             0,
             "#0d0887"
            ],
            [
             0.1111111111111111,
             "#46039f"
            ],
            [
             0.2222222222222222,
             "#7201a8"
            ],
            [
             0.3333333333333333,
             "#9c179e"
            ],
            [
             0.4444444444444444,
             "#bd3786"
            ],
            [
             0.5555555555555556,
             "#d8576b"
            ],
            [
             0.6666666666666666,
             "#ed7953"
            ],
            [
             0.7777777777777778,
             "#fb9f3a"
            ],
            [
             0.8888888888888888,
             "#fdca26"
            ],
            [
             1,
             "#f0f921"
            ]
           ],
           "sequentialminus": [
            [
             0,
             "#0d0887"
            ],
            [
             0.1111111111111111,
             "#46039f"
            ],
            [
             0.2222222222222222,
             "#7201a8"
            ],
            [
             0.3333333333333333,
             "#9c179e"
            ],
            [
             0.4444444444444444,
             "#bd3786"
            ],
            [
             0.5555555555555556,
             "#d8576b"
            ],
            [
             0.6666666666666666,
             "#ed7953"
            ],
            [
             0.7777777777777778,
             "#fb9f3a"
            ],
            [
             0.8888888888888888,
             "#fdca26"
            ],
            [
             1,
             "#f0f921"
            ]
           ]
          },
          "colorway": [
           "#636efa",
           "#EF553B",
           "#00cc96",
           "#ab63fa",
           "#FFA15A",
           "#19d3f3",
           "#FF6692",
           "#B6E880",
           "#FF97FF",
           "#FECB52"
          ],
          "font": {
           "color": "#2a3f5f"
          },
          "geo": {
           "bgcolor": "white",
           "lakecolor": "white",
           "landcolor": "#E5ECF6",
           "showlakes": true,
           "showland": true,
           "subunitcolor": "white"
          },
          "hoverlabel": {
           "align": "left"
          },
          "hovermode": "closest",
          "mapbox": {
           "style": "light"
          },
          "paper_bgcolor": "white",
          "plot_bgcolor": "#E5ECF6",
          "polar": {
           "angularaxis": {
            "gridcolor": "white",
            "linecolor": "white",
            "ticks": ""
           },
           "bgcolor": "#E5ECF6",
           "radialaxis": {
            "gridcolor": "white",
            "linecolor": "white",
            "ticks": ""
           }
          },
          "scene": {
           "xaxis": {
            "backgroundcolor": "#E5ECF6",
            "gridcolor": "white",
            "gridwidth": 2,
            "linecolor": "white",
            "showbackground": true,
            "ticks": "",
            "zerolinecolor": "white"
           },
           "yaxis": {
            "backgroundcolor": "#E5ECF6",
            "gridcolor": "white",
            "gridwidth": 2,
            "linecolor": "white",
            "showbackground": true,
            "ticks": "",
            "zerolinecolor": "white"
           },
           "zaxis": {
            "backgroundcolor": "#E5ECF6",
            "gridcolor": "white",
            "gridwidth": 2,
            "linecolor": "white",
            "showbackground": true,
            "ticks": "",
            "zerolinecolor": "white"
           }
          },
          "shapedefaults": {
           "line": {
            "color": "#2a3f5f"
           }
          },
          "ternary": {
           "aaxis": {
            "gridcolor": "white",
            "linecolor": "white",
            "ticks": ""
           },
           "baxis": {
            "gridcolor": "white",
            "linecolor": "white",
            "ticks": ""
           },
           "bgcolor": "#E5ECF6",
           "caxis": {
            "gridcolor": "white",
            "linecolor": "white",
            "ticks": ""
           }
          },
          "title": {
           "x": 0.05
          },
          "xaxis": {
           "automargin": true,
           "gridcolor": "white",
           "linecolor": "white",
           "ticks": "",
           "title": {
            "standoff": 15
           },
           "zerolinecolor": "white",
           "zerolinewidth": 2
          },
          "yaxis": {
           "automargin": true,
           "gridcolor": "white",
           "linecolor": "white",
           "ticks": "",
           "title": {
            "standoff": 15
           },
           "zerolinecolor": "white",
           "zerolinewidth": 2
          }
         }
        },
        "title": {
         "font": {
          "size": 20
         },
         "text": "Specific HTTP response <i>status codes</i> for initializing first-party requests<br>for EU/EEA sites",
         "x": 0.5,
         "xanchor": "center",
         "y": 0.93,
         "yanchor": "top"
        },
        "xaxis": {
         "tickvals": [
          "2018-02-07",
          "2018-02-09",
          "2018-02-14",
          "2018-03-21",
          "2018-03-29",
          "2018-04-09",
          "2018-04-17",
          "2018-05-05",
          "2018-05-19",
          "<b>2018-05-25</b>",
          "2018-05-29",
          "2018-06-01",
          "2018-06-07",
          "2018-06-12",
          "2018-06-18",
          "2018-07-06",
          "2018-07-17",
          "2018-08-03",
          "2018-08-31",
          "2018-09-06",
          "2018-09-11",
          "2018-09-21",
          "2018-10-09",
          "2018-10-31",
          "2018-11-07",
          "2018-11-19",
          "2018-12-10",
          "2019-01-30",
          "2019-02-21",
          "2019-03-12",
          "2019-03-27",
          "2019-04-05",
          "2019-04-12",
          "2019-04-24",
          "2019-05-01",
          "2019-05-27",
          "2019-05-29",
          "2019-06-14",
          "2019-06-28",
          "2019-07-12",
          "2019-08-05",
          "2019-09-02",
          "2019-09-20",
          "2019-10-03",
          "2019-10-16",
          "2019-10-29",
          "2019-11-05",
          "2019-11-13",
          "2019-11-28",
          "2019-12-22",
          "2020-01-13",
          "2020-02-07",
          "2020-02-25",
          "2020-03-10",
          "2020-03-24",
          "2020-04-07",
          "2020-05-12",
          "2020-06-02",
          "2020-06-19"
         ],
         "type": "category"
        },
        "yaxis": {
         "title": {
          "text": "Number of <b>visited sites</b> (first-parties)"
         }
        }
       }
      },
      "text/html": [
       "<div>                            <div id=\"d95cf783-f97a-4b2e-8880-52ad79d278b8\" class=\"plotly-graph-div\" style=\"height:525px; width:100%;\"></div>            <script type=\"text/javascript\">                require([\"plotly\"], function(Plotly) {                    window.PLOTLYENV=window.PLOTLYENV || {};                                    if (document.getElementById(\"d95cf783-f97a-4b2e-8880-52ad79d278b8\")) {                    Plotly.newPlot(                        \"d95cf783-f97a-4b2e-8880-52ad79d278b8\",                        [{\"marker\": {\"color\": \"#4C78A8\"}, \"name\": \"301 - Moved Permanently\", \"type\": \"bar\", \"x\": [\"2018-02-07\", \"2018-02-09\", \"2018-02-14\", \"2018-03-21\", \"2018-03-29\", \"2018-04-09\", \"2018-04-17\", \"2018-05-05\", \"2018-05-19\", \"<b>2018-05-25</b>\", \"2018-05-29\", \"2018-06-01\", \"2018-06-07\", \"2018-06-12\", \"2018-06-18\", \"2018-07-06\", \"2018-07-17\", \"2018-08-03\", \"2018-08-31\", \"2018-09-06\", \"2018-09-11\", \"2018-09-21\", \"2018-10-09\", \"2018-10-31\", \"2018-11-07\", \"2018-11-19\", \"2018-12-10\", \"2019-01-30\", \"2019-02-21\", \"2019-03-12\", \"2019-03-27\", \"2019-04-05\", \"2019-04-12\", \"2019-04-24\", \"2019-05-01\", \"2019-05-27\", \"2019-05-29\", \"2019-06-14\", \"2019-06-28\", \"2019-07-12\", \"2019-08-05\", \"2019-09-02\", \"2019-09-20\", \"2019-10-03\", \"2019-10-16\", \"2019-10-29\", \"2019-11-05\", \"2019-11-13\", \"2019-11-28\", \"2019-12-22\", \"2020-01-13\", \"2020-02-07\", \"2020-02-25\", \"2020-03-10\", \"2020-03-24\", \"2020-04-07\", \"2020-05-12\", \"2020-06-02\", \"2020-06-19\"], \"y\": [1122.0, 1128.0, 1143.0, 1408.0, 1457.0, 1502.0, 1579.0, 1724.0, 1794.0, 1847.0, 1868.0, 1906.0, 1962.0, 1970.0, 2040.0, 2190.0, 2259.0, 2394.0, 2525.0, 2521.0, 2582.0, 2636.0, 2807.0, 2954.0, 2957.0, 2996.0, 3055.0, 3181.0, 3253.0, 3318.0, 3370.0, 3424.0, 3461.0, 3524.0, 3540.0, 3644.0, 3628.0, 3672.0, 3719.0, 3714.0, 3746.0, 3825.0, 3861.0, 3950.0, 3986.0, 3992.0, 3992.0, 4000.0, 4065.0, 4082.0, 4099.0, 4143.0, 4178.0, 4200.0, 4271.0, 4273.0, 4340.0, 4350.0, 4407.0]}, {\"marker\": {\"color\": \"#F58518\"}, \"name\": \"302 - Found\", \"type\": \"bar\", \"x\": [\"2018-02-07\", \"2018-02-09\", \"2018-02-14\", \"2018-03-21\", \"2018-03-29\", \"2018-04-09\", \"2018-04-17\", \"2018-05-05\", \"2018-05-19\", \"<b>2018-05-25</b>\", \"2018-05-29\", \"2018-06-01\", \"2018-06-07\", \"2018-06-12\", \"2018-06-18\", \"2018-07-06\", \"2018-07-17\", \"2018-08-03\", \"2018-08-31\", \"2018-09-06\", \"2018-09-11\", \"2018-09-21\", \"2018-10-09\", \"2018-10-31\", \"2018-11-07\", \"2018-11-19\", \"2018-12-10\", \"2019-01-30\", \"2019-02-21\", \"2019-03-12\", \"2019-03-27\", \"2019-04-05\", \"2019-04-12\", \"2019-04-24\", \"2019-05-01\", \"2019-05-27\", \"2019-05-29\", \"2019-06-14\", \"2019-06-28\", \"2019-07-12\", \"2019-08-05\", \"2019-09-02\", \"2019-09-20\", \"2019-10-03\", \"2019-10-16\", \"2019-10-29\", \"2019-11-05\", \"2019-11-13\", \"2019-11-28\", \"2019-12-22\", \"2020-01-13\", \"2020-02-07\", \"2020-02-25\", \"2020-03-10\", \"2020-03-24\", \"2020-04-07\", \"2020-05-12\", \"2020-06-02\", \"2020-06-19\"], \"y\": [512.0, 525.0, 525.0, 543.0, 528.0, 555.0, 555.0, 575.0, 588.0, 626.0, 643.0, 662.0, 692.0, 707.0, 736.0, 777.0, 764.0, 793.0, 821.0, 820.0, 821.0, 831.0, 834.0, 847.0, 880.0, 865.0, 883.0, 867.0, 890.0, 914.0, 906.0, 877.0, 887.0, 884.0, 894.0, 891.0, 894.0, 921.0, 901.0, 922.0, 929.0, 932.0, 954.0, 954.0, 964.0, 961.0, 950.0, 964.0, 950.0, 979.0, 984.0, 1024.0, 1046.0, 1069.0, 1052.0, 1081.0, 1080.0, 1086.0, 1093.0]}, {\"marker\": {\"color\": \"#D62728\"}, \"name\": \"404 - Not found\", \"type\": \"bar\", \"x\": [\"2018-02-07\", \"2018-02-09\", \"2018-02-14\", \"2018-03-21\", \"2018-03-29\", \"2018-04-09\", \"2018-04-17\", \"2018-05-05\", \"2018-05-19\", \"<b>2018-05-25</b>\", \"2018-05-29\", \"2018-06-01\", \"2018-06-07\", \"2018-06-12\", \"2018-06-18\", \"2018-07-06\", \"2018-07-17\", \"2018-08-03\", \"2018-08-31\", \"2018-09-06\", \"2018-09-11\", \"2018-09-21\", \"2018-10-09\", \"2018-10-31\", \"2018-11-07\", \"2018-11-19\", \"2018-12-10\", \"2019-01-30\", \"2019-02-21\", \"2019-03-12\", \"2019-03-27\", \"2019-04-05\", \"2019-04-12\", \"2019-04-24\", \"2019-05-01\", \"2019-05-27\", \"2019-05-29\", \"2019-06-14\", \"2019-06-28\", \"2019-07-12\", \"2019-08-05\", \"2019-09-02\", \"2019-09-20\", \"2019-10-03\", \"2019-10-16\", \"2019-10-29\", \"2019-11-05\", \"2019-11-13\", \"2019-11-28\", \"2019-12-22\", \"2020-01-13\", \"2020-02-07\", \"2020-02-25\", \"2020-03-10\", \"2020-03-24\", \"2020-04-07\", \"2020-05-12\", \"2020-06-02\", \"2020-06-19\"], \"y\": [35.0, 38.0, 42.0, 94.0, 91.0, 105.0, 112.0, 135.0, 160.0, 162.0, 163.0, 162.0, 170.0, 180.0, 178.0, 188.0, 198.0, 198.0, 204.0, 199.0, 200.0, 200.0, 202.0, 200.0, 201.0, 216.0, 220.0, 271.0, 281.0, 294.0, 306.0, 318.0, 331.0, 319.0, 332.0, 350.0, 361.0, 354.0, 362.0, 375.0, 394.0, 401.0, 404.0, 400.0, 388.0, 399.0, 397.0, 405.0, 406.0, 429.0, 427.0, 451.0, 449.0, 441.0, 432.0, 436.0, 443.0, 465.0, 459.0]}, {\"marker\": {\"color\": \"black\"}, \"name\": \"Missing responses\", \"type\": \"bar\", \"x\": [\"2018-02-07\", \"2018-02-09\", \"2018-02-14\", \"2018-03-21\", \"2018-03-29\", \"2018-04-09\", \"2018-04-17\", \"2018-05-05\", \"2018-05-19\", \"<b>2018-05-25</b>\", \"2018-05-29\", \"2018-06-01\", \"2018-06-07\", \"2018-06-12\", \"2018-06-18\", \"2018-07-06\", \"2018-07-17\", \"2018-08-03\", \"2018-08-31\", \"2018-09-06\", \"2018-09-11\", \"2018-09-21\", \"2018-10-09\", \"2018-10-31\", \"2018-11-07\", \"2018-11-19\", \"2018-12-10\", \"2019-01-30\", \"2019-02-21\", \"2019-03-12\", \"2019-03-27\", \"2019-04-05\", \"2019-04-12\", \"2019-04-24\", \"2019-05-01\", \"2019-05-27\", \"2019-05-29\", \"2019-06-14\", \"2019-06-28\", \"2019-07-12\", \"2019-08-05\", \"2019-09-02\", \"2019-09-20\", \"2019-10-03\", \"2019-10-16\", \"2019-10-29\", \"2019-11-05\", \"2019-11-13\", \"2019-11-28\", \"2019-12-22\", \"2020-01-13\", \"2020-02-07\", \"2020-02-25\", \"2020-03-10\", \"2020-03-24\", \"2020-04-07\", \"2020-05-12\", \"2020-06-02\", \"2020-06-19\"], \"y\": [33.0, 31.0, 34.0, 49.0, 32.0, 36.0, 53.0, 33.0, 46.0, 44.0, 53.0, 41.0, 39.0, 49.0, 46.0, 46.0, 47.0, 52.0, 57.0, 64.0, 52.0, 70.0, 42.0, 56.0, 51.0, 64.0, 54.0, 44.0, 44.0, 39.0, 43.0, 39.0, 40.0, 59.0, 55.0, 50.0, 42.0, 37.0, 53.0, 62.0, 72.0, 72.0, 98.0, 97.0, 103.0, 95.0, 110.0, 92.0, 95.0, 82.0, 84.0, 89.0, 80.0, 86.0, 78.0, 89.0, 92.0, 98.0, 93.0]}],                        {\"annotations\": [{\"align\": \"center\", \"arrowcolor\": \"#636363\", \"arrowhead\": 2, \"arrowsize\": 1, \"arrowwidth\": 2, \"ax\": 20, \"ay\": -30, \"bgcolor\": \"#ff7f0e\", \"bordercolor\": \"#c7c7c7\", \"borderpad\": 4, \"borderwidth\": 2, \"font\": {\"color\": \"#ffffff\", \"family\": \"Courier New, monospace\", \"size\": 14}, \"opacity\": 0.8, \"showarrow\": true, \"text\": \"GDPR\", \"x\": 9, \"xref\": \"x\", \"y\": 2700, \"yref\": \"y\"}], \"barmode\": \"stack\", \"font\": {\"family\": \"Courier New, monospace\"}, \"legend\": {\"orientation\": \"h\", \"title\": {\"text\": \"HTTP response status codes:\"}, \"traceorder\": \"normal\", \"x\": 0.5, \"xanchor\": \"center\", \"y\": 1.02, \"yanchor\": \"bottom\"}, \"template\": {\"data\": {\"bar\": [{\"error_x\": {\"color\": \"#2a3f5f\"}, \"error_y\": {\"color\": \"#2a3f5f\"}, \"marker\": {\"line\": {\"color\": \"#E5ECF6\", \"width\": 0.5}}, \"type\": \"bar\"}], \"barpolar\": [{\"marker\": {\"line\": {\"color\": \"#E5ECF6\", \"width\": 0.5}}, \"type\": \"barpolar\"}], \"carpet\": [{\"aaxis\": {\"endlinecolor\": \"#2a3f5f\", \"gridcolor\": \"white\", \"linecolor\": \"white\", \"minorgridcolor\": \"white\", \"startlinecolor\": \"#2a3f5f\"}, \"baxis\": {\"endlinecolor\": \"#2a3f5f\", \"gridcolor\": \"white\", \"linecolor\": \"white\", \"minorgridcolor\": \"white\", \"startlinecolor\": \"#2a3f5f\"}, \"type\": \"carpet\"}], \"choropleth\": [{\"colorbar\": {\"outlinewidth\": 0, \"ticks\": \"\"}, \"type\": \"choropleth\"}], \"contour\": [{\"colorbar\": {\"outlinewidth\": 0, \"ticks\": \"\"}, \"colorscale\": [[0.0, \"#0d0887\"], [0.1111111111111111, \"#46039f\"], [0.2222222222222222, \"#7201a8\"], [0.3333333333333333, \"#9c179e\"], [0.4444444444444444, \"#bd3786\"], [0.5555555555555556, \"#d8576b\"], [0.6666666666666666, \"#ed7953\"], [0.7777777777777778, \"#fb9f3a\"], [0.8888888888888888, \"#fdca26\"], [1.0, \"#f0f921\"]], \"type\": \"contour\"}], \"contourcarpet\": [{\"colorbar\": {\"outlinewidth\": 0, \"ticks\": \"\"}, \"type\": \"contourcarpet\"}], \"heatmap\": [{\"colorbar\": {\"outlinewidth\": 0, \"ticks\": \"\"}, \"colorscale\": [[0.0, \"#0d0887\"], [0.1111111111111111, \"#46039f\"], [0.2222222222222222, \"#7201a8\"], [0.3333333333333333, \"#9c179e\"], [0.4444444444444444, \"#bd3786\"], [0.5555555555555556, \"#d8576b\"], [0.6666666666666666, \"#ed7953\"], [0.7777777777777778, \"#fb9f3a\"], [0.8888888888888888, \"#fdca26\"], [1.0, \"#f0f921\"]], \"type\": \"heatmap\"}], \"heatmapgl\": [{\"colorbar\": {\"outlinewidth\": 0, \"ticks\": \"\"}, \"colorscale\": [[0.0, \"#0d0887\"], [0.1111111111111111, \"#46039f\"], [0.2222222222222222, \"#7201a8\"], [0.3333333333333333, \"#9c179e\"], [0.4444444444444444, \"#bd3786\"], [0.5555555555555556, \"#d8576b\"], [0.6666666666666666, \"#ed7953\"], [0.7777777777777778, \"#fb9f3a\"], [0.8888888888888888, \"#fdca26\"], [1.0, \"#f0f921\"]], \"type\": \"heatmapgl\"}], \"histogram\": [{\"marker\": {\"colorbar\": {\"outlinewidth\": 0, \"ticks\": \"\"}}, \"type\": \"histogram\"}], \"histogram2d\": [{\"colorbar\": {\"outlinewidth\": 0, \"ticks\": \"\"}, \"colorscale\": [[0.0, \"#0d0887\"], [0.1111111111111111, \"#46039f\"], [0.2222222222222222, \"#7201a8\"], [0.3333333333333333, \"#9c179e\"], [0.4444444444444444, \"#bd3786\"], [0.5555555555555556, \"#d8576b\"], [0.6666666666666666, \"#ed7953\"], [0.7777777777777778, \"#fb9f3a\"], [0.8888888888888888, \"#fdca26\"], [1.0, \"#f0f921\"]], \"type\": \"histogram2d\"}], \"histogram2dcontour\": [{\"colorbar\": {\"outlinewidth\": 0, \"ticks\": \"\"}, \"colorscale\": [[0.0, \"#0d0887\"], [0.1111111111111111, \"#46039f\"], [0.2222222222222222, \"#7201a8\"], [0.3333333333333333, \"#9c179e\"], [0.4444444444444444, \"#bd3786\"], [0.5555555555555556, \"#d8576b\"], [0.6666666666666666, \"#ed7953\"], [0.7777777777777778, \"#fb9f3a\"], [0.8888888888888888, \"#fdca26\"], [1.0, \"#f0f921\"]], \"type\": \"histogram2dcontour\"}], \"mesh3d\": [{\"colorbar\": {\"outlinewidth\": 0, \"ticks\": \"\"}, \"type\": \"mesh3d\"}], \"parcoords\": [{\"line\": {\"colorbar\": {\"outlinewidth\": 0, \"ticks\": \"\"}}, \"type\": \"parcoords\"}], \"pie\": [{\"automargin\": true, \"type\": \"pie\"}], \"scatter\": [{\"marker\": {\"colorbar\": {\"outlinewidth\": 0, \"ticks\": \"\"}}, \"type\": \"scatter\"}], \"scatter3d\": [{\"line\": {\"colorbar\": {\"outlinewidth\": 0, \"ticks\": \"\"}}, \"marker\": {\"colorbar\": {\"outlinewidth\": 0, \"ticks\": \"\"}}, \"type\": \"scatter3d\"}], \"scattercarpet\": [{\"marker\": {\"colorbar\": {\"outlinewidth\": 0, \"ticks\": \"\"}}, \"type\": \"scattercarpet\"}], \"scattergeo\": [{\"marker\": {\"colorbar\": {\"outlinewidth\": 0, \"ticks\": \"\"}}, \"type\": \"scattergeo\"}], \"scattergl\": [{\"marker\": {\"colorbar\": {\"outlinewidth\": 0, \"ticks\": \"\"}}, \"type\": \"scattergl\"}], \"scattermapbox\": [{\"marker\": {\"colorbar\": {\"outlinewidth\": 0, \"ticks\": \"\"}}, \"type\": \"scattermapbox\"}], \"scatterpolar\": [{\"marker\": {\"colorbar\": {\"outlinewidth\": 0, \"ticks\": \"\"}}, \"type\": \"scatterpolar\"}], \"scatterpolargl\": [{\"marker\": {\"colorbar\": {\"outlinewidth\": 0, \"ticks\": \"\"}}, \"type\": \"scatterpolargl\"}], \"scatterternary\": [{\"marker\": {\"colorbar\": {\"outlinewidth\": 0, \"ticks\": \"\"}}, \"type\": \"scatterternary\"}], \"surface\": [{\"colorbar\": {\"outlinewidth\": 0, \"ticks\": \"\"}, \"colorscale\": [[0.0, \"#0d0887\"], [0.1111111111111111, \"#46039f\"], [0.2222222222222222, \"#7201a8\"], [0.3333333333333333, \"#9c179e\"], [0.4444444444444444, \"#bd3786\"], [0.5555555555555556, \"#d8576b\"], [0.6666666666666666, \"#ed7953\"], [0.7777777777777778, \"#fb9f3a\"], [0.8888888888888888, \"#fdca26\"], [1.0, \"#f0f921\"]], \"type\": \"surface\"}], \"table\": [{\"cells\": {\"fill\": {\"color\": \"#EBF0F8\"}, \"line\": {\"color\": \"white\"}}, \"header\": {\"fill\": {\"color\": \"#C8D4E3\"}, \"line\": {\"color\": \"white\"}}, \"type\": \"table\"}]}, \"layout\": {\"annotationdefaults\": {\"arrowcolor\": \"#2a3f5f\", \"arrowhead\": 0, \"arrowwidth\": 1}, \"autotypenumbers\": \"strict\", \"coloraxis\": {\"colorbar\": {\"outlinewidth\": 0, \"ticks\": \"\"}}, \"colorscale\": {\"diverging\": [[0, \"#8e0152\"], [0.1, \"#c51b7d\"], [0.2, \"#de77ae\"], [0.3, \"#f1b6da\"], [0.4, \"#fde0ef\"], [0.5, \"#f7f7f7\"], [0.6, \"#e6f5d0\"], [0.7, \"#b8e186\"], [0.8, \"#7fbc41\"], [0.9, \"#4d9221\"], [1, \"#276419\"]], \"sequential\": [[0.0, \"#0d0887\"], [0.1111111111111111, \"#46039f\"], [0.2222222222222222, \"#7201a8\"], [0.3333333333333333, \"#9c179e\"], [0.4444444444444444, \"#bd3786\"], [0.5555555555555556, \"#d8576b\"], [0.6666666666666666, \"#ed7953\"], [0.7777777777777778, \"#fb9f3a\"], [0.8888888888888888, \"#fdca26\"], [1.0, \"#f0f921\"]], \"sequentialminus\": [[0.0, \"#0d0887\"], [0.1111111111111111, \"#46039f\"], [0.2222222222222222, \"#7201a8\"], [0.3333333333333333, \"#9c179e\"], [0.4444444444444444, \"#bd3786\"], [0.5555555555555556, \"#d8576b\"], [0.6666666666666666, \"#ed7953\"], [0.7777777777777778, \"#fb9f3a\"], [0.8888888888888888, \"#fdca26\"], [1.0, \"#f0f921\"]]}, \"colorway\": [\"#636efa\", \"#EF553B\", \"#00cc96\", \"#ab63fa\", \"#FFA15A\", \"#19d3f3\", \"#FF6692\", \"#B6E880\", \"#FF97FF\", \"#FECB52\"], \"font\": {\"color\": \"#2a3f5f\"}, \"geo\": {\"bgcolor\": \"white\", \"lakecolor\": \"white\", \"landcolor\": \"#E5ECF6\", \"showlakes\": true, \"showland\": true, \"subunitcolor\": \"white\"}, \"hoverlabel\": {\"align\": \"left\"}, \"hovermode\": \"closest\", \"mapbox\": {\"style\": \"light\"}, \"paper_bgcolor\": \"white\", \"plot_bgcolor\": \"#E5ECF6\", \"polar\": {\"angularaxis\": {\"gridcolor\": \"white\", \"linecolor\": \"white\", \"ticks\": \"\"}, \"bgcolor\": \"#E5ECF6\", \"radialaxis\": {\"gridcolor\": \"white\", \"linecolor\": \"white\", \"ticks\": \"\"}}, \"scene\": {\"xaxis\": {\"backgroundcolor\": \"#E5ECF6\", \"gridcolor\": \"white\", \"gridwidth\": 2, \"linecolor\": \"white\", \"showbackground\": true, \"ticks\": \"\", \"zerolinecolor\": \"white\"}, \"yaxis\": {\"backgroundcolor\": \"#E5ECF6\", \"gridcolor\": \"white\", \"gridwidth\": 2, \"linecolor\": \"white\", \"showbackground\": true, \"ticks\": \"\", \"zerolinecolor\": \"white\"}, \"zaxis\": {\"backgroundcolor\": \"#E5ECF6\", \"gridcolor\": \"white\", \"gridwidth\": 2, \"linecolor\": \"white\", \"showbackground\": true, \"ticks\": \"\", \"zerolinecolor\": \"white\"}}, \"shapedefaults\": {\"line\": {\"color\": \"#2a3f5f\"}}, \"ternary\": {\"aaxis\": {\"gridcolor\": \"white\", \"linecolor\": \"white\", \"ticks\": \"\"}, \"baxis\": {\"gridcolor\": \"white\", \"linecolor\": \"white\", \"ticks\": \"\"}, \"bgcolor\": \"#E5ECF6\", \"caxis\": {\"gridcolor\": \"white\", \"linecolor\": \"white\", \"ticks\": \"\"}}, \"title\": {\"x\": 0.05}, \"xaxis\": {\"automargin\": true, \"gridcolor\": \"white\", \"linecolor\": \"white\", \"ticks\": \"\", \"title\": {\"standoff\": 15}, \"zerolinecolor\": \"white\", \"zerolinewidth\": 2}, \"yaxis\": {\"automargin\": true, \"gridcolor\": \"white\", \"linecolor\": \"white\", \"ticks\": \"\", \"title\": {\"standoff\": 15}, \"zerolinecolor\": \"white\", \"zerolinewidth\": 2}}}, \"title\": {\"font\": {\"size\": 20}, \"text\": \"Specific HTTP response <i>status codes</i> for initializing first-party requests<br>for EU/EEA sites\", \"x\": 0.5, \"xanchor\": \"center\", \"y\": 0.93, \"yanchor\": \"top\"}, \"xaxis\": {\"tickvals\": [\"2018-02-07\", \"2018-02-09\", \"2018-02-14\", \"2018-03-21\", \"2018-03-29\", \"2018-04-09\", \"2018-04-17\", \"2018-05-05\", \"2018-05-19\", \"<b>2018-05-25</b>\", \"2018-05-29\", \"2018-06-01\", \"2018-06-07\", \"2018-06-12\", \"2018-06-18\", \"2018-07-06\", \"2018-07-17\", \"2018-08-03\", \"2018-08-31\", \"2018-09-06\", \"2018-09-11\", \"2018-09-21\", \"2018-10-09\", \"2018-10-31\", \"2018-11-07\", \"2018-11-19\", \"2018-12-10\", \"2019-01-30\", \"2019-02-21\", \"2019-03-12\", \"2019-03-27\", \"2019-04-05\", \"2019-04-12\", \"2019-04-24\", \"2019-05-01\", \"2019-05-27\", \"2019-05-29\", \"2019-06-14\", \"2019-06-28\", \"2019-07-12\", \"2019-08-05\", \"2019-09-02\", \"2019-09-20\", \"2019-10-03\", \"2019-10-16\", \"2019-10-29\", \"2019-11-05\", \"2019-11-13\", \"2019-11-28\", \"2019-12-22\", \"2020-01-13\", \"2020-02-07\", \"2020-02-25\", \"2020-03-10\", \"2020-03-24\", \"2020-04-07\", \"2020-05-12\", \"2020-06-02\", \"2020-06-19\"], \"type\": \"category\"}, \"yaxis\": {\"title\": {\"text\": \"Number of <b>visited sites</b> (first-parties)\"}}},                        {\"responsive\": true}                    ).then(function(){\n",
       "                            \n",
       "var gd = document.getElementById('d95cf783-f97a-4b2e-8880-52ad79d278b8');\n",
       "var x = new MutationObserver(function (mutations, observer) {{\n",
       "        var display = window.getComputedStyle(gd).display;\n",
       "        if (!display || display === 'none') {{\n",
       "            console.log([gd, 'removed!']);\n",
       "            Plotly.purge(gd);\n",
       "            observer.disconnect();\n",
       "        }}\n",
       "}});\n",
       "\n",
       "// Listen for the removal of the full notebook cells\n",
       "var notebookContainer = gd.closest('#notebook-container');\n",
       "if (notebookContainer) {{\n",
       "    x.observe(notebookContainer, {childList: true});\n",
       "}}\n",
       "\n",
       "// Listen for the clearing of the current output cell\n",
       "var outputEl = gd.closest('.output');\n",
       "if (outputEl) {{\n",
       "    x.observe(outputEl, {childList: true});\n",
       "}}\n",
       "\n",
       "                        })                };                });            </script>        </div>"
      ]
     },
     "metadata": {},
     "output_type": "display_data"
    }
   ],
   "source": [
    "# Defin lists\n",
    "data = []\n",
    "status_codes_specific = [301, 302, 404]\n",
    "status_codes_specific_legend = ['301 - Moved Permanently', '302 - Found', '404 - Not found']\n",
    "\n",
    "# Choose a color palette\n",
    "colors = ['#4C78A8', '#F58518', '#D62728']\n",
    "palette = cycle(colors)\n",
    "\n",
    "# Create bars\n",
    "for i in range(len(status_codes_specific)):\n",
    "    data.append(go.Bar(name=status_codes_specific_legend[i], x=df_dates['date'], y=df_errors['data.'+str(status_codes_specific[i])],\n",
    "                      marker_color=next(palette)))\n",
    "\n",
    "data.append(go.Bar(name='Missing responses', x=df_dates['date'], y=df_error_cat['no_response'],\n",
    "                       marker_color='black'))\n",
    "fig = go.Figure(data)\n",
    "\n",
    "# Make x-axis categorical\n",
    "fig.update_xaxes(type='category')\n",
    "\n",
    "# Use date values from DF for x-axis \n",
    "fig.update_xaxes(tickvals=df_dates['date'])\n",
    "\n",
    "# Change the bar mode\n",
    "fig.update_layout(barmode='stack')\n",
    "\n",
    "# Set y-axis title\n",
    "fig.update_yaxes(title_text=\"Number of <b>visited sites</b> (first-parties)\")\n",
    "\n",
    "# Add centered figure title, set the legent and font\n",
    "fig.update_layout(\n",
    "    title={\n",
    "        'text': \"Specific HTTP response <i>status codes</i> for initializing first-party requests<br>for EU/EEA sites\",\n",
    "        'y':0.93,\n",
    "        'x':0.5,\n",
    "        'xanchor': 'center',\n",
    "        'yanchor': 'top',\n",
    "        'font':dict(size=20)},\n",
    "    legend_title=\"HTTP response status codes:\",\n",
    "    font=dict(\n",
    "        family=\"Courier New, monospace\",\n",
    "    ),\n",
    ")\n",
    "\n",
    "# Add annotation\n",
    "fig.add_annotation(\n",
    "        x=9,\n",
    "        y=2700,\n",
    "        xref=\"x\",\n",
    "        yref=\"y\",\n",
    "        text=\"GDPR\",\n",
    "        showarrow=True,\n",
    "        font=dict(\n",
    "            family=\"Courier New, monospace\",\n",
    "            size=14,\n",
    "            color=\"#ffffff\"\n",
    "            ),\n",
    "        align=\"center\",\n",
    "        arrowhead=2,\n",
    "        arrowsize=1,\n",
    "        arrowwidth=2,\n",
    "        arrowcolor=\"#636363\",\n",
    "        ax=20,\n",
    "        ay=-30,\n",
    "        bordercolor=\"#c7c7c7\",\n",
    "        borderwidth=2,\n",
    "        borderpad=4,\n",
    "        bgcolor=\"#ff7f0e\",\n",
    "        opacity=0.8\n",
    "        )\n",
    "\n",
    "# Change legend location\n",
    "fig.update_layout(legend=dict(\n",
    "    orientation=\"h\",\n",
    "    yanchor=\"bottom\",\n",
    "    y=1.02,\n",
    "    xanchor=\"center\",\n",
    "    x=0.5,\n",
    "    traceorder='normal'\n",
    "))\n",
    "\n",
    "# Set plot size - use when exporting\n",
    "#fig.update_layout(\n",
    "#    autosize=False,\n",
    "#    width=1100,\n",
    "#    height=600,\n",
    "#    )\n",
    "\n",
    "\n",
    "iplot(fig)"
   ]
  },
  {
   "cell_type": "code",
   "execution_count": 21,
   "metadata": {},
   "outputs": [],
   "source": [
    "# Export\n",
    "fig.write_image(\"/home/ubuntu/Plots/FIG_6.pdf\")"
   ]
  }
 ],
 "metadata": {
  "kernelspec": {
   "display_name": "Python 3",
   "language": "python",
   "name": "python3"
  },
  "language_info": {
   "codemirror_mode": {
    "name": "ipython",
    "version": 3
   },
   "file_extension": ".py",
   "mimetype": "text/x-python",
   "name": "python",
   "nbconvert_exporter": "python",
   "pygments_lexer": "ipython3",
   "version": "3.8.3"
  }
 },
 "nbformat": 4,
 "nbformat_minor": 4
}

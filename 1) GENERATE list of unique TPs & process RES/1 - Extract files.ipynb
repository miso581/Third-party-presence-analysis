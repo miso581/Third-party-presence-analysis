{
 "cells": [
  {
   "cell_type": "markdown",
   "metadata": {},
   "source": [
    "# Extract data from all harvest archives to separete folders"
   ]
  },
  {
   "cell_type": "markdown",
   "metadata": {},
   "source": [
    "    • input: .txz archive file of each harvest\n",
    "    • output: separate folder with content of the archive for each harvest\n",
    "    • script steps:\n",
    "        1. Import libraries\n",
    "        2. Iterate through all archives and extract them to separate folders at a specified location"
   ]
  },
  {
   "cell_type": "code",
   "execution_count": null,
   "metadata": {},
   "outputs": [],
   "source": [
    "# Import\n",
    "import os, tarfile"
   ]
  },
  {
   "cell_type": "code",
   "execution_count": null,
   "metadata": {},
   "outputs": [],
   "source": [
    "# Define path to archives\n",
    "path = '/home/ubuntu/data/crawl_archives/'\n",
    "\n",
    "# Get all file names in the given directory\n",
    "list_of_files = os.listdir(path)\n",
    "\n",
    "# Loop through all files in the folder and extract data to a location\n",
    "for file_name in list_of_files:\n",
    "    with tarfile.open(\"/home/ubuntu/data/crawl_archives/\" + file_name) as tar:\n",
    "        tar.extractall(path='/home/ubuntu/data/crawl_datasets/')\n",
    "\n",
    "print('Finished extracting')"
   ]
  }
 ],
 "metadata": {
  "kernelspec": {
   "display_name": "Python 3",
   "language": "python",
   "name": "python3"
  },
  "language_info": {
   "codemirror_mode": {
    "name": "ipython",
    "version": 3
   },
   "file_extension": ".py",
   "mimetype": "text/x-python",
   "name": "python",
   "nbconvert_exporter": "python",
   "pygments_lexer": "ipython3",
   "version": "3.8.3"
  }
 },
 "nbformat": 4,
 "nbformat_minor": 2
}

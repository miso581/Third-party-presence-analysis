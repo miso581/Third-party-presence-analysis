{
 "cells": [
  {
   "cell_type": "markdown",
   "metadata": {},
   "source": [
    "# Generate a list of globally unique third-parties"
   ]
  },
  {
   "cell_type": "markdown",
   "metadata": {},
   "source": [
    "    • input: list of unique TPs for each harvest responses - CSV format\n",
    "    • output: list of unique TPs for all harvests responses - CSV format\n",
    "    • script steps:\n",
    "        1. Import libraries\n",
    "        2. Iterate through all files with unique TPs for a harvest:\n",
    "            (a) Append TPs to the list\n",
    "        3. Create a dataframe of globally unique TPs from the list\n",
    "        4. Export: unique TPs of all harvest responses - CSV format"
   ]
  },
  {
   "cell_type": "code",
   "execution_count": 1,
   "metadata": {},
   "outputs": [],
   "source": [
    "# Import\n",
    "import pandas as pd\n",
    "import numpy as np\n",
    "import os"
   ]
  },
  {
   "cell_type": "code",
   "execution_count": 2,
   "metadata": {},
   "outputs": [],
   "source": [
    "# Obtain globally unique TPs\n",
    "def merge_TPs_CSVs(list_of_TPs, path, CSV_name):\n",
    "    data_frames = []\n",
    "\n",
    "    # Iterate through all unique TPs per harvest\n",
    "    for file_name in list_of_TPs:\n",
    "        # Load TPs and append them to the list\n",
    "        if (file_name!='.ipynb_checkpoints'):\n",
    "            df_TPs = pd.read_csv(path + file_name, header=None)\n",
    "            df_TPs = df_TPs.astype(str)\n",
    "            data_frames.append(df_TPs)\n",
    "    print('Finished loading DFs')\n",
    "\n",
    "    # Create a DF with globally unique TPs\n",
    "    df_concat = pd.concat(data_frames)\n",
    "    unique_TPs = np.unique(df_concat)\n",
    "    df_unique_TPs = pd.DataFrame(unique_TPs)\n",
    "    print('Finished creating unique TPs DF')\n",
    "\n",
    "    # Export\n",
    "    df_unique_TPs.to_csv('/home/ubuntu/data/processed/TPs/TPs_merged/' + CSV_name, index = False, header = False)\n",
    "    print('Finished generating CSV')\n",
    "\n"
   ]
  },
  {
   "cell_type": "code",
   "execution_count": 3,
   "metadata": {},
   "outputs": [
    {
     "name": "stdout",
     "output_type": "stream",
     "text": [
      "Finished loading DFs\n",
      "Finished creating unique TPs DF\n",
      "Finished generating CSV\n",
      "Completed\n"
     ]
    }
   ],
   "source": [
    "# Define path and name of data and export name\n",
    "res_path = '/home/ubuntu/data/processed/TPs/responses_EU/'\n",
    "res_file_name = 'EU-UNIQUE-RES-TPs.csv'\n",
    "res_list_of_TPs = os.listdir(res_path)\n",
    "merge_TPs_CSVs(res_list_of_TPs, res_path, res_file_name)\n",
    "\n",
    "print('Completed')"
   ]
  }
 ],
 "metadata": {
  "kernelspec": {
   "display_name": "Python 3",
   "language": "python",
   "name": "python3"
  },
  "language_info": {
   "codemirror_mode": {
    "name": "ipython",
    "version": 3
   },
   "file_extension": ".py",
   "mimetype": "text/x-python",
   "name": "python",
   "nbconvert_exporter": "python",
   "pygments_lexer": "ipython3",
   "version": "3.8.3"
  }
 },
 "nbformat": 4,
 "nbformat_minor": 4
}

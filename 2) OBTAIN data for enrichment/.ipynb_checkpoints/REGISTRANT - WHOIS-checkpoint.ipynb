{
 "cells": [
  {
   "cell_type": "markdown",
   "metadata": {},
   "source": [
    "# Obtain registrant information about every third-party"
   ]
  },
  {
   "cell_type": "code",
   "execution_count": null,
   "metadata": {},
   "outputs": [],
   "source": [
    "# Import\n",
    "\n",
    "import whois\n",
    "import pandas as pd\n",
    "import numpy as np\n",
    "import time\n",
    "import csv\n",
    "from csv import reader"
   ]
  },
  {
   "cell_type": "code",
   "execution_count": null,
   "metadata": {},
   "outputs": [],
   "source": [
    "# Read csv file as a list of lists\n",
    "\n",
    "def load_TPs(path, CSV_name):\n",
    "    with open(path + file_name, 'r') as read_obj:\n",
    "        # pass the file object to reader() to get the reader object\n",
    "        csv_reader = reader(read_obj)\n",
    "        # Pass reader object to list() to get a list of lists\n",
    "        list_of_TPs = list(csv_reader)\n",
    "\n",
    "        return(list_of_TPs)\n",
    "       "
   ]
  },
  {
   "cell_type": "code",
   "execution_count": null,
   "metadata": {},
   "outputs": [],
   "source": [
    "# Define path to file, file name and load data as list\n",
    "\n",
    "path = '/home/ubuntu/data/processed/TPs/'\n",
    "file_name = 'TPs_unique.csv'\n",
    "df_unique_TPs = load_TPs(path, file_name)\n",
    "\n",
    "print('Completed')"
   ]
  },
  {
   "cell_type": "code",
   "execution_count": null,
   "metadata": {
    "scrolled": true
   },
   "outputs": [],
   "source": [
    "# Initialize variables\n",
    "i = 0\n",
    "whois_data = []\n",
    "\n",
    "# Loop through all TPs\n",
    "for TP in df_unique_TPs:\n",
    "    time.sleep(1)\n",
    "    i += 1\n",
    "    print(i, TP[0])\n",
    "    \n",
    "    try:\n",
    "        \n",
    "        # Make a call and extract all data\n",
    "        whois_TP_info = whois.whois(TP[0])\n",
    "        whois_TP_data = [TP[0], whois_TP_info.domain_name, whois_TP_info.registrar, whois_TP_info.whois_server, whois_TP_info.name, \n",
    "                  whois_TP_info.org, whois_TP_info.address, whois_TP_info.city, whois_TP_info.state, whois_TP_info.zipcode, \n",
    "                  whois_TP_info.country]\n",
    "    except: \n",
    "        whois_TP_data = [TP[0]]\n",
    "        print(\"FAILED\", i, TP[0])\n",
    "    \n",
    "    # Append them to the list\n",
    "    whois_data.extend([whois_TP_data])\n",
    "    \n",
    "\n",
    "print('Completed')\n"
   ]
  },
  {
   "cell_type": "code",
   "execution_count": null,
   "metadata": {},
   "outputs": [],
   "source": [
    "# Define path for export\n",
    "\n",
    "f_path = '/home/ubuntu/data/datasets_for_enrichment/whoIS/'"
   ]
  },
  {
   "cell_type": "code",
   "execution_count": null,
   "metadata": {},
   "outputs": [],
   "source": [
    "# Export TXT\n",
    "\n",
    "with open(f_path + 'whois8487.txt', 'w') as filehandle:\n",
    "    for listitem in whois_data:\n",
    "        filehandle.write('%s\\n' % listitem)"
   ]
  },
  {
   "cell_type": "code",
   "execution_count": null,
   "metadata": {},
   "outputs": [],
   "source": [
    "# Export CSV\n",
    "\n",
    "with open(f_path + 'whois8487.csv', 'w', newline='') as myfile:\n",
    "    wr = csv.writer(myfile, quoting=csv.QUOTE_ALL)\n",
    "    wr.writerows(whois_data)"
   ]
  }
 ],
 "metadata": {
  "kernelspec": {
   "display_name": "Python 3",
   "language": "python",
   "name": "python3"
  },
  "language_info": {
   "codemirror_mode": {
    "name": "ipython",
    "version": 3
   },
   "file_extension": ".py",
   "mimetype": "text/x-python",
   "name": "python",
   "nbconvert_exporter": "python",
   "pygments_lexer": "ipython3",
   "version": "3.8.3"
  }
 },
 "nbformat": 4,
 "nbformat_minor": 4
}

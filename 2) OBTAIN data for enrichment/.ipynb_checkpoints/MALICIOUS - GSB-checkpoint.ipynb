{
 "cells": [
  {
   "cell_type": "markdown",
   "metadata": {},
   "source": [
    "# Obtain malicious information about third parties from Google Safe Browsing API"
   ]
  },
  {
   "cell_type": "code",
   "execution_count": null,
   "metadata": {},
   "outputs": [],
   "source": [
    "# Import\n",
    "import pandas as pd\n",
    "import numpy as np\n",
    "import csv\n",
    "from csv import reader\n",
    "from pysafebrowsing import SafeBrowsing"
   ]
  },
  {
   "cell_type": "code",
   "execution_count": null,
   "metadata": {},
   "outputs": [],
   "source": [
    "# Read csv file as a list of lists\n",
    "\n",
    "def load_TPs(path, CSV_name):\n",
    "    with open(path + file_name, 'r') as read_obj:\n",
    "        # pass the file object to reader() to get the reader object\n",
    "        csv_reader = reader(read_obj)\n",
    "        # Pass reader object to list() to get a list of lists\n",
    "        list_of_TPs = list(csv_reader)\n",
    "\n",
    "    return(list_of_TPs)    "
   ]
  },
  {
   "cell_type": "code",
   "execution_count": null,
   "metadata": {},
   "outputs": [],
   "source": [
    "# Define path to file, file name and load data as list\n",
    "\n",
    "path = '/home/ubuntu/data/processed/TPs/'\n",
    "file_name = 'TPs_unique.csv'\n",
    "df_unique_TPs = load_TPs(path, file_name)\n",
    "\n",
    "print('Completed')"
   ]
  },
  {
   "cell_type": "code",
   "execution_count": null,
   "metadata": {
    "scrolled": true
   },
   "outputs": [],
   "source": [
    "# Initialize variables\n",
    "i = 0\n",
    "malicious_data = []\n",
    "\n",
    "# Define path for export\n",
    "f_path = '/home/ubuntu/data/datasets_for_enrichment/malicious/malicious-partials/'\n",
    "\n",
    "# Define API key\n",
    "s = SafeBrowsing(\"API KEY\")\n",
    "\n",
    "# Loop through all TPs\n",
    "for TP in df_unique_TPs:\n",
    "    i += 1\n",
    "    \n",
    "    # Make an API call\n",
    "    response = s.lookup_urls([TP[0]])\n",
    "    \n",
    "    TP = TP[0]\n",
    "    malicious_info = [TP]\n",
    "    \n",
    "    # If given TP is not malicious, set all info to NAN\n",
    "    if response[TP]['malicious'] == False:\n",
    "        malicious = response[TP]['malicious']\n",
    "        platform = np.nan\n",
    "        threats = np.nan\n",
    "        data = [malicious, platform, threats]\n",
    "        malicious_info.extend(data)\n",
    "    # If given TP is malicious, extract data from response\n",
    "    else:\n",
    "        print(\"It is true\", TP)\n",
    "        #TP = TP[0]\n",
    "        malicious = response[TP]['malicious']\n",
    "        platforms = response[TP]['platforms']\n",
    "        threats = response[TP]['threats']\n",
    "        data = [malicious, platforms, threats]\n",
    "        malicious_info.extend(data)\n",
    "    malicious_data.extend([malicious_info])\n",
    "    \n",
    "    print(i, TP)\n",
    "    \n",
    "print('Completed')"
   ]
  },
  {
   "cell_type": "code",
   "execution_count": null,
   "metadata": {},
   "outputs": [],
   "source": [
    "# Export data as CSV\n",
    "with open(f_path + 'malicious8487.csv', 'w', newline='') as myfile:\n",
    "    wr = csv.writer(myfile, quoting=csv.QUOTE_ALL)\n",
    "    wr.writerows(malicious_data)"
   ]
  },
  {
   "cell_type": "code",
   "execution_count": null,
   "metadata": {},
   "outputs": [],
   "source": [
    "# Export data as TXT\n",
    "with open(f_path + 'malicious8487.txt', 'w') as filehandle:\n",
    "    for listitem in malicious_data:\n",
    "        filehandle.write('%s\\n' % listitem)"
   ]
  }
 ],
 "metadata": {
  "kernelspec": {
   "display_name": "Python 3",
   "language": "python",
   "name": "python3"
  },
  "language_info": {
   "codemirror_mode": {
    "name": "ipython",
    "version": 3
   },
   "file_extension": ".py",
   "mimetype": "text/x-python",
   "name": "python",
   "nbconvert_exporter": "python",
   "pygments_lexer": "ipython3",
   "version": "3.8.3"
  }
 },
 "nbformat": 4,
 "nbformat_minor": 4
}

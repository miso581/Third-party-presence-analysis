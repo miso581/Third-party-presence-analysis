{
 "cells": [
  {
   "cell_type": "markdown",
   "metadata": {},
   "source": [
    "# Get all HTTP status codes from responses for all initializing site visit requests of EU/EEA origin sites"
   ]
  },
  {
   "cell_type": "markdown",
   "metadata": {},
   "source": [
    "    • input: all enriched responses .csv files\n",
    "    • output: FP_status_codes_EU.json - number of visited sites per each HTTP response status code per harvest\n",
    "    • script steps:\n",
    "        1. Import libraries\n",
    "        2. Iterate through all enriched response files:\n",
    "            (a) Load response file as a dataframe\n",
    "            (b) Filter out all responses from non EU/EEA FP requests\n",
    "            (c) Obtain the number of visited sites per HTTP response status code based on initiating request of every visited site\n",
    "            (d) Add the obtained data to the dictionary\n",
    "        3. Export the dictionary containing the number of visited sites per each HTTP status code response category per harvest - FP_status_codes_EU.json"
   ]
  },
  {
   "cell_type": "code",
   "execution_count": null,
   "metadata": {},
   "outputs": [],
   "source": [
    "# Import\n",
    "import pandas as pd\n",
    "import re\n",
    "import os\n",
    "import json"
   ]
  },
  {
   "cell_type": "code",
   "execution_count": null,
   "metadata": {},
   "outputs": [],
   "source": [
    "# Function for loading CSVs\n",
    "def load_dataset(path, name):\n",
    "    df = pd.read_csv(path + name)\n",
    "    \n",
    "    print('Dataset ', name, ' loaded')\n",
    "    \n",
    "    return df"
   ]
  },
  {
   "cell_type": "code",
   "execution_count": null,
   "metadata": {},
   "outputs": [],
   "source": [
    "# Function for exporting data in JSON\n",
    "def export_json(path, data, export_name):\n",
    "    with open(path + export_name + '.json',\"w\") as jsonFilehandle:\n",
    "        json_data = json.dumps(data)\n",
    "        jsonFilehandle.write(json_data)\n",
    "        jsonFilehandle.close()\n",
    "    \n",
    "    print('Exported ', export_name)"
   ]
  },
  {
   "cell_type": "code",
   "execution_count": null,
   "metadata": {},
   "outputs": [],
   "source": [
    "# ONLY EU/EEA RESPONSES\n",
    "\n",
    "# Define patht and file name\n",
    "f_path = '/home/ubuntu/data/processed/crawls/response_enriched/v.3/'\n",
    "export_path = '/home/ubuntu/data/processed/crawls/response_enriched/analysis_v.3/'\n",
    "re_pattern = '\\d{4}\\W\\d{2}\\W\\d{2}'\n",
    "\n",
    "# Define regex pattern\n",
    "FP_status_codes = {}\n",
    "i = 0\n",
    "\n",
    "# Define variables\n",
    "list_of_dataset_names = os.listdir(f_path)\n",
    "list_of_dataset_names\n",
    "\n",
    "# Define the list of files in folder\n",
    "for f_name in list_of_dataset_names:\n",
    "    if (f_name!='.ipynb_checkpoints'):\n",
    "        i += 1\n",
    "        \n",
    "        # Load dataset\n",
    "        df_res = load_dataset(f_path, f_name)\n",
    "        \n",
    "        # Get crawl date out of file name\n",
    "        crawl_date = re.findall(re_pattern, f_name)[0]\n",
    "        \n",
    "         # Filter out all non European sites\n",
    "        df_res_TP_EU = df_res[df_res['Europe'].isin(['EU', 'EEA'])]\n",
    "        \n",
    "        # Get all iniciative/first call for the visited site (originating call - response)\n",
    "        df_first_call = df_res_TP_EU.sort_values(['visit_id', 'time_stamp']).drop_duplicates(subset='visit_id', keep = 'first')\n",
    "        \n",
    "        # Get dictionary of status codes\n",
    "        dict_status_codes = df_first_call.groupby(['response_status']).size().to_dict()\n",
    "        \n",
    "        # Assign data to the dictionary with the crawl data as a key\n",
    "        FP_status_codes[crawl_date] = dict_status_codes\n",
    "        \n",
    "        \n",
    "# Export\n",
    "export_json(export_path, FP_status_codes, 'FP_status_codes_EU')\n",
    "\n",
    "print(\"Completed\")"
   ]
  }
 ],
 "metadata": {
  "kernelspec": {
   "display_name": "Python 3",
   "language": "python",
   "name": "python3"
  },
  "language_info": {
   "codemirror_mode": {
    "name": "ipython",
    "version": 3
   },
   "file_extension": ".py",
   "mimetype": "text/x-python",
   "name": "python",
   "nbconvert_exporter": "python",
   "pygments_lexer": "ipython3",
   "version": "3.8.3"
  }
 },
 "nbformat": 4,
 "nbformat_minor": 4
}
